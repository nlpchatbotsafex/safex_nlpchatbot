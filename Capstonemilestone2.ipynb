{
  "nbformat": 4,
  "nbformat_minor": 0,
  "metadata": {
    "colab": {
      "name": "Capstonemilestone2.ipynb",
      "provenance": []
    },
    "kernelspec": {
      "name": "python3",
      "display_name": "Python 3"
    },
    "language_info": {
      "name": "python"
    }
  },
  "cells": [
    {
      "cell_type": "code",
      "execution_count": 1,
      "metadata": {
        "id": "9Yh-L3jj1gnL"
      },
      "outputs": [],
      "source": [
        "from google.colab import drive"
      ]
    },
    {
      "cell_type": "code",
      "source": [
        "drive.mount('/content/drive/')"
      ],
      "metadata": {
        "colab": {
          "base_uri": "https://localhost:8080/"
        },
        "id": "jn0PDueARxoo",
        "outputId": "60b1ab6a-e743-43d1-9cc9-910bde443d17"
      },
      "execution_count": 2,
      "outputs": [
        {
          "output_type": "stream",
          "name": "stdout",
          "text": [
            "Mounted at /content/drive/\n"
          ]
        }
      ]
    },
    {
      "cell_type": "code",
      "source": [
        "import pandas as pd"
      ],
      "metadata": {
        "id": "GgzBtwVdSWH3"
      },
      "execution_count": 3,
      "outputs": []
    },
    {
      "cell_type": "code",
      "source": [
        "data1 = pd.read_csv('/content/drive/MyDrive/greatlearningdata/capstone/data.csv')"
      ],
      "metadata": {
        "id": "V73YWWDISD9J"
      },
      "execution_count": 15,
      "outputs": []
    },
    {
      "cell_type": "code",
      "source": [
        "from nltk.corpus import stopwords\n",
        "from nltk.stem import WordNetLemmatizer,PorterStemmer\n",
        "from nltk.tokenize import word_tokenize\n",
        "from wordcloud import WordCloud, STOPWORDS\n",
        "import nltk\n",
        "nltk.download('punkt')\n",
        "nltk.download('wordnet')\n",
        "import string\n",
        "nltk.download('stopwords')\n",
        "stop=set(stopwords.words('english'))\n",
        "\n",
        "def preprocess_text(text):\n",
        "      corpus=[]\n",
        "      #stem=PorterStemmer()\n",
        "      lem=WordNetLemmatizer()\n",
        "      for news in text:\n",
        "          words=[w for w in word_tokenize(news) if (w not in stop)]\n",
        "          \n",
        "          words=[lem.lemmatize(w) for w in words if len(w)>2]\n",
        "          words = [''.join(c for c in s if c not in string.punctuation) for s in words if s]\n",
        "          words = [word.lower() for word in words]\n",
        "          words = [word for word in words if word.isalpha()]\n",
        "          corpus.append(words) \n",
        "         \n",
        "      return corpus     \n",
        "      \n",
        "data1['processed_text']= preprocess_text(data1['Description'])\n"
      ],
      "metadata": {
        "colab": {
          "base_uri": "https://localhost:8080/"
        },
        "id": "iTE3xafaSiGJ",
        "outputId": "2700b78d-091a-4b38-8551-503c9eba3eb2"
      },
      "execution_count": 16,
      "outputs": [
        {
          "output_type": "stream",
          "name": "stdout",
          "text": [
            "[nltk_data] Downloading package punkt to /root/nltk_data...\n",
            "[nltk_data]   Package punkt is already up-to-date!\n",
            "[nltk_data] Downloading package wordnet to /root/nltk_data...\n",
            "[nltk_data]   Package wordnet is already up-to-date!\n",
            "[nltk_data] Downloading package stopwords to /root/nltk_data...\n",
            "[nltk_data]   Package stopwords is already up-to-date!\n"
          ]
        }
      ]
    },
    {
      "cell_type": "code",
      "source": [
        "data1.head()"
      ],
      "metadata": {
        "colab": {
          "base_uri": "https://localhost:8080/",
          "height": 617
        },
        "id": "ufF2l_yoS0NF",
        "outputId": "0fc7842c-e8d1-4b87-ec92-d7a628e86c12"
      },
      "execution_count": 17,
      "outputs": [
        {
          "output_type": "execute_result",
          "data": {
            "text/plain": [
              "         Date     Country  Local Industry Sector Accident Level  \\\n",
              "0  2016-01-01  Country_01      1          Mining              I   \n",
              "1  2016-01-02  Country_02      2          Mining              I   \n",
              "2  2016-01-06  Country_01      3          Mining              I   \n",
              "3  2016-01-08  Country_01      4          Mining              I   \n",
              "4  2016-01-10  Country_01      4          Mining             IV   \n",
              "\n",
              "  Potential Accident Level Gender      Natureofemployee        Critical Risk  \\\n",
              "0                       IV   Male           Third Party              Pressed   \n",
              "1                       IV   Male              Employee  Pressurized Systems   \n",
              "2                      III   Male  Third Party (Remote)         Manual Tools   \n",
              "3                        I   Male           Third Party               Others   \n",
              "4                       IV   Male           Third Party               Others   \n",
              "\n",
              "                                         Description  Year  Month    Weekday  \\\n",
              "0  While removing the drill rod of the Jumbo 08 f...  2016      1     Friday   \n",
              "1  During the activation of a sodium sulphide pum...  2016      1   Saturday   \n",
              "2  In the sub-station MILPO located at level +170...  2016      1  Wednesday   \n",
              "3  Being 9:45 am. approximately in the Nv. 1880 C...  2016      1     Friday   \n",
              "4  Approximately at 11:45 a.m. in circumstances t...  2016      1     Sunday   \n",
              "\n",
              "   Season                                     processed_text  \n",
              "0  Summer  [while, removing, drill, rod, jumbo, maintenan...  \n",
              "1  Summer  [during, activation, sodium, sulphide, pump, p...  \n",
              "2  Summer  [substation, milpo, located, level, collaborat...  \n",
              "3  Summer  [being, approximately, personnel, begin, task,...  \n",
              "4  Summer  [approximately, am, circumstance, mechanic, an...  "
            ],
            "text/html": [
              "\n",
              "  <div id=\"df-8b274d86-7e44-4ef9-a4db-306fcd6bbe73\">\n",
              "    <div class=\"colab-df-container\">\n",
              "      <div>\n",
              "<style scoped>\n",
              "    .dataframe tbody tr th:only-of-type {\n",
              "        vertical-align: middle;\n",
              "    }\n",
              "\n",
              "    .dataframe tbody tr th {\n",
              "        vertical-align: top;\n",
              "    }\n",
              "\n",
              "    .dataframe thead th {\n",
              "        text-align: right;\n",
              "    }\n",
              "</style>\n",
              "<table border=\"1\" class=\"dataframe\">\n",
              "  <thead>\n",
              "    <tr style=\"text-align: right;\">\n",
              "      <th></th>\n",
              "      <th>Date</th>\n",
              "      <th>Country</th>\n",
              "      <th>Local</th>\n",
              "      <th>Industry Sector</th>\n",
              "      <th>Accident Level</th>\n",
              "      <th>Potential Accident Level</th>\n",
              "      <th>Gender</th>\n",
              "      <th>Natureofemployee</th>\n",
              "      <th>Critical Risk</th>\n",
              "      <th>Description</th>\n",
              "      <th>Year</th>\n",
              "      <th>Month</th>\n",
              "      <th>Weekday</th>\n",
              "      <th>Season</th>\n",
              "      <th>processed_text</th>\n",
              "    </tr>\n",
              "  </thead>\n",
              "  <tbody>\n",
              "    <tr>\n",
              "      <th>0</th>\n",
              "      <td>2016-01-01</td>\n",
              "      <td>Country_01</td>\n",
              "      <td>1</td>\n",
              "      <td>Mining</td>\n",
              "      <td>I</td>\n",
              "      <td>IV</td>\n",
              "      <td>Male</td>\n",
              "      <td>Third Party</td>\n",
              "      <td>Pressed</td>\n",
              "      <td>While removing the drill rod of the Jumbo 08 f...</td>\n",
              "      <td>2016</td>\n",
              "      <td>1</td>\n",
              "      <td>Friday</td>\n",
              "      <td>Summer</td>\n",
              "      <td>[while, removing, drill, rod, jumbo, maintenan...</td>\n",
              "    </tr>\n",
              "    <tr>\n",
              "      <th>1</th>\n",
              "      <td>2016-01-02</td>\n",
              "      <td>Country_02</td>\n",
              "      <td>2</td>\n",
              "      <td>Mining</td>\n",
              "      <td>I</td>\n",
              "      <td>IV</td>\n",
              "      <td>Male</td>\n",
              "      <td>Employee</td>\n",
              "      <td>Pressurized Systems</td>\n",
              "      <td>During the activation of a sodium sulphide pum...</td>\n",
              "      <td>2016</td>\n",
              "      <td>1</td>\n",
              "      <td>Saturday</td>\n",
              "      <td>Summer</td>\n",
              "      <td>[during, activation, sodium, sulphide, pump, p...</td>\n",
              "    </tr>\n",
              "    <tr>\n",
              "      <th>2</th>\n",
              "      <td>2016-01-06</td>\n",
              "      <td>Country_01</td>\n",
              "      <td>3</td>\n",
              "      <td>Mining</td>\n",
              "      <td>I</td>\n",
              "      <td>III</td>\n",
              "      <td>Male</td>\n",
              "      <td>Third Party (Remote)</td>\n",
              "      <td>Manual Tools</td>\n",
              "      <td>In the sub-station MILPO located at level +170...</td>\n",
              "      <td>2016</td>\n",
              "      <td>1</td>\n",
              "      <td>Wednesday</td>\n",
              "      <td>Summer</td>\n",
              "      <td>[substation, milpo, located, level, collaborat...</td>\n",
              "    </tr>\n",
              "    <tr>\n",
              "      <th>3</th>\n",
              "      <td>2016-01-08</td>\n",
              "      <td>Country_01</td>\n",
              "      <td>4</td>\n",
              "      <td>Mining</td>\n",
              "      <td>I</td>\n",
              "      <td>I</td>\n",
              "      <td>Male</td>\n",
              "      <td>Third Party</td>\n",
              "      <td>Others</td>\n",
              "      <td>Being 9:45 am. approximately in the Nv. 1880 C...</td>\n",
              "      <td>2016</td>\n",
              "      <td>1</td>\n",
              "      <td>Friday</td>\n",
              "      <td>Summer</td>\n",
              "      <td>[being, approximately, personnel, begin, task,...</td>\n",
              "    </tr>\n",
              "    <tr>\n",
              "      <th>4</th>\n",
              "      <td>2016-01-10</td>\n",
              "      <td>Country_01</td>\n",
              "      <td>4</td>\n",
              "      <td>Mining</td>\n",
              "      <td>IV</td>\n",
              "      <td>IV</td>\n",
              "      <td>Male</td>\n",
              "      <td>Third Party</td>\n",
              "      <td>Others</td>\n",
              "      <td>Approximately at 11:45 a.m. in circumstances t...</td>\n",
              "      <td>2016</td>\n",
              "      <td>1</td>\n",
              "      <td>Sunday</td>\n",
              "      <td>Summer</td>\n",
              "      <td>[approximately, am, circumstance, mechanic, an...</td>\n",
              "    </tr>\n",
              "  </tbody>\n",
              "</table>\n",
              "</div>\n",
              "      <button class=\"colab-df-convert\" onclick=\"convertToInteractive('df-8b274d86-7e44-4ef9-a4db-306fcd6bbe73')\"\n",
              "              title=\"Convert this dataframe to an interactive table.\"\n",
              "              style=\"display:none;\">\n",
              "        \n",
              "  <svg xmlns=\"http://www.w3.org/2000/svg\" height=\"24px\"viewBox=\"0 0 24 24\"\n",
              "       width=\"24px\">\n",
              "    <path d=\"M0 0h24v24H0V0z\" fill=\"none\"/>\n",
              "    <path d=\"M18.56 5.44l.94 2.06.94-2.06 2.06-.94-2.06-.94-.94-2.06-.94 2.06-2.06.94zm-11 1L8.5 8.5l.94-2.06 2.06-.94-2.06-.94L8.5 2.5l-.94 2.06-2.06.94zm10 10l.94 2.06.94-2.06 2.06-.94-2.06-.94-.94-2.06-.94 2.06-2.06.94z\"/><path d=\"M17.41 7.96l-1.37-1.37c-.4-.4-.92-.59-1.43-.59-.52 0-1.04.2-1.43.59L10.3 9.45l-7.72 7.72c-.78.78-.78 2.05 0 2.83L4 21.41c.39.39.9.59 1.41.59.51 0 1.02-.2 1.41-.59l7.78-7.78 2.81-2.81c.8-.78.8-2.07 0-2.86zM5.41 20L4 18.59l7.72-7.72 1.47 1.35L5.41 20z\"/>\n",
              "  </svg>\n",
              "      </button>\n",
              "      \n",
              "  <style>\n",
              "    .colab-df-container {\n",
              "      display:flex;\n",
              "      flex-wrap:wrap;\n",
              "      gap: 12px;\n",
              "    }\n",
              "\n",
              "    .colab-df-convert {\n",
              "      background-color: #E8F0FE;\n",
              "      border: none;\n",
              "      border-radius: 50%;\n",
              "      cursor: pointer;\n",
              "      display: none;\n",
              "      fill: #1967D2;\n",
              "      height: 32px;\n",
              "      padding: 0 0 0 0;\n",
              "      width: 32px;\n",
              "    }\n",
              "\n",
              "    .colab-df-convert:hover {\n",
              "      background-color: #E2EBFA;\n",
              "      box-shadow: 0px 1px 2px rgba(60, 64, 67, 0.3), 0px 1px 3px 1px rgba(60, 64, 67, 0.15);\n",
              "      fill: #174EA6;\n",
              "    }\n",
              "\n",
              "    [theme=dark] .colab-df-convert {\n",
              "      background-color: #3B4455;\n",
              "      fill: #D2E3FC;\n",
              "    }\n",
              "\n",
              "    [theme=dark] .colab-df-convert:hover {\n",
              "      background-color: #434B5C;\n",
              "      box-shadow: 0px 1px 3px 1px rgba(0, 0, 0, 0.15);\n",
              "      filter: drop-shadow(0px 1px 2px rgba(0, 0, 0, 0.3));\n",
              "      fill: #FFFFFF;\n",
              "    }\n",
              "  </style>\n",
              "\n",
              "      <script>\n",
              "        const buttonEl =\n",
              "          document.querySelector('#df-8b274d86-7e44-4ef9-a4db-306fcd6bbe73 button.colab-df-convert');\n",
              "        buttonEl.style.display =\n",
              "          google.colab.kernel.accessAllowed ? 'block' : 'none';\n",
              "\n",
              "        async function convertToInteractive(key) {\n",
              "          const element = document.querySelector('#df-8b274d86-7e44-4ef9-a4db-306fcd6bbe73');\n",
              "          const dataTable =\n",
              "            await google.colab.kernel.invokeFunction('convertToInteractive',\n",
              "                                                     [key], {});\n",
              "          if (!dataTable) return;\n",
              "\n",
              "          const docLinkHtml = 'Like what you see? Visit the ' +\n",
              "            '<a target=\"_blank\" href=https://colab.research.google.com/notebooks/data_table.ipynb>data table notebook</a>'\n",
              "            + ' to learn more about interactive tables.';\n",
              "          element.innerHTML = '';\n",
              "          dataTable['output_type'] = 'display_data';\n",
              "          await google.colab.output.renderOutput(dataTable, element);\n",
              "          const docLink = document.createElement('div');\n",
              "          docLink.innerHTML = docLinkHtml;\n",
              "          element.appendChild(docLink);\n",
              "        }\n",
              "      </script>\n",
              "    </div>\n",
              "  </div>\n",
              "  "
            ]
          },
          "metadata": {},
          "execution_count": 17
        }
      ]
    },
    {
      "cell_type": "code",
      "source": [
        "data1['processed_text']"
      ],
      "metadata": {
        "colab": {
          "base_uri": "https://localhost:8080/"
        },
        "id": "1SiwmojBS5I2",
        "outputId": "a2474c8b-fb08-4e15-ab94-d4df46828568"
      },
      "execution_count": 18,
      "outputs": [
        {
          "output_type": "execute_result",
          "data": {
            "text/plain": [
              "0      [while, removing, drill, rod, jumbo, maintenan...\n",
              "1      [during, activation, sodium, sulphide, pump, p...\n",
              "2      [substation, milpo, located, level, collaborat...\n",
              "3      [being, approximately, personnel, begin, task,...\n",
              "4      [approximately, am, circumstance, mechanic, an...\n",
              "                             ...                        \n",
              "413    [being, approximately, am, approximately, lift...\n",
              "414    [the, collaborator, moved, infrastructure, off...\n",
              "415    [during, environmental, monitoring, activity, ...\n",
              "416    [the, employee, performed, activity, stripping...\n",
              "417    [am, assistant, cleaned, floor, module, centra...\n",
              "Name: processed_text, Length: 418, dtype: object"
            ]
          },
          "metadata": {},
          "execution_count": 18
        }
      ]
    },
    {
      "cell_type": "code",
      "source": [
        "lgt = []\n",
        "for i in data1['processed_text']:\n",
        "  lgt.append(len(i))\n",
        "print('Maximum length of the sentence in processed text (in list) :',max(lgt))"
      ],
      "metadata": {
        "colab": {
          "base_uri": "https://localhost:8080/"
        },
        "id": "QxlATJLlS8Hr",
        "outputId": "99cc6e70-dd7d-4789-f80d-9a64acf996ea"
      },
      "execution_count": 19,
      "outputs": [
        {
          "output_type": "stream",
          "name": "stdout",
          "text": [
            "Maximum length of the sentence in processed text (in list) : 95\n"
          ]
        }
      ]
    },
    {
      "cell_type": "code",
      "source": [
        "desc_processed = []\n",
        "for i in range(len(data1['processed_text'])):\n",
        "   desc_processed.append(' '.join(wrd for wrd in data1.iloc[:,14][i]))"
      ],
      "metadata": {
        "id": "fFImb5dqTAwt"
      },
      "execution_count": 25,
      "outputs": []
    },
    {
      "cell_type": "code",
      "source": [
        "data1['description_processed'] = desc_processed"
      ],
      "metadata": {
        "id": "k3g24hSgTMfB"
      },
      "execution_count": 26,
      "outputs": []
    },
    {
      "cell_type": "code",
      "source": [
        "data1.head()"
      ],
      "metadata": {
        "colab": {
          "base_uri": "https://localhost:8080/",
          "height": 617
        },
        "id": "wiu0Ogd0WEsH",
        "outputId": "567485c9-e348-4321-e665-601572bad176"
      },
      "execution_count": 27,
      "outputs": [
        {
          "output_type": "execute_result",
          "data": {
            "text/plain": [
              "         Date     Country  Local Industry Sector Accident Level  \\\n",
              "0  2016-01-01  Country_01      1          Mining              I   \n",
              "1  2016-01-02  Country_02      2          Mining              I   \n",
              "2  2016-01-06  Country_01      3          Mining              I   \n",
              "3  2016-01-08  Country_01      4          Mining              I   \n",
              "4  2016-01-10  Country_01      4          Mining             IV   \n",
              "\n",
              "  Potential Accident Level Gender      Natureofemployee        Critical Risk  \\\n",
              "0                       IV   Male           Third Party              Pressed   \n",
              "1                       IV   Male              Employee  Pressurized Systems   \n",
              "2                      III   Male  Third Party (Remote)         Manual Tools   \n",
              "3                        I   Male           Third Party               Others   \n",
              "4                       IV   Male           Third Party               Others   \n",
              "\n",
              "                                         Description  Year  Month    Weekday  \\\n",
              "0  While removing the drill rod of the Jumbo 08 f...  2016      1     Friday   \n",
              "1  During the activation of a sodium sulphide pum...  2016      1   Saturday   \n",
              "2  In the sub-station MILPO located at level +170...  2016      1  Wednesday   \n",
              "3  Being 9:45 am. approximately in the Nv. 1880 C...  2016      1     Friday   \n",
              "4  Approximately at 11:45 a.m. in circumstances t...  2016      1     Sunday   \n",
              "\n",
              "   Season                                     processed_text  \\\n",
              "0  Summer  [while, removing, drill, rod, jumbo, maintenan...   \n",
              "1  Summer  [during, activation, sodium, sulphide, pump, p...   \n",
              "2  Summer  [substation, milpo, located, level, collaborat...   \n",
              "3  Summer  [being, approximately, personnel, begin, task,...   \n",
              "4  Summer  [approximately, am, circumstance, mechanic, an...   \n",
              "\n",
              "                               description_processed  \n",
              "0  while removing drill rod jumbo maintenance sup...  \n",
              "1  during activation sodium sulphide pump piping ...  \n",
              "2  substation milpo located level collaborator ex...  \n",
              "3  being approximately personnel begin task unloc...  \n",
              "4  approximately am circumstance mechanic anthony...  "
            ],
            "text/html": [
              "\n",
              "  <div id=\"df-586e335c-7801-4d71-8b20-592b53a364f7\">\n",
              "    <div class=\"colab-df-container\">\n",
              "      <div>\n",
              "<style scoped>\n",
              "    .dataframe tbody tr th:only-of-type {\n",
              "        vertical-align: middle;\n",
              "    }\n",
              "\n",
              "    .dataframe tbody tr th {\n",
              "        vertical-align: top;\n",
              "    }\n",
              "\n",
              "    .dataframe thead th {\n",
              "        text-align: right;\n",
              "    }\n",
              "</style>\n",
              "<table border=\"1\" class=\"dataframe\">\n",
              "  <thead>\n",
              "    <tr style=\"text-align: right;\">\n",
              "      <th></th>\n",
              "      <th>Date</th>\n",
              "      <th>Country</th>\n",
              "      <th>Local</th>\n",
              "      <th>Industry Sector</th>\n",
              "      <th>Accident Level</th>\n",
              "      <th>Potential Accident Level</th>\n",
              "      <th>Gender</th>\n",
              "      <th>Natureofemployee</th>\n",
              "      <th>Critical Risk</th>\n",
              "      <th>Description</th>\n",
              "      <th>Year</th>\n",
              "      <th>Month</th>\n",
              "      <th>Weekday</th>\n",
              "      <th>Season</th>\n",
              "      <th>processed_text</th>\n",
              "      <th>description_processed</th>\n",
              "    </tr>\n",
              "  </thead>\n",
              "  <tbody>\n",
              "    <tr>\n",
              "      <th>0</th>\n",
              "      <td>2016-01-01</td>\n",
              "      <td>Country_01</td>\n",
              "      <td>1</td>\n",
              "      <td>Mining</td>\n",
              "      <td>I</td>\n",
              "      <td>IV</td>\n",
              "      <td>Male</td>\n",
              "      <td>Third Party</td>\n",
              "      <td>Pressed</td>\n",
              "      <td>While removing the drill rod of the Jumbo 08 f...</td>\n",
              "      <td>2016</td>\n",
              "      <td>1</td>\n",
              "      <td>Friday</td>\n",
              "      <td>Summer</td>\n",
              "      <td>[while, removing, drill, rod, jumbo, maintenan...</td>\n",
              "      <td>while removing drill rod jumbo maintenance sup...</td>\n",
              "    </tr>\n",
              "    <tr>\n",
              "      <th>1</th>\n",
              "      <td>2016-01-02</td>\n",
              "      <td>Country_02</td>\n",
              "      <td>2</td>\n",
              "      <td>Mining</td>\n",
              "      <td>I</td>\n",
              "      <td>IV</td>\n",
              "      <td>Male</td>\n",
              "      <td>Employee</td>\n",
              "      <td>Pressurized Systems</td>\n",
              "      <td>During the activation of a sodium sulphide pum...</td>\n",
              "      <td>2016</td>\n",
              "      <td>1</td>\n",
              "      <td>Saturday</td>\n",
              "      <td>Summer</td>\n",
              "      <td>[during, activation, sodium, sulphide, pump, p...</td>\n",
              "      <td>during activation sodium sulphide pump piping ...</td>\n",
              "    </tr>\n",
              "    <tr>\n",
              "      <th>2</th>\n",
              "      <td>2016-01-06</td>\n",
              "      <td>Country_01</td>\n",
              "      <td>3</td>\n",
              "      <td>Mining</td>\n",
              "      <td>I</td>\n",
              "      <td>III</td>\n",
              "      <td>Male</td>\n",
              "      <td>Third Party (Remote)</td>\n",
              "      <td>Manual Tools</td>\n",
              "      <td>In the sub-station MILPO located at level +170...</td>\n",
              "      <td>2016</td>\n",
              "      <td>1</td>\n",
              "      <td>Wednesday</td>\n",
              "      <td>Summer</td>\n",
              "      <td>[substation, milpo, located, level, collaborat...</td>\n",
              "      <td>substation milpo located level collaborator ex...</td>\n",
              "    </tr>\n",
              "    <tr>\n",
              "      <th>3</th>\n",
              "      <td>2016-01-08</td>\n",
              "      <td>Country_01</td>\n",
              "      <td>4</td>\n",
              "      <td>Mining</td>\n",
              "      <td>I</td>\n",
              "      <td>I</td>\n",
              "      <td>Male</td>\n",
              "      <td>Third Party</td>\n",
              "      <td>Others</td>\n",
              "      <td>Being 9:45 am. approximately in the Nv. 1880 C...</td>\n",
              "      <td>2016</td>\n",
              "      <td>1</td>\n",
              "      <td>Friday</td>\n",
              "      <td>Summer</td>\n",
              "      <td>[being, approximately, personnel, begin, task,...</td>\n",
              "      <td>being approximately personnel begin task unloc...</td>\n",
              "    </tr>\n",
              "    <tr>\n",
              "      <th>4</th>\n",
              "      <td>2016-01-10</td>\n",
              "      <td>Country_01</td>\n",
              "      <td>4</td>\n",
              "      <td>Mining</td>\n",
              "      <td>IV</td>\n",
              "      <td>IV</td>\n",
              "      <td>Male</td>\n",
              "      <td>Third Party</td>\n",
              "      <td>Others</td>\n",
              "      <td>Approximately at 11:45 a.m. in circumstances t...</td>\n",
              "      <td>2016</td>\n",
              "      <td>1</td>\n",
              "      <td>Sunday</td>\n",
              "      <td>Summer</td>\n",
              "      <td>[approximately, am, circumstance, mechanic, an...</td>\n",
              "      <td>approximately am circumstance mechanic anthony...</td>\n",
              "    </tr>\n",
              "  </tbody>\n",
              "</table>\n",
              "</div>\n",
              "      <button class=\"colab-df-convert\" onclick=\"convertToInteractive('df-586e335c-7801-4d71-8b20-592b53a364f7')\"\n",
              "              title=\"Convert this dataframe to an interactive table.\"\n",
              "              style=\"display:none;\">\n",
              "        \n",
              "  <svg xmlns=\"http://www.w3.org/2000/svg\" height=\"24px\"viewBox=\"0 0 24 24\"\n",
              "       width=\"24px\">\n",
              "    <path d=\"M0 0h24v24H0V0z\" fill=\"none\"/>\n",
              "    <path d=\"M18.56 5.44l.94 2.06.94-2.06 2.06-.94-2.06-.94-.94-2.06-.94 2.06-2.06.94zm-11 1L8.5 8.5l.94-2.06 2.06-.94-2.06-.94L8.5 2.5l-.94 2.06-2.06.94zm10 10l.94 2.06.94-2.06 2.06-.94-2.06-.94-.94-2.06-.94 2.06-2.06.94z\"/><path d=\"M17.41 7.96l-1.37-1.37c-.4-.4-.92-.59-1.43-.59-.52 0-1.04.2-1.43.59L10.3 9.45l-7.72 7.72c-.78.78-.78 2.05 0 2.83L4 21.41c.39.39.9.59 1.41.59.51 0 1.02-.2 1.41-.59l7.78-7.78 2.81-2.81c.8-.78.8-2.07 0-2.86zM5.41 20L4 18.59l7.72-7.72 1.47 1.35L5.41 20z\"/>\n",
              "  </svg>\n",
              "      </button>\n",
              "      \n",
              "  <style>\n",
              "    .colab-df-container {\n",
              "      display:flex;\n",
              "      flex-wrap:wrap;\n",
              "      gap: 12px;\n",
              "    }\n",
              "\n",
              "    .colab-df-convert {\n",
              "      background-color: #E8F0FE;\n",
              "      border: none;\n",
              "      border-radius: 50%;\n",
              "      cursor: pointer;\n",
              "      display: none;\n",
              "      fill: #1967D2;\n",
              "      height: 32px;\n",
              "      padding: 0 0 0 0;\n",
              "      width: 32px;\n",
              "    }\n",
              "\n",
              "    .colab-df-convert:hover {\n",
              "      background-color: #E2EBFA;\n",
              "      box-shadow: 0px 1px 2px rgba(60, 64, 67, 0.3), 0px 1px 3px 1px rgba(60, 64, 67, 0.15);\n",
              "      fill: #174EA6;\n",
              "    }\n",
              "\n",
              "    [theme=dark] .colab-df-convert {\n",
              "      background-color: #3B4455;\n",
              "      fill: #D2E3FC;\n",
              "    }\n",
              "\n",
              "    [theme=dark] .colab-df-convert:hover {\n",
              "      background-color: #434B5C;\n",
              "      box-shadow: 0px 1px 3px 1px rgba(0, 0, 0, 0.15);\n",
              "      filter: drop-shadow(0px 1px 2px rgba(0, 0, 0, 0.3));\n",
              "      fill: #FFFFFF;\n",
              "    }\n",
              "  </style>\n",
              "\n",
              "      <script>\n",
              "        const buttonEl =\n",
              "          document.querySelector('#df-586e335c-7801-4d71-8b20-592b53a364f7 button.colab-df-convert');\n",
              "        buttonEl.style.display =\n",
              "          google.colab.kernel.accessAllowed ? 'block' : 'none';\n",
              "\n",
              "        async function convertToInteractive(key) {\n",
              "          const element = document.querySelector('#df-586e335c-7801-4d71-8b20-592b53a364f7');\n",
              "          const dataTable =\n",
              "            await google.colab.kernel.invokeFunction('convertToInteractive',\n",
              "                                                     [key], {});\n",
              "          if (!dataTable) return;\n",
              "\n",
              "          const docLinkHtml = 'Like what you see? Visit the ' +\n",
              "            '<a target=\"_blank\" href=https://colab.research.google.com/notebooks/data_table.ipynb>data table notebook</a>'\n",
              "            + ' to learn more about interactive tables.';\n",
              "          element.innerHTML = '';\n",
              "          dataTable['output_type'] = 'display_data';\n",
              "          await google.colab.output.renderOutput(dataTable, element);\n",
              "          const docLink = document.createElement('div');\n",
              "          docLink.innerHTML = docLinkHtml;\n",
              "          element.appendChild(docLink);\n",
              "        }\n",
              "      </script>\n",
              "    </div>\n",
              "  </div>\n",
              "  "
            ]
          },
          "metadata": {},
          "execution_count": 27
        }
      ]
    },
    {
      "cell_type": "code",
      "source": [
        ""
      ],
      "metadata": {
        "id": "JYDo5PMwWEJK"
      },
      "execution_count": null,
      "outputs": []
    },
    {
      "cell_type": "code",
      "source": [
        "#Model building \n",
        "#Bag of words\n",
        "#Target variable- accident level\n"
      ],
      "metadata": {
        "id": "42X9K4zYTRIO"
      },
      "execution_count": 28,
      "outputs": []
    },
    {
      "cell_type": "code",
      "source": [
        "#Count vectorization\n",
        "from sklearn.model_selection import train_test_split\n",
        "from sklearn.feature_extraction.text import CountVectorizer\n",
        "\n",
        "X = data1['description_processed']\n",
        "y = data1['Accident Level']\n",
        "\n",
        "count_vec = CountVectorizer(analyzer='word', ngram_range=(1, 2))\n",
        "Xc = count_vec.fit_transform(X).toarray()\n",
        "Xc_train, Xc_test, yc_train, yc_test = train_test_split(Xc, y, test_size=0.15, random_state=42)"
      ],
      "metadata": {
        "id": "f6Xiiu2RVOMl"
      },
      "execution_count": 29,
      "outputs": []
    },
    {
      "cell_type": "code",
      "source": [
        "Xc_train.shape"
      ],
      "metadata": {
        "colab": {
          "base_uri": "https://localhost:8080/"
        },
        "id": "KxikKi3QVdsj",
        "outputId": "45b504c1-11f9-4c9c-9178-c3b9f1264ab9"
      },
      "execution_count": 30,
      "outputs": [
        {
          "output_type": "execute_result",
          "data": {
            "text/plain": [
              "(355, 13242)"
            ]
          },
          "metadata": {},
          "execution_count": 30
        }
      ]
    },
    {
      "cell_type": "code",
      "source": [
        "Xc_test.shape"
      ],
      "metadata": {
        "colab": {
          "base_uri": "https://localhost:8080/"
        },
        "id": "6FWGc1OfW1K9",
        "outputId": "f7850310-2476-4afa-8e91-ffd32b1eae4a"
      },
      "execution_count": 31,
      "outputs": [
        {
          "output_type": "execute_result",
          "data": {
            "text/plain": [
              "(63, 13242)"
            ]
          },
          "metadata": {},
          "execution_count": 31
        }
      ]
    },
    {
      "cell_type": "code",
      "source": [
        "#SVC\n",
        "from sklearn.metrics import accuracy_score\n",
        "from sklearn.metrics import confusion_matrix, classification_report\n",
        "from sklearn.svm import LinearSVC\n",
        "\n",
        "svc = LinearSVC( max_iter=2500)\n",
        "svc.fit(Xc_train, yc_train)\n",
        "yc_pred_SVC = svc.predict(Xc_test)"
      ],
      "metadata": {
        "id": "nLfh12yrW5NM"
      },
      "execution_count": 32,
      "outputs": []
    },
    {
      "cell_type": "code",
      "source": [
        "acc_svc = accuracy_score(yc_test, yc_pred_SVC)\n",
        "acc_svc_tr = svc.score(Xc_train, yc_train)\n",
        "print(\"Train accuracy of the SVC model : {:.2f}\".format(acc_svc_tr*100))\n",
        "print(\"Test accuracy of the SVC model : {:.2f}\".format(acc_svc*100))\n"
      ],
      "metadata": {
        "colab": {
          "base_uri": "https://localhost:8080/"
        },
        "id": "ToVmEsGUXBpV",
        "outputId": "970dae6d-92d4-4c76-db4a-f9fcc7b22225"
      },
      "execution_count": 33,
      "outputs": [
        {
          "output_type": "stream",
          "name": "stdout",
          "text": [
            "Train accuracy of the SVC model : 99.44\n",
            "Test accuracy of the SVC model : 76.19\n"
          ]
        }
      ]
    },
    {
      "cell_type": "code",
      "source": [
        "print('Classification report:',classification_report(yc_test, yc_pred_SVC))"
      ],
      "metadata": {
        "colab": {
          "base_uri": "https://localhost:8080/"
        },
        "id": "FrMiCe5sXR0f",
        "outputId": "b4505464-0dbc-4bce-c6a7-240b1d20ff00"
      },
      "execution_count": 34,
      "outputs": [
        {
          "output_type": "stream",
          "name": "stdout",
          "text": [
            "Classification report:               precision    recall  f1-score   support\n",
            "\n",
            "           I       0.80      0.98      0.88        48\n",
            "          II       0.00      0.00      0.00         5\n",
            "         III       0.50      0.25      0.33         4\n",
            "          IV       0.00      0.00      0.00         5\n",
            "           V       0.00      0.00      0.00         1\n",
            "\n",
            "    accuracy                           0.76        63\n",
            "   macro avg       0.26      0.25      0.24        63\n",
            "weighted avg       0.64      0.76      0.69        63\n",
            "\n"
          ]
        },
        {
          "output_type": "stream",
          "name": "stderr",
          "text": [
            "/usr/local/lib/python3.7/dist-packages/sklearn/metrics/_classification.py:1318: UndefinedMetricWarning: Precision and F-score are ill-defined and being set to 0.0 in labels with no predicted samples. Use `zero_division` parameter to control this behavior.\n",
            "  _warn_prf(average, modifier, msg_start, len(result))\n",
            "/usr/local/lib/python3.7/dist-packages/sklearn/metrics/_classification.py:1318: UndefinedMetricWarning: Precision and F-score are ill-defined and being set to 0.0 in labels with no predicted samples. Use `zero_division` parameter to control this behavior.\n",
            "  _warn_prf(average, modifier, msg_start, len(result))\n",
            "/usr/local/lib/python3.7/dist-packages/sklearn/metrics/_classification.py:1318: UndefinedMetricWarning: Precision and F-score are ill-defined and being set to 0.0 in labels with no predicted samples. Use `zero_division` parameter to control this behavior.\n",
            "  _warn_prf(average, modifier, msg_start, len(result))\n"
          ]
        }
      ]
    },
    {
      "cell_type": "code",
      "source": [
        "print('Confusion matrix:', confusion_matrix(yc_test,yc_pred_SVC))"
      ],
      "metadata": {
        "colab": {
          "base_uri": "https://localhost:8080/"
        },
        "id": "DN0SJSJmXdI6",
        "outputId": "d951af77-ff63-4bb3-b94f-4b6afc3606c8"
      },
      "execution_count": 35,
      "outputs": [
        {
          "output_type": "stream",
          "name": "stdout",
          "text": [
            "Confusion matrix: [[47  1  0  0  0]\n",
            " [ 5  0  0  0  0]\n",
            " [ 3  0  1  0  0]\n",
            " [ 3  1  1  0  0]\n",
            " [ 1  0  0  0  0]]\n"
          ]
        }
      ]
    },
    {
      "cell_type": "code",
      "source": [
        "#Random forest\n",
        "from sklearn.ensemble import RandomForestClassifier\n",
        "\n",
        "rfc = RandomForestClassifier(random_state=42)\n",
        "rfc.fit(Xc_train, yc_train)\n",
        "yc_pred_rfc = rfc.predict(Xc_test)\n",
        "\n",
        "acc_rfc = accuracy_score(yc_test, yc_pred_rfc)\n",
        "acc_rfc_tr = rfc.score(Xc_train,yc_train)\n",
        "\n",
        "print(\"Train Accuracy of the Random Forest model : {:.2f}\".format(acc_rfc_tr*100))\n",
        "print(\"Test Accuracy of the Random Forest model : {:.2f}\".format(acc_rfc*100))\n",
        "print('Classification report:',classification_report(yc_test, yc_pred_rfc))\n",
        "print('Confusion matrix:', confusion_matrix(yc_test,yc_pred_rfc))"
      ],
      "metadata": {
        "colab": {
          "base_uri": "https://localhost:8080/"
        },
        "id": "i0v8MVTcXi8x",
        "outputId": "baba2ea7-ef93-418b-cb08-4664c58fcc02"
      },
      "execution_count": 36,
      "outputs": [
        {
          "output_type": "stream",
          "name": "stdout",
          "text": [
            "Train Accuracy of the Random Forest model : 99.44\n",
            "Test Accuracy of the Random Forest model : 76.19\n",
            "Classification report:               precision    recall  f1-score   support\n",
            "\n",
            "           I       0.76      1.00      0.86        48\n",
            "          II       0.00      0.00      0.00         5\n",
            "         III       0.00      0.00      0.00         4\n",
            "          IV       0.00      0.00      0.00         5\n",
            "           V       0.00      0.00      0.00         1\n",
            "\n",
            "    accuracy                           0.76        63\n",
            "   macro avg       0.15      0.20      0.17        63\n",
            "weighted avg       0.58      0.76      0.66        63\n",
            "\n",
            "Confusion matrix: [[48  0  0  0  0]\n",
            " [ 5  0  0  0  0]\n",
            " [ 4  0  0  0  0]\n",
            " [ 5  0  0  0  0]\n",
            " [ 1  0  0  0  0]]\n"
          ]
        },
        {
          "output_type": "stream",
          "name": "stderr",
          "text": [
            "/usr/local/lib/python3.7/dist-packages/sklearn/metrics/_classification.py:1318: UndefinedMetricWarning: Precision and F-score are ill-defined and being set to 0.0 in labels with no predicted samples. Use `zero_division` parameter to control this behavior.\n",
            "  _warn_prf(average, modifier, msg_start, len(result))\n",
            "/usr/local/lib/python3.7/dist-packages/sklearn/metrics/_classification.py:1318: UndefinedMetricWarning: Precision and F-score are ill-defined and being set to 0.0 in labels with no predicted samples. Use `zero_division` parameter to control this behavior.\n",
            "  _warn_prf(average, modifier, msg_start, len(result))\n",
            "/usr/local/lib/python3.7/dist-packages/sklearn/metrics/_classification.py:1318: UndefinedMetricWarning: Precision and F-score are ill-defined and being set to 0.0 in labels with no predicted samples. Use `zero_division` parameter to control this behavior.\n",
            "  _warn_prf(average, modifier, msg_start, len(result))\n"
          ]
        }
      ]
    },
    {
      "cell_type": "code",
      "source": [
        "#Gradient boosting\n",
        "from sklearn.ensemble import GradientBoostingClassifier\n",
        "\n",
        "gbc = GradientBoostingClassifier(n_estimators=100)\n",
        "gbc.fit(Xc_train, yc_train)\n",
        "yc_pred_gb = gbc.predict(Xc_test)\n",
        "acc_gbc = accuracy_score(yc_test, yc_pred_gb)\n",
        "acc_gbc_tr = gbc.score(Xc_train,yc_train)\n",
        "\n",
        "print(\" Test accuracy of the Gradient boosting model : {:.2f}\".format(acc_gbc*100))\n",
        "print(\"Train accuracy of the Gradient boosting model : {:.2f}\".format(acc_gbc_tr*100))\n",
        "print('Classification report:',classification_report(yc_test,yc_pred_gb ))"
      ],
      "metadata": {
        "colab": {
          "base_uri": "https://localhost:8080/"
        },
        "id": "H1fMs96pX2VX",
        "outputId": "cac08326-856b-4896-8715-5c867a38c115"
      },
      "execution_count": 37,
      "outputs": [
        {
          "output_type": "stream",
          "name": "stdout",
          "text": [
            " Test accuracy of the Gradient boosting model : 73.02\n",
            "Train accuracy of the Gradient boosting model : 99.44\n",
            "Classification report:               precision    recall  f1-score   support\n",
            "\n",
            "           I       0.79      0.96      0.87        48\n",
            "          II       0.00      0.00      0.00         5\n",
            "         III       0.00      0.00      0.00         4\n",
            "          IV       0.00      0.00      0.00         5\n",
            "           V       0.00      0.00      0.00         1\n",
            "\n",
            "    accuracy                           0.73        63\n",
            "   macro avg       0.16      0.19      0.17        63\n",
            "weighted avg       0.60      0.73      0.66        63\n",
            "\n"
          ]
        },
        {
          "output_type": "stream",
          "name": "stderr",
          "text": [
            "/usr/local/lib/python3.7/dist-packages/sklearn/metrics/_classification.py:1318: UndefinedMetricWarning: Precision and F-score are ill-defined and being set to 0.0 in labels with no predicted samples. Use `zero_division` parameter to control this behavior.\n",
            "  _warn_prf(average, modifier, msg_start, len(result))\n",
            "/usr/local/lib/python3.7/dist-packages/sklearn/metrics/_classification.py:1318: UndefinedMetricWarning: Precision and F-score are ill-defined and being set to 0.0 in labels with no predicted samples. Use `zero_division` parameter to control this behavior.\n",
            "  _warn_prf(average, modifier, msg_start, len(result))\n",
            "/usr/local/lib/python3.7/dist-packages/sklearn/metrics/_classification.py:1318: UndefinedMetricWarning: Precision and F-score are ill-defined and being set to 0.0 in labels with no predicted samples. Use `zero_division` parameter to control this behavior.\n",
            "  _warn_prf(average, modifier, msg_start, len(result))\n"
          ]
        }
      ]
    },
    {
      "cell_type": "code",
      "source": [
        "print('Confusion matrix:', confusion_matrix(yc_test,yc_pred_gb))"
      ],
      "metadata": {
        "colab": {
          "base_uri": "https://localhost:8080/"
        },
        "id": "xj0kKXo_Yd8a",
        "outputId": "abad0fe7-4b16-45d4-c13f-d7f267cfa5c4"
      },
      "execution_count": 38,
      "outputs": [
        {
          "output_type": "stream",
          "name": "stdout",
          "text": [
            "Confusion matrix: [[46  0  0  1  1]\n",
            " [ 5  0  0  0  0]\n",
            " [ 3  0  0  1  0]\n",
            " [ 3  0  2  0  0]\n",
            " [ 1  0  0  0  0]]\n"
          ]
        }
      ]
    },
    {
      "cell_type": "code",
      "source": [
        "#XGBOOST\n",
        "from xgboost import XGBClassifier\n",
        "\n",
        "xgbc = XGBClassifier()\n",
        "xgbc.fit(Xc_train, yc_train)\n",
        "yc_pred_xg = xgbc.predict(Xc_test)\n",
        "acc_xgbc = accuracy_score(yc_test, yc_pred_xg)\n",
        "acc_xgbc_tr = xgbc.score(Xc_train,yc_train)\n",
        "\n",
        "print(\" Test accuracy of the XGBoost model : {:.2f}\".format(acc_xgbc*100))\n",
        "print(\"Train accuracy of the XGBoost model : {:.2f}\".format(acc_xgbc_tr*100))\n",
        "print('Classification report:',classification_report(yc_test,yc_pred_xg))\n",
        "print('Confusion matrix:', confusion_matrix(yc_test,yc_pred_xg))\n"
      ],
      "metadata": {
        "colab": {
          "base_uri": "https://localhost:8080/"
        },
        "id": "7tyMyBXtYjfT",
        "outputId": "8282115e-89de-455e-c786-f3b1578a85a5"
      },
      "execution_count": 39,
      "outputs": [
        {
          "output_type": "stream",
          "name": "stdout",
          "text": [
            " Test accuracy of the XGBoost model : 73.02\n",
            "Train accuracy of the XGBoost model : 93.80\n",
            "Classification report:               precision    recall  f1-score   support\n",
            "\n",
            "           I       0.75      0.96      0.84        48\n",
            "          II       0.00      0.00      0.00         5\n",
            "         III       0.00      0.00      0.00         4\n",
            "          IV       0.00      0.00      0.00         5\n",
            "           V       0.00      0.00      0.00         1\n",
            "\n",
            "    accuracy                           0.73        63\n",
            "   macro avg       0.15      0.19      0.17        63\n",
            "weighted avg       0.57      0.73      0.64        63\n",
            "\n",
            "Confusion matrix: [[46  0  1  0  1]\n",
            " [ 5  0  0  0  0]\n",
            " [ 4  0  0  0  0]\n",
            " [ 5  0  0  0  0]\n",
            " [ 1  0  0  0  0]]\n"
          ]
        },
        {
          "output_type": "stream",
          "name": "stderr",
          "text": [
            "/usr/local/lib/python3.7/dist-packages/sklearn/metrics/_classification.py:1318: UndefinedMetricWarning: Precision and F-score are ill-defined and being set to 0.0 in labels with no predicted samples. Use `zero_division` parameter to control this behavior.\n",
            "  _warn_prf(average, modifier, msg_start, len(result))\n",
            "/usr/local/lib/python3.7/dist-packages/sklearn/metrics/_classification.py:1318: UndefinedMetricWarning: Precision and F-score are ill-defined and being set to 0.0 in labels with no predicted samples. Use `zero_division` parameter to control this behavior.\n",
            "  _warn_prf(average, modifier, msg_start, len(result))\n",
            "/usr/local/lib/python3.7/dist-packages/sklearn/metrics/_classification.py:1318: UndefinedMetricWarning: Precision and F-score are ill-defined and being set to 0.0 in labels with no predicted samples. Use `zero_division` parameter to control this behavior.\n",
            "  _warn_prf(average, modifier, msg_start, len(result))\n"
          ]
        }
      ]
    },
    {
      "cell_type": "code",
      "source": [
        "from sklearn.neighbors import KNeighborsClassifier\n",
        "neigh = KNeighborsClassifier(n_neighbors=3)\n",
        "neigh.fit(Xc_train, yc_train)"
      ],
      "metadata": {
        "colab": {
          "base_uri": "https://localhost:8080/"
        },
        "id": "UqBRezphbvsA",
        "outputId": "ace6bc66-252f-4dae-a0a0-904304313791"
      },
      "execution_count": 40,
      "outputs": [
        {
          "output_type": "execute_result",
          "data": {
            "text/plain": [
              "KNeighborsClassifier(n_neighbors=3)"
            ]
          },
          "metadata": {},
          "execution_count": 40
        }
      ]
    },
    {
      "cell_type": "code",
      "source": [
        "yc_pred_k = neigh.predict(Xc_test)\n",
        "acc_neigh = accuracy_score(yc_test, yc_pred_k)\n",
        "acc_neigh_tr = neigh.score(Xc_train,yc_train)\n"
      ],
      "metadata": {
        "id": "_NYBYeG-b49t"
      },
      "execution_count": 41,
      "outputs": []
    },
    {
      "cell_type": "code",
      "source": [
        "print(\" Test accuracy of the KNeighbours model : {:.2f}\".format(acc_neigh*100))\n",
        "print(\"Train accuracy of the Kneighbours model : {:.2f}\".format(acc_neigh_tr*100))\n",
        "print('Classification report:',classification_report(yc_test,yc_pred_k))\n",
        "print('Confusion matrix:', confusion_matrix(yc_test,yc_pred_k))\n"
      ],
      "metadata": {
        "colab": {
          "base_uri": "https://localhost:8080/"
        },
        "id": "0hRJXc1TcT_i",
        "outputId": "b599a58b-4056-4832-b5f6-63f884ec1a47"
      },
      "execution_count": 43,
      "outputs": [
        {
          "output_type": "stream",
          "name": "stdout",
          "text": [
            " Test accuracy of the KNeighbours model : 76.19\n",
            "Train accuracy of the Kneighbours model : 74.08\n",
            "Classification report:               precision    recall  f1-score   support\n",
            "\n",
            "           I       0.77      1.00      0.87        48\n",
            "          II       0.00      0.00      0.00         5\n",
            "         III       0.00      0.00      0.00         4\n",
            "          IV       0.00      0.00      0.00         5\n",
            "           V       0.00      0.00      0.00         1\n",
            "\n",
            "    accuracy                           0.76        63\n",
            "   macro avg       0.15      0.20      0.17        63\n",
            "weighted avg       0.59      0.76      0.66        63\n",
            "\n",
            "Confusion matrix: [[48  0  0  0  0]\n",
            " [ 5  0  0  0  0]\n",
            " [ 4  0  0  0  0]\n",
            " [ 4  1  0  0  0]\n",
            " [ 1  0  0  0  0]]\n"
          ]
        },
        {
          "output_type": "stream",
          "name": "stderr",
          "text": [
            "/usr/local/lib/python3.7/dist-packages/sklearn/metrics/_classification.py:1318: UndefinedMetricWarning: Precision and F-score are ill-defined and being set to 0.0 in labels with no predicted samples. Use `zero_division` parameter to control this behavior.\n",
            "  _warn_prf(average, modifier, msg_start, len(result))\n",
            "/usr/local/lib/python3.7/dist-packages/sklearn/metrics/_classification.py:1318: UndefinedMetricWarning: Precision and F-score are ill-defined and being set to 0.0 in labels with no predicted samples. Use `zero_division` parameter to control this behavior.\n",
            "  _warn_prf(average, modifier, msg_start, len(result))\n",
            "/usr/local/lib/python3.7/dist-packages/sklearn/metrics/_classification.py:1318: UndefinedMetricWarning: Precision and F-score are ill-defined and being set to 0.0 in labels with no predicted samples. Use `zero_division` parameter to control this behavior.\n",
            "  _warn_prf(average, modifier, msg_start, len(result))\n"
          ]
        }
      ]
    },
    {
      "cell_type": "code",
      "source": [
        "#Taking balanced data and applying naive bayes\n",
        "from sklearn.naive_bayes import GaussianNB\n",
        "g_model1 = GaussianNB()\n",
        "g_model1.fit(Xc_train, yc_train)\n",
        "g_pred1 = g_model1.predict(Xc_test)\n",
        "\n",
        "#print('Accuracy on Training data:',g_model1.score(Xc_train, yc_train) ) #accuracy of training data\n",
        "#print('Accuracy on Test data:',g_model1.score(Xc_test, yc_test) ) #accuracy data of testing data"
      ],
      "metadata": {
        "id": "HIVdxGDxclGo"
      },
      "execution_count": 44,
      "outputs": []
    },
    {
      "cell_type": "code",
      "source": [
        "print('Accuracy on Training data:',g_model1.score(Xc_train, yc_train) ) #accuracy of training data\n",
        "print('Accuracy on Test data:',g_model1.score(Xc_test, yc_test) ) #accuracy data of testing data"
      ],
      "metadata": {
        "colab": {
          "base_uri": "https://localhost:8080/"
        },
        "id": "ZsrQ_r4FfJfX",
        "outputId": "ede21c10-7f85-4116-f61d-58bc1e4077e4"
      },
      "execution_count": 45,
      "outputs": [
        {
          "output_type": "stream",
          "name": "stdout",
          "text": [
            "Accuracy on Training data: 0.9943661971830986\n",
            "Accuracy on Test data: 0.746031746031746\n"
          ]
        }
      ]
    },
    {
      "cell_type": "code",
      "source": [
        "print('Classification report:',classification_report(yc_test,g_pred1))\n",
        "print('Confusion matrix:', confusion_matrix(yc_test,g_pred1))"
      ],
      "metadata": {
        "colab": {
          "base_uri": "https://localhost:8080/"
        },
        "id": "rs39NO4mfMGL",
        "outputId": "7f5ebfbc-4d58-4876-955d-6f6305a2d11f"
      },
      "execution_count": 46,
      "outputs": [
        {
          "output_type": "stream",
          "name": "stdout",
          "text": [
            "Classification report:               precision    recall  f1-score   support\n",
            "\n",
            "           I       0.76      0.98      0.85        48\n",
            "          II       0.00      0.00      0.00         5\n",
            "         III       0.00      0.00      0.00         4\n",
            "          IV       0.00      0.00      0.00         5\n",
            "           V       0.00      0.00      0.00         1\n",
            "\n",
            "    accuracy                           0.75        63\n",
            "   macro avg       0.15      0.20      0.17        63\n",
            "weighted avg       0.58      0.75      0.65        63\n",
            "\n",
            "Confusion matrix: [[47  0  0  1  0]\n",
            " [ 5  0  0  0  0]\n",
            " [ 4  0  0  0  0]\n",
            " [ 5  0  0  0  0]\n",
            " [ 1  0  0  0  0]]\n"
          ]
        },
        {
          "output_type": "stream",
          "name": "stderr",
          "text": [
            "/usr/local/lib/python3.7/dist-packages/sklearn/metrics/_classification.py:1318: UndefinedMetricWarning: Precision and F-score are ill-defined and being set to 0.0 in labels with no predicted samples. Use `zero_division` parameter to control this behavior.\n",
            "  _warn_prf(average, modifier, msg_start, len(result))\n",
            "/usr/local/lib/python3.7/dist-packages/sklearn/metrics/_classification.py:1318: UndefinedMetricWarning: Precision and F-score are ill-defined and being set to 0.0 in labels with no predicted samples. Use `zero_division` parameter to control this behavior.\n",
            "  _warn_prf(average, modifier, msg_start, len(result))\n",
            "/usr/local/lib/python3.7/dist-packages/sklearn/metrics/_classification.py:1318: UndefinedMetricWarning: Precision and F-score are ill-defined and being set to 0.0 in labels with no predicted samples. Use `zero_division` parameter to control this behavior.\n",
            "  _warn_prf(average, modifier, msg_start, len(result))\n"
          ]
        }
      ]
    },
    {
      "cell_type": "code",
      "source": [
        "from sklearn.ensemble import BaggingClassifier\n",
        "from sklearn.model_selection import GridSearchCV, StratifiedShuffleSplit\n",
        "n_estimators = [10,30,50,70,80,150,160, 170,175,180,185];\n",
        "cv = StratifiedShuffleSplit(n_splits=10, test_size=.30, random_state=15)\n",
        "\n",
        "parameters = {'n_estimators':n_estimators,\n",
        "              \n",
        "        }\n",
        "grid = GridSearchCV(BaggingClassifier(base_estimator= None, ## If None, then the base estimator is a decision tree.\n",
        "                                      bootstrap_features=False),\n",
        "                                 param_grid=parameters,\n",
        "                                 cv=cv,\n",
        "                                 n_jobs = -1)\n",
        "grid.fit(Xc_train, yc_train) "
      ],
      "metadata": {
        "colab": {
          "base_uri": "https://localhost:8080/"
        },
        "id": "J9oDdfelh9Ay",
        "outputId": "6398b3da-a0fc-4253-b9f1-e44e028eed71"
      },
      "execution_count": 53,
      "outputs": [
        {
          "output_type": "execute_result",
          "data": {
            "text/plain": [
              "GridSearchCV(cv=StratifiedShuffleSplit(n_splits=10, random_state=15, test_size=0.3,\n",
              "            train_size=None),\n",
              "             estimator=BaggingClassifier(), n_jobs=-1,\n",
              "             param_grid={'n_estimators': [10, 30, 50, 70, 80, 150, 160, 170,\n",
              "                                          175, 180, 185]})"
            ]
          },
          "metadata": {},
          "execution_count": 53
        }
      ]
    },
    {
      "cell_type": "code",
      "source": [
        "yc_pred_b = grid.predict(Xc_test)\n",
        "acc_b = accuracy_score(yc_test, yc_pred_b)\n",
        "acc_b_tr = grid.score(Xc_train,yc_train)\n",
        "\n",
        "print(\" Test accuracy of the Bassiging model : {:.2f}\".format(acc_b*100))\n",
        "print(\"Train accuracy of the Bagging model : {:.2f}\".format(acc_b_tr*100))\n",
        "print('Classification report:',classification_report(yc_test,yc_pred_b))\n",
        "print('Confusion matrix:', confusion_matrix(yc_test,yc_pred_b))"
      ],
      "metadata": {
        "colab": {
          "base_uri": "https://localhost:8080/"
        },
        "id": "LPpdB0h5tY1n",
        "outputId": "d1bc8617-cc34-46c9-c3a4-ce5003e59585"
      },
      "execution_count": 55,
      "outputs": [
        {
          "output_type": "stream",
          "name": "stdout",
          "text": [
            " Test accuracy of the Bassiging model : 76.19\n",
            "Train accuracy of the Bagging model : 99.44\n",
            "Classification report:               precision    recall  f1-score   support\n",
            "\n",
            "           I       0.77      1.00      0.87        48\n",
            "          II       0.00      0.00      0.00         5\n",
            "         III       0.00      0.00      0.00         4\n",
            "          IV       0.00      0.00      0.00         5\n",
            "           V       0.00      0.00      0.00         1\n",
            "\n",
            "    accuracy                           0.76        63\n",
            "   macro avg       0.15      0.20      0.17        63\n",
            "weighted avg       0.59      0.76      0.66        63\n",
            "\n",
            "Confusion matrix: [[48  0  0  0  0]\n",
            " [ 5  0  0  0  0]\n",
            " [ 4  0  0  0  0]\n",
            " [ 4  0  1  0  0]\n",
            " [ 1  0  0  0  0]]\n"
          ]
        },
        {
          "output_type": "stream",
          "name": "stderr",
          "text": [
            "/usr/local/lib/python3.7/dist-packages/sklearn/metrics/_classification.py:1318: UndefinedMetricWarning: Precision and F-score are ill-defined and being set to 0.0 in labels with no predicted samples. Use `zero_division` parameter to control this behavior.\n",
            "  _warn_prf(average, modifier, msg_start, len(result))\n",
            "/usr/local/lib/python3.7/dist-packages/sklearn/metrics/_classification.py:1318: UndefinedMetricWarning: Precision and F-score are ill-defined and being set to 0.0 in labels with no predicted samples. Use `zero_division` parameter to control this behavior.\n",
            "  _warn_prf(average, modifier, msg_start, len(result))\n",
            "/usr/local/lib/python3.7/dist-packages/sklearn/metrics/_classification.py:1318: UndefinedMetricWarning: Precision and F-score are ill-defined and being set to 0.0 in labels with no predicted samples. Use `zero_division` parameter to control this behavior.\n",
            "  _warn_prf(average, modifier, msg_start, len(result))\n"
          ]
        }
      ]
    },
    {
      "cell_type": "code",
      "source": [
        "from sklearn.ensemble import AdaBoostClassifier\n",
        "clf_ada = AdaBoostClassifier(n_estimators=100, random_state=0)\n",
        "clf_ada.fit(Xc_train, yc_train)"
      ],
      "metadata": {
        "colab": {
          "base_uri": "https://localhost:8080/"
        },
        "id": "H4ukp61fuIT5",
        "outputId": "d6435588-e610-4c25-b36a-214b5250c881"
      },
      "execution_count": 56,
      "outputs": [
        {
          "output_type": "execute_result",
          "data": {
            "text/plain": [
              "AdaBoostClassifier(n_estimators=100, random_state=0)"
            ]
          },
          "metadata": {},
          "execution_count": 56
        }
      ]
    },
    {
      "cell_type": "code",
      "source": [
        "yc_pred_ada = clf_ada.predict(Xc_test)\n",
        "acc_ada = accuracy_score(yc_test, yc_pred_ada)\n",
        "acc_ada_tr = clf_ada.score(Xc_train,yc_train)\n",
        "\n",
        "print(\" Test accuracy of the ADA model : {:.2f}\".format(acc_ada*100))\n",
        "print(\"Train accuracy of the ADA model : {:.2f}\".format(acc_ada_tr*100))\n",
        "print('Classification report:',classification_report(yc_test,yc_pred_ada))\n",
        "print('Confusion matrix:', confusion_matrix(yc_test,yc_pred_ada))"
      ],
      "metadata": {
        "colab": {
          "base_uri": "https://localhost:8080/"
        },
        "id": "pn8TuFBburlT",
        "outputId": "a1151457-7420-4782-d013-9f24b8958d90"
      },
      "execution_count": 57,
      "outputs": [
        {
          "output_type": "stream",
          "name": "stdout",
          "text": [
            " Test accuracy of the ADA model : 73.02\n",
            "Train accuracy of the ADA model : 75.77\n",
            "Classification report:               precision    recall  f1-score   support\n",
            "\n",
            "           I       0.75      0.96      0.84        48\n",
            "          II       0.00      0.00      0.00         5\n",
            "         III       0.00      0.00      0.00         4\n",
            "          IV       0.00      0.00      0.00         5\n",
            "           V       0.00      0.00      0.00         1\n",
            "\n",
            "    accuracy                           0.73        63\n",
            "   macro avg       0.15      0.19      0.17        63\n",
            "weighted avg       0.57      0.73      0.64        63\n",
            "\n",
            "Confusion matrix: [[46  1  0  1  0]\n",
            " [ 5  0  0  0  0]\n",
            " [ 4  0  0  0  0]\n",
            " [ 5  0  0  0  0]\n",
            " [ 1  0  0  0  0]]\n"
          ]
        },
        {
          "output_type": "stream",
          "name": "stderr",
          "text": [
            "/usr/local/lib/python3.7/dist-packages/sklearn/metrics/_classification.py:1318: UndefinedMetricWarning: Precision and F-score are ill-defined and being set to 0.0 in labels with no predicted samples. Use `zero_division` parameter to control this behavior.\n",
            "  _warn_prf(average, modifier, msg_start, len(result))\n",
            "/usr/local/lib/python3.7/dist-packages/sklearn/metrics/_classification.py:1318: UndefinedMetricWarning: Precision and F-score are ill-defined and being set to 0.0 in labels with no predicted samples. Use `zero_division` parameter to control this behavior.\n",
            "  _warn_prf(average, modifier, msg_start, len(result))\n",
            "/usr/local/lib/python3.7/dist-packages/sklearn/metrics/_classification.py:1318: UndefinedMetricWarning: Precision and F-score are ill-defined and being set to 0.0 in labels with no predicted samples. Use `zero_division` parameter to control this behavior.\n",
            "  _warn_prf(average, modifier, msg_start, len(result))\n"
          ]
        }
      ]
    },
    {
      "cell_type": "code",
      "source": [
        ""
      ],
      "metadata": {
        "id": "8lkEqp7uu_jq"
      },
      "execution_count": null,
      "outputs": []
    }
  ]
}