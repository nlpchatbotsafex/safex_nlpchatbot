{
 "cells": [
  {
   "cell_type": "markdown",
   "metadata": {},
   "source": [
    "## Domain: Industrial Safety Support - NLP based ChatBot - Safex Pybot Version 1.0 \n",
    "\n",
    "#### Context : \n",
    "\n",
    "**** Great Learning Company is looking forward to design an automation which can interact with the user, understand the problem      and display the resolution procedure \n",
    "\n",
    "**** The company is looking for a designed chatbot utility which can help the professionals to highlight the safety risk as per      the incident description usign a ML or DL or redirect the request to an actual human support executive if the request is        complex or not in its database.\n",
    "\n",
    "#### Data Description : \n",
    "\n",
    "**** The corpus is attached for the reference. Please enhance/add more data to the corpus using your linguistics skills."
   ]
  },
  {
   "cell_type": "code",
   "execution_count": 1,
   "metadata": {
    "scrolled": true
   },
   "outputs": [],
   "source": [
    "#Importing the data and files\n",
    "import numpy as np\n",
    "import pandas as pd\n",
    "import matplotlib.pyplot as plt\n",
    "%matplotlib inline\n",
    "import seaborn as sns\n",
    "from scipy import stats; from scipy.stats import zscore, norm, randint\n",
    "\n",
    "import warnings\n",
    "warnings.filterwarnings(\"ignore\")"
   ]
  },
  {
   "cell_type": "code",
   "execution_count": 2,
   "metadata": {
    "_cell_guid": "b1076dfc-b9ad-4769-8c92-a6c4dae69d19",
    "_uuid": "8f2839f25d086af736a60e9eeb907d3b93b6e0e5",
    "scrolled": true
   },
   "outputs": [
    {
     "name": "stdout",
     "output_type": "stream",
     "text": [
      "WARNING:tensorflow:From C:\\ProgramData\\Anaconda3\\lib\\site-packages\\tensorflow\\python\\compat\\v2_compat.py:111: disable_resource_variables (from tensorflow.python.ops.variable_scope) is deprecated and will be removed in a future version.\n",
      "Instructions for updating:\n",
      "non-resource variables are not supported in the long term\n",
      "curses is not supported on this machine (please install/reinstall curses for an optimal experience)\n"
     ]
    }
   ],
   "source": [
    "# import the libraries\n",
    "\n",
    "import nltk\n",
    "from nltk.stem.lancaster import LancasterStemmer\n",
    "stemmer = LancasterStemmer()\n",
    "\n",
    "# things we need for Tensorflow\n",
    "\n",
    "import tensorflow as tf\n",
    "import tflearn\n",
    "import random"
   ]
  },
  {
   "cell_type": "code",
   "execution_count": 3,
   "metadata": {
    "scrolled": true
   },
   "outputs": [
    {
     "name": "stderr",
     "output_type": "stream",
     "text": [
      "[nltk_data] Downloading package punkt to\n",
      "[nltk_data]     C:\\Users\\Dell\\AppData\\Roaming\\nltk_data...\n",
      "[nltk_data]   Package punkt is already up-to-date!\n"
     ]
    },
    {
     "data": {
      "text/plain": [
       "True"
      ]
     },
     "execution_count": 3,
     "metadata": {},
     "output_type": "execute_result"
    }
   ],
   "source": [
    "import nltk\n",
    "nltk.download('punkt')"
   ]
  },
  {
   "cell_type": "markdown",
   "metadata": {},
   "source": [
    "### Chatbot : Question and Answers"
   ]
  },
  {
   "cell_type": "code",
   "execution_count": 4,
   "metadata": {
    "_uuid": "1a10da399a40c2386b7a892db2f725bf2c2a4d91",
    "jupyter": {
     "outputs_hidden": true
    },
    "scrolled": true
   },
   "outputs": [],
   "source": [
    "# import our chat-bot intents file\n",
    "import json\n",
    "with open('GLSafexInfo.json') as json_data:\n",
    "    intents = json.load(json_data)\n",
    "    "
   ]
  },
  {
   "cell_type": "code",
   "execution_count": 5,
   "metadata": {
    "_uuid": "f5bfc031e0908e044f0bb27ebd1fbf7bac7e66fe",
    "scrolled": true
   },
   "outputs": [],
   "source": [
    "# Initialize data fields for our file\n",
    "\n",
    "words = []\n",
    "classes = []\n",
    "documents = []\n",
    "ignore_words = ['?']\n",
    "# loop through each sentence in our intents patterns\n",
    "for intent in intents['intents']:\n",
    "    for pattern in intent['patterns']:\n",
    "        # tokenize each word in the sentence\n",
    "        w = nltk.word_tokenize(pattern)\n",
    "        # add to our words list\n",
    "        words.extend(w)\n",
    "        # add to documents in our corpus\n",
    "        documents.append((w, intent['tag']))\n",
    "        # add to our classes list\n",
    "        if intent['tag'] not in classes:\n",
    "            classes.append(intent['tag'])\n",
    "\n",
    "# stem and lower each word and remove duplicates\n",
    "words = [stemmer.stem(w.lower()) for w in words if w not in ignore_words]\n",
    "words = sorted(list(set(words)))\n",
    "\n",
    "# remove duplicates\n",
    "classes = sorted(list(set(classes)))\n"
   ]
  },
  {
   "cell_type": "code",
   "execution_count": 6,
   "metadata": {
    "_uuid": "d402102e6a2fe4b3d3abf6cf36338878c07402f8",
    "jupyter": {
     "outputs_hidden": true
    },
    "scrolled": true
   },
   "outputs": [],
   "source": [
    "# create our training data\n",
    "training = []\n",
    "output = []\n",
    "# create an empty array for our output\n",
    "output_empty = [0] * len(classes)\n",
    "\n",
    "# training set, bag of words for each sentence\n",
    "for doc in documents:\n",
    "    # initialize our bag of words\n",
    "    bag = []\n",
    "    # list of tokenized words for the pattern\n",
    "    pattern_words = doc[0]\n",
    "    # stem each word\n",
    "    pattern_words = [stemmer.stem(word.lower()) for word in pattern_words]\n",
    "    # create our bag of words array\n",
    "    for w in words:\n",
    "        bag.append(1) if w in pattern_words else bag.append(0)\n",
    "\n",
    "    # output is a '0' for each tag and '1' for current tag\n",
    "    output_row = list(output_empty)\n",
    "    output_row[classes.index(doc[1])] = 1\n",
    "\n",
    "    training.append([bag, output_row])\n",
    "\n",
    "# shuffle our features and turn into np.array\n",
    "random.shuffle(training)\n",
    "training = np.array(training)\n",
    "\n",
    "# create train and test lists\n",
    "X_train = list(training[:,0])\n",
    "y_train = list(training[:,1])"
   ]
  },
  {
   "cell_type": "code",
   "execution_count": 7,
   "metadata": {
    "_uuid": "d9ea1e5769bdd9c92282a502caa47a16db302ff5",
    "scrolled": true
   },
   "outputs": [
    {
     "name": "stdout",
     "output_type": "stream",
     "text": [
      "Training Step: 12999  | total loss: \u001b[1m\u001b[32m0.02558\u001b[0m\u001b[0m | time: 0.065s\n",
      "| Adam | epoch: 1000 | loss: 0.02558 - acc: 0.9997 -- iter: 096/101\n",
      "Training Step: 13000  | total loss: \u001b[1m\u001b[32m0.02548\u001b[0m\u001b[0m | time: 0.069s\n",
      "| Adam | epoch: 1000 | loss: 0.02548 - acc: 0.9997 -- iter: 101/101\n",
      "--\n",
      "INFO:tensorflow:C:\\Users\\Dell\\Desktop\\GreatLearning PGP AIML\\Capstone Project\\Milestone 2\\Apoorv Working\\model_qna.tflearn is not in all_model_checkpoint_paths. Manually adding it.\n"
     ]
    }
   ],
   "source": [
    "# reset underlying graph data\n",
    "from tensorflow.python.framework import ops\n",
    "ops.reset_default_graph()\n",
    "\n",
    "# Build neural network\n",
    "net_qna = tflearn.input_data(shape=[None, len(X_train[0])])\n",
    "net_qna = tflearn.fully_connected(net_qna, 16)\n",
    "net_qna = tflearn.fully_connected(net_qna, 16)\n",
    "net_qna = tflearn.fully_connected(net_qna, len(y_train[0]), activation='softmax')\n",
    "net_qna = tflearn.regression(net_qna)\n",
    "\n",
    "# Define model and setup tensorboard\n",
    "model_qna = tflearn.DNN(net_qna, tensorboard_dir='tflearn_logs')\n",
    "\n",
    "# Start training (apply gradient descent algorithm)\n",
    "model_qna.fit(X_train, y_train, n_epoch=1000, batch_size=8, show_metric=True)\n",
    "model_qna.save('model_qna.tflearn')"
   ]
  },
  {
   "cell_type": "code",
   "execution_count": 8,
   "metadata": {
    "_uuid": "f3df3637327eb3b2c2a63dfd2c34b1e8ffa135bb",
    "jupyter": {
     "outputs_hidden": true
    },
    "scrolled": true
   },
   "outputs": [],
   "source": [
    "import pickle\n",
    "pickle.dump( {'words':words, 'classes':classes, 'X_train':X_train, 'y_train':y_train}, open( \"qna_training_data\", \"wb\" ) )"
   ]
  },
  {
   "cell_type": "code",
   "execution_count": 9,
   "metadata": {
    "_uuid": "da5da061a3b18179176c491d0938412309823cff",
    "scrolled": true
   },
   "outputs": [],
   "source": [
    "# restore all of our data structures\n",
    "import pickle\n",
    "data_qna = pickle.load( open( \"qna_training_data\", \"rb\" ) )\n",
    "words_qna = data_qna['words']\n",
    "classes_qna = data_qna['classes']\n",
    "X_train_qna = data_qna['X_train']\n",
    "y_train_qna = data_qna['y_train']\n",
    "\n",
    "# import our chat-bot intents file\n",
    "import json\n",
    "with open('GLSafexInfo.json') as json_data:\n",
    "    intents_qna = json.load(json_data)"
   ]
  },
  {
   "cell_type": "code",
   "execution_count": 10,
   "metadata": {
    "_uuid": "6dbca05cc97cd1c66896ec00a37bb0f932b02486",
    "scrolled": true
   },
   "outputs": [
    {
     "name": "stdout",
     "output_type": "stream",
     "text": [
      "INFO:tensorflow:Restoring parameters from C:\\Users\\Dell\\Desktop\\GreatLearning PGP AIML\\Capstone Project\\Milestone 2\\Apoorv Working\\model_qna.tflearn\n"
     ]
    }
   ],
   "source": [
    "# load our saved model\n",
    "model_qna.load('./model_qna.tflearn')"
   ]
  },
  {
   "cell_type": "code",
   "execution_count": 11,
   "metadata": {
    "_uuid": "0c4c7d32c560284a20da8b659075347f8eee17b5",
    "jupyter": {
     "outputs_hidden": true
    },
    "scrolled": true
   },
   "outputs": [],
   "source": [
    "# functions for cleansing the sentenses and to get the bag of words\n",
    "\n",
    "def clean_up_sentence(sentence):\n",
    "    # tokenize the pattern\n",
    "    sentence_words = nltk.word_tokenize(sentence)\n",
    "    # stem each word\n",
    "    sentence_words = [stemmer.stem(word.lower()) for word in sentence_words]\n",
    "    return sentence_words\n",
    "\n",
    "# return bag of words array: 0 or 1 for each word in the bag that exists in the sentence\n",
    "def bow(sentence, words, show_details=False):\n",
    "    # tokenize the pattern\n",
    "    sentence_words = clean_up_sentence(sentence)\n",
    "    # bag of words\n",
    "    bag = [0]*len(words)  \n",
    "    for s in sentence_words:\n",
    "        for i,w in enumerate(words):\n",
    "            if w == s: \n",
    "                bag[i] = 1\n",
    "                if show_details:\n",
    "                    print (\"found in bag: %s\" % w)\n",
    "\n",
    "    return(np.array(bag))"
   ]
  },
  {
   "cell_type": "code",
   "execution_count": 12,
   "metadata": {
    "_uuid": "4774b1be2f6419c305e36d45c4224452064128d8",
    "jupyter": {
     "outputs_hidden": true
    },
    "scrolled": true
   },
   "outputs": [],
   "source": [
    "# functions to classify the sentences and for respective responses\n",
    "# create a data structure to hold user context\n",
    "\n",
    "context = {}\n",
    "\n",
    "ERROR_THRESHOLD = 0.25\n",
    "def classify(sentence):\n",
    "    # generate probabilities from the model\n",
    "    results = model_qna.predict([bow(sentence, words_qna)])[0]\n",
    "    # filter out predictions below a threshold\n",
    "    results = [[i,r] for i,r in enumerate(results) if r>ERROR_THRESHOLD]\n",
    "    # sort by strength of probability\n",
    "    results.sort(key=lambda x: x[1], reverse=True)\n",
    "    return_list = []\n",
    "    for r in results:\n",
    "        return_list.append((classes_qna[r[0]], r[1]))\n",
    "    # return tuple of intent and probability\n",
    "    return return_list\n",
    "\n",
    "\n",
    "def response(sentence, show_details=False):\n",
    "    results = classify(sentence)\n",
    "    # if we have a classification then find the matching intent tag\n",
    "    if results:\n",
    "        # loop as long as there are matches to process\n",
    "        while results:\n",
    "            for i in intents_qna['intents']:\n",
    "                # find a tag matching the first result\n",
    "                if i['tag'] == results[0][0]:\n",
    "                    # a random response from the intent\n",
    "                    return print('BOT: ', random.choice(i['responses']))\n",
    "\n",
    "            results.pop(0)\n",
    "            "
   ]
  },
  {
   "cell_type": "markdown",
   "metadata": {},
   "source": [
    "## Chatbot : Historical Data Insights"
   ]
  },
  {
   "cell_type": "code",
   "execution_count": 13,
   "metadata": {
    "scrolled": true
   },
   "outputs": [
    {
     "name": "stdout",
     "output_type": "stream",
     "text": [
      "Shape of the dataset is : (418, 14)\n"
     ]
    },
    {
     "data": {
      "text/html": [
       "<div>\n",
       "<style scoped>\n",
       "    .dataframe tbody tr th:only-of-type {\n",
       "        vertical-align: middle;\n",
       "    }\n",
       "\n",
       "    .dataframe tbody tr th {\n",
       "        vertical-align: top;\n",
       "    }\n",
       "\n",
       "    .dataframe thead th {\n",
       "        text-align: right;\n",
       "    }\n",
       "</style>\n",
       "<table border=\"1\" class=\"dataframe\">\n",
       "  <thead>\n",
       "    <tr style=\"text-align: right;\">\n",
       "      <th></th>\n",
       "      <th>Date</th>\n",
       "      <th>Country</th>\n",
       "      <th>Local</th>\n",
       "      <th>Industry Sector</th>\n",
       "      <th>Accident Level</th>\n",
       "      <th>Potential Accident Level</th>\n",
       "      <th>Gender</th>\n",
       "      <th>Natureofemployee</th>\n",
       "      <th>Critical Risk</th>\n",
       "      <th>Description</th>\n",
       "      <th>Year</th>\n",
       "      <th>Month</th>\n",
       "      <th>Weekday</th>\n",
       "      <th>Season</th>\n",
       "    </tr>\n",
       "  </thead>\n",
       "  <tbody>\n",
       "    <tr>\n",
       "      <th>0</th>\n",
       "      <td>2016-01-01</td>\n",
       "      <td>Country_01</td>\n",
       "      <td>1</td>\n",
       "      <td>Mining</td>\n",
       "      <td>I</td>\n",
       "      <td>IV</td>\n",
       "      <td>Male</td>\n",
       "      <td>Third Party</td>\n",
       "      <td>Pressed</td>\n",
       "      <td>While removing the drill rod of the Jumbo 08 f...</td>\n",
       "      <td>2016</td>\n",
       "      <td>1</td>\n",
       "      <td>Friday</td>\n",
       "      <td>Summer</td>\n",
       "    </tr>\n",
       "    <tr>\n",
       "      <th>1</th>\n",
       "      <td>2016-01-02</td>\n",
       "      <td>Country_02</td>\n",
       "      <td>2</td>\n",
       "      <td>Mining</td>\n",
       "      <td>I</td>\n",
       "      <td>IV</td>\n",
       "      <td>Male</td>\n",
       "      <td>Employee</td>\n",
       "      <td>Pressurized Systems</td>\n",
       "      <td>During the activation of a sodium sulphide pum...</td>\n",
       "      <td>2016</td>\n",
       "      <td>1</td>\n",
       "      <td>Saturday</td>\n",
       "      <td>Summer</td>\n",
       "    </tr>\n",
       "    <tr>\n",
       "      <th>2</th>\n",
       "      <td>2016-01-06</td>\n",
       "      <td>Country_01</td>\n",
       "      <td>3</td>\n",
       "      <td>Mining</td>\n",
       "      <td>I</td>\n",
       "      <td>III</td>\n",
       "      <td>Male</td>\n",
       "      <td>Third Party (Remote)</td>\n",
       "      <td>Manual Tools</td>\n",
       "      <td>In the sub-station MILPO located at level +170...</td>\n",
       "      <td>2016</td>\n",
       "      <td>1</td>\n",
       "      <td>Wednesday</td>\n",
       "      <td>Summer</td>\n",
       "    </tr>\n",
       "    <tr>\n",
       "      <th>3</th>\n",
       "      <td>2016-01-08</td>\n",
       "      <td>Country_01</td>\n",
       "      <td>4</td>\n",
       "      <td>Mining</td>\n",
       "      <td>I</td>\n",
       "      <td>I</td>\n",
       "      <td>Male</td>\n",
       "      <td>Third Party</td>\n",
       "      <td>Others</td>\n",
       "      <td>Being 9:45 am. approximately in the Nv. 1880 C...</td>\n",
       "      <td>2016</td>\n",
       "      <td>1</td>\n",
       "      <td>Friday</td>\n",
       "      <td>Summer</td>\n",
       "    </tr>\n",
       "    <tr>\n",
       "      <th>4</th>\n",
       "      <td>2016-01-10</td>\n",
       "      <td>Country_01</td>\n",
       "      <td>4</td>\n",
       "      <td>Mining</td>\n",
       "      <td>IV</td>\n",
       "      <td>IV</td>\n",
       "      <td>Male</td>\n",
       "      <td>Third Party</td>\n",
       "      <td>Others</td>\n",
       "      <td>Approximately at 11:45 a.m. in circumstances t...</td>\n",
       "      <td>2016</td>\n",
       "      <td>1</td>\n",
       "      <td>Sunday</td>\n",
       "      <td>Summer</td>\n",
       "    </tr>\n",
       "  </tbody>\n",
       "</table>\n",
       "</div>"
      ],
      "text/plain": [
       "         Date     Country  Local Industry Sector Accident Level  \\\n",
       "0  2016-01-01  Country_01      1          Mining              I   \n",
       "1  2016-01-02  Country_02      2          Mining              I   \n",
       "2  2016-01-06  Country_01      3          Mining              I   \n",
       "3  2016-01-08  Country_01      4          Mining              I   \n",
       "4  2016-01-10  Country_01      4          Mining             IV   \n",
       "\n",
       "  Potential Accident Level Gender      Natureofemployee        Critical Risk  \\\n",
       "0                       IV   Male           Third Party              Pressed   \n",
       "1                       IV   Male              Employee  Pressurized Systems   \n",
       "2                      III   Male  Third Party (Remote)         Manual Tools   \n",
       "3                        I   Male           Third Party               Others   \n",
       "4                       IV   Male           Third Party               Others   \n",
       "\n",
       "                                         Description  Year  Month    Weekday  \\\n",
       "0  While removing the drill rod of the Jumbo 08 f...  2016      1     Friday   \n",
       "1  During the activation of a sodium sulphide pum...  2016      1   Saturday   \n",
       "2  In the sub-station MILPO located at level +170...  2016      1  Wednesday   \n",
       "3  Being 9:45 am. approximately in the Nv. 1880 C...  2016      1     Friday   \n",
       "4  Approximately at 11:45 a.m. in circumstances t...  2016      1     Sunday   \n",
       "\n",
       "   Season  \n",
       "0  Summer  \n",
       "1  Summer  \n",
       "2  Summer  \n",
       "3  Summer  \n",
       "4  Summer  "
      ]
     },
     "execution_count": 13,
     "metadata": {},
     "output_type": "execute_result"
    }
   ],
   "source": [
    "dataset= pd.read_csv('data.csv')\n",
    "print(\"Shape of the dataset is :\",dataset.shape)\n",
    "dataset.head()"
   ]
  },
  {
   "cell_type": "markdown",
   "metadata": {},
   "source": [
    "Creating a list of possible features allowed for showing the data insights"
   ]
  },
  {
   "cell_type": "code",
   "execution_count": 14,
   "metadata": {
    "scrolled": true
   },
   "outputs": [],
   "source": [
    "dataset_features=['Country', 'Local', 'Industry Sector', 'Accident Level',\n",
    "       'Potential Accident Level', 'Gender', 'Natureofemployee','Year']"
   ]
  },
  {
   "cell_type": "markdown",
   "metadata": {},
   "source": [
    "### function to be called by the Chatbot for showing data insights"
   ]
  },
  {
   "cell_type": "code",
   "execution_count": 15,
   "metadata": {
    "scrolled": true
   },
   "outputs": [],
   "source": [
    "def show_eda(response_result):\n",
    "    eda_flag = True\n",
    "    result = list(response_result.split(\",\"))\n",
    "    result_items = len(result)\n",
    "    \n",
    "    for item in result:\n",
    "        if item not in dataset_features:\n",
    "            eda_flag = False\n",
    "    \n",
    "    if eda_flag == True:\n",
    "        if result_items == 1:\n",
    "            univariate_analysis_categorical(dataset,result[0])\n",
    "        elif result_items == 2:\n",
    "           \n",
    "            bivariate_analysis_categorical(dataset,result[0],result[1])\n",
    "        else:\n",
    "            print(\"Sorry, not able to find appropriate answer. Please ask teh question again\")\n",
    "    else:\n",
    "        print(response_result)  \n",
    "        \n",
    "        \n",
    "            \n",
    "    "
   ]
  },
  {
   "cell_type": "code",
   "execution_count": 16,
   "metadata": {
    "scrolled": true
   },
   "outputs": [],
   "source": [
    "def univariate_analysis_categorical(dataset,feature):    \n",
    "    print(\"\\n\")\n",
    "    print(\"===========================================================================================\")\n",
    "    print(\"Data Analysis of feature: \",feature)\n",
    "    print(\"===========================================================================================\\n\")\n",
    "                \n",
    "    print(\"\\n\")  \n",
    "    print(\"-----------------\")\n",
    "    print(\"Countplot  for feature: \",feature)\n",
    "    print(\"-----------------\")\n",
    "        \n",
    "    plt.figure(figsize=(10,6))\n",
    "    sns.countplot(dataset[feature],order = dataset[feature].value_counts().index)\n",
    "    plt.xticks(rotation = 'vertical')\n",
    "    plt.show()\n",
    "    \n",
    "    print(\"-----------------\")\n",
    "    print(\"Pie Chart for feature: \",feature)\n",
    "    print(\"------------------\")      \n",
    "        \n",
    "    labels=dataset[feature].unique()\n",
    "    plt.figure(figsize=(10,6))\n",
    "    dataset[feature].value_counts().plot.pie(autopct=\"%.1f%%\")\n",
    "    plt.show()\n",
    "            \n",
    "    \n",
    "    print(\"\\n\")\n",
    "    print(\"-----------------\")\n",
    "    print(\"Value Counts for feature: \",feature)\n",
    "    print(\"-------------------\")\n",
    "    \n",
    "    print(dataset[feature].value_counts().sort_values(ascending=False))\n",
    "    print('')"
   ]
  },
  {
   "cell_type": "code",
   "execution_count": 17,
   "metadata": {
    "scrolled": true
   },
   "outputs": [],
   "source": [
    "def bivariate_analysis_categorical(dataset,feature1,feature2):\n",
    "    \n",
    "       \n",
    "            if feature1 != feature2:              \n",
    "                   \n",
    "\n",
    "                print(\"\\n\")\n",
    "                print(\"===========================================================================================\")\n",
    "                print(\"Data Analysis of features: \",feature1,' and  ', feature2)\n",
    "                print(\"===========================================================================================\")\n",
    "\n",
    "                \n",
    "                bivariate_analysis_df = pd.crosstab(index=dataset[feature1], \n",
    "                                          columns=dataset[feature2])\n",
    "                \n",
    "                print(\"\\n\")\n",
    "                print(\"------------------------------------------\")\n",
    "                print(\"Cross table Analysis of features: \",feature1,' and  ', feature2)\n",
    "                print(\"------------------------------------------\")\n",
    "                \n",
    "                display(bivariate_analysis_df)\n",
    "                \n",
    "                print(\"\\n\")\n",
    "                print(\"------------------------------------------\")\n",
    "                print(\"Count plot Analysis of features: \",feature1,' and  ', feature2)\n",
    "                print(\"------------------------------------------\")\n",
    "                \n",
    "                plt.figure(figsize=(12,6))\n",
    "                sns.countplot(x=feature1, hue=feature2, data=dataset)\n",
    "                plt.show()\n",
    "                \n",
    "\n"
   ]
  },
  {
   "cell_type": "markdown",
   "metadata": {},
   "source": [
    "## Modeling and Functions for Historical Data Insights through chatbot"
   ]
  },
  {
   "cell_type": "code",
   "execution_count": 18,
   "metadata": {
    "scrolled": true
   },
   "outputs": [
    {
     "name": "stdout",
     "output_type": "stream",
     "text": [
      "Training Step: 12834  | total loss: \u001b[1m\u001b[32m0.07331\u001b[0m\u001b[0m | time: 0.015s\n",
      "\u001b[2K\r",
      "| Adam | epoch: 988 | loss: 0.07331 - acc: 0.9967 -- iter: 024/101\n"
     ]
    }
   ],
   "source": [
    "# import our chat-bot intents file\n",
    "import json\n",
    "with open('GLSafexInfo_eda.json') as json_data:\n",
    "    intents_eda = json.load(json_data)\n",
    "\n",
    "# Initialize data fields for our file\n",
    "\n",
    "words = []\n",
    "classes = []\n",
    "documents = []\n",
    "ignore_words = ['?']\n",
    "# loop through each sentence in our intents patterns\n",
    "for intent in intents_eda['intents']:\n",
    "    for pattern in intent['patterns']:\n",
    "        # tokenize each word in the sentence\n",
    "        w = nltk.word_tokenize(pattern)\n",
    "        # add to our words list\n",
    "        words.extend(w)\n",
    "        # add to documents in our corpus\n",
    "        documents.append((w, intent['tag']))\n",
    "        # add to our classes list\n",
    "        if intent['tag'] not in classes:\n",
    "            classes.append(intent['tag'])\n",
    "\n",
    "# stem and lower each word and remove duplicates\n",
    "words = [stemmer.stem(w.lower()) for w in words if w not in ignore_words]\n",
    "words = sorted(list(set(words)))\n",
    "\n",
    "# remove duplicates\n",
    "classes = sorted(list(set(classes)))\n",
    "\n",
    "print (len(documents), \"documents\")\n",
    "print (len(classes), \"classes\", classes)\n",
    "print (len(words), \"unique stemmed words\", words)\n",
    "\n",
    "\n",
    "# create our training data\n",
    "training = []\n",
    "output = []\n",
    "# create an empty array for our output\n",
    "output_empty = [0] * len(classes)\n",
    "\n",
    "# training set, bag of words for each sentence\n",
    "for doc in documents:\n",
    "    # initialize our bag of words\n",
    "    bag = []\n",
    "    # list of tokenized words for the pattern\n",
    "    pattern_words = doc[0]\n",
    "    # stem each word\n",
    "    pattern_words = [stemmer.stem(word.lower()) for word in pattern_words]\n",
    "    # create our bag of words array\n",
    "    for w in words:\n",
    "        bag.append(1) if w in pattern_words else bag.append(0)\n",
    "\n",
    "    # output is a '0' for each tag and '1' for current tag\n",
    "    output_row = list(output_empty)\n",
    "    output_row[classes.index(doc[1])] = 1\n",
    "\n",
    "    training.append([bag, output_row])\n",
    "\n",
    "# shuffle our features and turn into np.array\n",
    "random.shuffle(training)\n",
    "training = np.array(training)\n",
    "\n",
    "# create train and test lists\n",
    "X_train = list(training[:,0])\n",
    "y_train = list(training[:,1])\n",
    "\n",
    "\n",
    "# reset underlying graph data\n",
    "from tensorflow.python.framework import ops\n",
    "ops.reset_default_graph()\n",
    "\n",
    "# Build neural network\n",
    "net_eda = tflearn.input_data(shape=[None, len(X_train[0])])\n",
    "net_eda = tflearn.fully_connected(net_eda, 16)\n",
    "net_eda = tflearn.fully_connected(net_eda, 16)\n",
    "net_eda = tflearn.fully_connected(net_eda, len(y_train[0]), activation='softmax')\n",
    "net_eda = tflearn.regression(net_eda)\n",
    "\n",
    "# Define model and setup tensorboard\n",
    "model_eda = tflearn.DNN(net_eda, tensorboard_dir='tflearn_logs')\n",
    "\n",
    "# Start training (apply gradient descent algorithm)\n",
    "model_eda.fit(X_train, y_train, n_epoch=1000, batch_size=8, show_metric=True)\n",
    "model_eda.save('model_eda.tflearn')\n",
    "\n",
    "\n",
    "import pickle\n",
    "pickle.dump( {'words':words, 'classes':classes, 'X_train':X_train, 'y_train':y_train}, open( \"eda_training_data\", \"wb\" ) )\n",
    "\n",
    "\n",
    "\n",
    "\n",
    "\n",
    "\n"
   ]
  },
  {
   "cell_type": "code",
   "execution_count": 19,
   "metadata": {
    "scrolled": true
   },
   "outputs": [],
   "source": [
    "# restore all of our data structures\n",
    "import pickle\n",
    "data_eda = pickle.load( open( \"eda_training_data\", \"rb\" ) )\n",
    "words_eda = data_eda['words']\n",
    "classes_eda = data_eda['classes']\n",
    "X_train_eda = data_eda['X_train']\n",
    "y_train_eda = data_eda['y_train']\n"
   ]
  },
  {
   "cell_type": "code",
   "execution_count": 20,
   "metadata": {
    "scrolled": true
   },
   "outputs": [
    {
     "name": "stdout",
     "output_type": "stream",
     "text": [
      "INFO:tensorflow:Restoring parameters from C:\\Users\\Dell\\Desktop\\GreatLearning PGP AIML\\Capstone Project\\Milestone 2\\Apoorv Working\\model_eda.tflearn\n"
     ]
    }
   ],
   "source": [
    "# import our chat-bot intents file\n",
    "import json\n",
    "with open('GLSafexInfo_eda.json') as json_data:\n",
    "    intents_eda = json.load(json_data)\n",
    "\t\n",
    "\t\n",
    "# load our saved model\n",
    "model_eda.load('./model_eda.tflearn')"
   ]
  },
  {
   "cell_type": "code",
   "execution_count": 21,
   "metadata": {
    "scrolled": true
   },
   "outputs": [],
   "source": [
    "\n",
    "# functions to classify the sentences and for respective responses\n",
    "# create a data structure to hold user context\n",
    "\n",
    "context = {}\n",
    "\n",
    "ERROR_THRESHOLD = 0.25\n",
    "def classify_eda(sentence):\n",
    "    # generate probabilities from the model\n",
    "    results = model_eda.predict([bow(sentence, words_eda)])[0]\n",
    "    # filter out predictions below a threshold\n",
    "    results = [[i,r] for i,r in enumerate(results) if r>ERROR_THRESHOLD]\n",
    "    # sort by strength of probability\n",
    "    results.sort(key=lambda x: x[1], reverse=True)\n",
    "    return_list = []\n",
    "    for r in results:\n",
    "        return_list.append((classes_eda[r[0]], r[1]))\n",
    "    # return tuple of intent and probability\n",
    "    return return_list\n",
    "\n",
    "\n",
    "def response_eda(sentence, show_details=False):\n",
    "    \n",
    "    results = classify_eda(sentence)\n",
    "    \n",
    "    # if we have a classification then find the matching intent tag\n",
    "    if results:\n",
    "        # loop as long as there are matches to process\n",
    "        while results:\n",
    "            for i in intents_eda['intents']:\n",
    "                \n",
    "                # find a tag matching the first result\n",
    "                if i['tag'] == results[0][0]:\n",
    "                    \n",
    "                    #return print(random.choice(i['responses']))\n",
    "                    response_result = random.choice(i['responses'])\n",
    "                    show_eda(response_result)\n",
    "                    \n",
    "\n",
    "            results.pop(0)\n",
    "            "
   ]
  },
  {
   "cell_type": "code",
   "execution_count": 22,
   "metadata": {
    "scrolled": true
   },
   "outputs": [],
   "source": [
    "#print(response_eda('analysis for Accident'))"
   ]
  },
  {
   "cell_type": "markdown",
   "metadata": {
    "scrolled": true
   },
   "source": [
    "## Chatbot : Classification Model"
   ]
  },
  {
   "cell_type": "code",
   "execution_count": 33,
   "metadata": {},
   "outputs": [
    {
     "ename": "OSError",
     "evalue": "SavedModel file does not exist at: ram://dd0681ff-6a30-4952-8078-832c3e8647eb\\{saved_model.pbtxt|saved_model.pb}",
     "output_type": "error",
     "traceback": [
      "\u001b[1;31m---------------------------------------------------------------------------\u001b[0m",
      "\u001b[1;31mOSError\u001b[0m                                   Traceback (most recent call last)",
      "\u001b[1;32m~\\AppData\\Local\\Temp/ipykernel_9616/2054529226.py\u001b[0m in \u001b[0;36m<module>\u001b[1;34m\u001b[0m\n\u001b[0;32m      4\u001b[0m \u001b[1;31m#loaded_model_acclevel = pickle.load(open('./accident_level2.sav', 'rb'))\u001b[0m\u001b[1;33m\u001b[0m\u001b[1;33m\u001b[0m\u001b[0m\n\u001b[0;32m      5\u001b[0m \u001b[1;33m\u001b[0m\u001b[0m\n\u001b[1;32m----> 6\u001b[1;33m \u001b[0mloaded_model_acclevel\u001b[0m \u001b[1;33m=\u001b[0m \u001b[0mpickle\u001b[0m\u001b[1;33m.\u001b[0m\u001b[0mload\u001b[0m\u001b[1;33m(\u001b[0m\u001b[0mopen\u001b[0m\u001b[1;33m(\u001b[0m\u001b[1;34m'./accident_level2.sav'\u001b[0m\u001b[1;33m,\u001b[0m \u001b[1;34m'rb'\u001b[0m\u001b[1;33m)\u001b[0m\u001b[1;33m)\u001b[0m\u001b[1;33m\u001b[0m\u001b[1;33m\u001b[0m\u001b[0m\n\u001b[0m",
      "\u001b[1;32mC:\\ProgramData\\Anaconda3\\lib\\site-packages\\keras\\saving\\pickle_utils.py\u001b[0m in \u001b[0;36mdeserialize_model_from_bytecode\u001b[1;34m(serialized_model)\u001b[0m\n\u001b[0;32m     46\u001b[0m         \u001b[1;32mwith\u001b[0m \u001b[0mtf\u001b[0m\u001b[1;33m.\u001b[0m\u001b[0mio\u001b[0m\u001b[1;33m.\u001b[0m\u001b[0mgfile\u001b[0m\u001b[1;33m.\u001b[0m\u001b[0mGFile\u001b[0m\u001b[1;33m(\u001b[0m\u001b[0mdest_path\u001b[0m\u001b[1;33m,\u001b[0m \u001b[1;34m\"wb\"\u001b[0m\u001b[1;33m)\u001b[0m \u001b[1;32mas\u001b[0m \u001b[0mf\u001b[0m\u001b[1;33m:\u001b[0m\u001b[1;33m\u001b[0m\u001b[1;33m\u001b[0m\u001b[0m\n\u001b[0;32m     47\u001b[0m           \u001b[0mf\u001b[0m\u001b[1;33m.\u001b[0m\u001b[0mwrite\u001b[0m\u001b[1;33m(\u001b[0m\u001b[0marchive\u001b[0m\u001b[1;33m.\u001b[0m\u001b[0mextractfile\u001b[0m\u001b[1;33m(\u001b[0m\u001b[0mname\u001b[0m\u001b[1;33m)\u001b[0m\u001b[1;33m.\u001b[0m\u001b[0mread\u001b[0m\u001b[1;33m(\u001b[0m\u001b[1;33m)\u001b[0m\u001b[1;33m)\u001b[0m\u001b[1;33m\u001b[0m\u001b[1;33m\u001b[0m\u001b[0m\n\u001b[1;32m---> 48\u001b[1;33m   \u001b[0mmodel\u001b[0m \u001b[1;33m=\u001b[0m \u001b[0msave_module\u001b[0m\u001b[1;33m.\u001b[0m\u001b[0mload_model\u001b[0m\u001b[1;33m(\u001b[0m\u001b[0mtemp_dir\u001b[0m\u001b[1;33m)\u001b[0m\u001b[1;33m\u001b[0m\u001b[1;33m\u001b[0m\u001b[0m\n\u001b[0m\u001b[0;32m     49\u001b[0m   \u001b[0mtf\u001b[0m\u001b[1;33m.\u001b[0m\u001b[0mio\u001b[0m\u001b[1;33m.\u001b[0m\u001b[0mgfile\u001b[0m\u001b[1;33m.\u001b[0m\u001b[0mrmtree\u001b[0m\u001b[1;33m(\u001b[0m\u001b[0mtemp_dir\u001b[0m\u001b[1;33m)\u001b[0m\u001b[1;33m\u001b[0m\u001b[1;33m\u001b[0m\u001b[0m\n\u001b[0;32m     50\u001b[0m   \u001b[1;32mreturn\u001b[0m \u001b[0mmodel\u001b[0m\u001b[1;33m\u001b[0m\u001b[1;33m\u001b[0m\u001b[0m\n",
      "\u001b[1;32mC:\\ProgramData\\Anaconda3\\lib\\site-packages\\keras\\utils\\traceback_utils.py\u001b[0m in \u001b[0;36merror_handler\u001b[1;34m(*args, **kwargs)\u001b[0m\n\u001b[0;32m     65\u001b[0m     \u001b[1;32mexcept\u001b[0m \u001b[0mException\u001b[0m \u001b[1;32mas\u001b[0m \u001b[0me\u001b[0m\u001b[1;33m:\u001b[0m  \u001b[1;31m# pylint: disable=broad-except\u001b[0m\u001b[1;33m\u001b[0m\u001b[1;33m\u001b[0m\u001b[0m\n\u001b[0;32m     66\u001b[0m       \u001b[0mfiltered_tb\u001b[0m \u001b[1;33m=\u001b[0m \u001b[0m_process_traceback_frames\u001b[0m\u001b[1;33m(\u001b[0m\u001b[0me\u001b[0m\u001b[1;33m.\u001b[0m\u001b[0m__traceback__\u001b[0m\u001b[1;33m)\u001b[0m\u001b[1;33m\u001b[0m\u001b[1;33m\u001b[0m\u001b[0m\n\u001b[1;32m---> 67\u001b[1;33m       \u001b[1;32mraise\u001b[0m \u001b[0me\u001b[0m\u001b[1;33m.\u001b[0m\u001b[0mwith_traceback\u001b[0m\u001b[1;33m(\u001b[0m\u001b[0mfiltered_tb\u001b[0m\u001b[1;33m)\u001b[0m \u001b[1;32mfrom\u001b[0m \u001b[1;32mNone\u001b[0m\u001b[1;33m\u001b[0m\u001b[1;33m\u001b[0m\u001b[0m\n\u001b[0m\u001b[0;32m     68\u001b[0m     \u001b[1;32mfinally\u001b[0m\u001b[1;33m:\u001b[0m\u001b[1;33m\u001b[0m\u001b[1;33m\u001b[0m\u001b[0m\n\u001b[0;32m     69\u001b[0m       \u001b[1;32mdel\u001b[0m \u001b[0mfiltered_tb\u001b[0m\u001b[1;33m\u001b[0m\u001b[1;33m\u001b[0m\u001b[0m\n",
      "\u001b[1;32mC:\\ProgramData\\Anaconda3\\lib\\site-packages\\tensorflow\\python\\saved_model\\loader_impl.py\u001b[0m in \u001b[0;36mparse_saved_model\u001b[1;34m(export_dir)\u001b[0m\n\u001b[0;32m    116\u001b[0m       \u001b[1;32mraise\u001b[0m \u001b[0mIOError\u001b[0m\u001b[1;33m(\u001b[0m\u001b[1;34mf\"Cannot parse file {path_to_pbtxt}: {str(e)}.\"\u001b[0m\u001b[1;33m)\u001b[0m\u001b[1;33m\u001b[0m\u001b[1;33m\u001b[0m\u001b[0m\n\u001b[0;32m    117\u001b[0m   \u001b[1;32melse\u001b[0m\u001b[1;33m:\u001b[0m\u001b[1;33m\u001b[0m\u001b[1;33m\u001b[0m\u001b[0m\n\u001b[1;32m--> 118\u001b[1;33m     raise IOError(\n\u001b[0m\u001b[0;32m    119\u001b[0m         \u001b[1;34mf\"SavedModel file does not exist at: {export_dir}{os.path.sep}\"\u001b[0m\u001b[1;33m\u001b[0m\u001b[1;33m\u001b[0m\u001b[0m\n\u001b[0;32m    120\u001b[0m         \u001b[1;34mf\"{{{constants.SAVED_MODEL_FILENAME_PBTXT}|\"\u001b[0m\u001b[1;33m\u001b[0m\u001b[1;33m\u001b[0m\u001b[0m\n",
      "\u001b[1;31mOSError\u001b[0m: SavedModel file does not exist at: ram://dd0681ff-6a30-4952-8078-832c3e8647eb\\{saved_model.pbtxt|saved_model.pb}"
     ]
    }
   ],
   "source": [
    "import pickle\n",
    "\n",
    "\n",
    "#loaded_model_acclevel = pickle.load(open('./accident_level2.sav', 'rb'))\n",
    "\n",
    "loaded_model_acclevel = pickle.load(open('./accident_level2.sav', 'rb'))"
   ]
  },
  {
   "cell_type": "code",
   "execution_count": null,
   "metadata": {},
   "outputs": [],
   "source": [
    "# functions to classify the sentences and for respective responses\n",
    "# create a data structure to hold user context\n",
    "\n",
    "context = {}\n",
    "\n",
    "ERROR_THRESHOLD = 0.25\n",
    "def classify_acclevel(sentence):\n",
    "    # generate probabilities from the model\n",
    "    results = model_qna.predict([bow(sentence, words_qna)])[0]\n",
    "    # filter out predictions below a threshold\n",
    "    results = [[i,r] for i,r in enumerate(results) if r>ERROR_THRESHOLD]\n",
    "    # sort by strength of probability\n",
    "    results.sort(key=lambda x: x[1], reverse=True)\n",
    "    return_list = []\n",
    "    for r in results:\n",
    "        return_list.append((classes_qna[r[0]], r[1]))\n",
    "    # return tuple of intent and probability\n",
    "    return return_list\n",
    "\n",
    "\n",
    "def response_acclevel(sentence, show_details=False):\n",
    "    results = classify(sentence)\n",
    "    # if we have a classification then find the matching intent tag\n",
    "    if results:\n",
    "        # loop as long as there are matches to process\n",
    "        while results:\n",
    "            for i in intents_qna['intents']:\n",
    "                # find a tag matching the first result\n",
    "                if i['tag'] == results[0][0]:\n",
    "                    # a random response from the intent\n",
    "                    return print('BOT: ', random.choice(i['responses']))\n",
    "\n",
    "            results.pop(0)"
   ]
  },
  {
   "cell_type": "code",
   "execution_count": null,
   "metadata": {},
   "outputs": [],
   "source": []
  },
  {
   "cell_type": "code",
   "execution_count": null,
   "metadata": {},
   "outputs": [],
   "source": []
  },
  {
   "cell_type": "markdown",
   "metadata": {},
   "source": [
    "## Chatbot with Conditions"
   ]
  },
  {
   "cell_type": "markdown",
   "metadata": {},
   "source": [
    "### Chatbot function for Question and Answers"
   ]
  },
  {
   "cell_type": "code",
   "execution_count": 24,
   "metadata": {
    "scrolled": true
   },
   "outputs": [],
   "source": [
    "def chatbot_qna():\n",
    "    flag=True\n",
    "    print('\\n')\n",
    "    print(\"BOT: I am your Virtual assistant. I will try to answer your questions on Accidents Data! \\\n",
    "    \\n \\t If you want to exit any time, just type Bye!\")\n",
    "    while(flag==True):\n",
    "        print('\\n')\n",
    "        user_response = input(\"You: \")\n",
    "        user_response=user_response.lower()\n",
    "        if(user_response!='bye'):\n",
    "            if(user_response=='thanks' or user_response=='thank you' ):\n",
    "                flag=False\n",
    "                print('\\n')\n",
    "                print(\"BOT: You are welcome..\")\n",
    "                print(\"BOT: Exited from Question and Answer Module\")\n",
    "\n",
    "            else:\n",
    "                print('\\n')\n",
    "                response(user_response)\n",
    "                print('\\n')\n",
    "        else:\n",
    "            flag=False\n",
    "            print('\\n')\n",
    "            print(\"BOT: Exited from Question and Answer Module\")\n",
    "            print(\"BOT: Goodbye! Take care  \")\n",
    "            "
   ]
  },
  {
   "cell_type": "markdown",
   "metadata": {},
   "source": [
    "### Chat bot function for showing Historical Data Insights"
   ]
  },
  {
   "cell_type": "code",
   "execution_count": 25,
   "metadata": {
    "scrolled": true
   },
   "outputs": [],
   "source": [
    "def chatbot_eda():\n",
    "    flag=True\n",
    "    print('\\n')\n",
    "    print(\"BOT: I am your Virtual assistant. I will help you with Insights of Accident Historical Data! \\\n",
    "          \\n \\t If you want to exit any time, just type Bye!\")\n",
    "    while(flag==True):\n",
    "        \n",
    "        print('\\n')\n",
    "        user_response = input(\"You: \")\n",
    "        user_response=user_response.lower()\n",
    "        if(user_response!='bye'):\n",
    "            if(user_response=='thanks' or user_response=='thank you' ):\n",
    "                flag=False\n",
    "                print('\\n')\n",
    "                print(\"BOT: You are welcome..\")\n",
    "                print(\"BOT: Exited from Data Insights Module\")\n",
    "\n",
    "            else:                    \n",
    "                    print('\\n')\n",
    "                    response_eda(user_response)\n",
    "                    print('\\n')\n",
    "        else:\n",
    "            flag=False\n",
    "            print('\\n')\n",
    "            print(\"BOT: Goodbye! Take care  \")\n",
    "            print(\"BOT: Exited from Data Insights Module\")"
   ]
  },
  {
   "cell_type": "markdown",
   "metadata": {},
   "source": [
    "## Chatbot : Home Page"
   ]
  },
  {
   "cell_type": "code",
   "execution_count": 26,
   "metadata": {
    "scrolled": false
   },
   "outputs": [
    {
     "name": "stdout",
     "output_type": "stream",
     "text": [
      "\n",
      "BOT: Please Select appropriate option:           \n",
      " \t            \n",
      " \t 1 --> For Question and Answers           \n",
      " \t 2 --> For finding the Accident level for your problem           \n",
      " \t 3 --> For finding the Potential Accident level for your problem           \n",
      " \t 4 --> For Historical Data Insights           \n",
      " \t            \n",
      " \t if you want to exit any time, just type Bye!\n",
      "\n",
      "\n",
      "You: 1\n",
      "\n",
      "\n",
      "BOT: I am your Virtual assistant. I will try to answer your questions on Accidents Data!     \n",
      " \t If you want to exit any time, just type Bye!\n",
      "\n",
      "\n",
      "You: What are the issues realted to volumetric balloon\n",
      "\n",
      "\n",
      "BOT:  Based on the historical facts it has been observed  that Employees in the Metal Industry have met with accidents related to volumetric balloon, cyclone duct, conveyor, Zinc which have result in small burns on the body parts including face as well. So it is always recommended to take proper precautions and use face and body covers while working on such areas\n",
      "\n",
      "\n",
      "\n",
      "\n",
      "You: tell me the details about volumetric balloon\n",
      "\n",
      "\n",
      "BOT:  I hope I was able to assist you, Good Bye\n",
      "\n",
      "\n",
      "\n",
      "\n",
      "You: tell me the accident realted to volumetric balloon\n",
      "\n",
      "\n",
      "BOT:  Based on the historical facts it has been observed  that Employees in the Metal Industry have met with accidents related to volumetric balloon, cyclone duct, conveyor, Zinc which have result in small burns on the body parts including face as well. So it is always recommended to take proper precautions and use face and body covers while working on such areas\n",
      "\n",
      "\n",
      "\n",
      "\n",
      "You: bye\n",
      "\n",
      "\n",
      "BOT: Exited from Question and Answer Module\n",
      "BOT: Goodbye! Take care  \n",
      "\n",
      "BOT: Please Select appropriate option:           \n",
      " \t            \n",
      " \t 1 --> For Question and Answers           \n",
      " \t 2 --> For finding the Accident level for your problem           \n",
      " \t 3 --> For finding the Potential Accident level for your problem           \n",
      " \t 4 --> For Historical Data Insights           \n",
      " \t            \n",
      " \t if you want to exit any time, just type Bye!\n",
      "\n",
      "\n",
      "You: 4\n",
      "\n",
      "\n",
      "BOT: I am your Virtual assistant. I will help you with Insights of Accident Historical Data!           \n",
      " \t If you want to exit any time, just type Bye!\n",
      "\n",
      "\n",
      "You: give the country details\n",
      "\n",
      "\n",
      "\n",
      "\n",
      "===========================================================================================\n",
      "Data Analysis of feature:  Country\n",
      "===========================================================================================\n",
      "\n",
      "\n",
      "\n",
      "-----------------\n",
      "Countplot  for feature:  Country\n",
      "-----------------\n"
     ]
    },
    {
     "data": {
      "image/png": "[encoded data removed]",
      "text/plain": [
       "<Figure size 720x432 with 1 Axes>"
      ]
     },
     "metadata": {
      "needs_background": "light"
     },
     "output_type": "display_data"
    },
    {
     "name": "stdout",
     "output_type": "stream",
     "text": [
      "-----------------\n",
      "Pie Chart for feature:  Country\n",
      "------------------\n"
     ]
    },
    {
     "data": {
      "image/png": "[encoded data removed]",
      "text/plain": [
       "<Figure size 720x432 with 1 Axes>"
      ]
     },
     "metadata": {},
     "output_type": "display_data"
    },
    {
     "name": "stdout",
     "output_type": "stream",
     "text": [
      "\n",
      "\n",
      "-----------------\n",
      "Value Counts for feature:  Country\n",
      "-------------------\n",
      "Country_01    248\n",
      "Country_02    129\n",
      "Country_03     41\n",
      "Name: Country, dtype: int64\n",
      "\n",
      "\n",
      "\n",
      "\n",
      "\n",
      "You: tell me industry and accident details\n",
      "\n",
      "\n",
      "\n",
      "\n",
      "===========================================================================================\n",
      "Data Analysis of features:  Accident Level  and   Industry Sector\n",
      "===========================================================================================\n",
      "\n",
      "\n",
      "------------------------------------------\n",
      "Cross table Analysis of features:  Accident Level  and   Industry Sector\n",
      "------------------------------------------\n"
     ]
    },
    {
     "data": {
      "text/html": [
       "<div>\n",
       "<style scoped>\n",
       "    .dataframe tbody tr th:only-of-type {\n",
       "        vertical-align: middle;\n",
       "    }\n",
       "\n",
       "    .dataframe tbody tr th {\n",
       "        vertical-align: top;\n",
       "    }\n",
       "\n",
       "    .dataframe thead th {\n",
       "        text-align: right;\n",
       "    }\n",
       "</style>\n",
       "<table border=\"1\" class=\"dataframe\">\n",
       "  <thead>\n",
       "    <tr style=\"text-align: right;\">\n",
       "      <th>Industry Sector</th>\n",
       "      <th>Metals</th>\n",
       "      <th>Mining</th>\n",
       "      <th>Others</th>\n",
       "    </tr>\n",
       "    <tr>\n",
       "      <th>Accident Level</th>\n",
       "      <th></th>\n",
       "      <th></th>\n",
       "      <th></th>\n",
       "    </tr>\n",
       "  </thead>\n",
       "  <tbody>\n",
       "    <tr>\n",
       "      <th>I</th>\n",
       "      <td>107</td>\n",
       "      <td>163</td>\n",
       "      <td>39</td>\n",
       "    </tr>\n",
       "    <tr>\n",
       "      <th>II</th>\n",
       "      <td>12</td>\n",
       "      <td>26</td>\n",
       "      <td>2</td>\n",
       "    </tr>\n",
       "    <tr>\n",
       "      <th>III</th>\n",
       "      <td>7</td>\n",
       "      <td>20</td>\n",
       "      <td>4</td>\n",
       "    </tr>\n",
       "    <tr>\n",
       "      <th>IV</th>\n",
       "      <td>7</td>\n",
       "      <td>21</td>\n",
       "      <td>2</td>\n",
       "    </tr>\n",
       "    <tr>\n",
       "      <th>V</th>\n",
       "      <td>1</td>\n",
       "      <td>7</td>\n",
       "      <td>0</td>\n",
       "    </tr>\n",
       "  </tbody>\n",
       "</table>\n",
       "</div>"
      ],
      "text/plain": [
       "Industry Sector  Metals  Mining  Others\n",
       "Accident Level                         \n",
       "I                   107     163      39\n",
       "II                   12      26       2\n",
       "III                   7      20       4\n",
       "IV                    7      21       2\n",
       "V                     1       7       0"
      ]
     },
     "metadata": {},
     "output_type": "display_data"
    },
    {
     "name": "stdout",
     "output_type": "stream",
     "text": [
      "\n",
      "\n",
      "------------------------------------------\n",
      "Count plot Analysis of features:  Accident Level  and   Industry Sector\n",
      "------------------------------------------\n"
     ]
    },
    {
     "data": {
      "image/png": "[encoded data removed]",
      "text/plain": [
       "<Figure size 864x432 with 1 Axes>"
      ]
     },
     "metadata": {
      "needs_background": "light"
     },
     "output_type": "display_data"
    },
    {
     "name": "stdout",
     "output_type": "stream",
     "text": [
      "\n",
      "\n",
      "\n",
      "\n",
      "You: bye\n",
      "\n",
      "\n",
      "BOT: Goodbye! Take care  \n",
      "BOT: Exited from Data Insights Module\n",
      "\n",
      "BOT: Please Select appropriate option:           \n",
      " \t            \n",
      " \t 1 --> For Question and Answers           \n",
      " \t 2 --> For finding the Accident level for your problem           \n",
      " \t 3 --> For finding the Potential Accident level for your problem           \n",
      " \t 4 --> For Historical Data Insights           \n",
      " \t            \n",
      " \t if you want to exit any time, just type Bye!\n",
      "\n",
      "\n",
      "You: bye\n",
      "\n",
      "\n",
      "BOT: Goodbye! Take care  \n"
     ]
    }
   ],
   "source": [
    "mainflag=True\n",
    "flag = False\n",
    "\n",
    "while(mainflag==True):\n",
    "    if flag == False:\n",
    "        print('')\n",
    "        print(\"BOT: Please Select appropriate option: \\\n",
    "          \\n \\t  \\\n",
    "          \\n \\t 1 --> For Question and Answers \\\n",
    "          \\n \\t 2 --> For finding the Accident level for your problem \\\n",
    "          \\n \\t 3 --> For finding the Potential Accident level for your problem \\\n",
    "          \\n \\t 4 --> For Historical Data Insights \\\n",
    "          \\n \\t  \\\n",
    "          \\n \\t if you want to exit any time, just type Bye!\")\n",
    "        \n",
    "    print('\\n')\n",
    "    user_response = input(\"You: \")\n",
    "    user_response=user_response.lower()\n",
    "    if(user_response!='bye'):\n",
    "        if(user_response=='thanks' or user_response=='thank you' ):\n",
    "            mainflag=False\n",
    "            print('\\n')\n",
    "            print(\"BOT: You are welcome..\")\n",
    "        \n",
    "        elif (user_response=='1'):\n",
    "                chatbot_qna()\n",
    "        elif (user_response=='2'):\n",
    "                chatbot_qna()\n",
    "        elif (user_response=='3'):\n",
    "                chatbot_qna()   \n",
    "        elif (user_response=='4'):\n",
    "                chatbot_eda()  \n",
    "                \n",
    "    else:\n",
    "        mainflag=False\n",
    "        print('\\n')\n",
    "        print(\"BOT: Goodbye! Take care  \")"
   ]
  },
  {
   "cell_type": "code",
   "execution_count": null,
   "metadata": {
    "scrolled": true
   },
   "outputs": [],
   "source": []
  },
  {
   "cell_type": "code",
   "execution_count": null,
   "metadata": {
    "scrolled": true
   },
   "outputs": [],
   "source": []
  }
 ],
 "metadata": {
  "kernelspec": {
   "display_name": "Python 3 (ipykernel)",
   "language": "python",
   "name": "python3"
  },
  "language_info": {
   "codemirror_mode": {
    "name": "ipython",
    "version": 3
   },
   "file_extension": ".py",
   "mimetype": "text/x-python",
   "name": "python",
   "nbconvert_exporter": "python",
   "pygments_lexer": "ipython3",
   "version": "3.9.7"
  }
 },
 "nbformat": 4,
 "nbformat_minor": 4
}
