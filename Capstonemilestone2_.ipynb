{
  "nbformat": 4,
  "nbformat_minor": 0,
  "metadata": {
    "colab": {
      "name": "Capstonemilestone2 .ipynb",
      "provenance": [],
      "collapsed_sections": []
    },
    "kernelspec": {
      "name": "python3",
      "display_name": "Python 3"
    },
    "language_info": {
      "name": "python"
    }
  },
  "cells": [
    {
      "cell_type": "code",
      "execution_count": null,
      "metadata": {
        "id": "9Yh-L3jj1gnL"
      },
      "outputs": [],
      "source": [
        "from google.colab import drive"
      ]
    },
    {
      "cell_type": "code",
      "source": [
        "drive.mount('/content/drive/')"
      ],
      "metadata": {
        "colab": {
          "base_uri": "https://localhost:8080/"
        },
        "id": "jn0PDueARxoo",
        "outputId": "f03d567d-86c7-477d-b797-0878e4229874"
      },
      "execution_count": null,
      "outputs": [
        {
          "output_type": "stream",
          "name": "stdout",
          "text": [
            "Mounted at /content/drive/\n"
          ]
        }
      ]
    },
    {
      "cell_type": "code",
      "source": [
        "import pandas as pd"
      ],
      "metadata": {
        "id": "GgzBtwVdSWH3"
      },
      "execution_count": null,
      "outputs": []
    },
    {
      "cell_type": "code",
      "source": [
        "data1 = pd.read_csv('/content/drive/MyDrive/capstoneproject/data.csv')"
      ],
      "metadata": {
        "id": "V73YWWDISD9J"
      },
      "execution_count": null,
      "outputs": []
    },
    {
      "cell_type": "code",
      "source": [
        "from nltk.corpus import stopwords\n",
        "from nltk.stem import WordNetLemmatizer,PorterStemmer\n",
        "from nltk.tokenize import word_tokenize\n",
        "from wordcloud import WordCloud, STOPWORDS\n",
        "import nltk\n",
        "nltk.download('punkt')\n",
        "nltk.download('wordnet')\n",
        "import string\n",
        "nltk.download('stopwords')\n",
        "stop=set(stopwords.words('english'))\n",
        "\n",
        "def preprocess_text(text):\n",
        "      corpus=[]\n",
        "      #stem=PorterStemmer()\n",
        "      lem=WordNetLemmatizer()\n",
        "      for news in text:\n",
        "          words=[w for w in word_tokenize(news) if (w not in stop)]\n",
        "          \n",
        "          words=[lem.lemmatize(w) for w in words if len(w)>2]\n",
        "          words = [''.join(c for c in s if c not in string.punctuation) for s in words if s]\n",
        "          words = [word.lower() for word in words]\n",
        "          words = [word for word in words if word.isalpha()]\n",
        "          corpus.append(words) \n",
        "         \n",
        "      return corpus     \n",
        "      \n",
        "data1['processed_text']= preprocess_text(data1['Description'])\n"
      ],
      "metadata": {
        "colab": {
          "base_uri": "https://localhost:8080/"
        },
        "id": "iTE3xafaSiGJ",
        "outputId": "1ce2dfb7-0f4e-4fb1-c03c-369836bb616c"
      },
      "execution_count": null,
      "outputs": [
        {
          "output_type": "stream",
          "name": "stdout",
          "text": [
            "[nltk_data] Downloading package punkt to /root/nltk_data...\n",
            "[nltk_data]   Unzipping tokenizers/punkt.zip.\n",
            "[nltk_data] Downloading package wordnet to /root/nltk_data...\n",
            "[nltk_data]   Unzipping corpora/wordnet.zip.\n",
            "[nltk_data] Downloading package stopwords to /root/nltk_data...\n",
            "[nltk_data]   Unzipping corpora/stopwords.zip.\n"
          ]
        }
      ]
    },
    {
      "cell_type": "code",
      "source": [
        "data1.head()"
      ],
      "metadata": {
        "colab": {
          "base_uri": "https://localhost:8080/",
          "height": 617
        },
        "id": "ufF2l_yoS0NF",
        "outputId": "8fa03133-fb91-4785-d1bc-30036da2e185"
      },
      "execution_count": null,
      "outputs": [
        {
          "output_type": "execute_result",
          "data": {
            "text/plain": [
              "         Date     Country  Local Industry Sector Accident Level  \\\n",
              "0  2016-01-01  Country_01      1          Mining              I   \n",
              "1  2016-01-02  Country_02      2          Mining              I   \n",
              "2  2016-01-06  Country_01      3          Mining              I   \n",
              "3  2016-01-08  Country_01      4          Mining              I   \n",
              "4  2016-01-10  Country_01      4          Mining             IV   \n",
              "\n",
              "  Potential Accident Level Gender      Natureofemployee        Critical Risk  \\\n",
              "0                       IV   Male           Third Party              Pressed   \n",
              "1                       IV   Male              Employee  Pressurized Systems   \n",
              "2                      III   Male  Third Party (Remote)         Manual Tools   \n",
              "3                        I   Male           Third Party               Others   \n",
              "4                       IV   Male           Third Party               Others   \n",
              "\n",
              "                                         Description  Year  Month    Weekday  \\\n",
              "0  While removing the drill rod of the Jumbo 08 f...  2016      1     Friday   \n",
              "1  During the activation of a sodium sulphide pum...  2016      1   Saturday   \n",
              "2  In the sub-station MILPO located at level +170...  2016      1  Wednesday   \n",
              "3  Being 9:45 am. approximately in the Nv. 1880 C...  2016      1     Friday   \n",
              "4  Approximately at 11:45 a.m. in circumstances t...  2016      1     Sunday   \n",
              "\n",
              "   Season                                     processed_text  \n",
              "0  Summer  [while, removing, drill, rod, jumbo, maintenan...  \n",
              "1  Summer  [during, activation, sodium, sulphide, pump, p...  \n",
              "2  Summer  [substation, milpo, located, level, collaborat...  \n",
              "3  Summer  [being, approximately, personnel, begin, task,...  \n",
              "4  Summer  [approximately, am, circumstance, mechanic, an...  "
            ],
            "text/html": [
              "\n",
              "  <div id=\"df-f925333f-a53e-43be-983f-f8bcbe1500f2\">\n",
              "    <div class=\"colab-df-container\">\n",
              "      <div>\n",
              "<style scoped>\n",
              "    .dataframe tbody tr th:only-of-type {\n",
              "        vertical-align: middle;\n",
              "    }\n",
              "\n",
              "    .dataframe tbody tr th {\n",
              "        vertical-align: top;\n",
              "    }\n",
              "\n",
              "    .dataframe thead th {\n",
              "        text-align: right;\n",
              "    }\n",
              "</style>\n",
              "<table border=\"1\" class=\"dataframe\">\n",
              "  <thead>\n",
              "    <tr style=\"text-align: right;\">\n",
              "      <th></th>\n",
              "      <th>Date</th>\n",
              "      <th>Country</th>\n",
              "      <th>Local</th>\n",
              "      <th>Industry Sector</th>\n",
              "      <th>Accident Level</th>\n",
              "      <th>Potential Accident Level</th>\n",
              "      <th>Gender</th>\n",
              "      <th>Natureofemployee</th>\n",
              "      <th>Critical Risk</th>\n",
              "      <th>Description</th>\n",
              "      <th>Year</th>\n",
              "      <th>Month</th>\n",
              "      <th>Weekday</th>\n",
              "      <th>Season</th>\n",
              "      <th>processed_text</th>\n",
              "    </tr>\n",
              "  </thead>\n",
              "  <tbody>\n",
              "    <tr>\n",
              "      <th>0</th>\n",
              "      <td>2016-01-01</td>\n",
              "      <td>Country_01</td>\n",
              "      <td>1</td>\n",
              "      <td>Mining</td>\n",
              "      <td>I</td>\n",
              "      <td>IV</td>\n",
              "      <td>Male</td>\n",
              "      <td>Third Party</td>\n",
              "      <td>Pressed</td>\n",
              "      <td>While removing the drill rod of the Jumbo 08 f...</td>\n",
              "      <td>2016</td>\n",
              "      <td>1</td>\n",
              "      <td>Friday</td>\n",
              "      <td>Summer</td>\n",
              "      <td>[while, removing, drill, rod, jumbo, maintenan...</td>\n",
              "    </tr>\n",
              "    <tr>\n",
              "      <th>1</th>\n",
              "      <td>2016-01-02</td>\n",
              "      <td>Country_02</td>\n",
              "      <td>2</td>\n",
              "      <td>Mining</td>\n",
              "      <td>I</td>\n",
              "      <td>IV</td>\n",
              "      <td>Male</td>\n",
              "      <td>Employee</td>\n",
              "      <td>Pressurized Systems</td>\n",
              "      <td>During the activation of a sodium sulphide pum...</td>\n",
              "      <td>2016</td>\n",
              "      <td>1</td>\n",
              "      <td>Saturday</td>\n",
              "      <td>Summer</td>\n",
              "      <td>[during, activation, sodium, sulphide, pump, p...</td>\n",
              "    </tr>\n",
              "    <tr>\n",
              "      <th>2</th>\n",
              "      <td>2016-01-06</td>\n",
              "      <td>Country_01</td>\n",
              "      <td>3</td>\n",
              "      <td>Mining</td>\n",
              "      <td>I</td>\n",
              "      <td>III</td>\n",
              "      <td>Male</td>\n",
              "      <td>Third Party (Remote)</td>\n",
              "      <td>Manual Tools</td>\n",
              "      <td>In the sub-station MILPO located at level +170...</td>\n",
              "      <td>2016</td>\n",
              "      <td>1</td>\n",
              "      <td>Wednesday</td>\n",
              "      <td>Summer</td>\n",
              "      <td>[substation, milpo, located, level, collaborat...</td>\n",
              "    </tr>\n",
              "    <tr>\n",
              "      <th>3</th>\n",
              "      <td>2016-01-08</td>\n",
              "      <td>Country_01</td>\n",
              "      <td>4</td>\n",
              "      <td>Mining</td>\n",
              "      <td>I</td>\n",
              "      <td>I</td>\n",
              "      <td>Male</td>\n",
              "      <td>Third Party</td>\n",
              "      <td>Others</td>\n",
              "      <td>Being 9:45 am. approximately in the Nv. 1880 C...</td>\n",
              "      <td>2016</td>\n",
              "      <td>1</td>\n",
              "      <td>Friday</td>\n",
              "      <td>Summer</td>\n",
              "      <td>[being, approximately, personnel, begin, task,...</td>\n",
              "    </tr>\n",
              "    <tr>\n",
              "      <th>4</th>\n",
              "      <td>2016-01-10</td>\n",
              "      <td>Country_01</td>\n",
              "      <td>4</td>\n",
              "      <td>Mining</td>\n",
              "      <td>IV</td>\n",
              "      <td>IV</td>\n",
              "      <td>Male</td>\n",
              "      <td>Third Party</td>\n",
              "      <td>Others</td>\n",
              "      <td>Approximately at 11:45 a.m. in circumstances t...</td>\n",
              "      <td>2016</td>\n",
              "      <td>1</td>\n",
              "      <td>Sunday</td>\n",
              "      <td>Summer</td>\n",
              "      <td>[approximately, am, circumstance, mechanic, an...</td>\n",
              "    </tr>\n",
              "  </tbody>\n",
              "</table>\n",
              "</div>\n",
              "      <button class=\"colab-df-convert\" onclick=\"convertToInteractive('df-f925333f-a53e-43be-983f-f8bcbe1500f2')\"\n",
              "              title=\"Convert this dataframe to an interactive table.\"\n",
              "              style=\"display:none;\">\n",
              "        \n",
              "  <svg xmlns=\"http://www.w3.org/2000/svg\" height=\"24px\"viewBox=\"0 0 24 24\"\n",
              "       width=\"24px\">\n",
              "    <path d=\"M0 0h24v24H0V0z\" fill=\"none\"/>\n",
              "    <path d=\"M18.56 5.44l.94 2.06.94-2.06 2.06-.94-2.06-.94-.94-2.06-.94 2.06-2.06.94zm-11 1L8.5 8.5l.94-2.06 2.06-.94-2.06-.94L8.5 2.5l-.94 2.06-2.06.94zm10 10l.94 2.06.94-2.06 2.06-.94-2.06-.94-.94-2.06-.94 2.06-2.06.94z\"/><path d=\"M17.41 7.96l-1.37-1.37c-.4-.4-.92-.59-1.43-.59-.52 0-1.04.2-1.43.59L10.3 9.45l-7.72 7.72c-.78.78-.78 2.05 0 2.83L4 21.41c.39.39.9.59 1.41.59.51 0 1.02-.2 1.41-.59l7.78-7.78 2.81-2.81c.8-.78.8-2.07 0-2.86zM5.41 20L4 18.59l7.72-7.72 1.47 1.35L5.41 20z\"/>\n",
              "  </svg>\n",
              "      </button>\n",
              "      \n",
              "  <style>\n",
              "    .colab-df-container {\n",
              "      display:flex;\n",
              "      flex-wrap:wrap;\n",
              "      gap: 12px;\n",
              "    }\n",
              "\n",
              "    .colab-df-convert {\n",
              "      background-color: #E8F0FE;\n",
              "      border: none;\n",
              "      border-radius: 50%;\n",
              "      cursor: pointer;\n",
              "      display: none;\n",
              "      fill: #1967D2;\n",
              "      height: 32px;\n",
              "      padding: 0 0 0 0;\n",
              "      width: 32px;\n",
              "    }\n",
              "\n",
              "    .colab-df-convert:hover {\n",
              "      background-color: #E2EBFA;\n",
              "      box-shadow: 0px 1px 2px rgba(60, 64, 67, 0.3), 0px 1px 3px 1px rgba(60, 64, 67, 0.15);\n",
              "      fill: #174EA6;\n",
              "    }\n",
              "\n",
              "    [theme=dark] .colab-df-convert {\n",
              "      background-color: #3B4455;\n",
              "      fill: #D2E3FC;\n",
              "    }\n",
              "\n",
              "    [theme=dark] .colab-df-convert:hover {\n",
              "      background-color: #434B5C;\n",
              "      box-shadow: 0px 1px 3px 1px rgba(0, 0, 0, 0.15);\n",
              "      filter: drop-shadow(0px 1px 2px rgba(0, 0, 0, 0.3));\n",
              "      fill: #FFFFFF;\n",
              "    }\n",
              "  </style>\n",
              "\n",
              "      <script>\n",
              "        const buttonEl =\n",
              "          document.querySelector('#df-f925333f-a53e-43be-983f-f8bcbe1500f2 button.colab-df-convert');\n",
              "        buttonEl.style.display =\n",
              "          google.colab.kernel.accessAllowed ? 'block' : 'none';\n",
              "\n",
              "        async function convertToInteractive(key) {\n",
              "          const element = document.querySelector('#df-f925333f-a53e-43be-983f-f8bcbe1500f2');\n",
              "          const dataTable =\n",
              "            await google.colab.kernel.invokeFunction('convertToInteractive',\n",
              "                                                     [key], {});\n",
              "          if (!dataTable) return;\n",
              "\n",
              "          const docLinkHtml = 'Like what you see? Visit the ' +\n",
              "            '<a target=\"_blank\" href=https://colab.research.google.com/notebooks/data_table.ipynb>data table notebook</a>'\n",
              "            + ' to learn more about interactive tables.';\n",
              "          element.innerHTML = '';\n",
              "          dataTable['output_type'] = 'display_data';\n",
              "          await google.colab.output.renderOutput(dataTable, element);\n",
              "          const docLink = document.createElement('div');\n",
              "          docLink.innerHTML = docLinkHtml;\n",
              "          element.appendChild(docLink);\n",
              "        }\n",
              "      </script>\n",
              "    </div>\n",
              "  </div>\n",
              "  "
            ]
          },
          "metadata": {},
          "execution_count": 16
        }
      ]
    },
    {
      "cell_type": "code",
      "source": [
        "data1['processed_text']"
      ],
      "metadata": {
        "colab": {
          "base_uri": "https://localhost:8080/"
        },
        "id": "1SiwmojBS5I2",
        "outputId": "a6fd8ec5-ff88-47ff-fde9-e52d3f685495"
      },
      "execution_count": null,
      "outputs": [
        {
          "output_type": "execute_result",
          "data": {
            "text/plain": [
              "0      [while, removing, drill, rod, jumbo, maintenan...\n",
              "1      [during, activation, sodium, sulphide, pump, p...\n",
              "2      [substation, milpo, located, level, collaborat...\n",
              "3      [being, approximately, personnel, begin, task,...\n",
              "4      [approximately, am, circumstance, mechanic, an...\n",
              "                             ...                        \n",
              "413    [being, approximately, am, approximately, lift...\n",
              "414    [the, collaborator, moved, infrastructure, off...\n",
              "415    [during, environmental, monitoring, activity, ...\n",
              "416    [the, employee, performed, activity, stripping...\n",
              "417    [am, assistant, cleaned, floor, module, centra...\n",
              "Name: processed_text, Length: 418, dtype: object"
            ]
          },
          "metadata": {},
          "execution_count": 18
        }
      ]
    },
    {
      "cell_type": "code",
      "source": [
        "lgt = []\n",
        "for i in data1['processed_text']:\n",
        "  lgt.append(len(i))\n",
        "print('Maximum length of the sentence in processed text (in list) :',max(lgt))"
      ],
      "metadata": {
        "colab": {
          "base_uri": "https://localhost:8080/"
        },
        "id": "QxlATJLlS8Hr",
        "outputId": "86b49cec-60ea-4c5b-92b9-c6dc1156b038"
      },
      "execution_count": null,
      "outputs": [
        {
          "output_type": "stream",
          "name": "stdout",
          "text": [
            "Maximum length of the sentence in processed text (in list) : 95\n"
          ]
        }
      ]
    },
    {
      "cell_type": "code",
      "source": [
        "desc_processed = []\n",
        "for i in range(len(data1['processed_text'])):\n",
        "   desc_processed.append(' '.join(wrd for wrd in data1.iloc[:,14][i]))"
      ],
      "metadata": {
        "id": "fFImb5dqTAwt"
      },
      "execution_count": null,
      "outputs": []
    },
    {
      "cell_type": "code",
      "source": [
        "data1['description_processed'] = desc_processed"
      ],
      "metadata": {
        "id": "k3g24hSgTMfB"
      },
      "execution_count": null,
      "outputs": []
    },
    {
      "cell_type": "code",
      "source": [
        "data1.head()"
      ],
      "metadata": {
        "colab": {
          "base_uri": "https://localhost:8080/",
          "height": 617
        },
        "id": "wiu0Ogd0WEsH",
        "outputId": "817df625-4c37-495e-aa2e-d303f484b802"
      },
      "execution_count": null,
      "outputs": [
        {
          "output_type": "execute_result",
          "data": {
            "text/plain": [
              "         Date     Country  Local Industry Sector Accident Level  \\\n",
              "0  2016-01-01  Country_01      1          Mining              I   \n",
              "1  2016-01-02  Country_02      2          Mining              I   \n",
              "2  2016-01-06  Country_01      3          Mining              I   \n",
              "3  2016-01-08  Country_01      4          Mining              I   \n",
              "4  2016-01-10  Country_01      4          Mining             IV   \n",
              "\n",
              "  Potential Accident Level Gender      Natureofemployee        Critical Risk  \\\n",
              "0                       IV   Male           Third Party              Pressed   \n",
              "1                       IV   Male              Employee  Pressurized Systems   \n",
              "2                      III   Male  Third Party (Remote)         Manual Tools   \n",
              "3                        I   Male           Third Party               Others   \n",
              "4                       IV   Male           Third Party               Others   \n",
              "\n",
              "                                         Description  Year  Month    Weekday  \\\n",
              "0  While removing the drill rod of the Jumbo 08 f...  2016      1     Friday   \n",
              "1  During the activation of a sodium sulphide pum...  2016      1   Saturday   \n",
              "2  In the sub-station MILPO located at level +170...  2016      1  Wednesday   \n",
              "3  Being 9:45 am. approximately in the Nv. 1880 C...  2016      1     Friday   \n",
              "4  Approximately at 11:45 a.m. in circumstances t...  2016      1     Sunday   \n",
              "\n",
              "   Season                                     processed_text  \\\n",
              "0  Summer  [while, removing, drill, rod, jumbo, maintenan...   \n",
              "1  Summer  [during, activation, sodium, sulphide, pump, p...   \n",
              "2  Summer  [substation, milpo, located, level, collaborat...   \n",
              "3  Summer  [being, approximately, personnel, begin, task,...   \n",
              "4  Summer  [approximately, am, circumstance, mechanic, an...   \n",
              "\n",
              "                               description_processed  \n",
              "0  while removing drill rod jumbo maintenance sup...  \n",
              "1  during activation sodium sulphide pump piping ...  \n",
              "2  substation milpo located level collaborator ex...  \n",
              "3  being approximately personnel begin task unloc...  \n",
              "4  approximately am circumstance mechanic anthony...  "
            ],
            "text/html": [
              "\n",
              "  <div id=\"df-9136c19f-ab72-4250-96b2-464134966799\">\n",
              "    <div class=\"colab-df-container\">\n",
              "      <div>\n",
              "<style scoped>\n",
              "    .dataframe tbody tr th:only-of-type {\n",
              "        vertical-align: middle;\n",
              "    }\n",
              "\n",
              "    .dataframe tbody tr th {\n",
              "        vertical-align: top;\n",
              "    }\n",
              "\n",
              "    .dataframe thead th {\n",
              "        text-align: right;\n",
              "    }\n",
              "</style>\n",
              "<table border=\"1\" class=\"dataframe\">\n",
              "  <thead>\n",
              "    <tr style=\"text-align: right;\">\n",
              "      <th></th>\n",
              "      <th>Date</th>\n",
              "      <th>Country</th>\n",
              "      <th>Local</th>\n",
              "      <th>Industry Sector</th>\n",
              "      <th>Accident Level</th>\n",
              "      <th>Potential Accident Level</th>\n",
              "      <th>Gender</th>\n",
              "      <th>Natureofemployee</th>\n",
              "      <th>Critical Risk</th>\n",
              "      <th>Description</th>\n",
              "      <th>Year</th>\n",
              "      <th>Month</th>\n",
              "      <th>Weekday</th>\n",
              "      <th>Season</th>\n",
              "      <th>processed_text</th>\n",
              "      <th>description_processed</th>\n",
              "    </tr>\n",
              "  </thead>\n",
              "  <tbody>\n",
              "    <tr>\n",
              "      <th>0</th>\n",
              "      <td>2016-01-01</td>\n",
              "      <td>Country_01</td>\n",
              "      <td>1</td>\n",
              "      <td>Mining</td>\n",
              "      <td>I</td>\n",
              "      <td>IV</td>\n",
              "      <td>Male</td>\n",
              "      <td>Third Party</td>\n",
              "      <td>Pressed</td>\n",
              "      <td>While removing the drill rod of the Jumbo 08 f...</td>\n",
              "      <td>2016</td>\n",
              "      <td>1</td>\n",
              "      <td>Friday</td>\n",
              "      <td>Summer</td>\n",
              "      <td>[while, removing, drill, rod, jumbo, maintenan...</td>\n",
              "      <td>while removing drill rod jumbo maintenance sup...</td>\n",
              "    </tr>\n",
              "    <tr>\n",
              "      <th>1</th>\n",
              "      <td>2016-01-02</td>\n",
              "      <td>Country_02</td>\n",
              "      <td>2</td>\n",
              "      <td>Mining</td>\n",
              "      <td>I</td>\n",
              "      <td>IV</td>\n",
              "      <td>Male</td>\n",
              "      <td>Employee</td>\n",
              "      <td>Pressurized Systems</td>\n",
              "      <td>During the activation of a sodium sulphide pum...</td>\n",
              "      <td>2016</td>\n",
              "      <td>1</td>\n",
              "      <td>Saturday</td>\n",
              "      <td>Summer</td>\n",
              "      <td>[during, activation, sodium, sulphide, pump, p...</td>\n",
              "      <td>during activation sodium sulphide pump piping ...</td>\n",
              "    </tr>\n",
              "    <tr>\n",
              "      <th>2</th>\n",
              "      <td>2016-01-06</td>\n",
              "      <td>Country_01</td>\n",
              "      <td>3</td>\n",
              "      <td>Mining</td>\n",
              "      <td>I</td>\n",
              "      <td>III</td>\n",
              "      <td>Male</td>\n",
              "      <td>Third Party (Remote)</td>\n",
              "      <td>Manual Tools</td>\n",
              "      <td>In the sub-station MILPO located at level +170...</td>\n",
              "      <td>2016</td>\n",
              "      <td>1</td>\n",
              "      <td>Wednesday</td>\n",
              "      <td>Summer</td>\n",
              "      <td>[substation, milpo, located, level, collaborat...</td>\n",
              "      <td>substation milpo located level collaborator ex...</td>\n",
              "    </tr>\n",
              "    <tr>\n",
              "      <th>3</th>\n",
              "      <td>2016-01-08</td>\n",
              "      <td>Country_01</td>\n",
              "      <td>4</td>\n",
              "      <td>Mining</td>\n",
              "      <td>I</td>\n",
              "      <td>I</td>\n",
              "      <td>Male</td>\n",
              "      <td>Third Party</td>\n",
              "      <td>Others</td>\n",
              "      <td>Being 9:45 am. approximately in the Nv. 1880 C...</td>\n",
              "      <td>2016</td>\n",
              "      <td>1</td>\n",
              "      <td>Friday</td>\n",
              "      <td>Summer</td>\n",
              "      <td>[being, approximately, personnel, begin, task,...</td>\n",
              "      <td>being approximately personnel begin task unloc...</td>\n",
              "    </tr>\n",
              "    <tr>\n",
              "      <th>4</th>\n",
              "      <td>2016-01-10</td>\n",
              "      <td>Country_01</td>\n",
              "      <td>4</td>\n",
              "      <td>Mining</td>\n",
              "      <td>IV</td>\n",
              "      <td>IV</td>\n",
              "      <td>Male</td>\n",
              "      <td>Third Party</td>\n",
              "      <td>Others</td>\n",
              "      <td>Approximately at 11:45 a.m. in circumstances t...</td>\n",
              "      <td>2016</td>\n",
              "      <td>1</td>\n",
              "      <td>Sunday</td>\n",
              "      <td>Summer</td>\n",
              "      <td>[approximately, am, circumstance, mechanic, an...</td>\n",
              "      <td>approximately am circumstance mechanic anthony...</td>\n",
              "    </tr>\n",
              "  </tbody>\n",
              "</table>\n",
              "</div>\n",
              "      <button class=\"colab-df-convert\" onclick=\"convertToInteractive('df-9136c19f-ab72-4250-96b2-464134966799')\"\n",
              "              title=\"Convert this dataframe to an interactive table.\"\n",
              "              style=\"display:none;\">\n",
              "        \n",
              "  <svg xmlns=\"http://www.w3.org/2000/svg\" height=\"24px\"viewBox=\"0 0 24 24\"\n",
              "       width=\"24px\">\n",
              "    <path d=\"M0 0h24v24H0V0z\" fill=\"none\"/>\n",
              "    <path d=\"M18.56 5.44l.94 2.06.94-2.06 2.06-.94-2.06-.94-.94-2.06-.94 2.06-2.06.94zm-11 1L8.5 8.5l.94-2.06 2.06-.94-2.06-.94L8.5 2.5l-.94 2.06-2.06.94zm10 10l.94 2.06.94-2.06 2.06-.94-2.06-.94-.94-2.06-.94 2.06-2.06.94z\"/><path d=\"M17.41 7.96l-1.37-1.37c-.4-.4-.92-.59-1.43-.59-.52 0-1.04.2-1.43.59L10.3 9.45l-7.72 7.72c-.78.78-.78 2.05 0 2.83L4 21.41c.39.39.9.59 1.41.59.51 0 1.02-.2 1.41-.59l7.78-7.78 2.81-2.81c.8-.78.8-2.07 0-2.86zM5.41 20L4 18.59l7.72-7.72 1.47 1.35L5.41 20z\"/>\n",
              "  </svg>\n",
              "      </button>\n",
              "      \n",
              "  <style>\n",
              "    .colab-df-container {\n",
              "      display:flex;\n",
              "      flex-wrap:wrap;\n",
              "      gap: 12px;\n",
              "    }\n",
              "\n",
              "    .colab-df-convert {\n",
              "      background-color: #E8F0FE;\n",
              "      border: none;\n",
              "      border-radius: 50%;\n",
              "      cursor: pointer;\n",
              "      display: none;\n",
              "      fill: #1967D2;\n",
              "      height: 32px;\n",
              "      padding: 0 0 0 0;\n",
              "      width: 32px;\n",
              "    }\n",
              "\n",
              "    .colab-df-convert:hover {\n",
              "      background-color: #E2EBFA;\n",
              "      box-shadow: 0px 1px 2px rgba(60, 64, 67, 0.3), 0px 1px 3px 1px rgba(60, 64, 67, 0.15);\n",
              "      fill: #174EA6;\n",
              "    }\n",
              "\n",
              "    [theme=dark] .colab-df-convert {\n",
              "      background-color: #3B4455;\n",
              "      fill: #D2E3FC;\n",
              "    }\n",
              "\n",
              "    [theme=dark] .colab-df-convert:hover {\n",
              "      background-color: #434B5C;\n",
              "      box-shadow: 0px 1px 3px 1px rgba(0, 0, 0, 0.15);\n",
              "      filter: drop-shadow(0px 1px 2px rgba(0, 0, 0, 0.3));\n",
              "      fill: #FFFFFF;\n",
              "    }\n",
              "  </style>\n",
              "\n",
              "      <script>\n",
              "        const buttonEl =\n",
              "          document.querySelector('#df-9136c19f-ab72-4250-96b2-464134966799 button.colab-df-convert');\n",
              "        buttonEl.style.display =\n",
              "          google.colab.kernel.accessAllowed ? 'block' : 'none';\n",
              "\n",
              "        async function convertToInteractive(key) {\n",
              "          const element = document.querySelector('#df-9136c19f-ab72-4250-96b2-464134966799');\n",
              "          const dataTable =\n",
              "            await google.colab.kernel.invokeFunction('convertToInteractive',\n",
              "                                                     [key], {});\n",
              "          if (!dataTable) return;\n",
              "\n",
              "          const docLinkHtml = 'Like what you see? Visit the ' +\n",
              "            '<a target=\"_blank\" href=https://colab.research.google.com/notebooks/data_table.ipynb>data table notebook</a>'\n",
              "            + ' to learn more about interactive tables.';\n",
              "          element.innerHTML = '';\n",
              "          dataTable['output_type'] = 'display_data';\n",
              "          await google.colab.output.renderOutput(dataTable, element);\n",
              "          const docLink = document.createElement('div');\n",
              "          docLink.innerHTML = docLinkHtml;\n",
              "          element.appendChild(docLink);\n",
              "        }\n",
              "      </script>\n",
              "    </div>\n",
              "  </div>\n",
              "  "
            ]
          },
          "metadata": {},
          "execution_count": 21
        }
      ]
    },
    {
      "cell_type": "code",
      "source": [
        "#Number of characters present in each sentence\n",
        "data1['Description'].str.len().hist();"
      ],
      "metadata": {
        "id": "JYDo5PMwWEJK",
        "colab": {
          "base_uri": "https://localhost:8080/",
          "height": 268
        },
        "outputId": "5371cd49-8166-42b3-d854-5b50b91a5d3f"
      },
      "execution_count": null,
      "outputs": [
        {
          "output_type": "display_data",
          "data": {
            "text/plain": [
              "<Figure size 432x288 with 1 Axes>"
            ],
            "image/png": "[encoded data removed]"
          },
          "metadata": {
            "needs_background": "light"
          }
        }
      ]
    },
    {
      "cell_type": "code",
      "source": [
        "data1['description_processed'].str.len().hist();"
      ],
      "metadata": {
        "colab": {
          "base_uri": "https://localhost:8080/",
          "height": 265
        },
        "id": "1tzQy8htmvtY",
        "outputId": "51505fb0-af2b-4a94-c992-74bb7cf1bd49"
      },
      "execution_count": null,
      "outputs": [
        {
          "output_type": "display_data",
          "data": {
            "text/plain": [
              "<Figure size 432x288 with 1 Axes>"
            ],
            "image/png": "[encoded data removed]"
          },
          "metadata": {
            "needs_background": "light"
          }
        }
      ]
    },
    {
      "cell_type": "code",
      "source": [
        "#Number of words appearing in each description\n",
        "data1['Description'].str.split().map(lambda x: len(x)).hist();"
      ],
      "metadata": {
        "colab": {
          "base_uri": "https://localhost:8080/",
          "height": 265
        },
        "id": "CN1XGlVSm5QY",
        "outputId": "195eccb9-3c55-4457-b206-520d079418cb"
      },
      "execution_count": null,
      "outputs": [
        {
          "output_type": "display_data",
          "data": {
            "text/plain": [
              "<Figure size 432x288 with 1 Axes>"
            ],
            "image/png": "[encoded data removed]"
          },
          "metadata": {
            "needs_background": "light"
          }
        }
      ]
    },
    {
      "cell_type": "code",
      "source": [
        "data1['description_processed'].str.split().map(lambda x: len(x)).hist();"
      ],
      "metadata": {
        "colab": {
          "base_uri": "https://localhost:8080/",
          "height": 265
        },
        "id": "HBuEIpDbnA5h",
        "outputId": "17d9c98e-9c13-44e0-a92e-fb65a4c96c63"
      },
      "execution_count": null,
      "outputs": [
        {
          "output_type": "display_data",
          "data": {
            "text/plain": [
              "<Figure size 432x288 with 1 Axes>"
            ],
            "image/png": "[encoded data removed]"
          },
          "metadata": {
            "needs_background": "light"
          }
        }
      ]
    },
    {
      "cell_type": "code",
      "source": [
        "#Average word length\n",
        "import numpy as np\n",
        "data1['Description'].str.split().apply(lambda x : [len(i) for i in x]). \\\n",
        "   map(lambda x: np.mean(x)).hist();"
      ],
      "metadata": {
        "colab": {
          "base_uri": "https://localhost:8080/",
          "height": 265
        },
        "id": "d-EwzDyMnGMy",
        "outputId": "1d769b62-5525-409c-ab84-38418c9ec66c"
      },
      "execution_count": null,
      "outputs": [
        {
          "output_type": "display_data",
          "data": {
            "text/plain": [
              "<Figure size 432x288 with 1 Axes>"
            ],
            "image/png": "[encoded data removed]"
          },
          "metadata": {
            "needs_background": "light"
          }
        }
      ]
    },
    {
      "cell_type": "code",
      "source": [
        "data1['description_processed'].str.split().apply(lambda x : [len(i) for i in x]). \\\n",
        "   map(lambda x: np.mean(x)).hist();"
      ],
      "metadata": {
        "colab": {
          "base_uri": "https://localhost:8080/",
          "height": 265
        },
        "id": "mj_4rmMOnQ_N",
        "outputId": "0fa9b661-7fad-4ebd-923e-8772cd404e6d"
      },
      "execution_count": null,
      "outputs": [
        {
          "output_type": "display_data",
          "data": {
            "text/plain": [
              "<Figure size 432x288 with 1 Axes>"
            ],
            "image/png": "[encoded data removed]"
          },
          "metadata": {
            "needs_background": "light"
          }
        }
      ]
    },
    {
      "cell_type": "code",
      "source": [
        "#N-gram analysis\n",
        "from sklearn.feature_extraction.text import CountVectorizer\n",
        "import seaborn as sns\n",
        "\n",
        "def plot_top_ngrams_barchart(text, n=2):\n",
        "    stop=set(stopwords.words('english'))\n",
        "\n",
        "    new= text.str.split()\n",
        "    new=new.values.tolist()\n",
        "    corpus=[word for i in new for word in i]\n",
        "\n",
        "    def get_top_ngram(corpus, n=None):\n",
        "        vec = CountVectorizer(ngram_range=(n, n)).fit(corpus)\n",
        "        bag_of_words = vec.transform(corpus)\n",
        "        sum_words = bag_of_words.sum(axis=0) \n",
        "        words_freq = [(word, sum_words[0, idx]) \n",
        "                      for word, idx in vec.vocabulary_.items()]\n",
        "        words_freq =sorted(words_freq, key = lambda x: x[1], reverse=True)\n",
        "        return words_freq[:10]\n",
        "\n",
        "    top_n_bigrams= get_top_ngram(text,n)[:10]\n",
        "    x,y=map(list,zip(*top_n_bigrams))\n",
        "    sns.barplot(x=y,y=x)"
      ],
      "metadata": {
        "id": "9ouvw9YQnM_N"
      },
      "execution_count": null,
      "outputs": []
    },
    {
      "cell_type": "code",
      "source": [
        "#Bigram analysis\n",
        "plot_top_ngrams_barchart(data1['description_processed'],2)"
      ],
      "metadata": {
        "colab": {
          "base_uri": "https://localhost:8080/",
          "height": 265
        },
        "id": "bEw2AOHinnYW",
        "outputId": "190d391e-3f6b-4615-8724-6b6911fa5165"
      },
      "execution_count": null,
      "outputs": [
        {
          "output_type": "display_data",
          "data": {
            "text/plain": [
              "<Figure size 432x288 with 1 Axes>"
            ],
            "image/png": "[encoded data removed]"
          },
          "metadata": {
            "needs_background": "light"
          }
        }
      ]
    },
    {
      "cell_type": "code",
      "source": [
        "#Trigram analysis\n",
        "plot_top_ngrams_barchart(data1['description_processed'],3)"
      ],
      "metadata": {
        "colab": {
          "base_uri": "https://localhost:8080/",
          "height": 265
        },
        "id": "aTfH0eY_nuPb",
        "outputId": "0f102141-ce99-417b-8807-4d0198fdf8a2"
      },
      "execution_count": null,
      "outputs": [
        {
          "output_type": "display_data",
          "data": {
            "text/plain": [
              "<Figure size 432x288 with 1 Axes>"
            ],
            "image/png": "[encoded data removed]"
          },
          "metadata": {
            "needs_background": "light"
          }
        }
      ]
    },
    {
      "cell_type": "code",
      "source": [
        "#For n=4\n",
        "plot_top_ngrams_barchart(data1['description_processed'],4)"
      ],
      "metadata": {
        "colab": {
          "base_uri": "https://localhost:8080/",
          "height": 265
        },
        "id": "XyapACjyn2cM",
        "outputId": "af166078-d30a-410a-993a-63dac927dcb1"
      },
      "execution_count": null,
      "outputs": [
        {
          "output_type": "display_data",
          "data": {
            "text/plain": [
              "<Figure size 432x288 with 1 Axes>"
            ],
            "image/png": "[encoded data removed]"
          },
          "metadata": {
            "needs_background": "light"
          }
        }
      ]
    },
    {
      "cell_type": "code",
      "source": [
        "#Wordcloud\n",
        "import matplotlib.pyplot as plt\n",
        "%matplotlib inline\n",
        "wordcloud = WordCloud(\n",
        "        background_color='white',\n",
        "        stopwords=set(STOPWORDS),\n",
        "        max_words=100,\n",
        "        max_font_size=30, \n",
        "        scale=3,\n",
        "        random_state=1)\n",
        "desc = data1['description_processed']\n",
        "wordcloud=wordcloud.generate(str(desc))\n",
        "\n",
        "fig = plt.figure(1, figsize=(12, 12)) \n",
        "plt.axis('off')\n",
        " \n",
        "plt.imshow(wordcloud)\n",
        "plt.show()\n"
      ],
      "metadata": {
        "colab": {
          "base_uri": "https://localhost:8080/",
          "height": 366
        },
        "id": "HL9vPI1Hn_L8",
        "outputId": "966e205e-9eb3-4724-835a-71d9f31fcf49"
      },
      "execution_count": null,
      "outputs": [
        {
          "output_type": "display_data",
          "data": {
            "text/plain": [
              "<Figure size 864x864 with 1 Axes>"
            ],
            "image/png": "[encoded data removed]"
          },
          "metadata": {
            "needs_background": "light"
          }
        }
      ]
    },
    {
      "cell_type": "code",
      "source": [
        "#Model building \n",
        "#Bag of words\n",
        "#Target variable- accident level\n"
      ],
      "metadata": {
        "id": "42X9K4zYTRIO"
      },
      "execution_count": null,
      "outputs": []
    },
    {
      "cell_type": "code",
      "source": [
        "#Count vectorization\n",
        "from sklearn.model_selection import train_test_split\n",
        "from sklearn.feature_extraction.text import CountVectorizer\n",
        "\n",
        "X = data1['description_processed']\n",
        "y = data1['Accident Level']\n",
        "\n",
        "count_vec = CountVectorizer(analyzer='word', ngram_range=(1, 2))\n",
        "Xc = count_vec.fit_transform(X).toarray()\n",
        "Xc_train, Xc_test, yc_train, yc_test = train_test_split(Xc, y, test_size=0.15, random_state=42)"
      ],
      "metadata": {
        "id": "f6Xiiu2RVOMl"
      },
      "execution_count": null,
      "outputs": []
    },
    {
      "cell_type": "code",
      "source": [
        "Xc_train.shape"
      ],
      "metadata": {
        "colab": {
          "base_uri": "https://localhost:8080/"
        },
        "id": "KxikKi3QVdsj",
        "outputId": "a7728491-5068-4a12-d5a3-8e1b174c0352"
      },
      "execution_count": null,
      "outputs": [
        {
          "output_type": "execute_result",
          "data": {
            "text/plain": [
              "(355, 13242)"
            ]
          },
          "metadata": {},
          "execution_count": 26
        }
      ]
    },
    {
      "cell_type": "code",
      "source": [
        "Xc_test.shape"
      ],
      "metadata": {
        "colab": {
          "base_uri": "https://localhost:8080/"
        },
        "id": "6FWGc1OfW1K9",
        "outputId": "b7c19ca9-f6fe-45c2-f172-b9541320c479"
      },
      "execution_count": null,
      "outputs": [
        {
          "output_type": "execute_result",
          "data": {
            "text/plain": [
              "(63, 13242)"
            ]
          },
          "metadata": {},
          "execution_count": 27
        }
      ]
    },
    {
      "cell_type": "code",
      "source": [
        "#SVC\n",
        "from sklearn.metrics import accuracy_score\n",
        "from sklearn.metrics import confusion_matrix, classification_report\n",
        "from sklearn.svm import LinearSVC\n",
        "\n",
        "svc = LinearSVC( max_iter=2500)\n",
        "svc.fit(Xc_train, yc_train)\n",
        "yc_pred_SVC = svc.predict(Xc_test)"
      ],
      "metadata": {
        "id": "nLfh12yrW5NM"
      },
      "execution_count": null,
      "outputs": []
    },
    {
      "cell_type": "code",
      "source": [
        "acc_svc = accuracy_score(yc_test, yc_pred_SVC)\n",
        "acc_svc_tr = svc.score(Xc_train, yc_train)\n",
        "print(\"Train accuracy of the SVC model : {:.2f}\".format(acc_svc_tr*100))\n",
        "print(\"Test accuracy of the SVC model : {:.2f}\".format(acc_svc*100))\n"
      ],
      "metadata": {
        "colab": {
          "base_uri": "https://localhost:8080/"
        },
        "id": "ToVmEsGUXBpV",
        "outputId": "4af3b353-c936-4ea2-83ec-925ad61d30e3"
      },
      "execution_count": null,
      "outputs": [
        {
          "output_type": "stream",
          "name": "stdout",
          "text": [
            "Train accuracy of the SVC model : 99.44\n",
            "Test accuracy of the SVC model : 76.19\n"
          ]
        }
      ]
    },
    {
      "cell_type": "code",
      "source": [
        "print('Classification report:',classification_report(yc_test, yc_pred_SVC))"
      ],
      "metadata": {
        "colab": {
          "base_uri": "https://localhost:8080/"
        },
        "id": "FrMiCe5sXR0f",
        "outputId": "d9fb3b65-e20e-4b28-bf15-d53f55441e98"
      },
      "execution_count": null,
      "outputs": [
        {
          "output_type": "stream",
          "name": "stdout",
          "text": [
            "Classification report:               precision    recall  f1-score   support\n",
            "\n",
            "           I       0.80      0.98      0.88        48\n",
            "          II       0.00      0.00      0.00         5\n",
            "         III       0.50      0.25      0.33         4\n",
            "          IV       0.00      0.00      0.00         5\n",
            "           V       0.00      0.00      0.00         1\n",
            "\n",
            "    accuracy                           0.76        63\n",
            "   macro avg       0.26      0.25      0.24        63\n",
            "weighted avg       0.64      0.76      0.69        63\n",
            "\n"
          ]
        },
        {
          "output_type": "stream",
          "name": "stderr",
          "text": [
            "/usr/local/lib/python3.7/dist-packages/sklearn/metrics/_classification.py:1318: UndefinedMetricWarning: Precision and F-score are ill-defined and being set to 0.0 in labels with no predicted samples. Use `zero_division` parameter to control this behavior.\n",
            "  _warn_prf(average, modifier, msg_start, len(result))\n",
            "/usr/local/lib/python3.7/dist-packages/sklearn/metrics/_classification.py:1318: UndefinedMetricWarning: Precision and F-score are ill-defined and being set to 0.0 in labels with no predicted samples. Use `zero_division` parameter to control this behavior.\n",
            "  _warn_prf(average, modifier, msg_start, len(result))\n",
            "/usr/local/lib/python3.7/dist-packages/sklearn/metrics/_classification.py:1318: UndefinedMetricWarning: Precision and F-score are ill-defined and being set to 0.0 in labels with no predicted samples. Use `zero_division` parameter to control this behavior.\n",
            "  _warn_prf(average, modifier, msg_start, len(result))\n"
          ]
        }
      ]
    },
    {
      "cell_type": "code",
      "source": [
        "print('Confusion matrix:', confusion_matrix(yc_test,yc_pred_SVC))"
      ],
      "metadata": {
        "colab": {
          "base_uri": "https://localhost:8080/"
        },
        "id": "DN0SJSJmXdI6",
        "outputId": "d5e04f57-1405-4b3c-c8bc-2a176a39ab3c"
      },
      "execution_count": null,
      "outputs": [
        {
          "output_type": "stream",
          "name": "stdout",
          "text": [
            "Confusion matrix: [[47  1  0  0  0]\n",
            " [ 5  0  0  0  0]\n",
            " [ 3  0  1  0  0]\n",
            " [ 3  1  1  0  0]\n",
            " [ 1  0  0  0  0]]\n"
          ]
        }
      ]
    },
    {
      "cell_type": "code",
      "source": [
        "#Random forest\n",
        "from sklearn.ensemble import RandomForestClassifier\n",
        "\n",
        "rfc = RandomForestClassifier(random_state=42)\n",
        "rfc.fit(Xc_train, yc_train)\n",
        "yc_pred_rfc = rfc.predict(Xc_test)\n",
        "\n",
        "acc_rfc = accuracy_score(yc_test, yc_pred_rfc)\n",
        "acc_rfc_tr = rfc.score(Xc_train,yc_train)\n",
        "\n",
        "print(\"Train Accuracy of the Random Forest model : {:.2f}\".format(acc_rfc_tr*100))\n",
        "print(\"Test Accuracy of the Random Forest model : {:.2f}\".format(acc_rfc*100))\n",
        "print('Classification report:',classification_report(yc_test, yc_pred_rfc))\n",
        "print('Confusion matrix:', confusion_matrix(yc_test,yc_pred_rfc))"
      ],
      "metadata": {
        "colab": {
          "base_uri": "https://localhost:8080/"
        },
        "id": "i0v8MVTcXi8x",
        "outputId": "41019b9e-dbb4-4795-9888-4695d0a8bf58"
      },
      "execution_count": null,
      "outputs": [
        {
          "output_type": "stream",
          "name": "stdout",
          "text": [
            "Train Accuracy of the Random Forest model : 99.44\n",
            "Test Accuracy of the Random Forest model : 76.19\n",
            "Classification report:               precision    recall  f1-score   support\n",
            "\n",
            "           I       0.76      1.00      0.86        48\n",
            "          II       0.00      0.00      0.00         5\n",
            "         III       0.00      0.00      0.00         4\n",
            "          IV       0.00      0.00      0.00         5\n",
            "           V       0.00      0.00      0.00         1\n",
            "\n",
            "    accuracy                           0.76        63\n",
            "   macro avg       0.15      0.20      0.17        63\n",
            "weighted avg       0.58      0.76      0.66        63\n",
            "\n",
            "Confusion matrix: [[48  0  0  0  0]\n",
            " [ 5  0  0  0  0]\n",
            " [ 4  0  0  0  0]\n",
            " [ 5  0  0  0  0]\n",
            " [ 1  0  0  0  0]]\n"
          ]
        },
        {
          "output_type": "stream",
          "name": "stderr",
          "text": [
            "/usr/local/lib/python3.7/dist-packages/sklearn/metrics/_classification.py:1318: UndefinedMetricWarning: Precision and F-score are ill-defined and being set to 0.0 in labels with no predicted samples. Use `zero_division` parameter to control this behavior.\n",
            "  _warn_prf(average, modifier, msg_start, len(result))\n",
            "/usr/local/lib/python3.7/dist-packages/sklearn/metrics/_classification.py:1318: UndefinedMetricWarning: Precision and F-score are ill-defined and being set to 0.0 in labels with no predicted samples. Use `zero_division` parameter to control this behavior.\n",
            "  _warn_prf(average, modifier, msg_start, len(result))\n",
            "/usr/local/lib/python3.7/dist-packages/sklearn/metrics/_classification.py:1318: UndefinedMetricWarning: Precision and F-score are ill-defined and being set to 0.0 in labels with no predicted samples. Use `zero_division` parameter to control this behavior.\n",
            "  _warn_prf(average, modifier, msg_start, len(result))\n"
          ]
        }
      ]
    },
    {
      "cell_type": "code",
      "source": [
        "#Gradient boosting\n",
        "from sklearn.ensemble import GradientBoostingClassifier\n",
        "\n",
        "gbc = GradientBoostingClassifier(n_estimators=100)\n",
        "gbc.fit(Xc_train, yc_train)\n",
        "yc_pred_gb = gbc.predict(Xc_test)\n",
        "acc_gbc = accuracy_score(yc_test, yc_pred_gb)\n",
        "acc_gbc_tr = gbc.score(Xc_train,yc_train)\n",
        "\n",
        "print(\" Test accuracy of the Gradient boosting model : {:.2f}\".format(acc_gbc*100))\n",
        "print(\"Train accuracy of the Gradient boosting model : {:.2f}\".format(acc_gbc_tr*100))\n",
        "print('Classification report:',classification_report(yc_test,yc_pred_gb ))"
      ],
      "metadata": {
        "colab": {
          "base_uri": "https://localhost:8080/"
        },
        "id": "H1fMs96pX2VX",
        "outputId": "536d2675-b459-4e5e-dd93-4b46c625e7de"
      },
      "execution_count": null,
      "outputs": [
        {
          "output_type": "stream",
          "name": "stdout",
          "text": [
            " Test accuracy of the Gradient boosting model : 71.43\n",
            "Train accuracy of the Gradient boosting model : 99.44\n",
            "Classification report:               precision    recall  f1-score   support\n",
            "\n",
            "           I       0.79      0.94      0.86        48\n",
            "          II       0.00      0.00      0.00         5\n",
            "         III       0.00      0.00      0.00         4\n",
            "          IV       0.00      0.00      0.00         5\n",
            "           V       0.00      0.00      0.00         1\n",
            "\n",
            "    accuracy                           0.71        63\n",
            "   macro avg       0.16      0.19      0.17        63\n",
            "weighted avg       0.60      0.71      0.65        63\n",
            "\n"
          ]
        }
      ]
    },
    {
      "cell_type": "code",
      "source": [
        "print('Confusion matrix:', confusion_matrix(yc_test,yc_pred_gb))"
      ],
      "metadata": {
        "colab": {
          "base_uri": "https://localhost:8080/"
        },
        "id": "xj0kKXo_Yd8a",
        "outputId": "7c0ba963-e6cc-4fe6-8896-1f27a33f7ea7"
      },
      "execution_count": null,
      "outputs": [
        {
          "output_type": "stream",
          "name": "stdout",
          "text": [
            "Confusion matrix: [[45  1  0  1  1]\n",
            " [ 5  0  0  0  0]\n",
            " [ 3  0  0  1  0]\n",
            " [ 3  0  2  0  0]\n",
            " [ 1  0  0  0  0]]\n"
          ]
        }
      ]
    },
    {
      "cell_type": "code",
      "source": [
        "#XGBOOST\n",
        "from xgboost import XGBClassifier\n",
        "\n",
        "xgbc = XGBClassifier()\n",
        "xgbc.fit(Xc_train, yc_train)\n",
        "yc_pred_xg = xgbc.predict(Xc_test)\n",
        "acc_xgbc = accuracy_score(yc_test, yc_pred_xg)\n",
        "acc_xgbc_tr = xgbc.score(Xc_train,yc_train)\n",
        "\n",
        "print(\" Test accuracy of the XGBoost model : {:.2f}\".format(acc_xgbc*100))\n",
        "print(\"Train accuracy of the XGBoost model : {:.2f}\".format(acc_xgbc_tr*100))\n",
        "print('Classification report:',classification_report(yc_test,yc_pred_xg))\n",
        "print('Confusion matrix:', confusion_matrix(yc_test,yc_pred_xg))\n"
      ],
      "metadata": {
        "colab": {
          "base_uri": "https://localhost:8080/"
        },
        "id": "7tyMyBXtYjfT",
        "outputId": "593b5247-e623-49e6-f23a-dd73ea1bbebd"
      },
      "execution_count": null,
      "outputs": [
        {
          "output_type": "stream",
          "name": "stdout",
          "text": [
            " Test accuracy of the XGBoost model : 73.02\n",
            "Train accuracy of the XGBoost model : 93.80\n",
            "Classification report:               precision    recall  f1-score   support\n",
            "\n",
            "           I       0.75      0.96      0.84        48\n",
            "          II       0.00      0.00      0.00         5\n",
            "         III       0.00      0.00      0.00         4\n",
            "          IV       0.00      0.00      0.00         5\n",
            "           V       0.00      0.00      0.00         1\n",
            "\n",
            "    accuracy                           0.73        63\n",
            "   macro avg       0.15      0.19      0.17        63\n",
            "weighted avg       0.57      0.73      0.64        63\n",
            "\n",
            "Confusion matrix: [[46  0  1  0  1]\n",
            " [ 5  0  0  0  0]\n",
            " [ 4  0  0  0  0]\n",
            " [ 5  0  0  0  0]\n",
            " [ 1  0  0  0  0]]\n"
          ]
        },
        {
          "output_type": "stream",
          "name": "stderr",
          "text": [
            "/usr/local/lib/python3.7/dist-packages/sklearn/metrics/_classification.py:1318: UndefinedMetricWarning: Precision and F-score are ill-defined and being set to 0.0 in labels with no predicted samples. Use `zero_division` parameter to control this behavior.\n",
            "  _warn_prf(average, modifier, msg_start, len(result))\n",
            "/usr/local/lib/python3.7/dist-packages/sklearn/metrics/_classification.py:1318: UndefinedMetricWarning: Precision and F-score are ill-defined and being set to 0.0 in labels with no predicted samples. Use `zero_division` parameter to control this behavior.\n",
            "  _warn_prf(average, modifier, msg_start, len(result))\n",
            "/usr/local/lib/python3.7/dist-packages/sklearn/metrics/_classification.py:1318: UndefinedMetricWarning: Precision and F-score are ill-defined and being set to 0.0 in labels with no predicted samples. Use `zero_division` parameter to control this behavior.\n",
            "  _warn_prf(average, modifier, msg_start, len(result))\n"
          ]
        }
      ]
    },
    {
      "cell_type": "code",
      "source": [
        "from sklearn.neighbors import KNeighborsClassifier\n",
        "neigh = KNeighborsClassifier(n_neighbors=3)\n",
        "neigh.fit(Xc_train, yc_train)"
      ],
      "metadata": {
        "colab": {
          "base_uri": "https://localhost:8080/"
        },
        "id": "UqBRezphbvsA",
        "outputId": "a14ddaef-1622-4871-886b-b197f3c8baca"
      },
      "execution_count": null,
      "outputs": [
        {
          "output_type": "execute_result",
          "data": {
            "text/plain": [
              "KNeighborsClassifier(n_neighbors=3)"
            ]
          },
          "metadata": {},
          "execution_count": 36
        }
      ]
    },
    {
      "cell_type": "code",
      "source": [
        "yc_pred_k = neigh.predict(Xc_test)\n",
        "acc_neigh = accuracy_score(yc_test, yc_pred_k)\n",
        "acc_neigh_tr = neigh.score(Xc_train,yc_train)\n"
      ],
      "metadata": {
        "id": "_NYBYeG-b49t"
      },
      "execution_count": null,
      "outputs": []
    },
    {
      "cell_type": "code",
      "source": [
        "print(\" Test accuracy of the KNeighbours model : {:.2f}\".format(acc_neigh*100))\n",
        "print(\"Train accuracy of the Kneighbours model : {:.2f}\".format(acc_neigh_tr*100))\n",
        "print('Classification report:',classification_report(yc_test,yc_pred_k))\n",
        "print('Confusion matrix:', confusion_matrix(yc_test,yc_pred_k))\n"
      ],
      "metadata": {
        "colab": {
          "base_uri": "https://localhost:8080/"
        },
        "id": "0hRJXc1TcT_i",
        "outputId": "3c7cb053-79f3-460c-b55c-3f56f1aa5435"
      },
      "execution_count": null,
      "outputs": [
        {
          "output_type": "stream",
          "name": "stdout",
          "text": [
            " Test accuracy of the KNeighbours model : 76.19\n",
            "Train accuracy of the Kneighbours model : 74.08\n",
            "Classification report:               precision    recall  f1-score   support\n",
            "\n",
            "           I       0.77      1.00      0.87        48\n",
            "          II       0.00      0.00      0.00         5\n",
            "         III       0.00      0.00      0.00         4\n",
            "          IV       0.00      0.00      0.00         5\n",
            "           V       0.00      0.00      0.00         1\n",
            "\n",
            "    accuracy                           0.76        63\n",
            "   macro avg       0.15      0.20      0.17        63\n",
            "weighted avg       0.59      0.76      0.66        63\n",
            "\n",
            "Confusion matrix: [[48  0  0  0  0]\n",
            " [ 5  0  0  0  0]\n",
            " [ 4  0  0  0  0]\n",
            " [ 4  1  0  0  0]\n",
            " [ 1  0  0  0  0]]\n"
          ]
        },
        {
          "output_type": "stream",
          "name": "stderr",
          "text": [
            "/usr/local/lib/python3.7/dist-packages/sklearn/metrics/_classification.py:1318: UndefinedMetricWarning: Precision and F-score are ill-defined and being set to 0.0 in labels with no predicted samples. Use `zero_division` parameter to control this behavior.\n",
            "  _warn_prf(average, modifier, msg_start, len(result))\n",
            "/usr/local/lib/python3.7/dist-packages/sklearn/metrics/_classification.py:1318: UndefinedMetricWarning: Precision and F-score are ill-defined and being set to 0.0 in labels with no predicted samples. Use `zero_division` parameter to control this behavior.\n",
            "  _warn_prf(average, modifier, msg_start, len(result))\n",
            "/usr/local/lib/python3.7/dist-packages/sklearn/metrics/_classification.py:1318: UndefinedMetricWarning: Precision and F-score are ill-defined and being set to 0.0 in labels with no predicted samples. Use `zero_division` parameter to control this behavior.\n",
            "  _warn_prf(average, modifier, msg_start, len(result))\n"
          ]
        }
      ]
    },
    {
      "cell_type": "code",
      "source": [
        "#naive bayes\n",
        "from sklearn.naive_bayes import GaussianNB\n",
        "g_model1 = GaussianNB()\n",
        "g_model1.fit(Xc_train, yc_train)\n",
        "g_pred1 = g_model1.predict(Xc_test)\n",
        "\n",
        "#print('Accuracy on Training data:',g_model1.score(Xc_train, yc_train) ) #accuracy of training data\n",
        "#print('Accuracy on Test data:',g_model1.score(Xc_test, yc_test) ) #accuracy data of testing data"
      ],
      "metadata": {
        "id": "HIVdxGDxclGo"
      },
      "execution_count": null,
      "outputs": []
    },
    {
      "cell_type": "code",
      "source": [
        "print('Accuracy on Training data:',g_model1.score(Xc_train, yc_train) ) #accuracy of training data\n",
        "print('Accuracy on Test data:',g_model1.score(Xc_test, yc_test) ) #accuracy data of testing data"
      ],
      "metadata": {
        "colab": {
          "base_uri": "https://localhost:8080/"
        },
        "id": "ZsrQ_r4FfJfX",
        "outputId": "b9fc0ec6-5e06-4bed-a0ab-0790d1028abb"
      },
      "execution_count": null,
      "outputs": [
        {
          "output_type": "stream",
          "name": "stdout",
          "text": [
            "Accuracy on Training data: 0.9943661971830986\n",
            "Accuracy on Test data: 0.746031746031746\n"
          ]
        }
      ]
    },
    {
      "cell_type": "code",
      "source": [
        "print('Classification report:',classification_report(yc_test,g_pred1))\n",
        "print('Confusion matrix:', confusion_matrix(yc_test,g_pred1))"
      ],
      "metadata": {
        "colab": {
          "base_uri": "https://localhost:8080/"
        },
        "id": "rs39NO4mfMGL",
        "outputId": "e8cdbd02-5ae6-479a-d9b2-eef21e0f2e5c"
      },
      "execution_count": null,
      "outputs": [
        {
          "output_type": "stream",
          "name": "stdout",
          "text": [
            "Classification report:               precision    recall  f1-score   support\n",
            "\n",
            "           I       0.76      0.98      0.85        48\n",
            "          II       0.00      0.00      0.00         5\n",
            "         III       0.00      0.00      0.00         4\n",
            "          IV       0.00      0.00      0.00         5\n",
            "           V       0.00      0.00      0.00         1\n",
            "\n",
            "    accuracy                           0.75        63\n",
            "   macro avg       0.15      0.20      0.17        63\n",
            "weighted avg       0.58      0.75      0.65        63\n",
            "\n",
            "Confusion matrix: [[47  0  0  1  0]\n",
            " [ 5  0  0  0  0]\n",
            " [ 4  0  0  0  0]\n",
            " [ 5  0  0  0  0]\n",
            " [ 1  0  0  0  0]]\n"
          ]
        },
        {
          "output_type": "stream",
          "name": "stderr",
          "text": [
            "/usr/local/lib/python3.7/dist-packages/sklearn/metrics/_classification.py:1318: UndefinedMetricWarning: Precision and F-score are ill-defined and being set to 0.0 in labels with no predicted samples. Use `zero_division` parameter to control this behavior.\n",
            "  _warn_prf(average, modifier, msg_start, len(result))\n",
            "/usr/local/lib/python3.7/dist-packages/sklearn/metrics/_classification.py:1318: UndefinedMetricWarning: Precision and F-score are ill-defined and being set to 0.0 in labels with no predicted samples. Use `zero_division` parameter to control this behavior.\n",
            "  _warn_prf(average, modifier, msg_start, len(result))\n",
            "/usr/local/lib/python3.7/dist-packages/sklearn/metrics/_classification.py:1318: UndefinedMetricWarning: Precision and F-score are ill-defined and being set to 0.0 in labels with no predicted samples. Use `zero_division` parameter to control this behavior.\n",
            "  _warn_prf(average, modifier, msg_start, len(result))\n"
          ]
        }
      ]
    },
    {
      "cell_type": "code",
      "source": [
        "from sklearn.ensemble import BaggingClassifier\n",
        "from sklearn.model_selection import GridSearchCV, StratifiedShuffleSplit\n",
        "n_estimators = [10,30,50,70,80,150,160, 170,175,180,185];\n",
        "cv = StratifiedShuffleSplit(n_splits=10, test_size=.30, random_state=15)\n",
        "\n",
        "parameters = {'n_estimators':n_estimators,\n",
        "              \n",
        "        }\n",
        "grid = GridSearchCV(BaggingClassifier(base_estimator= None, ## If None, then the base estimator is a decision tree.\n",
        "                                      bootstrap_features=False),\n",
        "                                 param_grid=parameters,\n",
        "                                 cv=cv,\n",
        "                                 n_jobs = -1)\n",
        "grid.fit(Xc_train, yc_train) "
      ],
      "metadata": {
        "colab": {
          "base_uri": "https://localhost:8080/"
        },
        "id": "J9oDdfelh9Ay",
        "outputId": "cf1cfcd9-b408-4cf6-9579-34069dc8e440"
      },
      "execution_count": null,
      "outputs": [
        {
          "output_type": "execute_result",
          "data": {
            "text/plain": [
              "GridSearchCV(cv=StratifiedShuffleSplit(n_splits=10, random_state=15, test_size=0.3,\n",
              "            train_size=None),\n",
              "             estimator=BaggingClassifier(), n_jobs=-1,\n",
              "             param_grid={'n_estimators': [10, 30, 50, 70, 80, 150, 160, 170,\n",
              "                                          175, 180, 185]})"
            ]
          },
          "metadata": {},
          "execution_count": 42
        }
      ]
    },
    {
      "cell_type": "code",
      "source": [
        "yc_pred_b = grid.predict(Xc_test)\n",
        "acc_b = accuracy_score(yc_test, yc_pred_b)\n",
        "acc_b_tr = grid.score(Xc_train,yc_train)\n",
        "\n",
        "print(\" Test accuracy of the Bagging model : {:.2f}\".format(acc_b*100))\n",
        "print(\"Train accuracy of the Bagging model : {:.2f}\".format(acc_b_tr*100))\n",
        "print('Classification report:',classification_report(yc_test,yc_pred_b))\n",
        "print('Confusion matrix:', confusion_matrix(yc_test,yc_pred_b))"
      ],
      "metadata": {
        "colab": {
          "base_uri": "https://localhost:8080/"
        },
        "id": "LPpdB0h5tY1n",
        "outputId": "01f22753-8ed8-4378-9bdc-0172fbe37a17"
      },
      "execution_count": null,
      "outputs": [
        {
          "output_type": "stream",
          "name": "stdout",
          "text": [
            " Test accuracy of the Bagging model : 76.19\n",
            "Train accuracy of the Bagging model : 99.15\n",
            "Classification report:               precision    recall  f1-score   support\n",
            "\n",
            "           I       0.77      1.00      0.87        48\n",
            "          II       0.00      0.00      0.00         5\n",
            "         III       0.00      0.00      0.00         4\n",
            "          IV       0.00      0.00      0.00         5\n",
            "           V       0.00      0.00      0.00         1\n",
            "\n",
            "    accuracy                           0.76        63\n",
            "   macro avg       0.15      0.20      0.17        63\n",
            "weighted avg       0.59      0.76      0.66        63\n",
            "\n",
            "Confusion matrix: [[48  0  0  0  0]\n",
            " [ 5  0  0  0  0]\n",
            " [ 4  0  0  0  0]\n",
            " [ 4  0  1  0  0]\n",
            " [ 1  0  0  0  0]]\n"
          ]
        },
        {
          "output_type": "stream",
          "name": "stderr",
          "text": [
            "/usr/local/lib/python3.7/dist-packages/sklearn/metrics/_classification.py:1318: UndefinedMetricWarning: Precision and F-score are ill-defined and being set to 0.0 in labels with no predicted samples. Use `zero_division` parameter to control this behavior.\n",
            "  _warn_prf(average, modifier, msg_start, len(result))\n",
            "/usr/local/lib/python3.7/dist-packages/sklearn/metrics/_classification.py:1318: UndefinedMetricWarning: Precision and F-score are ill-defined and being set to 0.0 in labels with no predicted samples. Use `zero_division` parameter to control this behavior.\n",
            "  _warn_prf(average, modifier, msg_start, len(result))\n",
            "/usr/local/lib/python3.7/dist-packages/sklearn/metrics/_classification.py:1318: UndefinedMetricWarning: Precision and F-score are ill-defined and being set to 0.0 in labels with no predicted samples. Use `zero_division` parameter to control this behavior.\n",
            "  _warn_prf(average, modifier, msg_start, len(result))\n"
          ]
        }
      ]
    },
    {
      "cell_type": "code",
      "source": [
        "from sklearn.ensemble import AdaBoostClassifier\n",
        "clf_ada = AdaBoostClassifier(n_estimators=100, random_state=0)\n",
        "clf_ada.fit(Xc_train, yc_train)"
      ],
      "metadata": {
        "colab": {
          "base_uri": "https://localhost:8080/"
        },
        "id": "H4ukp61fuIT5",
        "outputId": "de3ae8bc-d517-49a6-8a26-15859e681517"
      },
      "execution_count": null,
      "outputs": [
        {
          "output_type": "execute_result",
          "data": {
            "text/plain": [
              "AdaBoostClassifier(n_estimators=100, random_state=0)"
            ]
          },
          "metadata": {},
          "execution_count": 44
        }
      ]
    },
    {
      "cell_type": "code",
      "source": [
        "yc_pred_ada = clf_ada.predict(Xc_test)\n",
        "acc_ada = accuracy_score(yc_test, yc_pred_ada)\n",
        "acc_ada_tr = clf_ada.score(Xc_train,yc_train)\n",
        "\n",
        "print(\" Test accuracy of the ADA model : {:.2f}\".format(acc_ada*100))\n",
        "print(\"Train accuracy of the ADA model : {:.2f}\".format(acc_ada_tr*100))\n",
        "print('Classification report:',classification_report(yc_test,yc_pred_ada))\n",
        "print('Confusion matrix:', confusion_matrix(yc_test,yc_pred_ada))"
      ],
      "metadata": {
        "colab": {
          "base_uri": "https://localhost:8080/"
        },
        "id": "pn8TuFBburlT",
        "outputId": "8bf3e248-a8e0-4b68-98ef-6f081a0fc22f"
      },
      "execution_count": null,
      "outputs": [
        {
          "output_type": "stream",
          "name": "stdout",
          "text": [
            " Test accuracy of the ADA model : 73.02\n",
            "Train accuracy of the ADA model : 75.77\n",
            "Classification report:               precision    recall  f1-score   support\n",
            "\n",
            "           I       0.75      0.96      0.84        48\n",
            "          II       0.00      0.00      0.00         5\n",
            "         III       0.00      0.00      0.00         4\n",
            "          IV       0.00      0.00      0.00         5\n",
            "           V       0.00      0.00      0.00         1\n",
            "\n",
            "    accuracy                           0.73        63\n",
            "   macro avg       0.15      0.19      0.17        63\n",
            "weighted avg       0.57      0.73      0.64        63\n",
            "\n",
            "Confusion matrix: [[46  1  0  1  0]\n",
            " [ 5  0  0  0  0]\n",
            " [ 4  0  0  0  0]\n",
            " [ 5  0  0  0  0]\n",
            " [ 1  0  0  0  0]]\n"
          ]
        },
        {
          "output_type": "stream",
          "name": "stderr",
          "text": [
            "/usr/local/lib/python3.7/dist-packages/sklearn/metrics/_classification.py:1318: UndefinedMetricWarning: Precision and F-score are ill-defined and being set to 0.0 in labels with no predicted samples. Use `zero_division` parameter to control this behavior.\n",
            "  _warn_prf(average, modifier, msg_start, len(result))\n",
            "/usr/local/lib/python3.7/dist-packages/sklearn/metrics/_classification.py:1318: UndefinedMetricWarning: Precision and F-score are ill-defined and being set to 0.0 in labels with no predicted samples. Use `zero_division` parameter to control this behavior.\n",
            "  _warn_prf(average, modifier, msg_start, len(result))\n",
            "/usr/local/lib/python3.7/dist-packages/sklearn/metrics/_classification.py:1318: UndefinedMetricWarning: Precision and F-score are ill-defined and being set to 0.0 in labels with no predicted samples. Use `zero_division` parameter to control this behavior.\n",
            "  _warn_prf(average, modifier, msg_start, len(result))\n"
          ]
        }
      ]
    },
    {
      "cell_type": "code",
      "source": [
        "#Target variable- potential accident level\n"
      ],
      "metadata": {
        "id": "8lkEqp7uu_jq"
      },
      "execution_count": null,
      "outputs": []
    },
    {
      "cell_type": "code",
      "source": [
        "\n",
        "from sklearn.model_selection import train_test_split\n",
        "from sklearn.feature_extraction.text import CountVectorizer\n",
        "\n",
        "X1 = data1['description_processed']\n",
        "yp = data1['Potential Accident Level']\n",
        "\n",
        "cnt_vecp = CountVectorizer(analyzer='word', ngram_range=(1, 2))\n",
        "Xp = cnt_vecp.fit_transform(X1).toarray()\n",
        "Xp_train, Xp_test, yp_train, yp_test = train_test_split(Xp, yp, test_size=0.15, random_state=42)"
      ],
      "metadata": {
        "id": "OEgIL_GiojRN"
      },
      "execution_count": null,
      "outputs": []
    },
    {
      "cell_type": "code",
      "source": [
        "#Shape of training data\n",
        "Xp_train.shape"
      ],
      "metadata": {
        "colab": {
          "base_uri": "https://localhost:8080/"
        },
        "id": "xvteLVnrp8nY",
        "outputId": "df023060-e72f-4da4-8118-7370c6ae064c"
      },
      "execution_count": null,
      "outputs": [
        {
          "output_type": "execute_result",
          "data": {
            "text/plain": [
              "(355, 13242)"
            ]
          },
          "metadata": {},
          "execution_count": 48
        }
      ]
    },
    {
      "cell_type": "code",
      "source": [
        "#Shape of testing data\n",
        "Xp_test.shape"
      ],
      "metadata": {
        "colab": {
          "base_uri": "https://localhost:8080/"
        },
        "id": "LxvJYojgqKAu",
        "outputId": "92106ffc-75e0-4eb0-fe3d-8c599990ec89"
      },
      "execution_count": null,
      "outputs": [
        {
          "output_type": "execute_result",
          "data": {
            "text/plain": [
              "(63, 13242)"
            ]
          },
          "metadata": {},
          "execution_count": 49
        }
      ]
    },
    {
      "cell_type": "code",
      "source": [
        ""
      ],
      "metadata": {
        "id": "ahzuwRV6fmNh"
      },
      "execution_count": null,
      "outputs": []
    },
    {
      "cell_type": "code",
      "source": [
        "#SVC\n",
        "svc_1 = LinearSVC( max_iter=5500)\n",
        "svc_1.fit(Xp_train, yp_train)\n",
        "yp_predsvc_1 = svc_1.predict(Xp_test)\n",
        "\n",
        "# Evaluation\n",
        "accp_svc = accuracy_score(yp_test, yp_predsvc_1)\n",
        "accp_svc_tr = svc_1.score(Xp_train,yp_train)\n",
        "\n",
        "print(\"Test accuracy of the SVC model : {:.2f}\".format(accp_svc*100))\n",
        "print(\"Train accuracy of the SVC model : {:.2f}\".format(accp_svc_tr*100))"
      ],
      "metadata": {
        "colab": {
          "base_uri": "https://localhost:8080/"
        },
        "id": "wdxJtwdRqQVQ",
        "outputId": "acf4f3e3-0f50-4419-df82-89ad94c535f8"
      },
      "execution_count": null,
      "outputs": [
        {
          "output_type": "stream",
          "name": "stdout",
          "text": [
            "Test accuracy of the SVC model : 44.44\n",
            "Train accuracy of the SVC model : 99.72\n"
          ]
        }
      ]
    },
    {
      "cell_type": "code",
      "source": [
        "print('Classification report:',classification_report(yp_test, yp_predsvc_1))\n",
        "print('Confusion matrix:', confusion_matrix(yp_test,yp_predsvc_1))"
      ],
      "metadata": {
        "colab": {
          "base_uri": "https://localhost:8080/"
        },
        "id": "KXOVr_kjqmOz",
        "outputId": "291fea97-7593-4c2e-cbff-48ac466ed861"
      },
      "execution_count": null,
      "outputs": [
        {
          "output_type": "stream",
          "name": "stdout",
          "text": [
            "Classification report:               precision    recall  f1-score   support\n",
            "\n",
            "           I       0.50      0.14      0.22         7\n",
            "          II       0.46      0.55      0.50        11\n",
            "         III       0.35      0.32      0.33        19\n",
            "          IV       0.48      0.65      0.56        23\n",
            "           V       0.00      0.00      0.00         3\n",
            "\n",
            "    accuracy                           0.44        63\n",
            "   macro avg       0.36      0.33      0.32        63\n",
            "weighted avg       0.42      0.44      0.42        63\n",
            "\n",
            "Confusion matrix: [[ 1  1  4  1  0]\n",
            " [ 0  6  2  3  0]\n",
            " [ 0  3  6 10  0]\n",
            " [ 1  3  4 15  0]\n",
            " [ 0  0  1  2  0]]\n"
          ]
        },
        {
          "output_type": "stream",
          "name": "stderr",
          "text": [
            "/usr/local/lib/python3.7/dist-packages/sklearn/metrics/_classification.py:1318: UndefinedMetricWarning: Precision and F-score are ill-defined and being set to 0.0 in labels with no predicted samples. Use `zero_division` parameter to control this behavior.\n",
            "  _warn_prf(average, modifier, msg_start, len(result))\n",
            "/usr/local/lib/python3.7/dist-packages/sklearn/metrics/_classification.py:1318: UndefinedMetricWarning: Precision and F-score are ill-defined and being set to 0.0 in labels with no predicted samples. Use `zero_division` parameter to control this behavior.\n",
            "  _warn_prf(average, modifier, msg_start, len(result))\n",
            "/usr/local/lib/python3.7/dist-packages/sklearn/metrics/_classification.py:1318: UndefinedMetricWarning: Precision and F-score are ill-defined and being set to 0.0 in labels with no predicted samples. Use `zero_division` parameter to control this behavior.\n",
            "  _warn_prf(average, modifier, msg_start, len(result))\n"
          ]
        }
      ]
    },
    {
      "cell_type": "code",
      "source": [
        "#Random Forest model Training and Evaluation\n",
        "rf1 = RandomForestClassifier(random_state=42)\n",
        "rf1.fit(Xp_train, yp_train)\n",
        "yp_pred_rf = rf1.predict(Xp_test)\n",
        "\n",
        "#Evaluation\n",
        "accp_rfc = accuracy_score(yp_test, yp_pred_rf)\n",
        "accp_rfc_tr = rf1.score(Xp_train,yp_train)\n",
        "\n",
        "print(\"Test accuracy of the Random Forest model : {:.2f}\".format(accp_rfc*100))\n",
        "print(\"Train accuracy of the Random Forest model : {:.2f}\".format(accp_rfc_tr*100))"
      ],
      "metadata": {
        "colab": {
          "base_uri": "https://localhost:8080/"
        },
        "id": "MzfFZ5Dvq1D0",
        "outputId": "4bfeb06c-53f9-4dbe-98e8-86ad4e96b52f"
      },
      "execution_count": null,
      "outputs": [
        {
          "output_type": "stream",
          "name": "stdout",
          "text": [
            "Test accuracy of the Random Forest model : 38.10\n",
            "Train accuracy of the Random Forest model : 99.72\n"
          ]
        }
      ]
    },
    {
      "cell_type": "code",
      "source": [
        "print('Classification report:',classification_report(yp_test, yp_pred_rf))\n",
        "print('Confusion matrix:', confusion_matrix(yp_test,yp_pred_rf))"
      ],
      "metadata": {
        "colab": {
          "base_uri": "https://localhost:8080/"
        },
        "id": "soaqrN2IrF0n",
        "outputId": "be1414dd-3af2-43aa-afa9-68c95c41fbf6"
      },
      "execution_count": null,
      "outputs": [
        {
          "output_type": "stream",
          "name": "stdout",
          "text": [
            "Classification report:               precision    recall  f1-score   support\n",
            "\n",
            "           I       0.50      0.14      0.22         7\n",
            "          II       0.50      0.27      0.35        11\n",
            "         III       0.45      0.26      0.33        19\n",
            "          IV       0.34      0.65      0.45        23\n",
            "           V       0.00      0.00      0.00         3\n",
            "\n",
            "    accuracy                           0.38        63\n",
            "   macro avg       0.36      0.27      0.27        63\n",
            "weighted avg       0.40      0.38      0.35        63\n",
            "\n",
            "Confusion matrix: [[ 1  0  0  6  0]\n",
            " [ 0  3  2  6  0]\n",
            " [ 0  0  5 14  0]\n",
            " [ 1  3  4 15  0]\n",
            " [ 0  0  0  3  0]]\n"
          ]
        },
        {
          "output_type": "stream",
          "name": "stderr",
          "text": [
            "/usr/local/lib/python3.7/dist-packages/sklearn/metrics/_classification.py:1318: UndefinedMetricWarning: Precision and F-score are ill-defined and being set to 0.0 in labels with no predicted samples. Use `zero_division` parameter to control this behavior.\n",
            "  _warn_prf(average, modifier, msg_start, len(result))\n",
            "/usr/local/lib/python3.7/dist-packages/sklearn/metrics/_classification.py:1318: UndefinedMetricWarning: Precision and F-score are ill-defined and being set to 0.0 in labels with no predicted samples. Use `zero_division` parameter to control this behavior.\n",
            "  _warn_prf(average, modifier, msg_start, len(result))\n",
            "/usr/local/lib/python3.7/dist-packages/sklearn/metrics/_classification.py:1318: UndefinedMetricWarning: Precision and F-score are ill-defined and being set to 0.0 in labels with no predicted samples. Use `zero_division` parameter to control this behavior.\n",
            "  _warn_prf(average, modifier, msg_start, len(result))\n"
          ]
        }
      ]
    },
    {
      "cell_type": "code",
      "source": [
        "#Gradient Boosting Model Building and Evaluation\n",
        "gb_1 = GradientBoostingClassifier(n_estimators=100,)\n",
        "gb_1.fit(Xp_train, yp_train)\n",
        "yp_pred_gb1 = gb_1.predict(Xp_test)\n",
        "accp_gbc = accuracy_score(yp_test, yp_pred_gb1)\n",
        "accp_gbc_tr = gb_1.score(Xp_train,yp_train)\n",
        "\n",
        "print(\"Test accuracy of the Gradient boosting model : {:.2f}\".format(accp_gbc*100))\n",
        "print(\"Train accuracy of the Gradient boosting model : {:.2f}\".format(accp_gbc_tr*100))"
      ],
      "metadata": {
        "colab": {
          "base_uri": "https://localhost:8080/"
        },
        "id": "VO-1c5QurboO",
        "outputId": "6a06bcad-11e9-4fbe-d736-b8f3a2c52210"
      },
      "execution_count": null,
      "outputs": [
        {
          "output_type": "stream",
          "name": "stdout",
          "text": [
            "Test accuracy of the Gradient boosting model : 38.10\n",
            "Train accuracy of the Gradient boosting model : 99.72\n"
          ]
        }
      ]
    },
    {
      "cell_type": "code",
      "source": [
        "print('Classification report:',classification_report(yp_test,yp_pred_gb1 ))\n",
        "print('Confusion matrix:', confusion_matrix(yp_test,yp_pred_gb1))"
      ],
      "metadata": {
        "colab": {
          "base_uri": "https://localhost:8080/"
        },
        "id": "wVuj7bW0rtH5",
        "outputId": "16b4d6f7-813e-4f9f-848d-2341ca911664"
      },
      "execution_count": null,
      "outputs": [
        {
          "output_type": "stream",
          "name": "stdout",
          "text": [
            "Classification report:               precision    recall  f1-score   support\n",
            "\n",
            "           I       1.00      0.14      0.25         7\n",
            "          II       0.60      0.27      0.37        11\n",
            "         III       0.24      0.21      0.22        19\n",
            "          IV       0.41      0.70      0.52        23\n",
            "           V       0.00      0.00      0.00         3\n",
            "\n",
            "    accuracy                           0.38        63\n",
            "   macro avg       0.45      0.26      0.27        63\n",
            "weighted avg       0.44      0.38      0.35        63\n",
            "\n",
            "Confusion matrix: [[ 1  1  3  2  0]\n",
            " [ 0  3  3  4  1]\n",
            " [ 0  0  4 15  0]\n",
            " [ 0  1  6 16  0]\n",
            " [ 0  0  1  2  0]]\n"
          ]
        }
      ]
    },
    {
      "cell_type": "code",
      "source": [
        "#XGBoost Model for Training and Evaluation\n",
        "xgb_1 = XGBClassifier()\n",
        "xgb_1.fit(Xp_train, yp_train)\n",
        "yp_pred_xgb = xgb_1.predict(Xp_test)\n",
        "accp_xgbc = accuracy_score(yp_test, yp_pred_xgb)\n",
        "accp_xgbc_tr = xgb_1.score(Xp_train,yp_train)\n",
        "\n",
        "print(\"Test accuracy of the XGBoost model : {:.2f}\".format(accp_xgbc*100))\n",
        "print(\"Train accuracy of the XGBoost model : {:.2f}\".format(accp_xgbc_tr*100))"
      ],
      "metadata": {
        "colab": {
          "base_uri": "https://localhost:8080/"
        },
        "id": "zTEyL5DLr6X5",
        "outputId": "9bf02c83-f129-4d21-c133-33fc4d9b673c"
      },
      "execution_count": null,
      "outputs": [
        {
          "output_type": "stream",
          "name": "stdout",
          "text": [
            "Test accuracy of the XGBoost model : 31.75\n",
            "Train accuracy of the XGBoost model : 90.99\n"
          ]
        }
      ]
    },
    {
      "cell_type": "code",
      "source": [
        "print('Classification report:',classification_report(yp_test,yp_pred_xgb))\n",
        "print('Confusion matrix:', confusion_matrix(yp_test,yp_pred_xgb))"
      ],
      "metadata": {
        "colab": {
          "base_uri": "https://localhost:8080/"
        },
        "id": "MDyg4yOesLWf",
        "outputId": "c466efcc-1af7-40fb-83d6-60f563f60729"
      },
      "execution_count": null,
      "outputs": [
        {
          "output_type": "stream",
          "name": "stdout",
          "text": [
            "Classification report:               precision    recall  f1-score   support\n",
            "\n",
            "           I       1.00      0.14      0.25         7\n",
            "          II       0.22      0.18      0.20        11\n",
            "         III       0.21      0.21      0.21        19\n",
            "          IV       0.38      0.57      0.46        23\n",
            "           V       0.00      0.00      0.00         3\n",
            "\n",
            "    accuracy                           0.32        63\n",
            "   macro avg       0.36      0.22      0.22        63\n",
            "weighted avg       0.35      0.32      0.29        63\n",
            "\n",
            "Confusion matrix: [[ 1  1  4  1  0]\n",
            " [ 0  2  3  6  0]\n",
            " [ 0  3  4 12  0]\n",
            " [ 0  3  7 13  0]\n",
            " [ 0  0  1  2  0]]\n"
          ]
        },
        {
          "output_type": "stream",
          "name": "stderr",
          "text": [
            "/usr/local/lib/python3.7/dist-packages/sklearn/metrics/_classification.py:1318: UndefinedMetricWarning: Precision and F-score are ill-defined and being set to 0.0 in labels with no predicted samples. Use `zero_division` parameter to control this behavior.\n",
            "  _warn_prf(average, modifier, msg_start, len(result))\n",
            "/usr/local/lib/python3.7/dist-packages/sklearn/metrics/_classification.py:1318: UndefinedMetricWarning: Precision and F-score are ill-defined and being set to 0.0 in labels with no predicted samples. Use `zero_division` parameter to control this behavior.\n",
            "  _warn_prf(average, modifier, msg_start, len(result))\n",
            "/usr/local/lib/python3.7/dist-packages/sklearn/metrics/_classification.py:1318: UndefinedMetricWarning: Precision and F-score are ill-defined and being set to 0.0 in labels with no predicted samples. Use `zero_division` parameter to control this behavior.\n",
            "  _warn_prf(average, modifier, msg_start, len(result))\n"
          ]
        }
      ]
    },
    {
      "cell_type": "code",
      "source": [
        "#Kneighbours\n",
        "from sklearn.neighbors import KNeighborsClassifier\n",
        "neigh_1 = KNeighborsClassifier(n_neighbors=3)\n",
        "neigh_1.fit(Xp_train, yp_train)"
      ],
      "metadata": {
        "colab": {
          "base_uri": "https://localhost:8080/"
        },
        "id": "HrKO6h9nsVZv",
        "outputId": "81ed8275-8a20-4de0-d8f8-408e1e99115a"
      },
      "execution_count": null,
      "outputs": [
        {
          "output_type": "execute_result",
          "data": {
            "text/plain": [
              "KNeighborsClassifier(n_neighbors=3)"
            ]
          },
          "metadata": {},
          "execution_count": 58
        }
      ]
    },
    {
      "cell_type": "code",
      "source": [
        "yp_pred_k1 = neigh_1.predict(Xp_test)\n",
        "acc_neigh1 = accuracy_score(yp_test, yp_pred_k1)\n",
        "acc_neigh_tr1 = neigh_1.score(Xp_train,yp_train)\n"
      ],
      "metadata": {
        "id": "dAOzG0RisorU"
      },
      "execution_count": null,
      "outputs": []
    },
    {
      "cell_type": "code",
      "source": [
        "print(\" Test accuracy of the KNeighbours model : {:.2f}\".format(acc_neigh1*100))\n",
        "print(\"Train accuracy of the Kneighbours model : {:.2f}\".format(acc_neigh_tr1*100))\n",
        "print('Classification report:',classification_report(yp_test,yp_pred_k1))\n",
        "print('Confusion matrix:', confusion_matrix(yp_test,yp_pred_k1))"
      ],
      "metadata": {
        "colab": {
          "base_uri": "https://localhost:8080/"
        },
        "id": "tRCOmwh6s7S6",
        "outputId": "81ee39a6-df6a-4dc3-cbe1-322c27fd495b"
      },
      "execution_count": null,
      "outputs": [
        {
          "output_type": "stream",
          "name": "stdout",
          "text": [
            " Test accuracy of the KNeighbours model : 25.40\n",
            "Train accuracy of the Kneighbours model : 54.65\n",
            "Classification report:               precision    recall  f1-score   support\n",
            "\n",
            "           I       1.00      0.14      0.25         7\n",
            "          II       0.18      0.45      0.26        11\n",
            "         III       0.31      0.53      0.39        19\n",
            "          IV       0.00      0.00      0.00        23\n",
            "           V       0.00      0.00      0.00         3\n",
            "\n",
            "    accuracy                           0.25        63\n",
            "   macro avg       0.30      0.22      0.18        63\n",
            "weighted avg       0.24      0.25      0.19        63\n",
            "\n",
            "Confusion matrix: [[ 1  3  3  0  0]\n",
            " [ 0  5  5  1  0]\n",
            " [ 0  9 10  0  0]\n",
            " [ 0  9 14  0  0]\n",
            " [ 0  2  0  1  0]]\n"
          ]
        },
        {
          "output_type": "stream",
          "name": "stderr",
          "text": [
            "/usr/local/lib/python3.7/dist-packages/sklearn/metrics/_classification.py:1318: UndefinedMetricWarning: Precision and F-score are ill-defined and being set to 0.0 in labels with no predicted samples. Use `zero_division` parameter to control this behavior.\n",
            "  _warn_prf(average, modifier, msg_start, len(result))\n",
            "/usr/local/lib/python3.7/dist-packages/sklearn/metrics/_classification.py:1318: UndefinedMetricWarning: Precision and F-score are ill-defined and being set to 0.0 in labels with no predicted samples. Use `zero_division` parameter to control this behavior.\n",
            "  _warn_prf(average, modifier, msg_start, len(result))\n",
            "/usr/local/lib/python3.7/dist-packages/sklearn/metrics/_classification.py:1318: UndefinedMetricWarning: Precision and F-score are ill-defined and being set to 0.0 in labels with no predicted samples. Use `zero_division` parameter to control this behavior.\n",
            "  _warn_prf(average, modifier, msg_start, len(result))\n"
          ]
        }
      ]
    },
    {
      "cell_type": "code",
      "source": [
        "#naive bayes\n",
        "from sklearn.naive_bayes import GaussianNB\n",
        "g_model2 = GaussianNB()\n",
        "g_model2.fit(Xp_train, yp_train)\n",
        "g_pred2 = g_model2.predict(Xp_test)"
      ],
      "metadata": {
        "id": "0cApKUIRtJ44"
      },
      "execution_count": null,
      "outputs": []
    },
    {
      "cell_type": "code",
      "source": [
        "print('Accuracy on Training data:',g_model2.score(Xp_train, yp_train) ) #accuracy of training data\n",
        "print('Accuracy on Test data:',g_model2.score(Xp_test, yp_test) ) #accuracy data of testing data"
      ],
      "metadata": {
        "colab": {
          "base_uri": "https://localhost:8080/"
        },
        "id": "Fr7ig-nQtbor",
        "outputId": "c9c8c06b-2f34-447a-c634-36a17df54d26"
      },
      "execution_count": null,
      "outputs": [
        {
          "output_type": "stream",
          "name": "stdout",
          "text": [
            "Accuracy on Training data: 0.9971830985915493\n",
            "Accuracy on Test data: 0.42857142857142855\n"
          ]
        }
      ]
    },
    {
      "cell_type": "code",
      "source": [
        "print('Classification report:',classification_report(yp_test,g_pred2))\n",
        "print('Confusion matrix:', confusion_matrix(yp_test,g_pred2))"
      ],
      "metadata": {
        "colab": {
          "base_uri": "https://localhost:8080/"
        },
        "id": "6m1TPdMStnsz",
        "outputId": "1fd39749-96e6-4999-ad44-4d8233718d79"
      },
      "execution_count": null,
      "outputs": [
        {
          "output_type": "stream",
          "name": "stdout",
          "text": [
            "Classification report:               precision    recall  f1-score   support\n",
            "\n",
            "           I       0.25      0.14      0.18         7\n",
            "          II       0.44      0.36      0.40        11\n",
            "         III       0.40      0.32      0.35        19\n",
            "          IV       0.46      0.70      0.55        23\n",
            "           V       0.00      0.00      0.00         3\n",
            "\n",
            "    accuracy                           0.43        63\n",
            "   macro avg       0.31      0.30      0.30        63\n",
            "weighted avg       0.39      0.43      0.40        63\n",
            "\n",
            "Confusion matrix: [[ 1  3  2  1  0]\n",
            " [ 1  4  1  5  0]\n",
            " [ 0  1  6 12  0]\n",
            " [ 2  0  5 16  0]\n",
            " [ 0  1  1  1  0]]\n"
          ]
        },
        {
          "output_type": "stream",
          "name": "stderr",
          "text": [
            "/usr/local/lib/python3.7/dist-packages/sklearn/metrics/_classification.py:1318: UndefinedMetricWarning: Precision and F-score are ill-defined and being set to 0.0 in labels with no predicted samples. Use `zero_division` parameter to control this behavior.\n",
            "  _warn_prf(average, modifier, msg_start, len(result))\n",
            "/usr/local/lib/python3.7/dist-packages/sklearn/metrics/_classification.py:1318: UndefinedMetricWarning: Precision and F-score are ill-defined and being set to 0.0 in labels with no predicted samples. Use `zero_division` parameter to control this behavior.\n",
            "  _warn_prf(average, modifier, msg_start, len(result))\n",
            "/usr/local/lib/python3.7/dist-packages/sklearn/metrics/_classification.py:1318: UndefinedMetricWarning: Precision and F-score are ill-defined and being set to 0.0 in labels with no predicted samples. Use `zero_division` parameter to control this behavior.\n",
            "  _warn_prf(average, modifier, msg_start, len(result))\n"
          ]
        }
      ]
    },
    {
      "cell_type": "code",
      "source": [
        "#Bagging\n",
        "from sklearn.ensemble import BaggingClassifier\n",
        "from sklearn.model_selection import GridSearchCV, ShuffleSplit\n",
        "n_estimators1 = [10,30,50,70,80,150,160, 170,175,180,185];\n",
        "cv1 = ShuffleSplit(n_splits=10, test_size=.30, random_state=15)\n",
        "\n",
        "parameters1 = {'n_estimators':n_estimators1,\n",
        "              \n",
        "        }\n",
        "grid1 = GridSearchCV(BaggingClassifier(base_estimator= None, ## If None, then the base estimator is a decision tree.\n",
        "                                      bootstrap_features=False),\n",
        "                                 param_grid=parameters1,\n",
        "                                 cv=cv1,\n",
        "                                 n_jobs = -1)\n"
      ],
      "metadata": {
        "id": "pfbI1ee7t1j8"
      },
      "execution_count": null,
      "outputs": []
    },
    {
      "cell_type": "code",
      "source": [
        "grid1.fit(Xp_train, yp_train) "
      ],
      "metadata": {
        "colab": {
          "base_uri": "https://localhost:8080/"
        },
        "id": "rQ82eMpvuUmn",
        "outputId": "cca5730c-b0b2-4fd8-8c46-4ea03b654f4f"
      },
      "execution_count": null,
      "outputs": [
        {
          "output_type": "execute_result",
          "data": {
            "text/plain": [
              "GridSearchCV(cv=ShuffleSplit(n_splits=10, random_state=15, test_size=0.3, train_size=None),\n",
              "             estimator=BaggingClassifier(), n_jobs=-1,\n",
              "             param_grid={'n_estimators': [10, 30, 50, 70, 80, 150, 160, 170,\n",
              "                                          175, 180, 185]})"
            ]
          },
          "metadata": {},
          "execution_count": 65
        }
      ]
    },
    {
      "cell_type": "code",
      "source": [
        "yp_pred_b1 = grid1.predict(Xp_test)\n",
        "acc_b1 = accuracy_score(yp_test, yp_pred_b1)\n",
        "acc_b1_tr = grid1.score(Xp_train,yp_train)\n",
        "\n",
        "print(\" Test accuracy of the Bagging model : {:.2f}\".format(acc_b1*100))\n",
        "print(\"Train accuracy of the Bagging model : {:.2f}\".format(acc_b1_tr*100))\n",
        "print('Classification report:',classification_report(yp_test,yp_pred_b1))\n",
        "print('Confusion matrix:', confusion_matrix(yp_test,yp_pred_b1))"
      ],
      "metadata": {
        "colab": {
          "base_uri": "https://localhost:8080/"
        },
        "id": "ruSLemnJy0qG",
        "outputId": "8cd87ccf-07bf-4738-a56a-aa60f5db66a3"
      },
      "execution_count": null,
      "outputs": [
        {
          "output_type": "stream",
          "name": "stdout",
          "text": [
            " Test accuracy of the Bagging model : 36.51\n",
            "Train accuracy of the Bagging model : 99.72\n",
            "Classification report:               precision    recall  f1-score   support\n",
            "\n",
            "           I       1.00      0.14      0.25         7\n",
            "          II       0.27      0.27      0.27        11\n",
            "         III       0.36      0.26      0.30        19\n",
            "          IV       0.38      0.61      0.47        23\n",
            "           V       0.00      0.00      0.00         3\n",
            "\n",
            "    accuracy                           0.37        63\n",
            "   macro avg       0.40      0.26      0.26        63\n",
            "weighted avg       0.40      0.37      0.34        63\n",
            "\n",
            "Confusion matrix: [[ 1  1  3  2  0]\n",
            " [ 0  3  2  6  0]\n",
            " [ 0  2  5 12  0]\n",
            " [ 0  5  4 14  0]\n",
            " [ 0  0  0  3  0]]\n"
          ]
        },
        {
          "output_type": "stream",
          "name": "stderr",
          "text": [
            "/usr/local/lib/python3.7/dist-packages/sklearn/metrics/_classification.py:1318: UndefinedMetricWarning: Precision and F-score are ill-defined and being set to 0.0 in labels with no predicted samples. Use `zero_division` parameter to control this behavior.\n",
            "  _warn_prf(average, modifier, msg_start, len(result))\n",
            "/usr/local/lib/python3.7/dist-packages/sklearn/metrics/_classification.py:1318: UndefinedMetricWarning: Precision and F-score are ill-defined and being set to 0.0 in labels with no predicted samples. Use `zero_division` parameter to control this behavior.\n",
            "  _warn_prf(average, modifier, msg_start, len(result))\n",
            "/usr/local/lib/python3.7/dist-packages/sklearn/metrics/_classification.py:1318: UndefinedMetricWarning: Precision and F-score are ill-defined and being set to 0.0 in labels with no predicted samples. Use `zero_division` parameter to control this behavior.\n",
            "  _warn_prf(average, modifier, msg_start, len(result))\n"
          ]
        }
      ]
    },
    {
      "cell_type": "code",
      "source": [
        "#ADA boosting\n",
        "from sklearn.ensemble import AdaBoostClassifier\n",
        "clf_ada1 = AdaBoostClassifier(n_estimators=100, random_state=0)\n",
        "clf_ada1.fit(Xp_train, yp_train)"
      ],
      "metadata": {
        "colab": {
          "base_uri": "https://localhost:8080/"
        },
        "id": "EjiU8XZAzLLw",
        "outputId": "93a09bda-3467-489d-b9d7-985655e36eaa"
      },
      "execution_count": null,
      "outputs": [
        {
          "output_type": "execute_result",
          "data": {
            "text/plain": [
              "AdaBoostClassifier(n_estimators=100, random_state=0)"
            ]
          },
          "metadata": {},
          "execution_count": 67
        }
      ]
    },
    {
      "cell_type": "code",
      "source": [
        "yp_pred_ada1 = clf_ada1.predict(Xp_test)\n",
        "acc_ada1 = accuracy_score(yp_test, yp_pred_ada1)\n",
        "acc_ada1_tr = clf_ada1.score(Xp_train,yp_train)\n",
        "\n",
        "print(\" Test accuracy of the ADA model : {:.2f}\".format(acc_ada1*100))\n",
        "print(\"Train accuracy of the ADA model : {:.2f}\".format(acc_ada1_tr*100))\n",
        "print('Classification report:',classification_report(yp_test,yp_pred_ada1))\n",
        "print('Confusion matrix:', confusion_matrix(yp_test,yp_pred_ada1))"
      ],
      "metadata": {
        "colab": {
          "base_uri": "https://localhost:8080/"
        },
        "id": "87mM2fYezdyc",
        "outputId": "6a6bc10c-e49c-4b16-d04d-294a790ef69d"
      },
      "execution_count": null,
      "outputs": [
        {
          "output_type": "stream",
          "name": "stdout",
          "text": [
            " Test accuracy of the ADA model : 36.51\n",
            "Train accuracy of the ADA model : 43.38\n",
            "Classification report:               precision    recall  f1-score   support\n",
            "\n",
            "           I       1.00      0.14      0.25         7\n",
            "          II       0.25      0.18      0.21        11\n",
            "         III       0.00      0.00      0.00        19\n",
            "          IV       0.39      0.78      0.52        23\n",
            "           V       0.29      0.67      0.40         3\n",
            "\n",
            "    accuracy                           0.37        63\n",
            "   macro avg       0.39      0.35      0.28        63\n",
            "weighted avg       0.31      0.37      0.27        63\n",
            "\n",
            "Confusion matrix: [[ 1  0  1  5  0]\n",
            " [ 0  2  0  8  1]\n",
            " [ 0  4  0 14  1]\n",
            " [ 0  2  0 18  3]\n",
            " [ 0  0  0  1  2]]\n"
          ]
        }
      ]
    },
    {
      "cell_type": "code",
      "source": [
        "#TF-IDF\n",
        "#Target variable- accident level\n"
      ],
      "metadata": {
        "id": "Tl9hFUKTztKe"
      },
      "execution_count": null,
      "outputs": []
    },
    {
      "cell_type": "code",
      "source": [
        "from sklearn.feature_extraction.text import TfidfVectorizer\n",
        "\n",
        "tfidf_vec = TfidfVectorizer(ngram_range=(1,2))\n",
        "Xt = tfidf_vec.fit_transform(X).toarray()\n",
        "\n",
        "Xt_train, Xt_test, yt_train, yt_test = train_test_split(Xt, y, test_size=0.15, random_state=42)"
      ],
      "metadata": {
        "id": "TyfTAQbQz4tR"
      },
      "execution_count": null,
      "outputs": []
    },
    {
      "cell_type": "code",
      "source": [
        "#SVC Model Training and Evaluation\n",
        "svctf = LinearSVC(max_iter=5500)\n",
        "svctf.fit(Xt_train, yt_train)\n",
        "yt_pred_tf = svctf.predict(Xt_test)\n",
        "\n",
        "# Evaluation\n",
        "acct_svctf = accuracy_score(yt_test, yt_pred_tf)\n",
        "acct_svctf_tr = svctf.score(Xt_train,yt_train)\n",
        "\n",
        "print(\"Test accuracy of the SVC model : {:.2f}\".format(acct_svctf*100))\n",
        "print(\"Train accuracy of the SVC model : {:.2f}\".format(acct_svctf_tr*100))"
      ],
      "metadata": {
        "colab": {
          "base_uri": "https://localhost:8080/"
        },
        "id": "Sc-Uy9aPz97d",
        "outputId": "695d8e29-0031-4133-bdb7-433f535f504a"
      },
      "execution_count": null,
      "outputs": [
        {
          "output_type": "stream",
          "name": "stdout",
          "text": [
            "Test accuracy of the SVC model : 76.19\n",
            "Train accuracy of the SVC model : 99.15\n"
          ]
        }
      ]
    },
    {
      "cell_type": "code",
      "source": [
        "print('Classification report:',classification_report(yt_test,yt_pred_tf))\n",
        "print('Confusion matrix:', confusion_matrix(yt_test,yt_pred_tf))"
      ],
      "metadata": {
        "colab": {
          "base_uri": "https://localhost:8080/"
        },
        "id": "hq5J_pKf0sDS",
        "outputId": "9ef761fe-dd09-4e52-c056-86ae820afbf9"
      },
      "execution_count": null,
      "outputs": [
        {
          "output_type": "stream",
          "name": "stdout",
          "text": [
            "Classification report:               precision    recall  f1-score   support\n",
            "\n",
            "           I       0.76      1.00      0.86        48\n",
            "          II       0.00      0.00      0.00         5\n",
            "         III       0.00      0.00      0.00         4\n",
            "          IV       0.00      0.00      0.00         5\n",
            "           V       0.00      0.00      0.00         1\n",
            "\n",
            "    accuracy                           0.76        63\n",
            "   macro avg       0.15      0.20      0.17        63\n",
            "weighted avg       0.58      0.76      0.66        63\n",
            "\n",
            "Confusion matrix: [[48  0  0  0  0]\n",
            " [ 5  0  0  0  0]\n",
            " [ 4  0  0  0  0]\n",
            " [ 5  0  0  0  0]\n",
            " [ 1  0  0  0  0]]\n"
          ]
        },
        {
          "output_type": "stream",
          "name": "stderr",
          "text": [
            "/usr/local/lib/python3.7/dist-packages/sklearn/metrics/_classification.py:1318: UndefinedMetricWarning: Precision and F-score are ill-defined and being set to 0.0 in labels with no predicted samples. Use `zero_division` parameter to control this behavior.\n",
            "  _warn_prf(average, modifier, msg_start, len(result))\n",
            "/usr/local/lib/python3.7/dist-packages/sklearn/metrics/_classification.py:1318: UndefinedMetricWarning: Precision and F-score are ill-defined and being set to 0.0 in labels with no predicted samples. Use `zero_division` parameter to control this behavior.\n",
            "  _warn_prf(average, modifier, msg_start, len(result))\n",
            "/usr/local/lib/python3.7/dist-packages/sklearn/metrics/_classification.py:1318: UndefinedMetricWarning: Precision and F-score are ill-defined and being set to 0.0 in labels with no predicted samples. Use `zero_division` parameter to control this behavior.\n",
            "  _warn_prf(average, modifier, msg_start, len(result))\n"
          ]
        }
      ]
    },
    {
      "cell_type": "code",
      "source": [
        "#Random Forest model Training and Evaluation\n",
        "rfc_tf = RandomForestClassifier(random_state=42)\n",
        "rfc_tf.fit(Xt_train, yt_train)\n",
        "yt_pred_rftf = rfc_tf.predict(Xt_test)\n",
        "\n",
        "acct_rfc_tf = accuracy_score(yt_test, yt_pred_rftf)\n",
        "acct_rfc_tf_tr = rfc_tf.score(Xt_train,yt_train)\n",
        "\n",
        "print(\"Test accuracy of the Random Forest model : {:.2f}\".format(acct_rfc_tf*100))\n",
        "print(\"Train accuracy of the Random Forest model : {:.2f}\".format(acct_rfc_tf_tr*100))"
      ],
      "metadata": {
        "colab": {
          "base_uri": "https://localhost:8080/"
        },
        "id": "CW2E-xBb0V7M",
        "outputId": "09c031d9-ad4c-4d56-cc79-c49a2d388fe5"
      },
      "execution_count": null,
      "outputs": [
        {
          "output_type": "stream",
          "name": "stdout",
          "text": [
            "Test accuracy of the Random Forest model : 76.19\n",
            "Train accuracy of the Random Forest model : 99.44\n"
          ]
        }
      ]
    },
    {
      "cell_type": "code",
      "source": [
        "print('Classification report:',classification_report(yt_test,yt_pred_rftf))\n",
        "print('Confusion matrix:', confusion_matrix(yt_test,yt_pred_rftf))"
      ],
      "metadata": {
        "colab": {
          "base_uri": "https://localhost:8080/"
        },
        "id": "0Js23pED04GG",
        "outputId": "2f77101d-9110-45d8-a286-c39f221efae8"
      },
      "execution_count": null,
      "outputs": [
        {
          "output_type": "stream",
          "name": "stdout",
          "text": [
            "Classification report:               precision    recall  f1-score   support\n",
            "\n",
            "           I       0.76      1.00      0.86        48\n",
            "          II       0.00      0.00      0.00         5\n",
            "         III       0.00      0.00      0.00         4\n",
            "          IV       0.00      0.00      0.00         5\n",
            "           V       0.00      0.00      0.00         1\n",
            "\n",
            "    accuracy                           0.76        63\n",
            "   macro avg       0.15      0.20      0.17        63\n",
            "weighted avg       0.58      0.76      0.66        63\n",
            "\n",
            "Confusion matrix: [[48  0  0  0  0]\n",
            " [ 5  0  0  0  0]\n",
            " [ 4  0  0  0  0]\n",
            " [ 5  0  0  0  0]\n",
            " [ 1  0  0  0  0]]\n"
          ]
        },
        {
          "output_type": "stream",
          "name": "stderr",
          "text": [
            "/usr/local/lib/python3.7/dist-packages/sklearn/metrics/_classification.py:1318: UndefinedMetricWarning: Precision and F-score are ill-defined and being set to 0.0 in labels with no predicted samples. Use `zero_division` parameter to control this behavior.\n",
            "  _warn_prf(average, modifier, msg_start, len(result))\n",
            "/usr/local/lib/python3.7/dist-packages/sklearn/metrics/_classification.py:1318: UndefinedMetricWarning: Precision and F-score are ill-defined and being set to 0.0 in labels with no predicted samples. Use `zero_division` parameter to control this behavior.\n",
            "  _warn_prf(average, modifier, msg_start, len(result))\n",
            "/usr/local/lib/python3.7/dist-packages/sklearn/metrics/_classification.py:1318: UndefinedMetricWarning: Precision and F-score are ill-defined and being set to 0.0 in labels with no predicted samples. Use `zero_division` parameter to control this behavior.\n",
            "  _warn_prf(average, modifier, msg_start, len(result))\n"
          ]
        }
      ]
    },
    {
      "cell_type": "code",
      "source": [
        "#Gradient Boosting Model Building and Evaluation\n",
        "from sklearn.ensemble import GradientBoostingClassifier\n",
        "gb_tf = GradientBoostingClassifier(n_estimators=100)\n",
        "gb_tf.fit(Xt_train, yt_train)\n",
        "yt_pred_gbtf = gb_tf.predict(Xt_test)\n",
        "acct_gb_tf = accuracy_score(yt_test,yt_pred_gbtf )\n",
        "acct_gb_tf_tr = gb_tf.score(Xt_train,yt_train)\n",
        "\n",
        "print(\"Train accuracy of the Gradient boosting model : {:.2f}\".format(acct_gb_tf*100))\n",
        "print(\"Test accuracy of the Gradient boosting model : {:.2f}\".format(acct_gb_tf_tr*100))\n",
        "print('Classification report:',classification_report(yt_test,yt_pred_gbtf ))"
      ],
      "metadata": {
        "colab": {
          "base_uri": "https://localhost:8080/"
        },
        "id": "DAaIPQ0i0_BM",
        "outputId": "987361f7-b4f1-40c3-a835-1d393d22a838"
      },
      "execution_count": null,
      "outputs": [
        {
          "output_type": "stream",
          "name": "stdout",
          "text": [
            "Train accuracy of the Gradient boosting model : 68.25\n",
            "Test accuracy of the Gradient boosting model : 99.44\n",
            "Classification report:               precision    recall  f1-score   support\n",
            "\n",
            "           I       0.77      0.90      0.83        48\n",
            "          II       0.00      0.00      0.00         5\n",
            "         III       0.00      0.00      0.00         4\n",
            "          IV       0.00      0.00      0.00         5\n",
            "           V       0.00      0.00      0.00         1\n",
            "\n",
            "    accuracy                           0.68        63\n",
            "   macro avg       0.15      0.18      0.17        63\n",
            "weighted avg       0.59      0.68      0.63        63\n",
            "\n"
          ]
        },
        {
          "output_type": "stream",
          "name": "stderr",
          "text": [
            "/usr/local/lib/python3.7/dist-packages/sklearn/metrics/_classification.py:1318: UndefinedMetricWarning: Precision and F-score are ill-defined and being set to 0.0 in labels with no predicted samples. Use `zero_division` parameter to control this behavior.\n",
            "  _warn_prf(average, modifier, msg_start, len(result))\n",
            "/usr/local/lib/python3.7/dist-packages/sklearn/metrics/_classification.py:1318: UndefinedMetricWarning: Precision and F-score are ill-defined and being set to 0.0 in labels with no predicted samples. Use `zero_division` parameter to control this behavior.\n",
            "  _warn_prf(average, modifier, msg_start, len(result))\n",
            "/usr/local/lib/python3.7/dist-packages/sklearn/metrics/_classification.py:1318: UndefinedMetricWarning: Precision and F-score are ill-defined and being set to 0.0 in labels with no predicted samples. Use `zero_division` parameter to control this behavior.\n",
            "  _warn_prf(average, modifier, msg_start, len(result))\n"
          ]
        }
      ]
    },
    {
      "cell_type": "code",
      "source": [
        "print('Confusion matrix:', confusion_matrix(yt_test,yt_pred_gbtf))"
      ],
      "metadata": {
        "colab": {
          "base_uri": "https://localhost:8080/"
        },
        "id": "zTRuuFpk1mG1",
        "outputId": "76095dd3-67dd-42b9-f282-28c88dd840e8"
      },
      "execution_count": null,
      "outputs": [
        {
          "output_type": "stream",
          "name": "stdout",
          "text": [
            "Confusion matrix: [[43  1  3  1  0]\n",
            " [ 5  0  0  0  0]\n",
            " [ 4  0  0  0  0]\n",
            " [ 3  0  2  0  0]\n",
            " [ 1  0  0  0  0]]\n"
          ]
        }
      ]
    },
    {
      "cell_type": "code",
      "source": [
        "#XGBoost Model for Training and Evaluation\n",
        "xgb_tf = XGBClassifier()\n",
        "xgb_tf.fit(Xt_train, yt_train)\n",
        "yt_predxgb_tf = xgb_tf.predict(Xt_test)\n",
        "acct_xgb_tf = accuracy_score(yt_test, yt_predxgb_tf)\n",
        "acct_xgb_tf_tr = xgb_tf.score(Xt_train,yt_train)\n",
        "\n",
        "print(\" Test accuracy of the XGBoost model : {:.2f}\".format(acct_xgb_tf*100))\n",
        "print(\"Train accuracy of the XGBoost model : {:.2f}\".format(acct_xgb_tf_tr*100))"
      ],
      "metadata": {
        "colab": {
          "base_uri": "https://localhost:8080/"
        },
        "id": "ultb7L111vuK",
        "outputId": "5502dd44-b789-493a-aa5b-255b7f750f12"
      },
      "execution_count": null,
      "outputs": [
        {
          "output_type": "stream",
          "name": "stdout",
          "text": [
            " Test accuracy of the XGBoost model : 76.19\n",
            "Train accuracy of the XGBoost model : 96.62\n"
          ]
        }
      ]
    },
    {
      "cell_type": "code",
      "source": [
        "print('Classification report:',classification_report(yt_test,yt_predxgb_tf ))\n",
        "print('Confusion matrix:', confusion_matrix(yt_test,yt_predxgb_tf))"
      ],
      "metadata": {
        "colab": {
          "base_uri": "https://localhost:8080/"
        },
        "id": "rgL9zNV02fbt",
        "outputId": "20008f4a-82fa-4be5-ec36-69fe7e035cf1"
      },
      "execution_count": null,
      "outputs": [
        {
          "output_type": "stream",
          "name": "stdout",
          "text": [
            "Classification report:               precision    recall  f1-score   support\n",
            "\n",
            "           I       0.76      1.00      0.86        48\n",
            "          II       0.00      0.00      0.00         5\n",
            "         III       0.00      0.00      0.00         4\n",
            "          IV       0.00      0.00      0.00         5\n",
            "           V       0.00      0.00      0.00         1\n",
            "\n",
            "    accuracy                           0.76        63\n",
            "   macro avg       0.15      0.20      0.17        63\n",
            "weighted avg       0.58      0.76      0.66        63\n",
            "\n",
            "Confusion matrix: [[48  0  0  0  0]\n",
            " [ 5  0  0  0  0]\n",
            " [ 4  0  0  0  0]\n",
            " [ 5  0  0  0  0]\n",
            " [ 1  0  0  0  0]]\n"
          ]
        },
        {
          "output_type": "stream",
          "name": "stderr",
          "text": [
            "/usr/local/lib/python3.7/dist-packages/sklearn/metrics/_classification.py:1318: UndefinedMetricWarning: Precision and F-score are ill-defined and being set to 0.0 in labels with no predicted samples. Use `zero_division` parameter to control this behavior.\n",
            "  _warn_prf(average, modifier, msg_start, len(result))\n",
            "/usr/local/lib/python3.7/dist-packages/sklearn/metrics/_classification.py:1318: UndefinedMetricWarning: Precision and F-score are ill-defined and being set to 0.0 in labels with no predicted samples. Use `zero_division` parameter to control this behavior.\n",
            "  _warn_prf(average, modifier, msg_start, len(result))\n",
            "/usr/local/lib/python3.7/dist-packages/sklearn/metrics/_classification.py:1318: UndefinedMetricWarning: Precision and F-score are ill-defined and being set to 0.0 in labels with no predicted samples. Use `zero_division` parameter to control this behavior.\n",
            "  _warn_prf(average, modifier, msg_start, len(result))\n"
          ]
        }
      ]
    },
    {
      "cell_type": "code",
      "source": [
        "#Kneighbours\n",
        "from sklearn.neighbors import KNeighborsClassifier\n",
        "neigh_2 = KNeighborsClassifier(n_neighbors=3)\n",
        "neigh_2.fit(Xt_train, yt_train)"
      ],
      "metadata": {
        "colab": {
          "base_uri": "https://localhost:8080/"
        },
        "id": "LLz-Gk092pNr",
        "outputId": "fa0cb205-b3a9-4337-eda3-16db2829266e"
      },
      "execution_count": null,
      "outputs": [
        {
          "output_type": "execute_result",
          "data": {
            "text/plain": [
              "KNeighborsClassifier(n_neighbors=3)"
            ]
          },
          "metadata": {},
          "execution_count": 79
        }
      ]
    },
    {
      "cell_type": "code",
      "source": [
        "yt_pred_k2 = neigh_2.predict(Xt_test)\n",
        "acc_neigh2 = accuracy_score(yt_test, yt_pred_k2)\n",
        "acc_neigh_tr2 = neigh_2.score(Xt_train,yt_train)\n"
      ],
      "metadata": {
        "id": "diMxWx0h246w"
      },
      "execution_count": null,
      "outputs": []
    },
    {
      "cell_type": "code",
      "source": [
        "print(\" Test accuracy of the KNeighbours model : {:.2f}\".format(acc_neigh2*100))\n",
        "print(\"Train accuracy of the Kneighbours model : {:.2f}\".format(acc_neigh_tr2*100))\n",
        "print('Classification report:',classification_report(yt_test,yt_pred_k2))\n",
        "print('Confusion matrix:', confusion_matrix(yt_test,yt_pred_k2))"
      ],
      "metadata": {
        "colab": {
          "base_uri": "https://localhost:8080/"
        },
        "id": "MJDNjQ2f3E0e",
        "outputId": "0d6885b1-e5b2-47fa-eed0-5922bec468c8"
      },
      "execution_count": null,
      "outputs": [
        {
          "output_type": "stream",
          "name": "stdout",
          "text": [
            " Test accuracy of the KNeighbours model : 74.60\n",
            "Train accuracy of the Kneighbours model : 77.18\n",
            "Classification report:               precision    recall  f1-score   support\n",
            "\n",
            "           I       0.77      0.98      0.86        48\n",
            "          II       0.00      0.00      0.00         5\n",
            "         III       0.00      0.00      0.00         4\n",
            "          IV       0.00      0.00      0.00         5\n",
            "           V       0.00      0.00      0.00         1\n",
            "\n",
            "    accuracy                           0.75        63\n",
            "   macro avg       0.15      0.20      0.17        63\n",
            "weighted avg       0.59      0.75      0.66        63\n",
            "\n",
            "Confusion matrix: [[47  1  0  0  0]\n",
            " [ 5  0  0  0  0]\n",
            " [ 4  0  0  0  0]\n",
            " [ 4  1  0  0  0]\n",
            " [ 1  0  0  0  0]]\n"
          ]
        },
        {
          "output_type": "stream",
          "name": "stderr",
          "text": [
            "/usr/local/lib/python3.7/dist-packages/sklearn/metrics/_classification.py:1318: UndefinedMetricWarning: Precision and F-score are ill-defined and being set to 0.0 in labels with no predicted samples. Use `zero_division` parameter to control this behavior.\n",
            "  _warn_prf(average, modifier, msg_start, len(result))\n",
            "/usr/local/lib/python3.7/dist-packages/sklearn/metrics/_classification.py:1318: UndefinedMetricWarning: Precision and F-score are ill-defined and being set to 0.0 in labels with no predicted samples. Use `zero_division` parameter to control this behavior.\n",
            "  _warn_prf(average, modifier, msg_start, len(result))\n",
            "/usr/local/lib/python3.7/dist-packages/sklearn/metrics/_classification.py:1318: UndefinedMetricWarning: Precision and F-score are ill-defined and being set to 0.0 in labels with no predicted samples. Use `zero_division` parameter to control this behavior.\n",
            "  _warn_prf(average, modifier, msg_start, len(result))\n"
          ]
        }
      ]
    },
    {
      "cell_type": "code",
      "source": [
        "#naive bayes\n",
        "from sklearn.naive_bayes import GaussianNB\n",
        "g_model3 = GaussianNB()\n",
        "g_model3.fit(Xt_train, yt_train)\n",
        "g_pred3 = g_model3.predict(Xt_test)"
      ],
      "metadata": {
        "id": "1E8Kvb4F3Rzm"
      },
      "execution_count": null,
      "outputs": []
    },
    {
      "cell_type": "code",
      "source": [
        "print('Accuracy on Training data:',g_model3.score(Xt_train, yt_train) ) #accuracy of training data\n",
        "print('Accuracy on Test data:',g_model3.score(Xt_test, yt_test) ) #accuracy data of testing data"
      ],
      "metadata": {
        "colab": {
          "base_uri": "https://localhost:8080/"
        },
        "id": "3mw93Ooe3kqZ",
        "outputId": "ab5bf4cb-59ff-4719-9f46-22a839992ff7"
      },
      "execution_count": null,
      "outputs": [
        {
          "output_type": "stream",
          "name": "stdout",
          "text": [
            "Accuracy on Training data: 0.9943661971830986\n",
            "Accuracy on Test data: 0.746031746031746\n"
          ]
        }
      ]
    },
    {
      "cell_type": "code",
      "source": [
        "print('Classification report:',classification_report(yt_test,g_pred3))\n",
        "print('Confusion matrix:', confusion_matrix(yt_test,g_pred3))"
      ],
      "metadata": {
        "colab": {
          "base_uri": "https://localhost:8080/"
        },
        "id": "YBGAyPK93p6t",
        "outputId": "07577d92-ebf5-40ee-d9ee-7fa6fb6cebe9"
      },
      "execution_count": null,
      "outputs": [
        {
          "output_type": "stream",
          "name": "stdout",
          "text": [
            "Classification report:               precision    recall  f1-score   support\n",
            "\n",
            "           I       0.76      0.98      0.85        48\n",
            "          II       0.00      0.00      0.00         5\n",
            "         III       0.00      0.00      0.00         4\n",
            "          IV       0.00      0.00      0.00         5\n",
            "           V       0.00      0.00      0.00         1\n",
            "\n",
            "    accuracy                           0.75        63\n",
            "   macro avg       0.15      0.20      0.17        63\n",
            "weighted avg       0.58      0.75      0.65        63\n",
            "\n",
            "Confusion matrix: [[47  0  0  1  0]\n",
            " [ 5  0  0  0  0]\n",
            " [ 4  0  0  0  0]\n",
            " [ 5  0  0  0  0]\n",
            " [ 1  0  0  0  0]]\n"
          ]
        },
        {
          "output_type": "stream",
          "name": "stderr",
          "text": [
            "/usr/local/lib/python3.7/dist-packages/sklearn/metrics/_classification.py:1318: UndefinedMetricWarning: Precision and F-score are ill-defined and being set to 0.0 in labels with no predicted samples. Use `zero_division` parameter to control this behavior.\n",
            "  _warn_prf(average, modifier, msg_start, len(result))\n",
            "/usr/local/lib/python3.7/dist-packages/sklearn/metrics/_classification.py:1318: UndefinedMetricWarning: Precision and F-score are ill-defined and being set to 0.0 in labels with no predicted samples. Use `zero_division` parameter to control this behavior.\n",
            "  _warn_prf(average, modifier, msg_start, len(result))\n",
            "/usr/local/lib/python3.7/dist-packages/sklearn/metrics/_classification.py:1318: UndefinedMetricWarning: Precision and F-score are ill-defined and being set to 0.0 in labels with no predicted samples. Use `zero_division` parameter to control this behavior.\n",
            "  _warn_prf(average, modifier, msg_start, len(result))\n"
          ]
        }
      ]
    },
    {
      "cell_type": "code",
      "source": [
        "from sklearn.ensemble import BaggingClassifier\n",
        "from sklearn.model_selection import GridSearchCV, StratifiedShuffleSplit\n",
        "n_estimators3 = [10,30,50,70,80,150,160, 170,175,180,185];\n",
        "cv3 = StratifiedShuffleSplit(n_splits=10, test_size=.30, random_state=15)\n",
        "\n",
        "parameters3 = {'n_estimators':n_estimators3,\n",
        "              \n",
        "        }\n",
        "grid3 = GridSearchCV(BaggingClassifier(base_estimator= None, ## If None, then the base estimator is a decision tree.\n",
        "                                      bootstrap_features=False),\n",
        "                                 param_grid=parameters3,\n",
        "                                 cv=cv3,\n",
        "                                 n_jobs = -1)\n",
        "grid3.fit(Xt_train, yt_train) "
      ],
      "metadata": {
        "colab": {
          "base_uri": "https://localhost:8080/"
        },
        "id": "nmWM0seS3zQf",
        "outputId": "7e91051f-5be2-4fb4-a778-977bda74a877"
      },
      "execution_count": null,
      "outputs": [
        {
          "output_type": "execute_result",
          "data": {
            "text/plain": [
              "GridSearchCV(cv=StratifiedShuffleSplit(n_splits=10, random_state=15, test_size=0.3,\n",
              "            train_size=None),\n",
              "             estimator=BaggingClassifier(), n_jobs=-1,\n",
              "             param_grid={'n_estimators': [10, 30, 50, 70, 80, 150, 160, 170,\n",
              "                                          175, 180, 185]})"
            ]
          },
          "metadata": {},
          "execution_count": 85
        }
      ]
    },
    {
      "cell_type": "code",
      "source": [
        "yt_pred_b3 = grid3.predict(Xt_test)\n",
        "acc_b3 = accuracy_score(yt_test, yt_pred_b3)\n",
        "acc_b3_tr = grid3.score(Xt_train,yt_train)\n",
        "\n",
        "print(\" Test accuracy of the Bagging model : {:.2f}\".format(acc_b3*100))\n",
        "print(\"Train accuracy of the Bagging model : {:.2f}\".format(acc_b3_tr*100))\n",
        "print('Classification report:',classification_report(yt_test,yt_pred_b3))\n",
        "print('Confusion matrix:', confusion_matrix(yt_test,yt_pred_b3))"
      ],
      "metadata": {
        "colab": {
          "base_uri": "https://localhost:8080/"
        },
        "id": "P0mCyaG24N5J",
        "outputId": "957995c9-1e1d-4b89-fd63-76bca44bcc37"
      },
      "execution_count": null,
      "outputs": [
        {
          "output_type": "stream",
          "name": "stdout",
          "text": [
            " Test accuracy of the Bagging model : 74.60\n",
            "Train accuracy of the Bagging model : 99.15\n",
            "Classification report:               precision    recall  f1-score   support\n",
            "\n",
            "           I       0.76      0.98      0.85        48\n",
            "          II       0.00      0.00      0.00         5\n",
            "         III       0.00      0.00      0.00         4\n",
            "          IV       0.00      0.00      0.00         5\n",
            "           V       0.00      0.00      0.00         1\n",
            "\n",
            "    accuracy                           0.75        63\n",
            "   macro avg       0.15      0.20      0.17        63\n",
            "weighted avg       0.58      0.75      0.65        63\n",
            "\n",
            "Confusion matrix: [[47  1  0  0  0]\n",
            " [ 5  0  0  0  0]\n",
            " [ 4  0  0  0  0]\n",
            " [ 5  0  0  0  0]\n",
            " [ 1  0  0  0  0]]\n"
          ]
        },
        {
          "output_type": "stream",
          "name": "stderr",
          "text": [
            "/usr/local/lib/python3.7/dist-packages/sklearn/metrics/_classification.py:1318: UndefinedMetricWarning: Precision and F-score are ill-defined and being set to 0.0 in labels with no predicted samples. Use `zero_division` parameter to control this behavior.\n",
            "  _warn_prf(average, modifier, msg_start, len(result))\n",
            "/usr/local/lib/python3.7/dist-packages/sklearn/metrics/_classification.py:1318: UndefinedMetricWarning: Precision and F-score are ill-defined and being set to 0.0 in labels with no predicted samples. Use `zero_division` parameter to control this behavior.\n",
            "  _warn_prf(average, modifier, msg_start, len(result))\n",
            "/usr/local/lib/python3.7/dist-packages/sklearn/metrics/_classification.py:1318: UndefinedMetricWarning: Precision and F-score are ill-defined and being set to 0.0 in labels with no predicted samples. Use `zero_division` parameter to control this behavior.\n",
            "  _warn_prf(average, modifier, msg_start, len(result))\n"
          ]
        }
      ]
    },
    {
      "cell_type": "code",
      "source": [
        "#AdaBoosting\n",
        "from sklearn.ensemble import AdaBoostClassifier\n",
        "clf_ada_t = AdaBoostClassifier(n_estimators=100, random_state=0)\n",
        "clf_ada_t.fit(Xt_train, yt_train)"
      ],
      "metadata": {
        "colab": {
          "base_uri": "https://localhost:8080/"
        },
        "id": "ODmLsc1p4mkL",
        "outputId": "a067e3a3-6307-497f-f2ac-081266cb3974"
      },
      "execution_count": null,
      "outputs": [
        {
          "output_type": "execute_result",
          "data": {
            "text/plain": [
              "AdaBoostClassifier(n_estimators=100, random_state=0)"
            ]
          },
          "metadata": {},
          "execution_count": 87
        }
      ]
    },
    {
      "cell_type": "code",
      "source": [
        "yt_pred_ada_1 = clf_ada_t.predict(Xt_test)\n",
        "acc_ada_t1 = accuracy_score(yt_test, yt_pred_ada_1)\n",
        "acc_ada_t1_tr = clf_ada_t.score(Xt_train,yt_train)\n",
        "\n",
        "print(\" Test accuracy of the ADA model : {:.2f}\".format(acc_ada_t1*100))\n",
        "print(\"Train accuracy of the ADA model : {:.2f}\".format(acc_ada_t1_tr*100))\n",
        "print('Classification report:',classification_report(yt_test,yt_pred_ada_1))\n",
        "print('Confusion matrix:', confusion_matrix(yt_test,yt_pred_ada_1))"
      ],
      "metadata": {
        "colab": {
          "base_uri": "https://localhost:8080/"
        },
        "id": "neMNYsMQ4x9n",
        "outputId": "1852d228-38b9-40c4-b612-8f6091b6c3eb"
      },
      "execution_count": null,
      "outputs": [
        {
          "output_type": "stream",
          "name": "stdout",
          "text": [
            " Test accuracy of the ADA model : 71.43\n",
            "Train accuracy of the ADA model : 74.08\n",
            "Classification report:               precision    recall  f1-score   support\n",
            "\n",
            "           I       0.79      0.92      0.85        48\n",
            "          II       0.00      0.00      0.00         5\n",
            "         III       0.33      0.25      0.29         4\n",
            "          IV       0.00      0.00      0.00         5\n",
            "           V       0.00      0.00      0.00         1\n",
            "\n",
            "    accuracy                           0.71        63\n",
            "   macro avg       0.22      0.23      0.23        63\n",
            "weighted avg       0.62      0.71      0.66        63\n",
            "\n",
            "Confusion matrix: [[44  3  0  1  0]\n",
            " [ 3  0  2  0  0]\n",
            " [ 3  0  1  0  0]\n",
            " [ 5  0  0  0  0]\n",
            " [ 1  0  0  0  0]]\n"
          ]
        },
        {
          "output_type": "stream",
          "name": "stderr",
          "text": [
            "/usr/local/lib/python3.7/dist-packages/sklearn/metrics/_classification.py:1318: UndefinedMetricWarning: Precision and F-score are ill-defined and being set to 0.0 in labels with no predicted samples. Use `zero_division` parameter to control this behavior.\n",
            "  _warn_prf(average, modifier, msg_start, len(result))\n",
            "/usr/local/lib/python3.7/dist-packages/sklearn/metrics/_classification.py:1318: UndefinedMetricWarning: Precision and F-score are ill-defined and being set to 0.0 in labels with no predicted samples. Use `zero_division` parameter to control this behavior.\n",
            "  _warn_prf(average, modifier, msg_start, len(result))\n",
            "/usr/local/lib/python3.7/dist-packages/sklearn/metrics/_classification.py:1318: UndefinedMetricWarning: Precision and F-score are ill-defined and being set to 0.0 in labels with no predicted samples. Use `zero_division` parameter to control this behavior.\n",
            "  _warn_prf(average, modifier, msg_start, len(result))\n"
          ]
        }
      ]
    },
    {
      "cell_type": "code",
      "source": [
        "#Target variable- potential accident level\n",
        "tfidf_vecp = TfidfVectorizer(ngram_range=(1,2))\n",
        "Xpa = tfidf_vecp.fit_transform(X).toarray()\n",
        "\n",
        "Xpa_train, Xpa_test, ypa_train, ypa_test = train_test_split(Xpa, yp, test_size=0.15, random_state=42)"
      ],
      "metadata": {
        "id": "iOs9Lq8L5NGH"
      },
      "execution_count": null,
      "outputs": []
    },
    {
      "cell_type": "code",
      "source": [
        "#SVC Model Training and Evaluation\n",
        "svc_pa = LinearSVC(max_iter=5500)\n",
        "svc_pa.fit(Xpa_train, ypa_train)\n",
        "ypa_pred_pa = svc_pa.predict(Xpa_test)\n",
        "\n",
        "# Evaluation\n",
        "accpa_svc = accuracy_score(ypa_test,ypa_pred_pa  )\n",
        "accpa_svc_pa_tr = svc_pa.score(Xpa_train,ypa_train)\n",
        "\n",
        "print(\"Test accuracy of the SVC model : {:.2f}\".format(accpa_svc*100))\n",
        "print(\"Train accuracy of the SVC model : {:.2f}\".format(accpa_svc_pa_tr*100))"
      ],
      "metadata": {
        "colab": {
          "base_uri": "https://localhost:8080/"
        },
        "id": "w-7wHx7h5kvx",
        "outputId": "1878f846-33e9-40b4-8b5e-2697b117afbe"
      },
      "execution_count": null,
      "outputs": [
        {
          "output_type": "stream",
          "name": "stdout",
          "text": [
            "Test accuracy of the SVC model : 42.86\n",
            "Train accuracy of the SVC model : 99.72\n"
          ]
        }
      ]
    },
    {
      "cell_type": "code",
      "source": [
        "print('Classification report:',classification_report(ypa_test,ypa_pred_pa))\n",
        "print('Confusion matrix:', confusion_matrix(ypa_test,ypa_pred_pa))"
      ],
      "metadata": {
        "colab": {
          "base_uri": "https://localhost:8080/"
        },
        "id": "2KkPhUzy6FQe",
        "outputId": "f27f1083-3bcd-422c-da2a-d97b625bdd7d"
      },
      "execution_count": null,
      "outputs": [
        {
          "output_type": "stream",
          "name": "stdout",
          "text": [
            "Classification report:               precision    recall  f1-score   support\n",
            "\n",
            "           I       0.50      0.14      0.22         7\n",
            "          II       0.56      0.45      0.50        11\n",
            "         III       0.43      0.16      0.23        19\n",
            "          IV       0.40      0.78      0.53        23\n",
            "           V       0.00      0.00      0.00         3\n",
            "\n",
            "    accuracy                           0.43        63\n",
            "   macro avg       0.38      0.31      0.30        63\n",
            "weighted avg       0.43      0.43      0.37        63\n",
            "\n",
            "Confusion matrix: [[ 1  1  2  3  0]\n",
            " [ 0  5  1  5  0]\n",
            " [ 0  0  3 16  0]\n",
            " [ 1  3  1 18  0]\n",
            " [ 0  0  0  3  0]]\n"
          ]
        },
        {
          "output_type": "stream",
          "name": "stderr",
          "text": [
            "/usr/local/lib/python3.7/dist-packages/sklearn/metrics/_classification.py:1318: UndefinedMetricWarning: Precision and F-score are ill-defined and being set to 0.0 in labels with no predicted samples. Use `zero_division` parameter to control this behavior.\n",
            "  _warn_prf(average, modifier, msg_start, len(result))\n",
            "/usr/local/lib/python3.7/dist-packages/sklearn/metrics/_classification.py:1318: UndefinedMetricWarning: Precision and F-score are ill-defined and being set to 0.0 in labels with no predicted samples. Use `zero_division` parameter to control this behavior.\n",
            "  _warn_prf(average, modifier, msg_start, len(result))\n",
            "/usr/local/lib/python3.7/dist-packages/sklearn/metrics/_classification.py:1318: UndefinedMetricWarning: Precision and F-score are ill-defined and being set to 0.0 in labels with no predicted samples. Use `zero_division` parameter to control this behavior.\n",
            "  _warn_prf(average, modifier, msg_start, len(result))\n"
          ]
        }
      ]
    },
    {
      "cell_type": "code",
      "source": [
        "#Random forest\n",
        "rf_pa = RandomForestClassifier(random_state=42)\n",
        "rf_pa.fit(Xpa_train, ypa_train)\n",
        "ypa_pred_rf = rf_pa.predict(Xpa_test)\n",
        "\n",
        "acc_pa_rf = accuracy_score(ypa_test, ypa_pred_rf)\n",
        "acc_pa_rf_tr = rf_pa.score(Xpa_train, ypa_train)\n",
        "\n",
        "print(\"Test accuracy of the Random Forest model : {:.2f}\".format(acc_pa_rf*100))\n",
        "print(\"Train accuracy of the Random Forest model : {:.2f}\".format(acc_pa_rf_tr*100))\n",
        "print('Classification report:',classification_report(ypa_test,ypa_pred_rf))\n",
        "print('Confusion matrix:', confusion_matrix(ypa_test,ypa_pred_rf))"
      ],
      "metadata": {
        "colab": {
          "base_uri": "https://localhost:8080/"
        },
        "id": "uKVu-xAV6PGG",
        "outputId": "dcdc5cc6-4593-4d44-8831-2b739b3aa771"
      },
      "execution_count": null,
      "outputs": [
        {
          "output_type": "stream",
          "name": "stdout",
          "text": [
            "Test accuracy of the Random Forest model : 41.27\n",
            "Train accuracy of the Random Forest model : 99.72\n",
            "Classification report:               precision    recall  f1-score   support\n",
            "\n",
            "           I       1.00      0.14      0.25         7\n",
            "          II       0.75      0.27      0.40        11\n",
            "         III       0.36      0.21      0.27        19\n",
            "          IV       0.38      0.78      0.51        23\n",
            "           V       0.00      0.00      0.00         3\n",
            "\n",
            "    accuracy                           0.41        63\n",
            "   macro avg       0.50      0.28      0.29        63\n",
            "weighted avg       0.49      0.41      0.37        63\n",
            "\n",
            "Confusion matrix: [[ 1  0  1  5  0]\n",
            " [ 0  3  2  6  0]\n",
            " [ 0  0  4 15  0]\n",
            " [ 0  1  4 18  0]\n",
            " [ 0  0  0  3  0]]\n"
          ]
        },
        {
          "output_type": "stream",
          "name": "stderr",
          "text": [
            "/usr/local/lib/python3.7/dist-packages/sklearn/metrics/_classification.py:1318: UndefinedMetricWarning: Precision and F-score are ill-defined and being set to 0.0 in labels with no predicted samples. Use `zero_division` parameter to control this behavior.\n",
            "  _warn_prf(average, modifier, msg_start, len(result))\n",
            "/usr/local/lib/python3.7/dist-packages/sklearn/metrics/_classification.py:1318: UndefinedMetricWarning: Precision and F-score are ill-defined and being set to 0.0 in labels with no predicted samples. Use `zero_division` parameter to control this behavior.\n",
            "  _warn_prf(average, modifier, msg_start, len(result))\n",
            "/usr/local/lib/python3.7/dist-packages/sklearn/metrics/_classification.py:1318: UndefinedMetricWarning: Precision and F-score are ill-defined and being set to 0.0 in labels with no predicted samples. Use `zero_division` parameter to control this behavior.\n",
            "  _warn_prf(average, modifier, msg_start, len(result))\n"
          ]
        }
      ]
    },
    {
      "cell_type": "code",
      "source": [
        "#Gradient boosting\n",
        "gb_pa = GradientBoostingClassifier(n_estimators=100)\n",
        "gb_pa.fit(Xpa_train, ypa_train)\n",
        "ypa_pred_gb = gb_pa.predict(Xpa_test)\n",
        "acc_pa_gb = accuracy_score(ypa_test,ypa_pred_gb )\n",
        "acc_pa_gb_tr = gb_pa.score(Xpa_train, ypa_train)\n",
        "\n",
        "print(\"Test accuracy of the Gradient boosting model : {:.2f}\".format(acc_pa_gb*100))\n",
        "print(\"Train accuracy of the Gradient boosting model : {:.2f}\".format(acc_pa_gb_tr*100))\n",
        "print('Classification report:',classification_report(ypa_test,ypa_pred_gb))\n",
        "print('Confusion matrix:', confusion_matrix(ypa_test,ypa_pred_gb))"
      ],
      "metadata": {
        "colab": {
          "base_uri": "https://localhost:8080/"
        },
        "id": "_UNmDeu161MK",
        "outputId": "71b82d74-451f-4693-ba06-83e003c3a6fe"
      },
      "execution_count": null,
      "outputs": [
        {
          "output_type": "stream",
          "name": "stdout",
          "text": [
            "Test accuracy of the Gradient boosting model : 41.27\n",
            "Train accuracy of the Gradient boosting model : 99.72\n",
            "Classification report:               precision    recall  f1-score   support\n",
            "\n",
            "           I       1.00      0.14      0.25         7\n",
            "          II       0.00      0.00      0.00        11\n",
            "         III       0.36      0.42      0.39        19\n",
            "          IV       0.47      0.74      0.58        23\n",
            "           V       0.00      0.00      0.00         3\n",
            "\n",
            "    accuracy                           0.41        63\n",
            "   macro avg       0.37      0.26      0.24        63\n",
            "weighted avg       0.39      0.41      0.36        63\n",
            "\n",
            "Confusion matrix: [[ 1  1  3  2  0]\n",
            " [ 0  0  5  5  1]\n",
            " [ 0  2  8  9  0]\n",
            " [ 0  0  6 17  0]\n",
            " [ 0  0  0  3  0]]\n"
          ]
        }
      ]
    },
    {
      "cell_type": "code",
      "source": [
        "#XGBoost Model for Training and Evaluation\n",
        "xgb_pa = XGBClassifier()\n",
        "xgb_pa.fit(Xpa_train, ypa_train)\n",
        "ypa_pred_pa = xgb_pa.predict(Xpa_test)\n",
        "acc_pa_xgb = accuracy_score(ypa_test,ypa_pred_pa )\n",
        "acc_pa_xgb_tr = xgb_pa.score(Xpa_train,ypa_train)\n",
        "\n",
        "print(\" Test accuracy of the XGBoost model : {:.2f}\".format(acc_pa_xgb*100))\n",
        "print(\"Train accuracy of the XGBoost model : {:.2f}\".format(acc_pa_xgb_tr*100))\n",
        "print('Classification report:',classification_report(ypa_test,ypa_pred_pa))\n",
        "print('Confusion matrix:', confusion_matrix(ypa_test,ypa_pred_pa))"
      ],
      "metadata": {
        "colab": {
          "base_uri": "https://localhost:8080/"
        },
        "id": "r0vaXaQp7YTf",
        "outputId": "26e5fd27-02e8-499e-9b30-42bc0a2ae131"
      },
      "execution_count": null,
      "outputs": [
        {
          "output_type": "stream",
          "name": "stdout",
          "text": [
            " Test accuracy of the XGBoost model : 42.86\n",
            "Train accuracy of the XGBoost model : 97.18\n",
            "Classification report:               precision    recall  f1-score   support\n",
            "\n",
            "           I       1.00      0.14      0.25         7\n",
            "          II       0.30      0.27      0.29        11\n",
            "         III       0.39      0.37      0.38        19\n",
            "          IV       0.48      0.70      0.57        23\n",
            "           V       0.00      0.00      0.00         3\n",
            "\n",
            "    accuracy                           0.43        63\n",
            "   macro avg       0.43      0.30      0.30        63\n",
            "weighted avg       0.46      0.43      0.40        63\n",
            "\n",
            "Confusion matrix: [[ 1  1  3  2  0]\n",
            " [ 0  3  4  4  0]\n",
            " [ 0  3  7  8  1]\n",
            " [ 0  3  4 16  0]\n",
            " [ 0  0  0  3  0]]\n"
          ]
        }
      ]
    },
    {
      "cell_type": "code",
      "source": [
        "#Kneighbours\n",
        "from sklearn.neighbors import KNeighborsClassifier\n",
        "neigh_4 = KNeighborsClassifier(n_neighbors=3)\n",
        "neigh_4.fit(Xpa_train, ypa_train)"
      ],
      "metadata": {
        "colab": {
          "base_uri": "https://localhost:8080/"
        },
        "id": "Es8JNfFe8BTa",
        "outputId": "17342401-572a-46c8-e3e9-b01b794cf3ee"
      },
      "execution_count": null,
      "outputs": [
        {
          "output_type": "execute_result",
          "data": {
            "text/plain": [
              "KNeighborsClassifier(n_neighbors=3)"
            ]
          },
          "metadata": {},
          "execution_count": 95
        }
      ]
    },
    {
      "cell_type": "code",
      "source": [
        "ypa_pred_k1 = neigh_4.predict(Xpa_test)\n",
        "acc_pa_neigh1 = accuracy_score(ypa_test, ypa_pred_k1)\n",
        "acc_pa_neigh_tr1 = neigh_4.score(Xpa_train,ypa_train)\n"
      ],
      "metadata": {
        "id": "MAlp4aij8SBg"
      },
      "execution_count": null,
      "outputs": []
    },
    {
      "cell_type": "code",
      "source": [
        "print(\" Test accuracy of the KNeighbours model : {:.2f}\".format(acc_pa_neigh1*100))\n",
        "print(\"Train accuracy of the Kneighbours model : {:.2f}\".format(acc_pa_neigh_tr1*100))\n",
        "print('Classification report:',classification_report(ypa_test,ypa_pred_k1))\n",
        "print('Confusion matrix:', confusion_matrix(ypa_test,ypa_pred_k1))"
      ],
      "metadata": {
        "colab": {
          "base_uri": "https://localhost:8080/"
        },
        "id": "AEw61AHG8eUL",
        "outputId": "fc9dfb34-8eed-4ce5-b913-23b5d8697022"
      },
      "execution_count": null,
      "outputs": [
        {
          "output_type": "stream",
          "name": "stdout",
          "text": [
            " Test accuracy of the KNeighbours model : 39.68\n",
            "Train accuracy of the Kneighbours model : 63.94\n",
            "Classification report:               precision    recall  f1-score   support\n",
            "\n",
            "           I       0.11      0.14      0.12         7\n",
            "          II       0.39      0.64      0.48        11\n",
            "         III       0.40      0.21      0.28        19\n",
            "          IV       0.50      0.57      0.53        23\n",
            "           V       0.00      0.00      0.00         3\n",
            "\n",
            "    accuracy                           0.40        63\n",
            "   macro avg       0.28      0.31      0.28        63\n",
            "weighted avg       0.38      0.40      0.38        63\n",
            "\n",
            "Confusion matrix: [[ 1  4  1  1  0]\n",
            " [ 1  7  1  2  0]\n",
            " [ 4  3  4  8  0]\n",
            " [ 3  3  4 13  0]\n",
            " [ 0  1  0  2  0]]\n"
          ]
        },
        {
          "output_type": "stream",
          "name": "stderr",
          "text": [
            "/usr/local/lib/python3.7/dist-packages/sklearn/metrics/_classification.py:1318: UndefinedMetricWarning: Precision and F-score are ill-defined and being set to 0.0 in labels with no predicted samples. Use `zero_division` parameter to control this behavior.\n",
            "  _warn_prf(average, modifier, msg_start, len(result))\n",
            "/usr/local/lib/python3.7/dist-packages/sklearn/metrics/_classification.py:1318: UndefinedMetricWarning: Precision and F-score are ill-defined and being set to 0.0 in labels with no predicted samples. Use `zero_division` parameter to control this behavior.\n",
            "  _warn_prf(average, modifier, msg_start, len(result))\n",
            "/usr/local/lib/python3.7/dist-packages/sklearn/metrics/_classification.py:1318: UndefinedMetricWarning: Precision and F-score are ill-defined and being set to 0.0 in labels with no predicted samples. Use `zero_division` parameter to control this behavior.\n",
            "  _warn_prf(average, modifier, msg_start, len(result))\n"
          ]
        }
      ]
    },
    {
      "cell_type": "code",
      "source": [
        "#naive bayes\n",
        "from sklearn.naive_bayes import GaussianNB\n",
        "g_model_pa = GaussianNB()\n",
        "g_model_pa.fit(Xpa_train, ypa_train)\n",
        "g_pred_pa = g_model_pa.predict(Xpa_test)"
      ],
      "metadata": {
        "id": "vNyysc_V8pov"
      },
      "execution_count": null,
      "outputs": []
    },
    {
      "cell_type": "code",
      "source": [
        "print('Accuracy on Training data:',g_model_pa.score(Xpa_train, ypa_train) ) #accuracy of training data\n",
        "print('Accuracy on Test data:',g_model_pa.score(Xpa_test, ypa_test) ) #accuracy data of testing data"
      ],
      "metadata": {
        "colab": {
          "base_uri": "https://localhost:8080/"
        },
        "id": "fV421-hL81CH",
        "outputId": "51fc6c26-d41e-4190-a79b-aa512130f2ee"
      },
      "execution_count": null,
      "outputs": [
        {
          "output_type": "stream",
          "name": "stdout",
          "text": [
            "Accuracy on Training data: 0.9971830985915493\n",
            "Accuracy on Test data: 0.4444444444444444\n"
          ]
        }
      ]
    },
    {
      "cell_type": "code",
      "source": [
        "print('Classification report:',classification_report(ypa_test,g_pred_pa))\n",
        "print('Confusion matrix:', confusion_matrix(ypa_test,g_pred_pa))"
      ],
      "metadata": {
        "colab": {
          "base_uri": "https://localhost:8080/"
        },
        "id": "VS3mf1oh89zB",
        "outputId": "9c9e214c-0379-4266-d6bb-883cbdde9f64"
      },
      "execution_count": null,
      "outputs": [
        {
          "output_type": "stream",
          "name": "stdout",
          "text": [
            "Classification report:               precision    recall  f1-score   support\n",
            "\n",
            "           I       0.25      0.14      0.18         7\n",
            "          II       0.50      0.36      0.42        11\n",
            "         III       0.42      0.26      0.32        19\n",
            "          IV       0.47      0.78      0.59        23\n",
            "           V       0.00      0.00      0.00         3\n",
            "\n",
            "    accuracy                           0.44        63\n",
            "   macro avg       0.33      0.31      0.30        63\n",
            "weighted avg       0.41      0.44      0.41        63\n",
            "\n",
            "Confusion matrix: [[ 1  2  2  1  1]\n",
            " [ 1  4  1  5  0]\n",
            " [ 0  1  5 13  0]\n",
            " [ 2  0  3 18  0]\n",
            " [ 0  1  1  1  0]]\n"
          ]
        }
      ]
    },
    {
      "cell_type": "code",
      "source": [
        "#Bagging\n",
        "from sklearn.ensemble import BaggingClassifier\n",
        "from sklearn.model_selection import GridSearchCV, ShuffleSplit\n",
        "n_estimators_pa = [10,30,50,70,80,150,160, 170,175,180,185];\n",
        "cvpa = ShuffleSplit(n_splits=10, test_size=.30, random_state=15)\n",
        "\n",
        "parameters_pa = {'n_estimators':n_estimators_pa,\n",
        "              \n",
        "        }\n",
        "grid_pa = GridSearchCV(BaggingClassifier(base_estimator= None, ## If None, then the base estimator is a decision tree.\n",
        "                                      bootstrap_features=False),\n",
        "                                 param_grid=parameters_pa,\n",
        "                                 cv=cvpa,\n",
        "                                 n_jobs = -1)\n"
      ],
      "metadata": {
        "id": "ZEtIhXHZ9HcN"
      },
      "execution_count": null,
      "outputs": []
    },
    {
      "cell_type": "code",
      "source": [
        "grid_pa.fit(Xpa_train, ypa_train) "
      ],
      "metadata": {
        "colab": {
          "base_uri": "https://localhost:8080/"
        },
        "id": "0Ys1c1us9Wr0",
        "outputId": "298eebfc-8718-4446-c12d-100ca74af7be"
      },
      "execution_count": null,
      "outputs": [
        {
          "output_type": "execute_result",
          "data": {
            "text/plain": [
              "GridSearchCV(cv=ShuffleSplit(n_splits=10, random_state=15, test_size=0.3, train_size=None),\n",
              "             estimator=BaggingClassifier(), n_jobs=-1,\n",
              "             param_grid={'n_estimators': [10, 30, 50, 70, 80, 150, 160, 170,\n",
              "                                          175, 180, 185]})"
            ]
          },
          "metadata": {},
          "execution_count": 102
        }
      ]
    },
    {
      "cell_type": "code",
      "source": [
        "ypa_pred_b1 = grid_pa.predict(Xpa_test)\n",
        "acc_pa_b1 = accuracy_score(ypa_test, ypa_pred_b1)\n",
        "acc_pa_b1_tr = grid_pa.score(Xpa_train,ypa_train)\n",
        "\n",
        "print(\" Test accuracy of the Bagging model : {:.2f}\".format(acc_pa_b1*100))\n",
        "print(\"Train accuracy of the Bagging model : {:.2f}\".format(acc_pa_b1_tr*100))\n",
        "print('Classification report:',classification_report(ypa_test,ypa_pred_b1))\n",
        "print('Confusion matrix:', confusion_matrix(ypa_test,ypa_pred_b1))"
      ],
      "metadata": {
        "colab": {
          "base_uri": "https://localhost:8080/"
        },
        "id": "q8zjOGX49fHN",
        "outputId": "af8e6967-a1a9-4ae4-b73e-332fe0cd4374"
      },
      "execution_count": null,
      "outputs": [
        {
          "output_type": "stream",
          "name": "stdout",
          "text": [
            " Test accuracy of the Bagging model : 47.62\n",
            "Train accuracy of the Bagging model : 99.72\n",
            "Classification report:               precision    recall  f1-score   support\n",
            "\n",
            "           I       1.00      0.14      0.25         7\n",
            "          II       0.57      0.36      0.44        11\n",
            "         III       0.43      0.32      0.36        19\n",
            "          IV       0.46      0.83      0.59        23\n",
            "           V       0.00      0.00      0.00         3\n",
            "\n",
            "    accuracy                           0.48        63\n",
            "   macro avg       0.49      0.33      0.33        63\n",
            "weighted avg       0.51      0.48      0.43        63\n",
            "\n",
            "Confusion matrix: [[ 1  0  2  4  0]\n",
            " [ 0  4  3  4  0]\n",
            " [ 0  2  6 11  0]\n",
            " [ 0  1  3 19  0]\n",
            " [ 0  0  0  3  0]]\n"
          ]
        },
        {
          "output_type": "stream",
          "name": "stderr",
          "text": [
            "/usr/local/lib/python3.7/dist-packages/sklearn/metrics/_classification.py:1318: UndefinedMetricWarning: Precision and F-score are ill-defined and being set to 0.0 in labels with no predicted samples. Use `zero_division` parameter to control this behavior.\n",
            "  _warn_prf(average, modifier, msg_start, len(result))\n",
            "/usr/local/lib/python3.7/dist-packages/sklearn/metrics/_classification.py:1318: UndefinedMetricWarning: Precision and F-score are ill-defined and being set to 0.0 in labels with no predicted samples. Use `zero_division` parameter to control this behavior.\n",
            "  _warn_prf(average, modifier, msg_start, len(result))\n",
            "/usr/local/lib/python3.7/dist-packages/sklearn/metrics/_classification.py:1318: UndefinedMetricWarning: Precision and F-score are ill-defined and being set to 0.0 in labels with no predicted samples. Use `zero_division` parameter to control this behavior.\n",
            "  _warn_prf(average, modifier, msg_start, len(result))\n"
          ]
        }
      ]
    },
    {
      "cell_type": "code",
      "source": [
        "#ADA boosting\n",
        "from sklearn.ensemble import AdaBoostClassifier\n",
        "clf_pa_ada1 = AdaBoostClassifier(n_estimators=100, random_state=0)\n",
        "clf_pa_ada1.fit(Xpa_train, ypa_train)"
      ],
      "metadata": {
        "colab": {
          "base_uri": "https://localhost:8080/"
        },
        "id": "pbV3Z7Hu9xsg",
        "outputId": "46811993-a40d-4925-f3f6-8d016a62b322"
      },
      "execution_count": null,
      "outputs": [
        {
          "output_type": "execute_result",
          "data": {
            "text/plain": [
              "AdaBoostClassifier(n_estimators=100, random_state=0)"
            ]
          },
          "metadata": {},
          "execution_count": 104
        }
      ]
    },
    {
      "cell_type": "code",
      "source": [
        "ypa_pred_ada1 = clf_pa_ada1.predict(Xpa_test)\n",
        "acc_pa_ada1 = accuracy_score(ypa_test, ypa_pred_ada1)\n",
        "acc_pa_ada1_tr = clf_pa_ada1.score(Xpa_train,ypa_train)\n",
        "\n",
        "print(\" Test accuracy of the ADA model : {:.2f}\".format(acc_pa_ada1*100))\n",
        "print(\"Train accuracy of the ADA model : {:.2f}\".format(acc_pa_ada1_tr*100))\n",
        "print('Classification report:',classification_report(ypa_test,ypa_pred_ada1))\n",
        "print('Confusion matrix:', confusion_matrix(ypa_test,ypa_pred_ada1))"
      ],
      "metadata": {
        "colab": {
          "base_uri": "https://localhost:8080/"
        },
        "id": "wXWGvSDh97ku",
        "outputId": "ca13a9be-2225-44c0-bba2-6663f4b3265b"
      },
      "execution_count": null,
      "outputs": [
        {
          "output_type": "stream",
          "name": "stdout",
          "text": [
            " Test accuracy of the ADA model : 28.57\n",
            "Train accuracy of the ADA model : 43.38\n",
            "Classification report:               precision    recall  f1-score   support\n",
            "\n",
            "           I       1.00      0.14      0.25         7\n",
            "          II       0.25      0.09      0.13        11\n",
            "         III       0.00      0.00      0.00        19\n",
            "          IV       0.32      0.70      0.44        23\n",
            "           V       0.00      0.00      0.00         3\n",
            "\n",
            "    accuracy                           0.29        63\n",
            "   macro avg       0.31      0.19      0.16        63\n",
            "weighted avg       0.27      0.29      0.21        63\n",
            "\n",
            "Confusion matrix: [[ 1  0  1  5  0]\n",
            " [ 0  1  0  9  1]\n",
            " [ 0  1  0 17  1]\n",
            " [ 0  2  3 16  2]\n",
            " [ 0  0  0  3  0]]\n"
          ]
        }
      ]
    },
    {
      "cell_type": "code",
      "source": [
        "#Comparing all machine learning models\n",
        "#Machine learning models with target variable as accident level and count vectorization\n",
        "models_list_accidentlevel = [\"SVC using CountVectorizer\",\"Random forest using count vectorization\",\"Gradient Boosting using count vectorization\",\"Xgboost model using count vectorization\",\"Kneighbours using count vectorization\",\"Naive bayes using count vectorization\", \"Bagging using count vectorization\",\"ADA boosting using countvectorization\"]\n",
        "\n",
        "accuracy_accidentlevel = [acc_svc,acc_rfc,acc_gbc,acc_xgbc,acc_neigh,g_model1.score(Xc_test, yc_test),acc_b,acc_ada]\n",
        "print(accuracy_accidentlevel)"
      ],
      "metadata": {
        "id": "dvW5apVbC-UR",
        "colab": {
          "base_uri": "https://localhost:8080/"
        },
        "outputId": "de764b67-db0c-4206-9422-ab302156a430"
      },
      "execution_count": null,
      "outputs": [
        {
          "output_type": "stream",
          "name": "stdout",
          "text": [
            "[0.7619047619047619, 0.7619047619047619, 0.7142857142857143, 0.7301587301587301, 0.7619047619047619, 0.746031746031746, 0.7619047619047619, 0.7301587301587301]\n"
          ]
        }
      ]
    },
    {
      "cell_type": "code",
      "source": [
        "# creating the bar plot\n",
        "fig = plt.figure(figsize = (10, 5)) \n",
        "plt.bar(models_list_accidentlevel, accuracy_accidentlevel, color ='green',width=0.8,) \n",
        "  \n",
        "plt.xlabel(\"Models to predict Accident level\") \n",
        "plt.xticks(rotation = 'vertical')\n",
        "plt.ylabel(\"Accuracy\") \n",
        "plt.title(\"Comparison of accuracies of various models for Accident level using count vectorization\") \n",
        "plt.show() "
      ],
      "metadata": {
        "colab": {
          "base_uri": "https://localhost:8080/",
          "height": 560
        },
        "id": "GidYRjG3iGoZ",
        "outputId": "3232e18e-1e56-4b15-9637-d27033cfd2a7"
      },
      "execution_count": null,
      "outputs": [
        {
          "output_type": "display_data",
          "data": {
            "text/plain": [
              "<Figure size 720x360 with 1 Axes>"
            ],
            "image/png": "[encoded data removed]"
          },
          "metadata": {
            "needs_background": "light"
          }
        }
      ]
    },
    {
      "cell_type": "code",
      "source": [
        "models_list_accidentlevel_tf = [\"SVC using TF-IDF\",\"Random forest using TF-IDF\",\"Gradient Boosting using TF-IDF\",\"Xgboost model using TF-IDF\",\"Kneighbours using TF-IDF\",\"Naive bayes using TF-IDF\", \"Bagging using TF-IDF\",\"ADA boosting using TF-IDF\"]\n",
        "\n",
        "accuracy_accidentlevel_tf = [acct_svctf,acct_rfc_tf,acct_gb_tf,acct_xgb_tf,acc_neigh2,g_model3.score(Xt_test, yt_test),acc_b3,acc_ada_t1\n",
        "]\n",
        "print(accuracy_accidentlevel_tf)"
      ],
      "metadata": {
        "colab": {
          "base_uri": "https://localhost:8080/"
        },
        "id": "vf3_rsOlicQ3",
        "outputId": "93f1249b-7b91-45cc-8a23-427e40cca492"
      },
      "execution_count": null,
      "outputs": [
        {
          "output_type": "stream",
          "name": "stdout",
          "text": [
            "[0.7619047619047619, 0.7619047619047619, 0.6825396825396826, 0.7619047619047619, 0.746031746031746, 0.746031746031746, 0.746031746031746, 0.7142857142857143]\n"
          ]
        }
      ]
    },
    {
      "cell_type": "code",
      "source": [
        "# creating the bar plot\n",
        "fig = plt.figure(figsize = (10, 5)) \n",
        "plt.bar(models_list_accidentlevel_tf, accuracy_accidentlevel_tf, color ='green',width=0.8,) \n",
        "  \n",
        "plt.xlabel(\"Models to predict Accident level\") \n",
        "plt.xticks(rotation = 'vertical')\n",
        "plt.ylabel(\"Accuracy\") \n",
        "plt.title(\"Comparison of accuracies of various models for Accident level with TF-IDF\") \n",
        "plt.show() "
      ],
      "metadata": {
        "colab": {
          "base_uri": "https://localhost:8080/",
          "height": 495
        },
        "id": "7Jmxzi_GkICD",
        "outputId": "548b3393-92d9-4f45-a21e-fd3ccbfe1baf"
      },
      "execution_count": null,
      "outputs": [
        {
          "output_type": "display_data",
          "data": {
            "text/plain": [
              "<Figure size 720x360 with 1 Axes>"
            ],
            "image/png": "[encoded data removed]"
          },
          "metadata": {
            "needs_background": "light"
          }
        }
      ]
    },
    {
      "cell_type": "code",
      "source": [
        "#Comparing machine learning models with target variable as potential accidentlevel.\n",
        "#comparing count vectorization models\n",
        "models_list_potentialaccidentlevel = [\"SVC using CountVectorizer\",\"Random forest using count vectorization\",\"Gradient Boosting using count vectorization\",\"Xgboost model using count vectorization\",\"Kneighbours using count vectorization\",\"Naive bayes using count vectorization\", \"Bagging using count vectorization\",\"ADA boosting using countvectorization\"]\n",
        "\n",
        "accuracy_paccidentlevel = [accp_svc,accp_rfc,accp_gbc,accp_xgbc,acc_neigh1,g_model2.score(Xp_test, yp_test),acc_b1,acc_ada1]\n",
        "print(accuracy_paccidentlevel)"
      ],
      "metadata": {
        "colab": {
          "base_uri": "https://localhost:8080/"
        },
        "id": "KmXpzR0SkTfk",
        "outputId": "705a4060-052a-4f5a-c33c-c39cd6efb3ac"
      },
      "execution_count": null,
      "outputs": [
        {
          "output_type": "stream",
          "name": "stdout",
          "text": [
            "[0.4444444444444444, 0.38095238095238093, 0.38095238095238093, 0.31746031746031744, 0.25396825396825395, 0.42857142857142855, 0.36507936507936506, 0.36507936507936506]\n"
          ]
        }
      ]
    },
    {
      "cell_type": "code",
      "source": [
        "# creating the bar plot\n",
        "fig = plt.figure(figsize = (10, 5)) \n",
        "plt.bar(models_list_potentialaccidentlevel, accuracy_paccidentlevel, color ='green',width=0.8,) \n",
        "  \n",
        "plt.xlabel(\"Models to predict Potential Accident level\") \n",
        "plt.xticks(rotation = 'vertical')\n",
        "plt.ylabel(\"Accuracy\") \n",
        "plt.title(\"Comparison of accuracies of various models for Potential Accident level with count vectorizatiom\") \n",
        "plt.show() "
      ],
      "metadata": {
        "colab": {
          "base_uri": "https://localhost:8080/",
          "height": 560
        },
        "id": "t5g7A_4klnkO",
        "outputId": "b73add8b-9d22-4ad4-a9a3-e791eaa3a8c3"
      },
      "execution_count": null,
      "outputs": [
        {
          "output_type": "display_data",
          "data": {
            "text/plain": [
              "<Figure size 720x360 with 1 Axes>"
            ],
            "image/png": "[encoded data removed]"
          },
          "metadata": {
            "needs_background": "light"
          }
        }
      ]
    },
    {
      "cell_type": "code",
      "source": [
        "#comparing machine learning models with TF-IDF for the target variable potential accident level.\n",
        "models_list_paccidentlevel_tf = [\"SVC using TF-IDF\",\"Random forest using TF-IDF\",\"Gradient Boosting using TF-IDF\",\"Xgboost model using TF-IDF\",\"Kneighbours using TF-IDF\",\"Naive bayes using TF-IDF\", \"Bagging using TF-IDF\",\"ADA boosting using TF-IDF\"]\n",
        "\n",
        "accuracy_paccidentlevel_tf = [accpa_svc,acc_pa_rf,acc_pa_gb,acc_pa_xgb,acc_pa_neigh1,g_model_pa.score(Xpa_test, ypa_test),acc_pa_b1,acc_pa_ada1]\n",
        "print(accuracy_paccidentlevel_tf)"
      ],
      "metadata": {
        "colab": {
          "base_uri": "https://localhost:8080/"
        },
        "id": "iEOTO9tml01s",
        "outputId": "08d3a6f3-9f30-41e0-d4dd-33ff78378eaf"
      },
      "execution_count": null,
      "outputs": [
        {
          "output_type": "stream",
          "name": "stdout",
          "text": [
            "[0.42857142857142855, 0.4126984126984127, 0.4126984126984127, 0.42857142857142855, 0.3968253968253968, 0.4444444444444444, 0.47619047619047616, 0.2857142857142857]\n"
          ]
        }
      ]
    },
    {
      "cell_type": "code",
      "source": [
        "# creating the bar plot\n",
        "fig = plt.figure(figsize = (10, 5)) \n",
        "plt.bar(models_list_potentialaccidentlevel, accuracy_paccidentlevel, color ='green',width=0.8,) \n",
        "  \n",
        "plt.xlabel(\"Models to predict Potential Accident level\") \n",
        "plt.xticks(rotation = 'vertical')\n",
        "plt.ylabel(\"Accuracy\") \n",
        "plt.title(\"Comparison of accuracies of various models for Potential Accident level with TF-IDF\") \n",
        "plt.show()"
      ],
      "metadata": {
        "colab": {
          "base_uri": "https://localhost:8080/",
          "height": 560
        },
        "id": "txIm3V2rnNP2",
        "outputId": "7554828b-6651-4afb-c7e8-a05e1d9d8fb2"
      },
      "execution_count": null,
      "outputs": [
        {
          "output_type": "display_data",
          "data": {
            "text/plain": [
              "<Figure size 720x360 with 1 Axes>"
            ],
            "image/png": "[encoded data removed]"
          },
          "metadata": {
            "needs_background": "light"
          }
        }
      ]
    },
    {
      "cell_type": "code",
      "source": [
        "df3=data1.copy()"
      ],
      "metadata": {
        "id": "nFlsE16kMtUF"
      },
      "execution_count": null,
      "outputs": []
    },
    {
      "cell_type": "code",
      "source": [
        "from sklearn.preprocessing import LabelEncoder\n",
        "acident_level_encoder1 = LabelEncoder()\n",
        "df3['Accident Level'] = acident_level_encoder1.fit_transform(df3['Accident Level'])\n",
        "\n",
        "potentital_accident_level_encoder1 = LabelEncoder()\n",
        "df3['Potential Accident Level'] = potentital_accident_level_encoder1.fit_transform(df3['Potential Accident Level'])"
      ],
      "metadata": {
        "id": "gNvY6RSYMxf3"
      },
      "execution_count": null,
      "outputs": []
    },
    {
      "cell_type": "code",
      "source": [
        "y_p=df3['Accident Level']"
      ],
      "metadata": {
        "id": "mhpSBZJXOTtE"
      },
      "execution_count": null,
      "outputs": []
    },
    {
      "cell_type": "code",
      "source": [
        "df3"
      ],
      "metadata": {
        "colab": {
          "base_uri": "https://localhost:8080/",
          "height": 1000
        },
        "id": "mVFpU3E1PFJ7",
        "outputId": "a911bb57-cd45-4c86-c301-d976df506410"
      },
      "execution_count": null,
      "outputs": [
        {
          "output_type": "execute_result",
          "data": {
            "text/plain": [
              "           Date     Country  Local Industry Sector  Accident Level  \\\n",
              "0    2016-01-01  Country_01      1          Mining               0   \n",
              "1    2016-01-02  Country_02      2          Mining               0   \n",
              "2    2016-01-06  Country_01      3          Mining               0   \n",
              "3    2016-01-08  Country_01      4          Mining               0   \n",
              "4    2016-01-10  Country_01      4          Mining               3   \n",
              "..          ...         ...    ...             ...             ...   \n",
              "413  2017-07-04  Country_01      4          Mining               0   \n",
              "414  2017-07-04  Country_01      3          Mining               0   \n",
              "415  2017-07-05  Country_02      9          Metals               0   \n",
              "416  2017-07-06  Country_02      5          Metals               0   \n",
              "417  2017-07-09  Country_01      4          Mining               0   \n",
              "\n",
              "     Potential Accident Level  Gender      Natureofemployee  \\\n",
              "0                           3    Male           Third Party   \n",
              "1                           3    Male              Employee   \n",
              "2                           2    Male  Third Party (Remote)   \n",
              "3                           0    Male           Third Party   \n",
              "4                           3    Male           Third Party   \n",
              "..                        ...     ...                   ...   \n",
              "413                         2    Male           Third Party   \n",
              "414                         1  Female              Employee   \n",
              "415                         1    Male              Employee   \n",
              "416                         1    Male              Employee   \n",
              "417                         1  Female           Third Party   \n",
              "\n",
              "                    Critical Risk  \\\n",
              "0                         Pressed   \n",
              "1             Pressurized Systems   \n",
              "2                    Manual Tools   \n",
              "3                          Others   \n",
              "4                          Others   \n",
              "..                            ...   \n",
              "413                        Others   \n",
              "414                        Others   \n",
              "415              Venomous Animals   \n",
              "416                           Cut   \n",
              "417  Fall prevention (same level)   \n",
              "\n",
              "                                           Description  Year  Month  \\\n",
              "0    While removing the drill rod of the Jumbo 08 f...  2016      1   \n",
              "1    During the activation of a sodium sulphide pum...  2016      1   \n",
              "2    In the sub-station MILPO located at level +170...  2016      1   \n",
              "3    Being 9:45 am. approximately in the Nv. 1880 C...  2016      1   \n",
              "4    Approximately at 11:45 a.m. in circumstances t...  2016      1   \n",
              "..                                                 ...   ...    ...   \n",
              "413  Being approximately 5:00 a.m. approximately, w...  2017      7   \n",
              "414  The collaborator moved from the infrastructure...  2017      7   \n",
              "415  During the environmental monitoring activity i...  2017      7   \n",
              "416  The Employee performed the activity of strippi...  2017      7   \n",
              "417  At 10:00 a.m., when the assistant cleaned the ...  2017      7   \n",
              "\n",
              "       Weekday  Season                                     processed_text  \\\n",
              "0       Friday  Summer  [while, removing, drill, rod, jumbo, maintenan...   \n",
              "1     Saturday  Summer  [during, activation, sodium, sulphide, pump, p...   \n",
              "2    Wednesday  Summer  [substation, milpo, located, level, collaborat...   \n",
              "3       Friday  Summer  [being, approximately, personnel, begin, task,...   \n",
              "4       Sunday  Summer  [approximately, am, circumstance, mechanic, an...   \n",
              "..         ...     ...                                                ...   \n",
              "413    Tuesday  Winter  [being, approximately, am, approximately, lift...   \n",
              "414    Tuesday  Winter  [the, collaborator, moved, infrastructure, off...   \n",
              "415  Wednesday  Winter  [during, environmental, monitoring, activity, ...   \n",
              "416   Thursday  Winter  [the, employee, performed, activity, stripping...   \n",
              "417     Sunday  Winter  [am, assistant, cleaned, floor, module, centra...   \n",
              "\n",
              "                                 description_processed  \n",
              "0    while removing drill rod jumbo maintenance sup...  \n",
              "1    during activation sodium sulphide pump piping ...  \n",
              "2    substation milpo located level collaborator ex...  \n",
              "3    being approximately personnel begin task unloc...  \n",
              "4    approximately am circumstance mechanic anthony...  \n",
              "..                                                 ...  \n",
              "413  being approximately am approximately lifting k...  \n",
              "414  the collaborator moved infrastructure office j...  \n",
              "415  during environmental monitoring activity area ...  \n",
              "416  the employee performed activity stripping cath...  \n",
              "417  am assistant cleaned floor module central camp...  \n",
              "\n",
              "[418 rows x 16 columns]"
            ],
            "text/html": [
              "\n",
              "  <div id=\"df-a2677c7a-9a8a-4bdc-85ed-5b819fcd21f6\">\n",
              "    <div class=\"colab-df-container\">\n",
              "      <div>\n",
              "<style scoped>\n",
              "    .dataframe tbody tr th:only-of-type {\n",
              "        vertical-align: middle;\n",
              "    }\n",
              "\n",
              "    .dataframe tbody tr th {\n",
              "        vertical-align: top;\n",
              "    }\n",
              "\n",
              "    .dataframe thead th {\n",
              "        text-align: right;\n",
              "    }\n",
              "</style>\n",
              "<table border=\"1\" class=\"dataframe\">\n",
              "  <thead>\n",
              "    <tr style=\"text-align: right;\">\n",
              "      <th></th>\n",
              "      <th>Date</th>\n",
              "      <th>Country</th>\n",
              "      <th>Local</th>\n",
              "      <th>Industry Sector</th>\n",
              "      <th>Accident Level</th>\n",
              "      <th>Potential Accident Level</th>\n",
              "      <th>Gender</th>\n",
              "      <th>Natureofemployee</th>\n",
              "      <th>Critical Risk</th>\n",
              "      <th>Description</th>\n",
              "      <th>Year</th>\n",
              "      <th>Month</th>\n",
              "      <th>Weekday</th>\n",
              "      <th>Season</th>\n",
              "      <th>processed_text</th>\n",
              "      <th>description_processed</th>\n",
              "    </tr>\n",
              "  </thead>\n",
              "  <tbody>\n",
              "    <tr>\n",
              "      <th>0</th>\n",
              "      <td>2016-01-01</td>\n",
              "      <td>Country_01</td>\n",
              "      <td>1</td>\n",
              "      <td>Mining</td>\n",
              "      <td>0</td>\n",
              "      <td>3</td>\n",
              "      <td>Male</td>\n",
              "      <td>Third Party</td>\n",
              "      <td>Pressed</td>\n",
              "      <td>While removing the drill rod of the Jumbo 08 f...</td>\n",
              "      <td>2016</td>\n",
              "      <td>1</td>\n",
              "      <td>Friday</td>\n",
              "      <td>Summer</td>\n",
              "      <td>[while, removing, drill, rod, jumbo, maintenan...</td>\n",
              "      <td>while removing drill rod jumbo maintenance sup...</td>\n",
              "    </tr>\n",
              "    <tr>\n",
              "      <th>1</th>\n",
              "      <td>2016-01-02</td>\n",
              "      <td>Country_02</td>\n",
              "      <td>2</td>\n",
              "      <td>Mining</td>\n",
              "      <td>0</td>\n",
              "      <td>3</td>\n",
              "      <td>Male</td>\n",
              "      <td>Employee</td>\n",
              "      <td>Pressurized Systems</td>\n",
              "      <td>During the activation of a sodium sulphide pum...</td>\n",
              "      <td>2016</td>\n",
              "      <td>1</td>\n",
              "      <td>Saturday</td>\n",
              "      <td>Summer</td>\n",
              "      <td>[during, activation, sodium, sulphide, pump, p...</td>\n",
              "      <td>during activation sodium sulphide pump piping ...</td>\n",
              "    </tr>\n",
              "    <tr>\n",
              "      <th>2</th>\n",
              "      <td>2016-01-06</td>\n",
              "      <td>Country_01</td>\n",
              "      <td>3</td>\n",
              "      <td>Mining</td>\n",
              "      <td>0</td>\n",
              "      <td>2</td>\n",
              "      <td>Male</td>\n",
              "      <td>Third Party (Remote)</td>\n",
              "      <td>Manual Tools</td>\n",
              "      <td>In the sub-station MILPO located at level +170...</td>\n",
              "      <td>2016</td>\n",
              "      <td>1</td>\n",
              "      <td>Wednesday</td>\n",
              "      <td>Summer</td>\n",
              "      <td>[substation, milpo, located, level, collaborat...</td>\n",
              "      <td>substation milpo located level collaborator ex...</td>\n",
              "    </tr>\n",
              "    <tr>\n",
              "      <th>3</th>\n",
              "      <td>2016-01-08</td>\n",
              "      <td>Country_01</td>\n",
              "      <td>4</td>\n",
              "      <td>Mining</td>\n",
              "      <td>0</td>\n",
              "      <td>0</td>\n",
              "      <td>Male</td>\n",
              "      <td>Third Party</td>\n",
              "      <td>Others</td>\n",
              "      <td>Being 9:45 am. approximately in the Nv. 1880 C...</td>\n",
              "      <td>2016</td>\n",
              "      <td>1</td>\n",
              "      <td>Friday</td>\n",
              "      <td>Summer</td>\n",
              "      <td>[being, approximately, personnel, begin, task,...</td>\n",
              "      <td>being approximately personnel begin task unloc...</td>\n",
              "    </tr>\n",
              "    <tr>\n",
              "      <th>4</th>\n",
              "      <td>2016-01-10</td>\n",
              "      <td>Country_01</td>\n",
              "      <td>4</td>\n",
              "      <td>Mining</td>\n",
              "      <td>3</td>\n",
              "      <td>3</td>\n",
              "      <td>Male</td>\n",
              "      <td>Third Party</td>\n",
              "      <td>Others</td>\n",
              "      <td>Approximately at 11:45 a.m. in circumstances t...</td>\n",
              "      <td>2016</td>\n",
              "      <td>1</td>\n",
              "      <td>Sunday</td>\n",
              "      <td>Summer</td>\n",
              "      <td>[approximately, am, circumstance, mechanic, an...</td>\n",
              "      <td>approximately am circumstance mechanic anthony...</td>\n",
              "    </tr>\n",
              "    <tr>\n",
              "      <th>...</th>\n",
              "      <td>...</td>\n",
              "      <td>...</td>\n",
              "      <td>...</td>\n",
              "      <td>...</td>\n",
              "      <td>...</td>\n",
              "      <td>...</td>\n",
              "      <td>...</td>\n",
              "      <td>...</td>\n",
              "      <td>...</td>\n",
              "      <td>...</td>\n",
              "      <td>...</td>\n",
              "      <td>...</td>\n",
              "      <td>...</td>\n",
              "      <td>...</td>\n",
              "      <td>...</td>\n",
              "      <td>...</td>\n",
              "    </tr>\n",
              "    <tr>\n",
              "      <th>413</th>\n",
              "      <td>2017-07-04</td>\n",
              "      <td>Country_01</td>\n",
              "      <td>4</td>\n",
              "      <td>Mining</td>\n",
              "      <td>0</td>\n",
              "      <td>2</td>\n",
              "      <td>Male</td>\n",
              "      <td>Third Party</td>\n",
              "      <td>Others</td>\n",
              "      <td>Being approximately 5:00 a.m. approximately, w...</td>\n",
              "      <td>2017</td>\n",
              "      <td>7</td>\n",
              "      <td>Tuesday</td>\n",
              "      <td>Winter</td>\n",
              "      <td>[being, approximately, am, approximately, lift...</td>\n",
              "      <td>being approximately am approximately lifting k...</td>\n",
              "    </tr>\n",
              "    <tr>\n",
              "      <th>414</th>\n",
              "      <td>2017-07-04</td>\n",
              "      <td>Country_01</td>\n",
              "      <td>3</td>\n",
              "      <td>Mining</td>\n",
              "      <td>0</td>\n",
              "      <td>1</td>\n",
              "      <td>Female</td>\n",
              "      <td>Employee</td>\n",
              "      <td>Others</td>\n",
              "      <td>The collaborator moved from the infrastructure...</td>\n",
              "      <td>2017</td>\n",
              "      <td>7</td>\n",
              "      <td>Tuesday</td>\n",
              "      <td>Winter</td>\n",
              "      <td>[the, collaborator, moved, infrastructure, off...</td>\n",
              "      <td>the collaborator moved infrastructure office j...</td>\n",
              "    </tr>\n",
              "    <tr>\n",
              "      <th>415</th>\n",
              "      <td>2017-07-05</td>\n",
              "      <td>Country_02</td>\n",
              "      <td>9</td>\n",
              "      <td>Metals</td>\n",
              "      <td>0</td>\n",
              "      <td>1</td>\n",
              "      <td>Male</td>\n",
              "      <td>Employee</td>\n",
              "      <td>Venomous Animals</td>\n",
              "      <td>During the environmental monitoring activity i...</td>\n",
              "      <td>2017</td>\n",
              "      <td>7</td>\n",
              "      <td>Wednesday</td>\n",
              "      <td>Winter</td>\n",
              "      <td>[during, environmental, monitoring, activity, ...</td>\n",
              "      <td>during environmental monitoring activity area ...</td>\n",
              "    </tr>\n",
              "    <tr>\n",
              "      <th>416</th>\n",
              "      <td>2017-07-06</td>\n",
              "      <td>Country_02</td>\n",
              "      <td>5</td>\n",
              "      <td>Metals</td>\n",
              "      <td>0</td>\n",
              "      <td>1</td>\n",
              "      <td>Male</td>\n",
              "      <td>Employee</td>\n",
              "      <td>Cut</td>\n",
              "      <td>The Employee performed the activity of strippi...</td>\n",
              "      <td>2017</td>\n",
              "      <td>7</td>\n",
              "      <td>Thursday</td>\n",
              "      <td>Winter</td>\n",
              "      <td>[the, employee, performed, activity, stripping...</td>\n",
              "      <td>the employee performed activity stripping cath...</td>\n",
              "    </tr>\n",
              "    <tr>\n",
              "      <th>417</th>\n",
              "      <td>2017-07-09</td>\n",
              "      <td>Country_01</td>\n",
              "      <td>4</td>\n",
              "      <td>Mining</td>\n",
              "      <td>0</td>\n",
              "      <td>1</td>\n",
              "      <td>Female</td>\n",
              "      <td>Third Party</td>\n",
              "      <td>Fall prevention (same level)</td>\n",
              "      <td>At 10:00 a.m., when the assistant cleaned the ...</td>\n",
              "      <td>2017</td>\n",
              "      <td>7</td>\n",
              "      <td>Sunday</td>\n",
              "      <td>Winter</td>\n",
              "      <td>[am, assistant, cleaned, floor, module, centra...</td>\n",
              "      <td>am assistant cleaned floor module central camp...</td>\n",
              "    </tr>\n",
              "  </tbody>\n",
              "</table>\n",
              "<p>418 rows × 16 columns</p>\n",
              "</div>\n",
              "      <button class=\"colab-df-convert\" onclick=\"convertToInteractive('df-a2677c7a-9a8a-4bdc-85ed-5b819fcd21f6')\"\n",
              "              title=\"Convert this dataframe to an interactive table.\"\n",
              "              style=\"display:none;\">\n",
              "        \n",
              "  <svg xmlns=\"http://www.w3.org/2000/svg\" height=\"24px\"viewBox=\"0 0 24 24\"\n",
              "       width=\"24px\">\n",
              "    <path d=\"M0 0h24v24H0V0z\" fill=\"none\"/>\n",
              "    <path d=\"M18.56 5.44l.94 2.06.94-2.06 2.06-.94-2.06-.94-.94-2.06-.94 2.06-2.06.94zm-11 1L8.5 8.5l.94-2.06 2.06-.94-2.06-.94L8.5 2.5l-.94 2.06-2.06.94zm10 10l.94 2.06.94-2.06 2.06-.94-2.06-.94-.94-2.06-.94 2.06-2.06.94z\"/><path d=\"M17.41 7.96l-1.37-1.37c-.4-.4-.92-.59-1.43-.59-.52 0-1.04.2-1.43.59L10.3 9.45l-7.72 7.72c-.78.78-.78 2.05 0 2.83L4 21.41c.39.39.9.59 1.41.59.51 0 1.02-.2 1.41-.59l7.78-7.78 2.81-2.81c.8-.78.8-2.07 0-2.86zM5.41 20L4 18.59l7.72-7.72 1.47 1.35L5.41 20z\"/>\n",
              "  </svg>\n",
              "      </button>\n",
              "      \n",
              "  <style>\n",
              "    .colab-df-container {\n",
              "      display:flex;\n",
              "      flex-wrap:wrap;\n",
              "      gap: 12px;\n",
              "    }\n",
              "\n",
              "    .colab-df-convert {\n",
              "      background-color: #E8F0FE;\n",
              "      border: none;\n",
              "      border-radius: 50%;\n",
              "      cursor: pointer;\n",
              "      display: none;\n",
              "      fill: #1967D2;\n",
              "      height: 32px;\n",
              "      padding: 0 0 0 0;\n",
              "      width: 32px;\n",
              "    }\n",
              "\n",
              "    .colab-df-convert:hover {\n",
              "      background-color: #E2EBFA;\n",
              "      box-shadow: 0px 1px 2px rgba(60, 64, 67, 0.3), 0px 1px 3px 1px rgba(60, 64, 67, 0.15);\n",
              "      fill: #174EA6;\n",
              "    }\n",
              "\n",
              "    [theme=dark] .colab-df-convert {\n",
              "      background-color: #3B4455;\n",
              "      fill: #D2E3FC;\n",
              "    }\n",
              "\n",
              "    [theme=dark] .colab-df-convert:hover {\n",
              "      background-color: #434B5C;\n",
              "      box-shadow: 0px 1px 3px 1px rgba(0, 0, 0, 0.15);\n",
              "      filter: drop-shadow(0px 1px 2px rgba(0, 0, 0, 0.3));\n",
              "      fill: #FFFFFF;\n",
              "    }\n",
              "  </style>\n",
              "\n",
              "      <script>\n",
              "        const buttonEl =\n",
              "          document.querySelector('#df-a2677c7a-9a8a-4bdc-85ed-5b819fcd21f6 button.colab-df-convert');\n",
              "        buttonEl.style.display =\n",
              "          google.colab.kernel.accessAllowed ? 'block' : 'none';\n",
              "\n",
              "        async function convertToInteractive(key) {\n",
              "          const element = document.querySelector('#df-a2677c7a-9a8a-4bdc-85ed-5b819fcd21f6');\n",
              "          const dataTable =\n",
              "            await google.colab.kernel.invokeFunction('convertToInteractive',\n",
              "                                                     [key], {});\n",
              "          if (!dataTable) return;\n",
              "\n",
              "          const docLinkHtml = 'Like what you see? Visit the ' +\n",
              "            '<a target=\"_blank\" href=https://colab.research.google.com/notebooks/data_table.ipynb>data table notebook</a>'\n",
              "            + ' to learn more about interactive tables.';\n",
              "          element.innerHTML = '';\n",
              "          dataTable['output_type'] = 'display_data';\n",
              "          await google.colab.output.renderOutput(dataTable, element);\n",
              "          const docLink = document.createElement('div');\n",
              "          docLink.innerHTML = docLinkHtml;\n",
              "          element.appendChild(docLink);\n",
              "        }\n",
              "      </script>\n",
              "    </div>\n",
              "  </div>\n",
              "  "
            ]
          },
          "metadata": {},
          "execution_count": 25
        }
      ]
    },
    {
      "cell_type": "code",
      "source": [
        "x_p=df3['description_processed']\n"
      ],
      "metadata": {
        "id": "m5OQUjpFO7cb"
      },
      "execution_count": null,
      "outputs": []
    },
    {
      "cell_type": "code",
      "source": [
        "from sklearn.feature_extraction.text import TfidfTransformer\n",
        "from sklearn.feature_extraction.text import TfidfVectorizer\n",
        "tfidf_vec = TfidfVectorizer(ngram_range=(1,2))\n",
        "Xte = tfidf_vec.fit_transform(x_p).toarray()"
      ],
      "metadata": {
        "id": "HC71fha_QcGt"
      },
      "execution_count": null,
      "outputs": []
    },
    {
      "cell_type": "code",
      "source": [
        "#splitting training and testing data\n",
        "from sklearn.model_selection import train_test_split\n",
        "X_trainp, X_testp, y_trainp, y_testp = train_test_split(Xte, y_p, test_size=0.3, random_state=50)"
      ],
      "metadata": {
        "id": "sqIvIRfjOKU0"
      },
      "execution_count": null,
      "outputs": []
    },
    {
      "cell_type": "code",
      "source": [
        "random_seed = 2\n",
        "X_testp, X_valp, y_testp, y_valp = train_test_split(X_testp,y_testp, test_size = 0.5, random_state=random_seed)"
      ],
      "metadata": {
        "id": "dng4jGcOQxxb"
      },
      "execution_count": null,
      "outputs": []
    },
    {
      "cell_type": "code",
      "source": [
        "#shape of train and test\n",
        "print(\"Shape of training and testing:\",X_trainp.shape,X_testp.shape)"
      ],
      "metadata": {
        "colab": {
          "base_uri": "https://localhost:8080/"
        },
        "id": "tgPtcu2RQ7iE",
        "outputId": "7d695c6f-2ad3-4784-9dd6-d33b16c661b8"
      },
      "execution_count": null,
      "outputs": [
        {
          "output_type": "stream",
          "name": "stdout",
          "text": [
            "Shape of training and testing: (292, 13242) (63, 13242)\n"
          ]
        }
      ]
    },
    {
      "cell_type": "code",
      "source": [
        "from tensorflow.python.keras.layers import Dense, Dropout, InputLayer, Flatten\n",
        "from tensorflow.keras.layers import BatchNormalization\n",
        "from tensorflow.python.keras.layers import GlobalAveragePooling2D, Conv2D, MaxPool2D, GlobalMaxPool2D\n",
        "from tensorflow.python.keras.models import Sequential\n",
        "from tensorflow.python.keras.wrappers.scikit_learn import KerasRegressor\n",
        "from sklearn.preprocessing import StandardScaler\n",
        "from sklearn.metrics import mean_absolute_error\n",
        "from sklearn.metrics import mean_squared_error\n",
        "from sklearn.model_selection import StratifiedKFold\n",
        "from tensorflow.keras.utils import to_categorical  # convert to one-hot-encoding\n",
        "from tensorflow.keras.models import Sequential\n",
        "from tensorflow.keras.layers import Dense, Dropout, Flatten, Conv2D, MaxPool2D, GlobalMaxPooling2D\n",
        "from tensorflow.keras.preprocessing.image import ImageDataGenerator"
      ],
      "metadata": {
        "id": "LbtypoPPC6G4"
      },
      "execution_count": null,
      "outputs": []
    },
    {
      "cell_type": "code",
      "source": [
        "def model_p():\n",
        "    model7 = Sequential()\n",
        "    \n",
        "    model7.add(Dense(50, input_shape = (13242, ), kernel_initializer='he_normal'))\n",
        "    model7.add(BatchNormalization())\n",
        "    model7.add(Activation('relu'))\n",
        "    model7.add(Dropout(0.2))\n",
        "    model7.add(Dense(50, kernel_initializer='he_normal'))\n",
        "    model7.add(BatchNormalization())\n",
        "    model7.add(Activation('relu'))    \n",
        "    model7.add(Dropout(0.2))\n",
        "    model7.add(Dense(50, kernel_initializer='he_normal'))\n",
        "    model7.add(BatchNormalization())\n",
        "    model7.add(Activation('relu'))\n",
        "    model7.add(Dropout(0.2))\n",
        "    model7.add(Dense(50, kernel_initializer='he_normal'))\n",
        "    model7.add(BatchNormalization())\n",
        "    model7.add(Activation('relu'))\n",
        "    model7.add(Dropout(0.2))\n",
        "    model7.add(Dense(1, kernel_initializer='he_normal'))\n",
        "    model7.add(Activation('softmax'))\n",
        "    \n",
        "    adam_7 = optimizers.Adam(lr = 0.001)\n",
        "    model7.compile(optimizer = adam_7, loss = 'mse', metrics = ['accuracy'])\n",
        "    \n",
        "    return model7"
      ],
      "metadata": {
        "id": "l8ySrfLaRHoS"
      },
      "execution_count": null,
      "outputs": []
    },
    {
      "cell_type": "code",
      "source": [
        "from tensorflow.keras.layers import Activation, Dense\n",
        "from tensorflow.keras.layers import BatchNormalization, Dropout\n",
        "from tensorflow.keras import optimizers\n",
        "model_u = model_p()\n",
        "history_u = model_u.fit(X_trainp, y_trainp,validation_data=(X_testp,y_testp),epochs = 10, verbose = 1)"
      ],
      "metadata": {
        "colab": {
          "base_uri": "https://localhost:8080/"
        },
        "id": "csASEe0kRiKG",
        "outputId": "8b30761f-f4b7-4c1e-fd28-88a591e42275"
      },
      "execution_count": null,
      "outputs": [
        {
          "output_type": "stream",
          "name": "stdout",
          "text": [
            "Epoch 1/10\n"
          ]
        },
        {
          "output_type": "stream",
          "name": "stderr",
          "text": [
            "/usr/local/lib/python3.7/dist-packages/keras/optimizer_v2/adam.py:105: UserWarning: The `lr` argument is deprecated, use `learning_rate` instead.\n",
            "  super(Adam, self).__init__(name, **kwargs)\n"
          ]
        },
        {
          "output_type": "stream",
          "name": "stdout",
          "text": [
            "10/10 [==============================] - 3s 90ms/step - loss: 1.3288 - accuracy: 0.0856 - val_loss: 1.1905 - val_accuracy: 0.0952\n",
            "Epoch 2/10\n",
            "10/10 [==============================] - 0s 14ms/step - loss: 1.3288 - accuracy: 0.0856 - val_loss: 1.1905 - val_accuracy: 0.0952\n",
            "Epoch 3/10\n",
            "10/10 [==============================] - 0s 14ms/step - loss: 1.3288 - accuracy: 0.0856 - val_loss: 1.1905 - val_accuracy: 0.0952\n",
            "Epoch 4/10\n",
            "10/10 [==============================] - 0s 14ms/step - loss: 1.3288 - accuracy: 0.0856 - val_loss: 1.1905 - val_accuracy: 0.0952\n",
            "Epoch 5/10\n",
            "10/10 [==============================] - 0s 14ms/step - loss: 1.3288 - accuracy: 0.0856 - val_loss: 1.1905 - val_accuracy: 0.0952\n",
            "Epoch 6/10\n",
            "10/10 [==============================] - 0s 18ms/step - loss: 1.3288 - accuracy: 0.0856 - val_loss: 1.1905 - val_accuracy: 0.0952\n",
            "Epoch 7/10\n",
            "10/10 [==============================] - 0s 15ms/step - loss: 1.3288 - accuracy: 0.0856 - val_loss: 1.1905 - val_accuracy: 0.0952\n",
            "Epoch 8/10\n",
            "10/10 [==============================] - 0s 14ms/step - loss: 1.3288 - accuracy: 0.0856 - val_loss: 1.1905 - val_accuracy: 0.0952\n",
            "Epoch 9/10\n",
            "10/10 [==============================] - 0s 12ms/step - loss: 1.3288 - accuracy: 0.0856 - val_loss: 1.1905 - val_accuracy: 0.0952\n",
            "Epoch 10/10\n",
            "10/10 [==============================] - 0s 16ms/step - loss: 1.3288 - accuracy: 0.0856 - val_loss: 1.1905 - val_accuracy: 0.0952\n"
          ]
        }
      ]
    },
    {
      "cell_type": "code",
      "source": [
        "#Evaluation of the model\n",
        "results = model_u.evaluate(X_testp, y_testp)\n",
        "\n"
      ],
      "metadata": {
        "colab": {
          "base_uri": "https://localhost:8080/"
        },
        "id": "rnWSul4JScpG",
        "outputId": "88e7e70b-d460-47ae-ccf8-540017d20273"
      },
      "execution_count": null,
      "outputs": [
        {
          "output_type": "stream",
          "name": "stdout",
          "text": [
            "2/2 [==============================] - 0s 9ms/step - loss: 1.1905 - accuracy: 0.0952\n"
          ]
        }
      ]
    },
    {
      "cell_type": "code",
      "source": [
        "ann_loss, ann_accuracy = model_u.evaluate(X_testp, y_testp, verbose=1)\n",
        "print('Test loss:', ann_loss)\n",
        "print('Test accuracy:', ann_accuracy)"
      ],
      "metadata": {
        "colab": {
          "base_uri": "https://localhost:8080/"
        },
        "id": "aAeZ-nRPStRV",
        "outputId": "ee52496a-5ce7-4f36-c4f5-06765b306f0a"
      },
      "execution_count": null,
      "outputs": [
        {
          "output_type": "stream",
          "name": "stdout",
          "text": [
            "2/2 [==============================] - 0s 7ms/step - loss: 1.1905 - accuracy: 0.0952\n",
            "Test loss: 1.1904761791229248\n",
            "Test accuracy: 0.095238097012043\n"
          ]
        }
      ]
    },
    {
      "cell_type": "code",
      "source": [
        ""
      ],
      "metadata": {
        "id": "PnHwmTK7UmDm"
      },
      "execution_count": null,
      "outputs": []
    },
    {
      "cell_type": "code",
      "source": [
        "#  LSTM LSTM LSTM LSTM LSTM LSTM LSTM"
      ],
      "metadata": {
        "id": "_at8gPJwFbYI"
      },
      "execution_count": null,
      "outputs": []
    },
    {
      "cell_type": "code",
      "source": [
        "country_encoder = LabelEncoder()\n",
        "df1['Country'] = country_encoder.fit_transform(df1['Country'])\n",
        "\n",
        "local_encoder = LabelEncoder()\n",
        "df1['Local'] = local_encoder.fit_transform(df1['Local'])\n",
        "\n",
        "industry_sector_encoder = LabelEncoder()\n",
        "df1['Industry Sector'] = industry_sector_encoder.fit_transform(df1['Industry Sector'])\n",
        "\n",
        "gender_encoder = LabelEncoder()\n",
        "df1['Gender'] = gender_encoder.fit_transform(df1['Gender'])\n",
        "\n",
        "employee_encoder = LabelEncoder()\n",
        "df1['Natureofemployee'] = employee_encoder.fit_transform(df1['Natureofemployee'])\n",
        "\n",
        "risk_encoder = LabelEncoder()\n",
        "df1['Critical Risk'] = risk_encoder.fit_transform(df1['Critical Risk'])\n",
        "\n",
        "acident_level_encoder = LabelEncoder()\n",
        "df1['Accident Level'] = acident_level_encoder.fit_transform(df1['Accident Level'])\n",
        "\n",
        "potentital_accident_level_encoder = LabelEncoder()\n",
        "df1['Potential Accident Level'] = potentital_accident_level_encoder.fit_transform(df1['Potential Accident Level'])"
      ],
      "metadata": {
        "id": "z7CJwN2XFbl7"
      },
      "execution_count": null,
      "outputs": []
    },
    {
      "cell_type": "code",
      "source": [
        "# Get the vocabulary from the text vectorization layer\n",
        "\n",
        "words_in_vocab = text_vectorizer.get_vocabulary()\n",
        "len(words_in_vocab), words_in_vocab[:10]"
      ],
      "metadata": {
        "colab": {
          "base_uri": "https://localhost:8080/"
        },
        "id": "AbbLz59GT7f8",
        "outputId": "b280bf70-dd27-481d-e624-3dc3f590bcfd"
      },
      "execution_count": null,
      "outputs": [
        {
          "output_type": "execute_result",
          "data": {
            "text/plain": [
              "(2598,\n",
              " ['',\n",
              "  '[UNK]',\n",
              "  'the',\n",
              "  'hand',\n",
              "  'employee',\n",
              "  'causing',\n",
              "  'right',\n",
              "  'left',\n",
              "  'operator',\n",
              "  'time'])"
            ]
          },
          "metadata": {},
          "execution_count": 274
        }
      ]
    },
    {
      "cell_type": "code",
      "source": [
        "df1.head(5) # after label ecoding"
      ],
      "metadata": {
        "colab": {
          "base_uri": "https://localhost:8080/",
          "height": 617
        },
        "id": "Uf4wx7m5T7jL",
        "outputId": "16a36c97-8430-4abb-d749-3f953cc93027"
      },
      "execution_count": null,
      "outputs": [
        {
          "output_type": "execute_result",
          "data": {
            "text/plain": [
              "         Date  Country  Local  Industry Sector  Accident Level  \\\n",
              "0  2016-01-01        0      0                1               0   \n",
              "1  2016-01-02        1      1                1               0   \n",
              "2  2016-01-06        0      2                1               0   \n",
              "3  2016-01-08        0      3                1               0   \n",
              "4  2016-01-10        0      3                1               3   \n",
              "\n",
              "   Potential Accident Level  Gender  Natureofemployee  Critical Risk  \\\n",
              "0                         3       1                 1             20   \n",
              "1                         3       1                 0             21   \n",
              "2                         2       1                 2             15   \n",
              "3                         0       1                 1             16   \n",
              "4                         3       1                 1             16   \n",
              "\n",
              "                                         Description  Year  Month    Weekday  \\\n",
              "0  While removing the drill rod of the Jumbo 08 f...  2016      1     Friday   \n",
              "1  During the activation of a sodium sulphide pum...  2016      1   Saturday   \n",
              "2  In the sub-station MILPO located at level +170...  2016      1  Wednesday   \n",
              "3  Being 9:45 am. approximately in the Nv. 1880 C...  2016      1     Friday   \n",
              "4  Approximately at 11:45 a.m. in circumstances t...  2016      1     Sunday   \n",
              "\n",
              "   Season                                     processed_text  \\\n",
              "0  Summer  [while, removing, drill, rod, jumbo, maintenan...   \n",
              "1  Summer  [during, activation, sodium, sulphide, pump, p...   \n",
              "2  Summer  [substation, milpo, located, level, collaborat...   \n",
              "3  Summer  [being, approximately, personnel, begin, task,...   \n",
              "4  Summer  [approximately, am, circumstance, mechanic, an...   \n",
              "\n",
              "                               description_processed  \n",
              "0  while removing drill rod jumbo maintenance sup...  \n",
              "1  during activation sodium sulphide pump piping ...  \n",
              "2  substation milpo located level collaborator ex...  \n",
              "3  being approximately personnel begin task unloc...  \n",
              "4  approximately am circumstance mechanic anthony...  "
            ],
            "text/html": [
              "\n",
              "  <div id=\"df-d8bfb769-bf1a-411b-acb2-0c0943297487\">\n",
              "    <div class=\"colab-df-container\">\n",
              "      <div>\n",
              "<style scoped>\n",
              "    .dataframe tbody tr th:only-of-type {\n",
              "        vertical-align: middle;\n",
              "    }\n",
              "\n",
              "    .dataframe tbody tr th {\n",
              "        vertical-align: top;\n",
              "    }\n",
              "\n",
              "    .dataframe thead th {\n",
              "        text-align: right;\n",
              "    }\n",
              "</style>\n",
              "<table border=\"1\" class=\"dataframe\">\n",
              "  <thead>\n",
              "    <tr style=\"text-align: right;\">\n",
              "      <th></th>\n",
              "      <th>Date</th>\n",
              "      <th>Country</th>\n",
              "      <th>Local</th>\n",
              "      <th>Industry Sector</th>\n",
              "      <th>Accident Level</th>\n",
              "      <th>Potential Accident Level</th>\n",
              "      <th>Gender</th>\n",
              "      <th>Natureofemployee</th>\n",
              "      <th>Critical Risk</th>\n",
              "      <th>Description</th>\n",
              "      <th>Year</th>\n",
              "      <th>Month</th>\n",
              "      <th>Weekday</th>\n",
              "      <th>Season</th>\n",
              "      <th>processed_text</th>\n",
              "      <th>description_processed</th>\n",
              "    </tr>\n",
              "  </thead>\n",
              "  <tbody>\n",
              "    <tr>\n",
              "      <th>0</th>\n",
              "      <td>2016-01-01</td>\n",
              "      <td>0</td>\n",
              "      <td>0</td>\n",
              "      <td>1</td>\n",
              "      <td>0</td>\n",
              "      <td>3</td>\n",
              "      <td>1</td>\n",
              "      <td>1</td>\n",
              "      <td>20</td>\n",
              "      <td>While removing the drill rod of the Jumbo 08 f...</td>\n",
              "      <td>2016</td>\n",
              "      <td>1</td>\n",
              "      <td>Friday</td>\n",
              "      <td>Summer</td>\n",
              "      <td>[while, removing, drill, rod, jumbo, maintenan...</td>\n",
              "      <td>while removing drill rod jumbo maintenance sup...</td>\n",
              "    </tr>\n",
              "    <tr>\n",
              "      <th>1</th>\n",
              "      <td>2016-01-02</td>\n",
              "      <td>1</td>\n",
              "      <td>1</td>\n",
              "      <td>1</td>\n",
              "      <td>0</td>\n",
              "      <td>3</td>\n",
              "      <td>1</td>\n",
              "      <td>0</td>\n",
              "      <td>21</td>\n",
              "      <td>During the activation of a sodium sulphide pum...</td>\n",
              "      <td>2016</td>\n",
              "      <td>1</td>\n",
              "      <td>Saturday</td>\n",
              "      <td>Summer</td>\n",
              "      <td>[during, activation, sodium, sulphide, pump, p...</td>\n",
              "      <td>during activation sodium sulphide pump piping ...</td>\n",
              "    </tr>\n",
              "    <tr>\n",
              "      <th>2</th>\n",
              "      <td>2016-01-06</td>\n",
              "      <td>0</td>\n",
              "      <td>2</td>\n",
              "      <td>1</td>\n",
              "      <td>0</td>\n",
              "      <td>2</td>\n",
              "      <td>1</td>\n",
              "      <td>2</td>\n",
              "      <td>15</td>\n",
              "      <td>In the sub-station MILPO located at level +170...</td>\n",
              "      <td>2016</td>\n",
              "      <td>1</td>\n",
              "      <td>Wednesday</td>\n",
              "      <td>Summer</td>\n",
              "      <td>[substation, milpo, located, level, collaborat...</td>\n",
              "      <td>substation milpo located level collaborator ex...</td>\n",
              "    </tr>\n",
              "    <tr>\n",
              "      <th>3</th>\n",
              "      <td>2016-01-08</td>\n",
              "      <td>0</td>\n",
              "      <td>3</td>\n",
              "      <td>1</td>\n",
              "      <td>0</td>\n",
              "      <td>0</td>\n",
              "      <td>1</td>\n",
              "      <td>1</td>\n",
              "      <td>16</td>\n",
              "      <td>Being 9:45 am. approximately in the Nv. 1880 C...</td>\n",
              "      <td>2016</td>\n",
              "      <td>1</td>\n",
              "      <td>Friday</td>\n",
              "      <td>Summer</td>\n",
              "      <td>[being, approximately, personnel, begin, task,...</td>\n",
              "      <td>being approximately personnel begin task unloc...</td>\n",
              "    </tr>\n",
              "    <tr>\n",
              "      <th>4</th>\n",
              "      <td>2016-01-10</td>\n",
              "      <td>0</td>\n",
              "      <td>3</td>\n",
              "      <td>1</td>\n",
              "      <td>3</td>\n",
              "      <td>3</td>\n",
              "      <td>1</td>\n",
              "      <td>1</td>\n",
              "      <td>16</td>\n",
              "      <td>Approximately at 11:45 a.m. in circumstances t...</td>\n",
              "      <td>2016</td>\n",
              "      <td>1</td>\n",
              "      <td>Sunday</td>\n",
              "      <td>Summer</td>\n",
              "      <td>[approximately, am, circumstance, mechanic, an...</td>\n",
              "      <td>approximately am circumstance mechanic anthony...</td>\n",
              "    </tr>\n",
              "  </tbody>\n",
              "</table>\n",
              "</div>\n",
              "      <button class=\"colab-df-convert\" onclick=\"convertToInteractive('df-d8bfb769-bf1a-411b-acb2-0c0943297487')\"\n",
              "              title=\"Convert this dataframe to an interactive table.\"\n",
              "              style=\"display:none;\">\n",
              "        \n",
              "  <svg xmlns=\"http://www.w3.org/2000/svg\" height=\"24px\"viewBox=\"0 0 24 24\"\n",
              "       width=\"24px\">\n",
              "    <path d=\"M0 0h24v24H0V0z\" fill=\"none\"/>\n",
              "    <path d=\"M18.56 5.44l.94 2.06.94-2.06 2.06-.94-2.06-.94-.94-2.06-.94 2.06-2.06.94zm-11 1L8.5 8.5l.94-2.06 2.06-.94-2.06-.94L8.5 2.5l-.94 2.06-2.06.94zm10 10l.94 2.06.94-2.06 2.06-.94-2.06-.94-.94-2.06-.94 2.06-2.06.94z\"/><path d=\"M17.41 7.96l-1.37-1.37c-.4-.4-.92-.59-1.43-.59-.52 0-1.04.2-1.43.59L10.3 9.45l-7.72 7.72c-.78.78-.78 2.05 0 2.83L4 21.41c.39.39.9.59 1.41.59.51 0 1.02-.2 1.41-.59l7.78-7.78 2.81-2.81c.8-.78.8-2.07 0-2.86zM5.41 20L4 18.59l7.72-7.72 1.47 1.35L5.41 20z\"/>\n",
              "  </svg>\n",
              "      </button>\n",
              "      \n",
              "  <style>\n",
              "    .colab-df-container {\n",
              "      display:flex;\n",
              "      flex-wrap:wrap;\n",
              "      gap: 12px;\n",
              "    }\n",
              "\n",
              "    .colab-df-convert {\n",
              "      background-color: #E8F0FE;\n",
              "      border: none;\n",
              "      border-radius: 50%;\n",
              "      cursor: pointer;\n",
              "      display: none;\n",
              "      fill: #1967D2;\n",
              "      height: 32px;\n",
              "      padding: 0 0 0 0;\n",
              "      width: 32px;\n",
              "    }\n",
              "\n",
              "    .colab-df-convert:hover {\n",
              "      background-color: #E2EBFA;\n",
              "      box-shadow: 0px 1px 2px rgba(60, 64, 67, 0.3), 0px 1px 3px 1px rgba(60, 64, 67, 0.15);\n",
              "      fill: #174EA6;\n",
              "    }\n",
              "\n",
              "    [theme=dark] .colab-df-convert {\n",
              "      background-color: #3B4455;\n",
              "      fill: #D2E3FC;\n",
              "    }\n",
              "\n",
              "    [theme=dark] .colab-df-convert:hover {\n",
              "      background-color: #434B5C;\n",
              "      box-shadow: 0px 1px 3px 1px rgba(0, 0, 0, 0.15);\n",
              "      filter: drop-shadow(0px 1px 2px rgba(0, 0, 0, 0.3));\n",
              "      fill: #FFFFFF;\n",
              "    }\n",
              "  </style>\n",
              "\n",
              "      <script>\n",
              "        const buttonEl =\n",
              "          document.querySelector('#df-d8bfb769-bf1a-411b-acb2-0c0943297487 button.colab-df-convert');\n",
              "        buttonEl.style.display =\n",
              "          google.colab.kernel.accessAllowed ? 'block' : 'none';\n",
              "\n",
              "        async function convertToInteractive(key) {\n",
              "          const element = document.querySelector('#df-d8bfb769-bf1a-411b-acb2-0c0943297487');\n",
              "          const dataTable =\n",
              "            await google.colab.kernel.invokeFunction('convertToInteractive',\n",
              "                                                     [key], {});\n",
              "          if (!dataTable) return;\n",
              "\n",
              "          const docLinkHtml = 'Like what you see? Visit the ' +\n",
              "            '<a target=\"_blank\" href=https://colab.research.google.com/notebooks/data_table.ipynb>data table notebook</a>'\n",
              "            + ' to learn more about interactive tables.';\n",
              "          element.innerHTML = '';\n",
              "          dataTable['output_type'] = 'display_data';\n",
              "          await google.colab.output.renderOutput(dataTable, element);\n",
              "          const docLink = document.createElement('div');\n",
              "          docLink.innerHTML = docLinkHtml;\n",
              "          element.appendChild(docLink);\n",
              "        }\n",
              "      </script>\n",
              "    </div>\n",
              "  </div>\n",
              "  "
            ]
          },
          "metadata": {},
          "execution_count": 275
        }
      ]
    },
    {
      "cell_type": "code",
      "source": [
        "df1.info()"
      ],
      "metadata": {
        "colab": {
          "base_uri": "https://localhost:8080/"
        },
        "id": "X8IfQsEOT7pf",
        "outputId": "5b0e7415-54b4-44a8-b3fa-d9e8c43d4753"
      },
      "execution_count": null,
      "outputs": [
        {
          "output_type": "stream",
          "name": "stdout",
          "text": [
            "<class 'pandas.core.frame.DataFrame'>\n",
            "RangeIndex: 418 entries, 0 to 417\n",
            "Data columns (total 16 columns):\n",
            " #   Column                    Non-Null Count  Dtype \n",
            "---  ------                    --------------  ----- \n",
            " 0   Date                      418 non-null    object\n",
            " 1   Country                   418 non-null    int64 \n",
            " 2   Local                     418 non-null    int64 \n",
            " 3   Industry Sector           418 non-null    int64 \n",
            " 4   Accident Level            418 non-null    int64 \n",
            " 5   Potential Accident Level  418 non-null    int64 \n",
            " 6   Gender                    418 non-null    int64 \n",
            " 7   Natureofemployee          418 non-null    int64 \n",
            " 8   Critical Risk             418 non-null    int64 \n",
            " 9   Description               418 non-null    object\n",
            " 10  Year                      418 non-null    int64 \n",
            " 11  Month                     418 non-null    int64 \n",
            " 12  Weekday                   418 non-null    object\n",
            " 13  Season                    418 non-null    object\n",
            " 14  processed_text            418 non-null    object\n",
            " 15  description_processed     418 non-null    object\n",
            "dtypes: int64(10), object(6)\n",
            "memory usage: 52.4+ KB\n"
          ]
        }
      ]
    },
    {
      "cell_type": "code",
      "source": [
        "from keras.utils import np_utils\n",
        "X = data1['description_processed'].to_numpy()\n",
        "uniques, ids = np.unique(df1['Accident Level'], return_inverse=True)\n",
        "\n",
        "Y = np_utils.to_categorical(ids, len(uniques))\n",
        "\n",
        "X.shape, Y.shape, ids.shape\n"
      ],
      "metadata": {
        "colab": {
          "base_uri": "https://localhost:8080/"
        },
        "id": "1yGHNeu7Fbpc",
        "outputId": "82c3d2d9-b2e0-46b4-cb19-d9b9fe9b99d9"
      },
      "execution_count": null,
      "outputs": [
        {
          "output_type": "execute_result",
          "data": {
            "text/plain": [
              "((418,), (418, 5), (418,))"
            ]
          },
          "metadata": {},
          "execution_count": 278
        }
      ]
    },
    {
      "cell_type": "code",
      "source": [
        "from sklearn.model_selection import train_test_split\n",
        "num_classes = 5 \n",
        "\n",
        "# Use train_test_split to split training data into training and validation sets\n",
        "X_train, X_test, Y_train, Y_test = train_test_split(X,\n",
        "                                                    Y,\n",
        "                                                    test_size=0.1, # dedicate 10% of samples to validation set\n",
        "                                                    random_state=42) # random state for reproducibility\n",
        "\n"
      ],
      "metadata": {
        "id": "Ia-uihLuJQUg"
      },
      "execution_count": null,
      "outputs": []
    },
    {
      "cell_type": "code",
      "source": [
        "Y[0]"
      ],
      "metadata": {
        "colab": {
          "base_uri": "https://localhost:8080/"
        },
        "id": "PCkR0O7uJFk0",
        "outputId": "ba5e1716-19f9-423e-ad4f-848a9a72691b"
      },
      "execution_count": null,
      "outputs": [
        {
          "output_type": "execute_result",
          "data": {
            "text/plain": [
              "array([1., 0., 0., 0., 0.], dtype=float32)"
            ]
          },
          "metadata": {},
          "execution_count": 280
        }
      ]
    },
    {
      "cell_type": "code",
      "source": [
        "X_train.shape, Y_train.shape"
      ],
      "metadata": {
        "colab": {
          "base_uri": "https://localhost:8080/"
        },
        "id": "n-iqXoWmJFny",
        "outputId": "f499475a-e08d-49c7-cd97-62f4170465e2"
      },
      "execution_count": null,
      "outputs": [
        {
          "output_type": "execute_result",
          "data": {
            "text/plain": [
              "((376,), (376, 5))"
            ]
          },
          "metadata": {},
          "execution_count": 281
        }
      ]
    },
    {
      "cell_type": "code",
      "source": [
        "text_vectorizer = TextVectorization()"
      ],
      "metadata": {
        "id": "JgZ29wHAJFqs"
      },
      "execution_count": null,
      "outputs": []
    },
    {
      "cell_type": "code",
      "source": [
        "# Fit the text vectorizer to the training text\n",
        "text_vectorizer.adapt(X_train)"
      ],
      "metadata": {
        "colab": {
          "base_uri": "https://localhost:8080/"
        },
        "id": "6QrKUgRGJFtk",
        "outputId": "01333f7e-8ad2-4af5-928e-cc376f3d50f0"
      },
      "execution_count": null,
      "outputs": [
        {
          "output_type": "stream",
          "name": "stderr",
          "text": [
            "/usr/local/lib/python3.7/dist-packages/tensorflow/python/data/ops/structured_function.py:265: UserWarning: Even though the `tf.config.experimental_run_functions_eagerly` option is set, this option does not apply to tf.data functions. To force eager execution of tf.data functions, please use `tf.data.experimental.enable_debug_mode()`.\n",
            "  \"Even though the `tf.config.experimental_run_functions_eagerly` \"\n"
          ]
        }
      ]
    },
    {
      "cell_type": "code",
      "source": [
        "import random\n",
        "\n",
        "# Choose a random sentence from the training dataset and tokenize it\n",
        "\n",
        "random_sentence = random.choice(X_train)\n",
        "print(f\"Original text:\\n{random_sentence}\\\n",
        "      \\n\\nVectorized version:\")\n",
        "text_vectorizer([random_sentence])\n"
      ],
      "metadata": {
        "colab": {
          "base_uri": "https://localhost:8080/"
        },
        "id": "jm5Rojm5JFwr",
        "outputId": "28b13069-c035-45ed-edb9-ba88cb28917e"
      },
      "execution_count": null,
      "outputs": [
        {
          "output_type": "stream",
          "name": "stdout",
          "text": [
            "Original text:\n",
            "activity loading explosive front level gts fall rock fragment reaching right arm blaster causing cutblunt      \n",
            "\n",
            "Vectorized version:\n"
          ]
        },
        {
          "output_type": "execute_result",
          "data": {
            "text/plain": [
              "<tf.Tensor: shape=(1, 15), dtype=int64, numpy=\n",
              "array([[  10,  117,  676,   74,   21, 2083,   32,   31,   75,  140,    6,\n",
              "          90, 2477,    5, 2331]])>"
            ]
          },
          "metadata": {},
          "execution_count": 284
        }
      ]
    },
    {
      "cell_type": "code",
      "source": [
        "# Get the unique words in the vocabulary\n",
        "words_in_vocab = text_vectorizer.get_vocabulary()\n",
        "top_5_words = words_in_vocab[:5] # most common tokens (notice the [UNK] token for \"unknown\" words)\n",
        "bottom_5_words = words_in_vocab[-5:] # least common tokens\n",
        "print(f\"Number of words in vocab: {len(words_in_vocab)}\")\n",
        "print(f\"Top 5 most common words: {top_5_words}\") \n",
        "print(f\"Bottom 5 least common words: {bottom_5_words}\")\n",
        "\n",
        "max_vocab_length = len(words_in_vocab)\n",
        "max_length = round(max([len(i.split()) for i in X_train]))\n"
      ],
      "metadata": {
        "colab": {
          "base_uri": "https://localhost:8080/"
        },
        "id": "_TEG0vHPJFzJ",
        "outputId": "ad40940e-803d-4517-ebc2-fe90aa5e1fd7"
      },
      "execution_count": null,
      "outputs": [
        {
          "output_type": "stream",
          "name": "stdout",
          "text": [
            "Number of words in vocab: 2598\n",
            "Top 5 most common words: ['', '[UNK]', 'the', 'hand', 'employee']\n",
            "Bottom 5 least common words: ['absorbing', 'absorbent', 'abratech', 'abdomen', 'abb']\n"
          ]
        }
      ]
    },
    {
      "cell_type": "code",
      "source": [
        "tf.random.set_seed(42)\n",
        "\n",
        "embedding = layers.Embedding(input_dim=max_vocab_length, # set input shape\n",
        "                             output_dim=128, # set size of embedding vector\n",
        "                             embeddings_initializer=\"uniform\", # default, intialize randomly\n",
        "                             input_length=max_length, # how long is each input\n",
        "                             name=\"embedding_1\") \n",
        "\n",
        "embedding"
      ],
      "metadata": {
        "colab": {
          "base_uri": "https://localhost:8080/"
        },
        "id": "ktFP5eqlJF2k",
        "outputId": "15dc461b-3c33-4c68-ce49-fdb056480a3d"
      },
      "execution_count": null,
      "outputs": [
        {
          "output_type": "execute_result",
          "data": {
            "text/plain": [
              "<keras.layers.embeddings.Embedding at 0x7fcdcd7b2750>"
            ]
          },
          "metadata": {},
          "execution_count": 286
        }
      ]
    },
    {
      "cell_type": "code",
      "source": [
        "# Get a random sentence from training set\n",
        "random_sentence = random.choice(X_train)\n",
        "print(f\"Original text:\\n{random_sentence}\\\n",
        "      \\n\\nEmbedded version:\")\n",
        "\n",
        "# Embed the random sentence (turn it into numerical representation)\n",
        "sample_embed = embedding(text_vectorizer([random_sentence]))\n",
        "sample_embed\n"
      ],
      "metadata": {
        "colab": {
          "base_uri": "https://localhost:8080/"
        },
        "id": "z3to4wfOOmvv",
        "outputId": "37757a5d-3ac7-4fa7-bef2-fba8aed0a5af"
      },
      "execution_count": null,
      "outputs": [
        {
          "output_type": "stream",
          "name": "stdout",
          "text": [
            "Original text:\n",
            "during mechanized support activity level tajo lifting support mesh platform scissor equipment employee stumble feel pain heel left foot      \n",
            "\n",
            "Embedded version:\n"
          ]
        },
        {
          "output_type": "execute_result",
          "data": {
            "text/plain": [
              "<tf.Tensor: shape=(1, 19, 128), dtype=float32, numpy=\n",
              "array([[[-0.03658627, -0.03340359, -0.02985817, ...,  0.02113904,\n",
              "         -0.00154432, -0.04544709],\n",
              "        [ 0.01870685, -0.02735141,  0.01223864, ...,  0.00785191,\n",
              "          0.04997276,  0.0473373 ],\n",
              "        [-0.03071752,  0.04972876, -0.01677845, ..., -0.03565687,\n",
              "          0.0019665 , -0.04666593],\n",
              "        ...,\n",
              "        [ 0.02905435,  0.03323913, -0.03938759, ..., -0.04289659,\n",
              "          0.04183099,  0.02761902],\n",
              "        [ 0.02248487, -0.02848336,  0.04786098, ...,  0.03069806,\n",
              "         -0.04317403, -0.04145076],\n",
              "        [ 0.03653146,  0.02822005,  0.02386606, ...,  0.01519028,\n",
              "          0.03854586, -0.04253481]]], dtype=float32)>"
            ]
          },
          "metadata": {},
          "execution_count": 287
        }
      ]
    },
    {
      "cell_type": "code",
      "source": [
        "# Create tensorboard callback (need to create a new one for each model)\n",
        "\n",
        "def create_tensorboard_callback(dir_name, experiment_name):\n",
        "  \"\"\"\n",
        "  Creates a TensorBoard callback instand to store log files.\n",
        "\n",
        "  Stores log files with the filepath:\n",
        "    \"dir_name/experiment_name/current_datetime/\"\n",
        "\n",
        "  Args:\n",
        "    dir_name: target directory to store TensorBoard log files\n",
        "    experiment_name: name of experiment directory (e.g. efficientnet_model_1)\n",
        "  \"\"\"\n",
        "  log_dir = dir_name + \"/\" + experiment_name + \"/\" + datetime.datetime.now().strftime(\"%Y%m%d-%H%M%S\")\n",
        "  tensorboard_callback = tf.keras.callbacks.TensorBoard(\n",
        "      log_dir=log_dir\n",
        "  )\n",
        "  print(f\"Saving TensorBoard log files to: {log_dir}\")\n",
        "  return tensorboard_callback\n",
        "\n",
        "# Create directory to save TensorBoard logs\n",
        "SAVE_DIR = \"model_logs\""
      ],
      "metadata": {
        "id": "j0wC5f8XOmy9"
      },
      "execution_count": null,
      "outputs": []
    },
    {
      "cell_type": "code",
      "source": [
        "# Build model with the Functional API\n",
        "\n",
        "inputs = layers.Input(shape=(1,), dtype=\"string\") # inputs are 1-dimensional strings\n",
        "x = text_vectorizer(inputs) # turn the input text into numbers\n",
        "x = embedding(x) # create an embedding of the numerized numbers\n",
        "x = layers.GlobalAveragePooling1D()(x) # lower the dimensionality of the embedding (try running the model without this layer and see what happens)\n",
        "outputs = layers.Dense(num_classes, activation=\"softmax\")(x) # create the output layer, want binary outputs so use softmax activation\n",
        "model_1 = tf.keras.Model(inputs, outputs, name=\"model_1_dense\") # construct the model\n",
        "\n"
      ],
      "metadata": {
        "id": "SnkyQu5zOm1r"
      },
      "execution_count": null,
      "outputs": []
    },
    {
      "cell_type": "code",
      "source": [
        "# Compile model\n",
        "model_1.compile(loss=\"categorical_crossentropy\",\n",
        "                optimizer=tf.keras.optimizers.Adam(),\n",
        "                metrics=[\"accuracy\"])\n",
        "\n"
      ],
      "metadata": {
        "id": "n6-gW0mCOm5e"
      },
      "execution_count": null,
      "outputs": []
    },
    {
      "cell_type": "code",
      "source": [
        "model_1.summary()"
      ],
      "metadata": {
        "colab": {
          "base_uri": "https://localhost:8080/"
        },
        "id": "R2jHtjJeOm8M",
        "outputId": "eac2e897-586e-49ea-eab1-8593d7bb388c"
      },
      "execution_count": null,
      "outputs": [
        {
          "output_type": "stream",
          "name": "stdout",
          "text": [
            "Model: \"model_1_dense\"\n",
            "_________________________________________________________________\n",
            " Layer (type)                Output Shape              Param #   \n",
            "=================================================================\n",
            " input_6 (InputLayer)        [(None, 1)]               0         \n",
            "                                                                 \n",
            " text_vectorization_1 (TextV  (None, None)             0         \n",
            " ectorization)                                                   \n",
            "                                                                 \n",
            " embedding_1 (Embedding)     (None, None, 128)         332544    \n",
            "                                                                 \n",
            " global_average_pooling1d_1   (None, 128)              0         \n",
            " (GlobalAveragePooling1D)                                        \n",
            "                                                                 \n",
            " dense_24 (Dense)            (None, 5)                 645       \n",
            "                                                                 \n",
            "=================================================================\n",
            "Total params: 333,189\n",
            "Trainable params: 333,189\n",
            "Non-trainable params: 0\n",
            "_________________________________________________________________\n"
          ]
        }
      ]
    },
    {
      "cell_type": "code",
      "source": [
        "batch_size = 32\n",
        "custom_early_stopping = EarlyStopping(monitor = 'val_loss', patience = 10, mode = 'min',\n",
        "    restore_best_weights=True\n",
        ")\n",
        "\n",
        "# Fit the model\n",
        "model_1_history = model_1.fit(X_train, # input sentences can be a list of strings due to text preprocessing layer built-in model\n",
        "                              Y_train,\n",
        "                              epochs=20,\n",
        "                              validation_data=(X_test, Y_test),\n",
        "                              callbacks=[create_tensorboard_callback(dir_name=SAVE_DIR, experiment_name=\"simple_dense_model\"), custom_early_stopping])"
      ],
      "metadata": {
        "colab": {
          "base_uri": "https://localhost:8080/"
        },
        "id": "nt_zES8nQpSo",
        "outputId": "93f24baf-e4ee-43f2-d9aa-54db217c4f56"
      },
      "execution_count": null,
      "outputs": [
        {
          "output_type": "stream",
          "name": "stdout",
          "text": [
            "Saving TensorBoard log files to: model_logs/simple_dense_model/20220424-112858\n",
            "Epoch 1/20\n",
            " 3/12 [======>.......................] - ETA: 0s - loss: 1.5913 - accuracy: 0.6771"
          ]
        },
        {
          "output_type": "stream",
          "name": "stderr",
          "text": [
            "/usr/local/lib/python3.7/dist-packages/tensorflow/python/data/ops/structured_function.py:265: UserWarning: Even though the `tf.config.experimental_run_functions_eagerly` option is set, this option does not apply to tf.data functions. To force eager execution of tf.data functions, please use `tf.data.experimental.enable_debug_mode()`.\n",
            "  \"Even though the `tf.config.experimental_run_functions_eagerly` \"\n"
          ]
        },
        {
          "output_type": "stream",
          "name": "stdout",
          "text": [
            "12/12 [==============================] - 0s 37ms/step - loss: 1.5516 - accuracy: 0.7261 - val_loss: 1.4870 - val_accuracy: 0.7619\n",
            "Epoch 2/20\n",
            "12/12 [==============================] - 0s 36ms/step - loss: 1.4385 - accuracy: 0.7367 - val_loss: 1.3715 - val_accuracy: 0.7619\n",
            "Epoch 3/20\n",
            "12/12 [==============================] - 0s 35ms/step - loss: 1.3187 - accuracy: 0.7367 - val_loss: 1.2500 - val_accuracy: 0.7619\n",
            "Epoch 4/20\n",
            "12/12 [==============================] - 0s 37ms/step - loss: 1.1954 - accuracy: 0.7367 - val_loss: 1.1227 - val_accuracy: 0.7619\n",
            "Epoch 5/20\n",
            "12/12 [==============================] - 0s 35ms/step - loss: 1.0720 - accuracy: 0.7367 - val_loss: 1.0139 - val_accuracy: 0.7619\n",
            "Epoch 6/20\n",
            "12/12 [==============================] - 0s 37ms/step - loss: 0.9744 - accuracy: 0.7367 - val_loss: 0.9267 - val_accuracy: 0.7619\n",
            "Epoch 7/20\n",
            "12/12 [==============================] - 0s 36ms/step - loss: 0.9110 - accuracy: 0.7367 - val_loss: 0.8774 - val_accuracy: 0.7619\n",
            "Epoch 8/20\n",
            "12/12 [==============================] - 0s 35ms/step - loss: 0.8672 - accuracy: 0.7367 - val_loss: 0.8551 - val_accuracy: 0.7619\n",
            "Epoch 9/20\n",
            "12/12 [==============================] - 0s 35ms/step - loss: 0.8471 - accuracy: 0.7367 - val_loss: 0.8462 - val_accuracy: 0.7619\n",
            "Epoch 10/20\n",
            "12/12 [==============================] - 0s 35ms/step - loss: 0.8308 - accuracy: 0.7367 - val_loss: 0.8408 - val_accuracy: 0.7619\n",
            "Epoch 11/20\n",
            "12/12 [==============================] - 0s 33ms/step - loss: 0.8174 - accuracy: 0.7367 - val_loss: 0.8379 - val_accuracy: 0.7619\n",
            "Epoch 12/20\n",
            "12/12 [==============================] - 0s 37ms/step - loss: 0.8021 - accuracy: 0.7367 - val_loss: 0.8354 - val_accuracy: 0.7619\n",
            "Epoch 13/20\n",
            "12/12 [==============================] - 0s 34ms/step - loss: 0.7943 - accuracy: 0.7367 - val_loss: 0.8326 - val_accuracy: 0.7619\n",
            "Epoch 14/20\n",
            "12/12 [==============================] - 0s 33ms/step - loss: 0.7767 - accuracy: 0.7367 - val_loss: 0.8299 - val_accuracy: 0.7619\n",
            "Epoch 15/20\n",
            "12/12 [==============================] - 0s 34ms/step - loss: 0.7671 - accuracy: 0.7394 - val_loss: 0.8273 - val_accuracy: 0.7619\n",
            "Epoch 16/20\n",
            "12/12 [==============================] - 0s 35ms/step - loss: 0.7545 - accuracy: 0.7394 - val_loss: 0.8253 - val_accuracy: 0.7619\n",
            "Epoch 17/20\n",
            "12/12 [==============================] - 0s 35ms/step - loss: 0.7403 - accuracy: 0.7367 - val_loss: 0.8238 - val_accuracy: 0.7619\n",
            "Epoch 18/20\n",
            "12/12 [==============================] - 0s 33ms/step - loss: 0.7219 - accuracy: 0.7394 - val_loss: 0.8205 - val_accuracy: 0.7619\n",
            "Epoch 19/20\n",
            "12/12 [==============================] - 0s 33ms/step - loss: 0.7204 - accuracy: 0.7420 - val_loss: 0.8185 - val_accuracy: 0.7619\n",
            "Epoch 20/20\n",
            "12/12 [==============================] - 0s 35ms/step - loss: 0.6941 - accuracy: 0.7420 - val_loss: 0.8167 - val_accuracy: 0.7619\n"
          ]
        }
      ]
    },
    {
      "cell_type": "code",
      "source": [
        "model_1.evaluate(X_test, Y_test)\n"
      ],
      "metadata": {
        "colab": {
          "base_uri": "https://localhost:8080/"
        },
        "id": "O-1fIo6ORQlg",
        "outputId": "7de3b8c5-bd18-4fa1-db73-f2df7b41fef9"
      },
      "execution_count": null,
      "outputs": [
        {
          "output_type": "stream",
          "name": "stdout",
          "text": [
            "2/2 [==============================] - 0s 16ms/step - loss: 0.8167 - accuracy: 0.7619\n"
          ]
        },
        {
          "output_type": "stream",
          "name": "stderr",
          "text": [
            "/usr/local/lib/python3.7/dist-packages/tensorflow/python/data/ops/structured_function.py:265: UserWarning: Even though the `tf.config.experimental_run_functions_eagerly` option is set, this option does not apply to tf.data functions. To force eager execution of tf.data functions, please use `tf.data.experimental.enable_debug_mode()`.\n",
            "  \"Even though the `tf.config.experimental_run_functions_eagerly` \"\n"
          ]
        },
        {
          "output_type": "execute_result",
          "data": {
            "text/plain": [
              "[0.8166996240615845, 0.761904776096344]"
            ]
          },
          "metadata": {},
          "execution_count": 293
        }
      ]
    },
    {
      "cell_type": "code",
      "source": [
        "Y_pred = model_1.predict(X_test)\n",
        "Y_test_decoded = uniques[np.argmax(Y_test, 1)]\n",
        "Y_pred_decoded = uniques[np.argmax(Y_pred, 1)]\n",
        "\n",
        "# Classification Report\n",
        "cr = classification_report(Y_test_decoded, Y_pred_decoded)\n",
        "print(\"Classification Report:- \")\n",
        "print(cr)"
      ],
      "metadata": {
        "colab": {
          "base_uri": "https://localhost:8080/"
        },
        "id": "IHtvMZw2Qpi-",
        "outputId": "cc4df93d-2843-4d5d-ebae-b584e4fb4f9d"
      },
      "execution_count": null,
      "outputs": [
        {
          "output_type": "stream",
          "name": "stdout",
          "text": [
            "Classification Report:- \n",
            "              precision    recall  f1-score   support\n",
            "\n",
            "           0       0.76      1.00      0.86        32\n",
            "           1       0.00      0.00      0.00         2\n",
            "           2       0.00      0.00      0.00         2\n",
            "           3       0.00      0.00      0.00         5\n",
            "           4       0.00      0.00      0.00         1\n",
            "\n",
            "    accuracy                           0.76        42\n",
            "   macro avg       0.15      0.20      0.17        42\n",
            "weighted avg       0.58      0.76      0.66        42\n",
            "\n"
          ]
        },
        {
          "output_type": "stream",
          "name": "stderr",
          "text": [
            "/usr/local/lib/python3.7/dist-packages/tensorflow/python/data/ops/structured_function.py:265: UserWarning: Even though the `tf.config.experimental_run_functions_eagerly` option is set, this option does not apply to tf.data functions. To force eager execution of tf.data functions, please use `tf.data.experimental.enable_debug_mode()`.\n",
            "  \"Even though the `tf.config.experimental_run_functions_eagerly` \"\n",
            "/usr/local/lib/python3.7/dist-packages/sklearn/metrics/_classification.py:1318: UndefinedMetricWarning: Precision and F-score are ill-defined and being set to 0.0 in labels with no predicted samples. Use `zero_division` parameter to control this behavior.\n",
            "  _warn_prf(average, modifier, msg_start, len(result))\n",
            "/usr/local/lib/python3.7/dist-packages/sklearn/metrics/_classification.py:1318: UndefinedMetricWarning: Precision and F-score are ill-defined and being set to 0.0 in labels with no predicted samples. Use `zero_division` parameter to control this behavior.\n",
            "  _warn_prf(average, modifier, msg_start, len(result))\n",
            "/usr/local/lib/python3.7/dist-packages/sklearn/metrics/_classification.py:1318: UndefinedMetricWarning: Precision and F-score are ill-defined and being set to 0.0 in labels with no predicted samples. Use `zero_division` parameter to control this behavior.\n",
            "  _warn_prf(average, modifier, msg_start, len(result))\n"
          ]
        }
      ]
    },
    {
      "cell_type": "code",
      "source": [
        ""
      ],
      "metadata": {
        "id": "o6-YQ8XQFF6h"
      },
      "execution_count": null,
      "outputs": []
    },
    {
      "cell_type": "code",
      "source": [
        "lstm_out = 128\n",
        "\n",
        "model_2 = Sequential()\n",
        "model_2.add(layers.Input(shape=(1,), dtype=\"string\"))\n",
        "model_2.add(text_vectorizer)\n",
        "model_2.add(layers.Embedding(input_dim=max_vocab_length,\n",
        "                                     output_dim=128,\n",
        "                                     embeddings_initializer=\"uniform\",\n",
        "                                     input_length=max_length,\n",
        "                                     name=\"embedding_2\"))\n",
        "model_2.add(layers.LSTM(lstm_out, dropout=0.2, recurrent_dropout=0.2,return_sequences=True))\n",
        "model_2.add(layers.LSTM(lstm_out, dropout=0.2, recurrent_dropout=0.2))\n",
        "model_2.add(layers.Dense(num_classes, activation=\"softmax\")) # create the output layer, want binary outputs so use softmax activation\n",
        "print(model_2.summary())"
      ],
      "metadata": {
        "colab": {
          "base_uri": "https://localhost:8080/"
        },
        "id": "rOxhQW4oEwsd",
        "outputId": "a0b0c738-d01f-40ee-8c72-5d7a6b6b28fc"
      },
      "execution_count": null,
      "outputs": [
        {
          "output_type": "stream",
          "name": "stdout",
          "text": [
            "Model: \"sequential_12\"\n",
            "_________________________________________________________________\n",
            " Layer (type)                Output Shape              Param #   \n",
            "=================================================================\n",
            " text_vectorization_1 (TextV  (None, None)             0         \n",
            " ectorization)                                                   \n",
            "                                                                 \n",
            " embedding_2 (Embedding)     (None, None, 128)         332544    \n",
            "                                                                 \n",
            " lstm_8 (LSTM)               (None, None, 128)         131584    \n",
            "                                                                 \n",
            " lstm_9 (LSTM)               (None, 128)               131584    \n",
            "                                                                 \n",
            " dense_25 (Dense)            (None, 5)                 645       \n",
            "                                                                 \n",
            "=================================================================\n",
            "Total params: 596,357\n",
            "Trainable params: 596,357\n",
            "Non-trainable params: 0\n",
            "_________________________________________________________________\n",
            "None\n"
          ]
        }
      ]
    },
    {
      "cell_type": "code",
      "source": [
        "model_2.compile(loss=\"categorical_crossentropy\",\n",
        "                optimizer=tf.keras.optimizers.Adam(),\n",
        "                metrics=[\"accuracy\"])"
      ],
      "metadata": {
        "id": "BdViZq_7D6wG"
      },
      "execution_count": null,
      "outputs": []
    },
    {
      "cell_type": "code",
      "source": [
        "model_2.summary()"
      ],
      "metadata": {
        "colab": {
          "base_uri": "https://localhost:8080/"
        },
        "id": "Ga_u0I_XEk3Y",
        "outputId": "6ae88bc4-9f7d-4cef-df78-f4f788479d50"
      },
      "execution_count": null,
      "outputs": [
        {
          "output_type": "stream",
          "name": "stdout",
          "text": [
            "Model: \"sequential_12\"\n",
            "_________________________________________________________________\n",
            " Layer (type)                Output Shape              Param #   \n",
            "=================================================================\n",
            " text_vectorization_1 (TextV  (None, None)             0         \n",
            " ectorization)                                                   \n",
            "                                                                 \n",
            " embedding_2 (Embedding)     (None, None, 128)         332544    \n",
            "                                                                 \n",
            " lstm_8 (LSTM)               (None, None, 128)         131584    \n",
            "                                                                 \n",
            " lstm_9 (LSTM)               (None, 128)               131584    \n",
            "                                                                 \n",
            " dense_25 (Dense)            (None, 5)                 645       \n",
            "                                                                 \n",
            "=================================================================\n",
            "Total params: 596,357\n",
            "Trainable params: 596,357\n",
            "Non-trainable params: 0\n",
            "_________________________________________________________________\n"
          ]
        }
      ]
    },
    {
      "cell_type": "code",
      "source": [
        "batch_size = 32\n",
        "custom_early_stopping = EarlyStopping(monitor = 'val_loss', patience = 10, mode = 'min',\n",
        "    restore_best_weights=True\n",
        ")\n",
        "\n",
        "# Fit model\n",
        "model_2_history = model_2.fit(X_train,\n",
        "                              Y_train,\n",
        "                              epochs=50,\n",
        "                              validation_data=(X_test, Y_test),\n",
        "                              callbacks=[create_tensorboard_callback(SAVE_DIR,\"LSTM\"), custom_early_stopping])\n",
        "\n"
      ],
      "metadata": {
        "colab": {
          "base_uri": "https://localhost:8080/"
        },
        "id": "gmnTaA3OWMUb",
        "outputId": "627e671c-6e16-400f-e106-d83761992137"
      },
      "execution_count": null,
      "outputs": [
        {
          "output_type": "stream",
          "name": "stdout",
          "text": [
            "Saving TensorBoard log files to: model_logs/LSTM/20220424-113245\n",
            "Epoch 1/50\n"
          ]
        },
        {
          "output_type": "stream",
          "name": "stderr",
          "text": [
            "/usr/local/lib/python3.7/dist-packages/tensorflow/python/data/ops/structured_function.py:265: UserWarning: Even though the `tf.config.experimental_run_functions_eagerly` option is set, this option does not apply to tf.data functions. To force eager execution of tf.data functions, please use `tf.data.experimental.enable_debug_mode()`.\n",
            "  \"Even though the `tf.config.experimental_run_functions_eagerly` \"\n"
          ]
        },
        {
          "output_type": "stream",
          "name": "stdout",
          "text": [
            "12/12 [==============================] - 28s 2s/step - loss: 1.1579 - accuracy: 0.6888 - val_loss: 0.8730 - val_accuracy: 0.7619\n",
            "Epoch 2/50\n",
            "12/12 [==============================] - 18s 2s/step - loss: 0.9395 - accuracy: 0.7367 - val_loss: 0.8585 - val_accuracy: 0.7619\n",
            "Epoch 3/50\n",
            "12/12 [==============================] - 19s 2s/step - loss: 0.9173 - accuracy: 0.7367 - val_loss: 0.8605 - val_accuracy: 0.7619\n",
            "Epoch 4/50\n",
            "12/12 [==============================] - 19s 2s/step - loss: 0.9056 - accuracy: 0.7367 - val_loss: 0.8373 - val_accuracy: 0.7619\n",
            "Epoch 5/50\n",
            "12/12 [==============================] - 19s 2s/step - loss: 0.9042 - accuracy: 0.7367 - val_loss: 0.8163 - val_accuracy: 0.7619\n",
            "Epoch 6/50\n",
            "12/12 [==============================] - 19s 2s/step - loss: 0.8782 - accuracy: 0.7367 - val_loss: 0.8019 - val_accuracy: 0.7857\n",
            "Epoch 7/50\n",
            "12/12 [==============================] - 19s 2s/step - loss: 0.8317 - accuracy: 0.7367 - val_loss: 0.7635 - val_accuracy: 0.7857\n",
            "Epoch 8/50\n",
            "12/12 [==============================] - 19s 2s/step - loss: 0.7529 - accuracy: 0.7633 - val_loss: 0.8203 - val_accuracy: 0.7619\n",
            "Epoch 9/50\n",
            "12/12 [==============================] - 19s 2s/step - loss: 0.6393 - accuracy: 0.7713 - val_loss: 1.1742 - val_accuracy: 0.6667\n",
            "Epoch 10/50\n",
            "12/12 [==============================] - 19s 2s/step - loss: 0.5975 - accuracy: 0.7819 - val_loss: 1.2707 - val_accuracy: 0.6190\n",
            "Epoch 11/50\n",
            "12/12 [==============================] - 19s 2s/step - loss: 0.5954 - accuracy: 0.7872 - val_loss: 1.1113 - val_accuracy: 0.7381\n",
            "Epoch 12/50\n",
            "12/12 [==============================] - 19s 2s/step - loss: 0.6324 - accuracy: 0.7660 - val_loss: 1.1722 - val_accuracy: 0.6667\n",
            "Epoch 13/50\n",
            "12/12 [==============================] - 19s 2s/step - loss: 0.5319 - accuracy: 0.7872 - val_loss: 1.3215 - val_accuracy: 0.6429\n",
            "Epoch 14/50\n",
            "12/12 [==============================] - 18s 1s/step - loss: 0.5025 - accuracy: 0.7872 - val_loss: 1.1646 - val_accuracy: 0.6667\n",
            "Epoch 15/50\n",
            "12/12 [==============================] - 18s 2s/step - loss: 0.4713 - accuracy: 0.7899 - val_loss: 1.6845 - val_accuracy: 0.5000\n",
            "Epoch 16/50\n",
            "12/12 [==============================] - 19s 2s/step - loss: 0.4817 - accuracy: 0.8112 - val_loss: 1.3133 - val_accuracy: 0.6667\n",
            "Epoch 17/50\n",
            "12/12 [==============================] - 19s 2s/step - loss: 0.4572 - accuracy: 0.8191 - val_loss: 1.2852 - val_accuracy: 0.6667\n"
          ]
        }
      ]
    },
    {
      "cell_type": "code",
      "source": [
        "model_2.evaluate(X_test, Y_test)"
      ],
      "metadata": {
        "colab": {
          "base_uri": "https://localhost:8080/"
        },
        "id": "hKSQA-_iWMoc",
        "outputId": "201c55ea-4df3-4f64-e9ff-ef604930f826"
      },
      "execution_count": null,
      "outputs": [
        {
          "output_type": "stream",
          "name": "stderr",
          "text": [
            "/usr/local/lib/python3.7/dist-packages/tensorflow/python/data/ops/structured_function.py:265: UserWarning: Even though the `tf.config.experimental_run_functions_eagerly` option is set, this option does not apply to tf.data functions. To force eager execution of tf.data functions, please use `tf.data.experimental.enable_debug_mode()`.\n",
            "  \"Even though the `tf.config.experimental_run_functions_eagerly` \"\n"
          ]
        },
        {
          "output_type": "stream",
          "name": "stdout",
          "text": [
            "2/2 [==============================] - 1s 329ms/step - loss: 0.7635 - accuracy: 0.7857\n"
          ]
        },
        {
          "output_type": "execute_result",
          "data": {
            "text/plain": [
              "[0.7634705305099487, 0.7857142686843872]"
            ]
          },
          "metadata": {},
          "execution_count": 299
        }
      ]
    },
    {
      "cell_type": "code",
      "source": [
        "Y_pred = model_2.predict(X_test)\n",
        "Y_test_decoded = uniques[np.argmax(Y_test, 1)]\n",
        "Y_pred_decoded = uniques[np.argmax(Y_pred, 1)]\n",
        "\n",
        "# Classification Report\n",
        "cr = classification_report(Y_test_decoded, Y_pred_decoded)\n",
        "print(\"Classification Report:- \")\n",
        "print(cr)"
      ],
      "metadata": {
        "colab": {
          "base_uri": "https://localhost:8080/"
        },
        "id": "aBjUIiTHWMru",
        "outputId": "82401fa1-f95e-4384-a7e5-93b8f59fae42"
      },
      "execution_count": null,
      "outputs": [
        {
          "output_type": "stream",
          "name": "stderr",
          "text": [
            "/usr/local/lib/python3.7/dist-packages/tensorflow/python/data/ops/structured_function.py:265: UserWarning: Even though the `tf.config.experimental_run_functions_eagerly` option is set, this option does not apply to tf.data functions. To force eager execution of tf.data functions, please use `tf.data.experimental.enable_debug_mode()`.\n",
            "  \"Even though the `tf.config.experimental_run_functions_eagerly` \"\n"
          ]
        },
        {
          "output_type": "stream",
          "name": "stdout",
          "text": [
            "Classification Report:- \n",
            "              precision    recall  f1-score   support\n",
            "\n",
            "           0       0.80      1.00      0.89        32\n",
            "           1       0.00      0.00      0.00         2\n",
            "           2       0.00      0.00      0.00         2\n",
            "           3       0.50      0.20      0.29         5\n",
            "           4       0.00      0.00      0.00         1\n",
            "\n",
            "    accuracy                           0.79        42\n",
            "   macro avg       0.26      0.24      0.23        42\n",
            "weighted avg       0.67      0.79      0.71        42\n",
            "\n"
          ]
        },
        {
          "output_type": "stream",
          "name": "stderr",
          "text": [
            "/usr/local/lib/python3.7/dist-packages/sklearn/metrics/_classification.py:1318: UndefinedMetricWarning: Precision and F-score are ill-defined and being set to 0.0 in labels with no predicted samples. Use `zero_division` parameter to control this behavior.\n",
            "  _warn_prf(average, modifier, msg_start, len(result))\n",
            "/usr/local/lib/python3.7/dist-packages/sklearn/metrics/_classification.py:1318: UndefinedMetricWarning: Precision and F-score are ill-defined and being set to 0.0 in labels with no predicted samples. Use `zero_division` parameter to control this behavior.\n",
            "  _warn_prf(average, modifier, msg_start, len(result))\n",
            "/usr/local/lib/python3.7/dist-packages/sklearn/metrics/_classification.py:1318: UndefinedMetricWarning: Precision and F-score are ill-defined and being set to 0.0 in labels with no predicted samples. Use `zero_division` parameter to control this behavior.\n",
            "  _warn_prf(average, modifier, msg_start, len(result))\n"
          ]
        }
      ]
    },
    {
      "cell_type": "code",
      "source": [
        ""
      ],
      "metadata": {
        "id": "4508ytGZWMvK"
      },
      "execution_count": null,
      "outputs": []
    },
    {
      "cell_type": "code",
      "source": [
        "lstm_out = 128\n",
        "\n",
        "model_3 = Sequential()\n",
        "model_3.add(layers.Input(shape=(1,), dtype=\"string\"))\n",
        "model_3.add(text_vectorizer)\n",
        "model_3.add(layers.Embedding(input_dim=max_vocab_length,\n",
        "                                     output_dim=128,\n",
        "                                     embeddings_initializer=\"uniform\",\n",
        "                                     input_length=max_length,\n",
        "                                     name=\"embedding_2\"))\n",
        "model_3.add(Bidirectional(LSTM(lstm_out, return_sequences = True)))\n",
        "model_3.add(GlobalMaxPool1D())\n",
        "model_3.add(Dropout(0.5, input_shape = (256,)))\n",
        "model_3.add(Dense(128, activation = 'relu'))\n",
        "model_3.add(Dropout(0.5, input_shape = (128,)))\n",
        "model_3.add(Dense(64, activation = 'relu'))\n",
        "model_3.add(Dropout(0.5, input_shape = (64,)))\n",
        "model_3.add(layers.Dense(num_classes, activation=\"softmax\")) # create the output layer, want binary outputs so use softmax activation\n",
        "print(model_3.summary())\n",
        "\n"
      ],
      "metadata": {
        "colab": {
          "base_uri": "https://localhost:8080/"
        },
        "id": "FmJqYmCDWMzN",
        "outputId": "2dc6b7f1-cbea-4f54-debe-0cd6ca7ff5d9"
      },
      "execution_count": null,
      "outputs": [
        {
          "output_type": "stream",
          "name": "stdout",
          "text": [
            "Model: \"sequential_13\"\n",
            "_________________________________________________________________\n",
            " Layer (type)                Output Shape              Param #   \n",
            "=================================================================\n",
            " text_vectorization_1 (TextV  (None, None)             0         \n",
            " ectorization)                                                   \n",
            "                                                                 \n",
            " embedding_2 (Embedding)     (None, None, 128)         332544    \n",
            "                                                                 \n",
            " bidirectional_3 (Bidirectio  (None, None, 256)        263168    \n",
            " nal)                                                            \n",
            "                                                                 \n",
            " global_max_pooling1d_1 (Glo  (None, 256)              0         \n",
            " balMaxPooling1D)                                                \n",
            "                                                                 \n",
            " dropout_8 (Dropout)         (None, 256)               0         \n",
            "                                                                 \n",
            " dense_26 (Dense)            (None, 128)               32896     \n",
            "                                                                 \n",
            " dropout_9 (Dropout)         (None, 128)               0         \n",
            "                                                                 \n",
            " dense_27 (Dense)            (None, 64)                8256      \n",
            "                                                                 \n",
            " dropout_10 (Dropout)        (None, 64)                0         \n",
            "                                                                 \n",
            " dense_28 (Dense)            (None, 5)                 325       \n",
            "                                                                 \n",
            "=================================================================\n",
            "Total params: 637,189\n",
            "Trainable params: 637,189\n",
            "Non-trainable params: 0\n",
            "_________________________________________________________________\n",
            "None\n"
          ]
        }
      ]
    },
    {
      "cell_type": "code",
      "source": [
        "# Compile model\n",
        "model_3.compile(loss=\"categorical_crossentropy\",\n",
        "                optimizer=tf.keras.optimizers.Adam(),\n",
        "                metrics=[\"accuracy\"])"
      ],
      "metadata": {
        "id": "bAHnF7lHWM2w"
      },
      "execution_count": null,
      "outputs": []
    },
    {
      "cell_type": "code",
      "source": [
        "batch_size = 32\n",
        "custom_early_stopping = EarlyStopping(monitor = 'val_loss', patience = 10, mode = 'min',\n",
        "    restore_best_weights=True\n",
        ")\n",
        "\n",
        "# Fit model\n",
        "model_3_history = model_3.fit(X_train,\n",
        "                              Y_train,\n",
        "                              epochs=50,\n",
        "                              validation_data=(X_test, Y_test),\n",
        "                              callbacks=[create_tensorboard_callback(SAVE_DIR,\"BI-LSTM\"), custom_early_stopping])"
      ],
      "metadata": {
        "colab": {
          "base_uri": "https://localhost:8080/"
        },
        "id": "p6ZeG-HTYiPU",
        "outputId": "037470e1-b8a2-487b-8c09-0ae20119a5d1"
      },
      "execution_count": null,
      "outputs": [
        {
          "output_type": "stream",
          "name": "stdout",
          "text": [
            "Saving TensorBoard log files to: model_logs/BI-LSTM/20220424-114321\n",
            "Epoch 1/50\n"
          ]
        },
        {
          "output_type": "stream",
          "name": "stderr",
          "text": [
            "/usr/local/lib/python3.7/dist-packages/tensorflow/python/data/ops/structured_function.py:265: UserWarning: Even though the `tf.config.experimental_run_functions_eagerly` option is set, this option does not apply to tf.data functions. To force eager execution of tf.data functions, please use `tf.data.experimental.enable_debug_mode()`.\n",
            "  \"Even though the `tf.config.experimental_run_functions_eagerly` \"\n"
          ]
        },
        {
          "output_type": "stream",
          "name": "stdout",
          "text": [
            "12/12 [==============================] - 12s 961ms/step - loss: 1.4688 - accuracy: 0.5346 - val_loss: 0.9340 - val_accuracy: 0.7619\n",
            "Epoch 2/50\n",
            "12/12 [==============================] - 11s 897ms/step - loss: 1.0975 - accuracy: 0.7207 - val_loss: 0.8430 - val_accuracy: 0.7619\n",
            "Epoch 3/50\n",
            "12/12 [==============================] - 7s 546ms/step - loss: 1.0065 - accuracy: 0.7314 - val_loss: 0.8954 - val_accuracy: 0.7619\n",
            "Epoch 4/50\n",
            "12/12 [==============================] - 7s 560ms/step - loss: 1.0021 - accuracy: 0.7367 - val_loss: 0.8619 - val_accuracy: 0.7619\n",
            "Epoch 5/50\n",
            "12/12 [==============================] - 7s 553ms/step - loss: 0.9767 - accuracy: 0.7340 - val_loss: 0.8822 - val_accuracy: 0.7619\n",
            "Epoch 6/50\n",
            "12/12 [==============================] - 7s 548ms/step - loss: 1.0179 - accuracy: 0.7340 - val_loss: 0.8684 - val_accuracy: 0.7619\n",
            "Epoch 7/50\n",
            "12/12 [==============================] - 7s 551ms/step - loss: 0.9523 - accuracy: 0.7367 - val_loss: 0.8468 - val_accuracy: 0.7619\n",
            "Epoch 8/50\n",
            "12/12 [==============================] - 6s 526ms/step - loss: 0.8394 - accuracy: 0.7367 - val_loss: 1.0026 - val_accuracy: 0.7619\n",
            "Epoch 9/50\n",
            "12/12 [==============================] - 6s 539ms/step - loss: 0.7315 - accuracy: 0.7367 - val_loss: 1.8963 - val_accuracy: 0.7619\n",
            "Epoch 10/50\n",
            "12/12 [==============================] - 7s 559ms/step - loss: 0.7435 - accuracy: 0.7367 - val_loss: 1.2458 - val_accuracy: 0.7619\n",
            "Epoch 11/50\n",
            "12/12 [==============================] - 6s 526ms/step - loss: 0.6099 - accuracy: 0.7394 - val_loss: 1.0908 - val_accuracy: 0.7619\n",
            "Epoch 12/50\n",
            "12/12 [==============================] - 6s 520ms/step - loss: 0.4991 - accuracy: 0.7394 - val_loss: 1.6714 - val_accuracy: 0.7619\n"
          ]
        }
      ]
    },
    {
      "cell_type": "code",
      "source": [
        "model_3.evaluate(X_test, Y_test)"
      ],
      "metadata": {
        "colab": {
          "base_uri": "https://localhost:8080/"
        },
        "id": "TJ4E-B-OYiTX",
        "outputId": "6b8f6a6f-50f6-40b9-da14-2d36a6122606"
      },
      "execution_count": null,
      "outputs": [
        {
          "output_type": "stream",
          "name": "stderr",
          "text": [
            "/usr/local/lib/python3.7/dist-packages/tensorflow/python/data/ops/structured_function.py:265: UserWarning: Even though the `tf.config.experimental_run_functions_eagerly` option is set, this option does not apply to tf.data functions. To force eager execution of tf.data functions, please use `tf.data.experimental.enable_debug_mode()`.\n",
            "  \"Even though the `tf.config.experimental_run_functions_eagerly` \"\n"
          ]
        },
        {
          "output_type": "stream",
          "name": "stdout",
          "text": [
            "2/2 [==============================] - 0s 149ms/step - loss: 0.8430 - accuracy: 0.7619\n"
          ]
        },
        {
          "output_type": "execute_result",
          "data": {
            "text/plain": [
              "[0.8429856896400452, 0.761904776096344]"
            ]
          },
          "metadata": {},
          "execution_count": 306
        }
      ]
    },
    {
      "cell_type": "code",
      "source": [
        "Y_pred = model_3.predict(X_test)\n",
        "Y_test_decoded = uniques[np.argmax(Y_test, 1)]\n",
        "Y_pred_decoded = uniques[np.argmax(Y_pred, 1)]\n",
        "\n",
        "# Classification Report\n",
        "cr = classification_report(Y_test_decoded, Y_pred_decoded)\n",
        "print(\"Classification Report:- \")\n",
        "print(cr)"
      ],
      "metadata": {
        "colab": {
          "base_uri": "https://localhost:8080/"
        },
        "id": "9otFpmjAYiXE",
        "outputId": "72a3d737-e962-4902-a0cc-e62d5b536410"
      },
      "execution_count": null,
      "outputs": [
        {
          "output_type": "stream",
          "name": "stderr",
          "text": [
            "/usr/local/lib/python3.7/dist-packages/tensorflow/python/data/ops/structured_function.py:265: UserWarning: Even though the `tf.config.experimental_run_functions_eagerly` option is set, this option does not apply to tf.data functions. To force eager execution of tf.data functions, please use `tf.data.experimental.enable_debug_mode()`.\n",
            "  \"Even though the `tf.config.experimental_run_functions_eagerly` \"\n"
          ]
        },
        {
          "output_type": "stream",
          "name": "stdout",
          "text": [
            "Classification Report:- \n",
            "              precision    recall  f1-score   support\n",
            "\n",
            "           0       0.76      1.00      0.86        32\n",
            "           1       0.00      0.00      0.00         2\n",
            "           2       0.00      0.00      0.00         2\n",
            "           3       0.00      0.00      0.00         5\n",
            "           4       0.00      0.00      0.00         1\n",
            "\n",
            "    accuracy                           0.76        42\n",
            "   macro avg       0.15      0.20      0.17        42\n",
            "weighted avg       0.58      0.76      0.66        42\n",
            "\n"
          ]
        },
        {
          "output_type": "stream",
          "name": "stderr",
          "text": [
            "/usr/local/lib/python3.7/dist-packages/sklearn/metrics/_classification.py:1318: UndefinedMetricWarning: Precision and F-score are ill-defined and being set to 0.0 in labels with no predicted samples. Use `zero_division` parameter to control this behavior.\n",
            "  _warn_prf(average, modifier, msg_start, len(result))\n",
            "/usr/local/lib/python3.7/dist-packages/sklearn/metrics/_classification.py:1318: UndefinedMetricWarning: Precision and F-score are ill-defined and being set to 0.0 in labels with no predicted samples. Use `zero_division` parameter to control this behavior.\n",
            "  _warn_prf(average, modifier, msg_start, len(result))\n",
            "/usr/local/lib/python3.7/dist-packages/sklearn/metrics/_classification.py:1318: UndefinedMetricWarning: Precision and F-score are ill-defined and being set to 0.0 in labels with no predicted samples. Use `zero_division` parameter to control this behavior.\n",
            "  _warn_prf(average, modifier, msg_start, len(result))\n"
          ]
        }
      ]
    },
    {
      "cell_type": "code",
      "source": [
        "def Get_Predicted_class(description, model):\n",
        "    print(description)\n",
        "    y_pred = model_3.predict([ description ])\n",
        "    print(y_pred)\n",
        "    return acident_level_encoder.inverse_transform([uniques[np.argmax(y_pred)]])"
      ],
      "metadata": {
        "id": "aXU80Bj1YibD"
      },
      "execution_count": null,
      "outputs": []
    },
    {
      "cell_type": "code",
      "source": [
        "index = 90\n",
        "Get_Predicted_class(df1['Description'][index], model_2), acident_level_encoder.inverse_transform([df1['Accident Level'][index]])"
      ],
      "metadata": {
        "colab": {
          "base_uri": "https://localhost:8080/"
        },
        "id": "t_qbF3a9Zb9P",
        "outputId": "bc1b1331-85d8-43d7-9560-d711d92ce8dc"
      },
      "execution_count": null,
      "outputs": [
        {
          "output_type": "stream",
          "name": "stdout",
          "text": [
            "Being 2:40 am. Approximately, Luna - master loader of the company Incimet was carrying out the loading activity of the front in the Cruiser 771 of the 1970 level; in moments that was tying the pentacord of the crown and trying to reach the fanel on the left side, loses balance by a movement of the ladder and falls to the floor resulting in the accident.\n"
          ]
        },
        {
          "output_type": "stream",
          "name": "stderr",
          "text": [
            "/usr/local/lib/python3.7/dist-packages/tensorflow/python/data/ops/structured_function.py:265: UserWarning: Even though the `tf.config.experimental_run_functions_eagerly` option is set, this option does not apply to tf.data functions. To force eager execution of tf.data functions, please use `tf.data.experimental.enable_debug_mode()`.\n",
            "  \"Even though the `tf.config.experimental_run_functions_eagerly` \"\n"
          ]
        },
        {
          "output_type": "stream",
          "name": "stdout",
          "text": [
            "[[0.54359156 0.14831059 0.11198735 0.12247897 0.07363151]]\n"
          ]
        },
        {
          "output_type": "execute_result",
          "data": {
            "text/plain": [
              "(array([0], dtype=int8), array([0], dtype=int8))"
            ]
          },
          "metadata": {},
          "execution_count": 321
        }
      ]
    },
    {
      "cell_type": "code",
      "source": [
        "!tensorboard dev upload --logdir ./model_logs \\\n",
        "   --name \"Kaggle Accident data NLP model comparison\" \\\n",
        "   --description \"Kaggle Accident data NLP model comparison\" \\\n",
        "   --one_shot"
      ],
      "metadata": {
        "colab": {
          "base_uri": "https://localhost:8080/"
        },
        "id": "zSOYS9FMZcNH",
        "outputId": "7ae17854-d052-4e77-bb4a-1c49bccf49c3"
      },
      "execution_count": null,
      "outputs": [
        {
          "output_type": "stream",
          "name": "stdout",
          "text": [
            "2022-04-24 11:52:33.722737: E tensorflow/stream_executor/cuda/cuda_driver.cc:271] failed call to cuInit: CUDA_ERROR_NO_DEVICE: no CUDA-capable device is detected\n",
            "\n",
            "***** TensorBoard Uploader *****\n",
            "\n",
            "This will upload your TensorBoard logs to https://tensorboard.dev/ from\n",
            "the following directory:\n",
            "\n",
            "./model_logs\n",
            "\n",
            "This TensorBoard will be visible to everyone. Do not upload sensitive\n",
            "data.\n",
            "\n",
            "Your use of this service is subject to Google's Terms of Service\n",
            "<https://policies.google.com/terms> and Privacy Policy\n",
            "<https://policies.google.com/privacy>, and TensorBoard.dev's Terms of Service\n",
            "<https://tensorboard.dev/policy/terms/>.\n",
            "\n",
            "This notice will not be shown again while you are logged into the uploader.\n",
            "To log out, run `tensorboard dev auth revoke`.\n",
            "\n",
            "Continue? (yes/NO) yes\n",
            "\n",
            "Please visit this URL to authorize this application: https://accounts.google.com/o/oauth2/auth?response_type=code&client_id=373649185512-8v619h5kft38l4456nm2dj4ubeqsrvh6.apps.googleusercontent.com&redirect_uri=urn%3Aietf%3Awg%3Aoauth%3A2.0%3Aoob&scope=openid+https%3A%2F%2Fwww.googleapis.com%2Fauth%2Fuserinfo.email&state=cOXDaCqQAb7BAfDFGA4SMgsEHk2P38&prompt=consent&access_type=offline\n",
            "Enter the authorization code: 4/1AX4XfWhqv8fvHirLKp3VINVwWkLQl8ea6XvPlz9GjeYzslJaw71_vGExO-Q\n",
            "\n",
            "\n",
            "New experiment created. View your TensorBoard at: https://tensorboard.dev/experiment/9Jj5eBUGQxmAr2C8Io7uww/\n",
            "\n",
            "\u001b[1m[2022-04-24T11:53:10]\u001b[0m Started scanning logdir.\n",
            "\u001b[1m[2022-04-24T11:53:10]\u001b[0m Total uploaded: 414 scalars, 0 tensors, 0 binary objects\n",
            "\u001b[1m[2022-04-24T11:53:10]\u001b[0m Done scanning logdir.\n",
            "\n",
            "\n",
            "Done. View your TensorBoard at https://tensorboard.dev/experiment/9Jj5eBUGQxmAr2C8Io7uww/\n"
          ]
        }
      ]
    },
    {
      "cell_type": "code",
      "source": [
        "# End End End End End End End "
      ],
      "metadata": {
        "id": "7p-fKVV6Zcau"
      },
      "execution_count": null,
      "outputs": []
    },
    {
      "cell_type": "code",
      "source": [
        ""
      ],
      "metadata": {
        "id": "Cu5y9aDpWM6K"
      },
      "execution_count": null,
      "outputs": []
    }
  ]
}