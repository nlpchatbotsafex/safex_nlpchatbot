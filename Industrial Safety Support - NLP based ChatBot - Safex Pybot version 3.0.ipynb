{
 "cells": [
  {
   "cell_type": "markdown",
   "metadata": {},
   "source": [
    "## Domain: Industrial Safety Support - NLP based ChatBot - Safex Pybot Version 1.0 \n",
    "\n",
    "#### Context : \n",
    "\n",
    "**** Great Learning Company is looking forward to design an automation which can interact with the user, understand the problem      and display the resolution procedure \n",
    "\n",
    "**** The company is looking for a designed chatbot utility which can help the professionals to highlight the safety risk as per      the incident description usign a ML or DL or redirect the request to an actual human support executive if the request is        complex or not in its database.\n",
    "\n",
    "#### Data Description : \n",
    "\n",
    "**** The corpus is attached for the reference. Please enhance/add more data to the corpus using your linguistics skills."
   ]
  },
  {
   "cell_type": "code",
   "execution_count": 1,
   "metadata": {
    "scrolled": true
   },
   "outputs": [],
   "source": [
    "#Importing the data and files\n",
    "import numpy as np\n",
    "import pandas as pd\n",
    "import matplotlib.pyplot as plt\n",
    "%matplotlib inline\n",
    "import seaborn as sns\n",
    "from scipy import stats; from scipy.stats import zscore, norm, randint\n",
    "\n",
    "import warnings\n",
    "warnings.filterwarnings(\"ignore\")"
   ]
  },
  {
   "cell_type": "code",
   "execution_count": 2,
   "metadata": {
    "_cell_guid": "b1076dfc-b9ad-4769-8c92-a6c4dae69d19",
    "_uuid": "8f2839f25d086af736a60e9eeb907d3b93b6e0e5",
    "scrolled": true
   },
   "outputs": [
    {
     "name": "stdout",
     "output_type": "stream",
     "text": [
      "WARNING:tensorflow:From C:\\ProgramData\\Anaconda3\\lib\\site-packages\\tensorflow\\python\\compat\\v2_compat.py:111: disable_resource_variables (from tensorflow.python.ops.variable_scope) is deprecated and will be removed in a future version.\n",
      "Instructions for updating:\n",
      "non-resource variables are not supported in the long term\n",
      "curses is not supported on this machine (please install/reinstall curses for an optimal experience)\n"
     ]
    }
   ],
   "source": [
    "# import the libraries\n",
    "\n",
    "import nltk\n",
    "from nltk.stem.lancaster import LancasterStemmer\n",
    "stemmer = LancasterStemmer()\n",
    "\n",
    "# things we need for Tensorflow\n",
    "\n",
    "import tensorflow as tf\n",
    "import tflearn\n",
    "import random"
   ]
  },
  {
   "cell_type": "code",
   "execution_count": 3,
   "metadata": {
    "scrolled": true
   },
   "outputs": [
    {
     "name": "stderr",
     "output_type": "stream",
     "text": [
      "[nltk_data] Downloading package punkt to\n",
      "[nltk_data]     C:\\Users\\Dell\\AppData\\Roaming\\nltk_data...\n",
      "[nltk_data]   Package punkt is already up-to-date!\n"
     ]
    },
    {
     "data": {
      "text/plain": [
       "True"
      ]
     },
     "execution_count": 3,
     "metadata": {},
     "output_type": "execute_result"
    }
   ],
   "source": [
    "import nltk\n",
    "nltk.download('punkt')"
   ]
  },
  {
   "cell_type": "markdown",
   "metadata": {},
   "source": [
    "### Modeling and functions for Question and Answers"
   ]
  },
  {
   "cell_type": "code",
   "execution_count": 4,
   "metadata": {
    "_uuid": "1a10da399a40c2386b7a892db2f725bf2c2a4d91",
    "jupyter": {
     "outputs_hidden": true
    },
    "scrolled": true
   },
   "outputs": [],
   "source": [
    "# import our chat-bot intents file\n",
    "import json\n",
    "with open('GLSafexInfo.json') as json_data:\n",
    "    intents = json.load(json_data)\n",
    "    "
   ]
  },
  {
   "cell_type": "code",
   "execution_count": 5,
   "metadata": {
    "_uuid": "f5bfc031e0908e044f0bb27ebd1fbf7bac7e66fe",
    "scrolled": true
   },
   "outputs": [],
   "source": [
    "# Initialize data fields for our file\n",
    "\n",
    "words = []\n",
    "classes = []\n",
    "documents = []\n",
    "ignore_words = ['?']\n",
    "# loop through each sentence in our intents patterns\n",
    "for intent in intents['intents']:\n",
    "    for pattern in intent['patterns']:\n",
    "        # tokenize each word in the sentence\n",
    "        w = nltk.word_tokenize(pattern)\n",
    "        # add to our words list\n",
    "        words.extend(w)\n",
    "        # add to documents in our corpus\n",
    "        documents.append((w, intent['tag']))\n",
    "        # add to our classes list\n",
    "        if intent['tag'] not in classes:\n",
    "            classes.append(intent['tag'])\n",
    "\n",
    "# stem and lower each word and remove duplicates\n",
    "words = [stemmer.stem(w.lower()) for w in words if w not in ignore_words]\n",
    "words = sorted(list(set(words)))\n",
    "\n",
    "# remove duplicates\n",
    "classes = sorted(list(set(classes)))\n"
   ]
  },
  {
   "cell_type": "code",
   "execution_count": 6,
   "metadata": {
    "_uuid": "d402102e6a2fe4b3d3abf6cf36338878c07402f8",
    "jupyter": {
     "outputs_hidden": true
    },
    "scrolled": true
   },
   "outputs": [],
   "source": [
    "# create our training data\n",
    "training = []\n",
    "output = []\n",
    "# create an empty array for our output\n",
    "output_empty = [0] * len(classes)\n",
    "\n",
    "# training set, bag of words for each sentence\n",
    "for doc in documents:\n",
    "    # initialize our bag of words\n",
    "    bag = []\n",
    "    # list of tokenized words for the pattern\n",
    "    pattern_words = doc[0]\n",
    "    # stem each word\n",
    "    pattern_words = [stemmer.stem(word.lower()) for word in pattern_words]\n",
    "    # create our bag of words array\n",
    "    for w in words:\n",
    "        bag.append(1) if w in pattern_words else bag.append(0)\n",
    "\n",
    "    # output is a '0' for each tag and '1' for current tag\n",
    "    output_row = list(output_empty)\n",
    "    output_row[classes.index(doc[1])] = 1\n",
    "\n",
    "    training.append([bag, output_row])\n",
    "\n",
    "# shuffle our features and turn into np.array\n",
    "random.shuffle(training)\n",
    "training = np.array(training)\n",
    "\n",
    "# create train and test lists\n",
    "X_train = list(training[:,0])\n",
    "y_train = list(training[:,1])"
   ]
  },
  {
   "cell_type": "code",
   "execution_count": 7,
   "metadata": {
    "_uuid": "d9ea1e5769bdd9c92282a502caa47a16db302ff5",
    "scrolled": true
   },
   "outputs": [
    {
     "name": "stdout",
     "output_type": "stream",
     "text": [
      "Training Step: 12999  | total loss: \u001b[1m\u001b[32m0.10005\u001b[0m\u001b[0m | time: 0.038s\n",
      "| Adam | epoch: 1000 | loss: 0.10005 - acc: 0.9912 -- iter: 096/101\n",
      "Training Step: 13000  | total loss: \u001b[1m\u001b[32m0.09260\u001b[0m\u001b[0m | time: 0.038s\n",
      "| Adam | epoch: 1000 | loss: 0.09260 - acc: 0.9921 -- iter: 101/101\n",
      "--\n",
      "INFO:tensorflow:C:\\Users\\Dell\\Desktop\\GreatLearning PGP AIML\\Capstone Project\\Milestone 2\\Apoorv Working\\model_qna.tflearn is not in all_model_checkpoint_paths. Manually adding it.\n"
     ]
    }
   ],
   "source": [
    "# reset underlying graph data\n",
    "from tensorflow.python.framework import ops\n",
    "ops.reset_default_graph()\n",
    "\n",
    "# Build neural network\n",
    "net_qna = tflearn.input_data(shape=[None, len(X_train[0])])\n",
    "net_qna = tflearn.fully_connected(net_qna, 16)\n",
    "net_qna = tflearn.fully_connected(net_qna, 16)\n",
    "net_qna = tflearn.fully_connected(net_qna, len(y_train[0]), activation='softmax')\n",
    "net_qna = tflearn.regression(net_qna)\n",
    "\n",
    "# Define model and setup tensorboard\n",
    "model_qna = tflearn.DNN(net_qna, tensorboard_dir='tflearn_logs')\n",
    "\n",
    "# Start training (apply gradient descent algorithm)\n",
    "model_qna.fit(X_train, y_train, n_epoch=1000, batch_size=8, show_metric=True)\n",
    "model_qna.save('model_qna.tflearn')"
   ]
  },
  {
   "cell_type": "code",
   "execution_count": 8,
   "metadata": {
    "_uuid": "f3df3637327eb3b2c2a63dfd2c34b1e8ffa135bb",
    "jupyter": {
     "outputs_hidden": true
    },
    "scrolled": true
   },
   "outputs": [],
   "source": [
    "import pickle\n",
    "pickle.dump( {'words':words, 'classes':classes, 'X_train':X_train, 'y_train':y_train}, open( \"qna_training_data\", \"wb\" ) )"
   ]
  },
  {
   "cell_type": "code",
   "execution_count": 9,
   "metadata": {
    "_uuid": "da5da061a3b18179176c491d0938412309823cff",
    "scrolled": true
   },
   "outputs": [],
   "source": [
    "# restore all of our data structures\n",
    "import pickle\n",
    "data_qna = pickle.load( open( \"qna_training_data\", \"rb\" ) )\n",
    "words_qna = data_qna['words']\n",
    "classes_qna = data_qna['classes']\n",
    "X_train_qna = data_qna['X_train']\n",
    "y_train_qna = data_qna['y_train']\n",
    "\n",
    "# import our chat-bot intents file\n",
    "import json\n",
    "with open('GLSafexInfo.json') as json_data:\n",
    "    intents_qna = json.load(json_data)"
   ]
  },
  {
   "cell_type": "code",
   "execution_count": 10,
   "metadata": {
    "_uuid": "6dbca05cc97cd1c66896ec00a37bb0f932b02486",
    "scrolled": true
   },
   "outputs": [
    {
     "name": "stdout",
     "output_type": "stream",
     "text": [
      "INFO:tensorflow:Restoring parameters from C:\\Users\\Dell\\Desktop\\GreatLearning PGP AIML\\Capstone Project\\Milestone 2\\Apoorv Working\\model_qna.tflearn\n"
     ]
    }
   ],
   "source": [
    "# load our saved model\n",
    "model_qna.load('./model_qna.tflearn')"
   ]
  },
  {
   "cell_type": "code",
   "execution_count": 11,
   "metadata": {
    "_uuid": "0c4c7d32c560284a20da8b659075347f8eee17b5",
    "jupyter": {
     "outputs_hidden": true
    },
    "scrolled": true
   },
   "outputs": [],
   "source": [
    "# functions for cleansing the sentenses and to get the bag of words\n",
    "\n",
    "def clean_up_sentence(sentence):\n",
    "    # tokenize the pattern\n",
    "    sentence_words = nltk.word_tokenize(sentence)\n",
    "    # stem each word\n",
    "    sentence_words = [stemmer.stem(word.lower()) for word in sentence_words]\n",
    "    return sentence_words\n",
    "\n",
    "# return bag of words array: 0 or 1 for each word in the bag that exists in the sentence\n",
    "def bow(sentence, words, show_details=False):\n",
    "    # tokenize the pattern\n",
    "    sentence_words = clean_up_sentence(sentence)\n",
    "    # bag of words\n",
    "    bag = [0]*len(words)  \n",
    "    for s in sentence_words:\n",
    "        for i,w in enumerate(words):\n",
    "            if w == s: \n",
    "                bag[i] = 1\n",
    "                if show_details:\n",
    "                    print (\"found in bag: %s\" % w)\n",
    "\n",
    "    return(np.array(bag))"
   ]
  },
  {
   "cell_type": "code",
   "execution_count": 12,
   "metadata": {
    "_uuid": "4774b1be2f6419c305e36d45c4224452064128d8",
    "jupyter": {
     "outputs_hidden": true
    },
    "scrolled": true
   },
   "outputs": [],
   "source": [
    "# functions to classify the sentences and for respective responses\n",
    "# create a data structure to hold user context\n",
    "\n",
    "context = {}\n",
    "\n",
    "ERROR_THRESHOLD = 0.25\n",
    "def classify(sentence):\n",
    "    # generate probabilities from the model\n",
    "    results = model_qna.predict([bow(sentence, words_qna)])[0]\n",
    "    # filter out predictions below a threshold\n",
    "    results = [[i,r] for i,r in enumerate(results) if r>ERROR_THRESHOLD]\n",
    "    # sort by strength of probability\n",
    "    results.sort(key=lambda x: x[1], reverse=True)\n",
    "    return_list = []\n",
    "    for r in results:\n",
    "        return_list.append((classes_qna[r[0]], r[1]))\n",
    "    # return tuple of intent and probability\n",
    "    return return_list\n",
    "\n",
    "\n",
    "def response(sentence, show_details=False):\n",
    "    results = classify(sentence)\n",
    "    # if we have a classification then find the matching intent tag\n",
    "    if results:\n",
    "        # loop as long as there are matches to process\n",
    "        while results:\n",
    "            for i in intents_qna['intents']:\n",
    "                # find a tag matching the first result\n",
    "                if i['tag'] == results[0][0]:\n",
    "                    # a random response from the intent\n",
    "                    return print('BOT: ', random.choice(i['responses']))\n",
    "\n",
    "            results.pop(0)\n",
    "            "
   ]
  },
  {
   "cell_type": "markdown",
   "metadata": {},
   "source": [
    "## Chatbot : Historical Data Insights"
   ]
  },
  {
   "cell_type": "code",
   "execution_count": 13,
   "metadata": {
    "scrolled": true
   },
   "outputs": [
    {
     "name": "stdout",
     "output_type": "stream",
     "text": [
      "Shape of the dataset is : (418, 14)\n"
     ]
    },
    {
     "data": {
      "text/html": [
       "<div>\n",
       "<style scoped>\n",
       "    .dataframe tbody tr th:only-of-type {\n",
       "        vertical-align: middle;\n",
       "    }\n",
       "\n",
       "    .dataframe tbody tr th {\n",
       "        vertical-align: top;\n",
       "    }\n",
       "\n",
       "    .dataframe thead th {\n",
       "        text-align: right;\n",
       "    }\n",
       "</style>\n",
       "<table border=\"1\" class=\"dataframe\">\n",
       "  <thead>\n",
       "    <tr style=\"text-align: right;\">\n",
       "      <th></th>\n",
       "      <th>Date</th>\n",
       "      <th>Country</th>\n",
       "      <th>Local</th>\n",
       "      <th>Industry Sector</th>\n",
       "      <th>Accident Level</th>\n",
       "      <th>Potential Accident Level</th>\n",
       "      <th>Gender</th>\n",
       "      <th>Natureofemployee</th>\n",
       "      <th>Critical Risk</th>\n",
       "      <th>Description</th>\n",
       "      <th>Year</th>\n",
       "      <th>Month</th>\n",
       "      <th>Weekday</th>\n",
       "      <th>Season</th>\n",
       "    </tr>\n",
       "  </thead>\n",
       "  <tbody>\n",
       "    <tr>\n",
       "      <th>0</th>\n",
       "      <td>2016-01-01</td>\n",
       "      <td>Country_01</td>\n",
       "      <td>1</td>\n",
       "      <td>Mining</td>\n",
       "      <td>I</td>\n",
       "      <td>IV</td>\n",
       "      <td>Male</td>\n",
       "      <td>Third Party</td>\n",
       "      <td>Pressed</td>\n",
       "      <td>While removing the drill rod of the Jumbo 08 f...</td>\n",
       "      <td>2016</td>\n",
       "      <td>1</td>\n",
       "      <td>Friday</td>\n",
       "      <td>Summer</td>\n",
       "    </tr>\n",
       "    <tr>\n",
       "      <th>1</th>\n",
       "      <td>2016-01-02</td>\n",
       "      <td>Country_02</td>\n",
       "      <td>2</td>\n",
       "      <td>Mining</td>\n",
       "      <td>I</td>\n",
       "      <td>IV</td>\n",
       "      <td>Male</td>\n",
       "      <td>Employee</td>\n",
       "      <td>Pressurized Systems</td>\n",
       "      <td>During the activation of a sodium sulphide pum...</td>\n",
       "      <td>2016</td>\n",
       "      <td>1</td>\n",
       "      <td>Saturday</td>\n",
       "      <td>Summer</td>\n",
       "    </tr>\n",
       "    <tr>\n",
       "      <th>2</th>\n",
       "      <td>2016-01-06</td>\n",
       "      <td>Country_01</td>\n",
       "      <td>3</td>\n",
       "      <td>Mining</td>\n",
       "      <td>I</td>\n",
       "      <td>III</td>\n",
       "      <td>Male</td>\n",
       "      <td>Third Party (Remote)</td>\n",
       "      <td>Manual Tools</td>\n",
       "      <td>In the sub-station MILPO located at level +170...</td>\n",
       "      <td>2016</td>\n",
       "      <td>1</td>\n",
       "      <td>Wednesday</td>\n",
       "      <td>Summer</td>\n",
       "    </tr>\n",
       "    <tr>\n",
       "      <th>3</th>\n",
       "      <td>2016-01-08</td>\n",
       "      <td>Country_01</td>\n",
       "      <td>4</td>\n",
       "      <td>Mining</td>\n",
       "      <td>I</td>\n",
       "      <td>I</td>\n",
       "      <td>Male</td>\n",
       "      <td>Third Party</td>\n",
       "      <td>Others</td>\n",
       "      <td>Being 9:45 am. approximately in the Nv. 1880 C...</td>\n",
       "      <td>2016</td>\n",
       "      <td>1</td>\n",
       "      <td>Friday</td>\n",
       "      <td>Summer</td>\n",
       "    </tr>\n",
       "    <tr>\n",
       "      <th>4</th>\n",
       "      <td>2016-01-10</td>\n",
       "      <td>Country_01</td>\n",
       "      <td>4</td>\n",
       "      <td>Mining</td>\n",
       "      <td>IV</td>\n",
       "      <td>IV</td>\n",
       "      <td>Male</td>\n",
       "      <td>Third Party</td>\n",
       "      <td>Others</td>\n",
       "      <td>Approximately at 11:45 a.m. in circumstances t...</td>\n",
       "      <td>2016</td>\n",
       "      <td>1</td>\n",
       "      <td>Sunday</td>\n",
       "      <td>Summer</td>\n",
       "    </tr>\n",
       "  </tbody>\n",
       "</table>\n",
       "</div>"
      ],
      "text/plain": [
       "         Date     Country  Local Industry Sector Accident Level  \\\n",
       "0  2016-01-01  Country_01      1          Mining              I   \n",
       "1  2016-01-02  Country_02      2          Mining              I   \n",
       "2  2016-01-06  Country_01      3          Mining              I   \n",
       "3  2016-01-08  Country_01      4          Mining              I   \n",
       "4  2016-01-10  Country_01      4          Mining             IV   \n",
       "\n",
       "  Potential Accident Level Gender      Natureofemployee        Critical Risk  \\\n",
       "0                       IV   Male           Third Party              Pressed   \n",
       "1                       IV   Male              Employee  Pressurized Systems   \n",
       "2                      III   Male  Third Party (Remote)         Manual Tools   \n",
       "3                        I   Male           Third Party               Others   \n",
       "4                       IV   Male           Third Party               Others   \n",
       "\n",
       "                                         Description  Year  Month    Weekday  \\\n",
       "0  While removing the drill rod of the Jumbo 08 f...  2016      1     Friday   \n",
       "1  During the activation of a sodium sulphide pum...  2016      1   Saturday   \n",
       "2  In the sub-station MILPO located at level +170...  2016      1  Wednesday   \n",
       "3  Being 9:45 am. approximately in the Nv. 1880 C...  2016      1     Friday   \n",
       "4  Approximately at 11:45 a.m. in circumstances t...  2016      1     Sunday   \n",
       "\n",
       "   Season  \n",
       "0  Summer  \n",
       "1  Summer  \n",
       "2  Summer  \n",
       "3  Summer  \n",
       "4  Summer  "
      ]
     },
     "execution_count": 13,
     "metadata": {},
     "output_type": "execute_result"
    }
   ],
   "source": [
    "dataset= pd.read_csv('data.csv')\n",
    "print(\"Shape of the dataset is :\",dataset.shape)\n",
    "dataset.head()"
   ]
  },
  {
   "cell_type": "markdown",
   "metadata": {},
   "source": [
    "Creating a list of possible features allowed for showing the data insights"
   ]
  },
  {
   "cell_type": "code",
   "execution_count": 14,
   "metadata": {
    "scrolled": true
   },
   "outputs": [],
   "source": [
    "dataset_features=['Country', 'Local', 'Industry Sector', 'Accident Level',\n",
    "       'Potential Accident Level', 'Gender', 'Natureofemployee','Year']"
   ]
  },
  {
   "cell_type": "markdown",
   "metadata": {},
   "source": [
    "### function to be called by the Chatbot for showing data insights"
   ]
  },
  {
   "cell_type": "code",
   "execution_count": 15,
   "metadata": {
    "scrolled": true
   },
   "outputs": [],
   "source": [
    "def show_eda(response_result):\n",
    "    eda_flag = True\n",
    "    result = list(response_result.split(\",\"))\n",
    "    result_items = len(result)\n",
    "    \n",
    "    for item in result:\n",
    "        if item not in dataset_features:\n",
    "            eda_flag = False\n",
    "    \n",
    "    if eda_flag == True:\n",
    "        if result_items == 1:\n",
    "            univariate_analysis_categorical(dataset,result[0])\n",
    "        elif result_items == 2:\n",
    "           \n",
    "            bivariate_analysis_categorical(dataset,result[0],result[1])\n",
    "        else:\n",
    "            print(\"Sorry, not able to find appropriate answer. Please ask teh question again\")\n",
    "    else:\n",
    "        print(response_result)  \n",
    "        \n",
    "        \n",
    "            \n",
    "    "
   ]
  },
  {
   "cell_type": "code",
   "execution_count": 16,
   "metadata": {
    "scrolled": true
   },
   "outputs": [],
   "source": [
    "def univariate_analysis_categorical(dataset,feature):    \n",
    "    print(\"\\n\")\n",
    "    print(\"===========================================================================================\")\n",
    "    print(\"Data Analysis of feature: \",feature)\n",
    "    print(\"===========================================================================================\\n\")\n",
    "                \n",
    "    print(\"\\n\")  \n",
    "    print(\"-----------------\")\n",
    "    print(\"Countplot  for feature: \",feature)\n",
    "    print(\"-----------------\")\n",
    "        \n",
    "    plt.figure(figsize=(10,6))\n",
    "    sns.countplot(dataset[feature],order = dataset[feature].value_counts().index)\n",
    "    plt.xticks(rotation = 'vertical')\n",
    "    plt.show()\n",
    "    \n",
    "    print(\"-----------------\")\n",
    "    print(\"Pie Chart for feature: \",feature)\n",
    "    print(\"------------------\")      \n",
    "        \n",
    "    labels=dataset[feature].unique()\n",
    "    plt.figure(figsize=(10,6))\n",
    "    dataset[feature].value_counts().plot.pie(autopct=\"%.1f%%\")\n",
    "    plt.show()\n",
    "            \n",
    "    \n",
    "    print(\"\\n\")\n",
    "    print(\"-----------------\")\n",
    "    print(\"Value Counts for feature: \",feature)\n",
    "    print(\"-------------------\")\n",
    "    \n",
    "    print(dataset[feature].value_counts().sort_values(ascending=False))\n",
    "    print('')"
   ]
  },
  {
   "cell_type": "code",
   "execution_count": 17,
   "metadata": {
    "scrolled": true
   },
   "outputs": [],
   "source": [
    "def bivariate_analysis_categorical(dataset,feature1,feature2):\n",
    "    \n",
    "       \n",
    "            if feature1 != feature2:              \n",
    "                   \n",
    "\n",
    "                print(\"\\n\")\n",
    "                print(\"===========================================================================================\")\n",
    "                print(\"Data Analysis of features: \",feature1,' and  ', feature2)\n",
    "                print(\"===========================================================================================\")\n",
    "\n",
    "                \n",
    "                bivariate_analysis_df = pd.crosstab(index=dataset[feature1], \n",
    "                                          columns=dataset[feature2])\n",
    "                \n",
    "                print(\"\\n\")\n",
    "                print(\"------------------------------------------\")\n",
    "                print(\"Cross table Analysis of features: \",feature1,' and  ', feature2)\n",
    "                print(\"------------------------------------------\")\n",
    "                \n",
    "                display(bivariate_analysis_df)\n",
    "                \n",
    "                print(\"\\n\")\n",
    "                print(\"------------------------------------------\")\n",
    "                print(\"Count plot Analysis of features: \",feature1,' and  ', feature2)\n",
    "                print(\"------------------------------------------\")\n",
    "                \n",
    "                plt.figure(figsize=(12,6))\n",
    "                sns.countplot(x=feature1, hue=feature2, data=dataset)\n",
    "                plt.show()\n",
    "                \n",
    "\n"
   ]
  },
  {
   "cell_type": "markdown",
   "metadata": {},
   "source": [
    "## Modeling and Functions for Historical Data Insights through chatbot"
   ]
  },
  {
   "cell_type": "code",
   "execution_count": 18,
   "metadata": {
    "scrolled": true
   },
   "outputs": [
    {
     "name": "stdout",
     "output_type": "stream",
     "text": [
      "Training Step: 12999  | total loss: \u001b[1m\u001b[32m0.12146\u001b[0m\u001b[0m | time: 0.056s\n",
      "| Adam | epoch: 1000 | loss: 0.12146 - acc: 0.9921 -- iter: 096/101\n",
      "Training Step: 13000  | total loss: \u001b[1m\u001b[32m0.11350\u001b[0m\u001b[0m | time: 0.064s\n",
      "| Adam | epoch: 1000 | loss: 0.11350 - acc: 0.9929 -- iter: 101/101\n",
      "--\n",
      "INFO:tensorflow:C:\\Users\\Dell\\Desktop\\GreatLearning PGP AIML\\Capstone Project\\Milestone 2\\Apoorv Working\\model_eda.tflearn is not in all_model_checkpoint_paths. Manually adding it.\n"
     ]
    }
   ],
   "source": [
    "# import our chat-bot intents file\n",
    "import json\n",
    "with open('GLSafexInfo_eda.json') as json_data:\n",
    "    intents_eda = json.load(json_data)\n",
    "\n",
    "# Initialize data fields for our file\n",
    "\n",
    "words = []\n",
    "classes = []\n",
    "documents = []\n",
    "ignore_words = ['?']\n",
    "# loop through each sentence in our intents patterns\n",
    "for intent in intents_eda['intents']:\n",
    "    for pattern in intent['patterns']:\n",
    "        # tokenize each word in the sentence\n",
    "        w = nltk.word_tokenize(pattern)\n",
    "        # add to our words list\n",
    "        words.extend(w)\n",
    "        # add to documents in our corpus\n",
    "        documents.append((w, intent['tag']))\n",
    "        # add to our classes list\n",
    "        if intent['tag'] not in classes:\n",
    "            classes.append(intent['tag'])\n",
    "\n",
    "# stem and lower each word and remove duplicates\n",
    "words = [stemmer.stem(w.lower()) for w in words if w not in ignore_words]\n",
    "words = sorted(list(set(words)))\n",
    "\n",
    "# remove duplicates\n",
    "classes = sorted(list(set(classes)))\n",
    "\n",
    "print (len(documents), \"documents\")\n",
    "print (len(classes), \"classes\", classes)\n",
    "print (len(words), \"unique stemmed words\", words)\n",
    "\n",
    "\n",
    "# create our training data\n",
    "training = []\n",
    "output = []\n",
    "# create an empty array for our output\n",
    "output_empty = [0] * len(classes)\n",
    "\n",
    "# training set, bag of words for each sentence\n",
    "for doc in documents:\n",
    "    # initialize our bag of words\n",
    "    bag = []\n",
    "    # list of tokenized words for the pattern\n",
    "    pattern_words = doc[0]\n",
    "    # stem each word\n",
    "    pattern_words = [stemmer.stem(word.lower()) for word in pattern_words]\n",
    "    # create our bag of words array\n",
    "    for w in words:\n",
    "        bag.append(1) if w in pattern_words else bag.append(0)\n",
    "\n",
    "    # output is a '0' for each tag and '1' for current tag\n",
    "    output_row = list(output_empty)\n",
    "    output_row[classes.index(doc[1])] = 1\n",
    "\n",
    "    training.append([bag, output_row])\n",
    "\n",
    "# shuffle our features and turn into np.array\n",
    "random.shuffle(training)\n",
    "training = np.array(training)\n",
    "\n",
    "# create train and test lists\n",
    "X_train = list(training[:,0])\n",
    "y_train = list(training[:,1])\n",
    "\n",
    "\n",
    "# reset underlying graph data\n",
    "from tensorflow.python.framework import ops\n",
    "ops.reset_default_graph()\n",
    "\n",
    "# Build neural network\n",
    "net_eda = tflearn.input_data(shape=[None, len(X_train[0])])\n",
    "net_eda = tflearn.fully_connected(net_eda, 16)\n",
    "net_eda = tflearn.fully_connected(net_eda, 16)\n",
    "net_eda = tflearn.fully_connected(net_eda, len(y_train[0]), activation='softmax')\n",
    "net_eda = tflearn.regression(net_eda)\n",
    "\n",
    "# Define model and setup tensorboard\n",
    "model_eda = tflearn.DNN(net_eda, tensorboard_dir='tflearn_logs')\n",
    "\n",
    "# Start training (apply gradient descent algorithm)\n",
    "model_eda.fit(X_train, y_train, n_epoch=1000, batch_size=8, show_metric=True)\n",
    "model_eda.save('model_eda.tflearn')\n",
    "\n",
    "\n",
    "import pickle\n",
    "pickle.dump( {'words':words, 'classes':classes, 'X_train':X_train, 'y_train':y_train}, open( \"eda_training_data\", \"wb\" ) )\n",
    "\n",
    "\n",
    "\n",
    "\n",
    "\n",
    "\n"
   ]
  },
  {
   "cell_type": "code",
   "execution_count": 19,
   "metadata": {
    "scrolled": true
   },
   "outputs": [],
   "source": [
    "# restore all of our data structures\n",
    "import pickle\n",
    "data_eda = pickle.load( open( \"eda_training_data\", \"rb\" ) )\n",
    "words_eda = data_eda['words']\n",
    "classes_eda = data_eda['classes']\n",
    "X_train_eda = data_eda['X_train']\n",
    "y_train_eda = data_eda['y_train']\n"
   ]
  },
  {
   "cell_type": "code",
   "execution_count": 20,
   "metadata": {
    "scrolled": true
   },
   "outputs": [
    {
     "name": "stdout",
     "output_type": "stream",
     "text": [
      "INFO:tensorflow:Restoring parameters from C:\\Users\\Dell\\Desktop\\GreatLearning PGP AIML\\Capstone Project\\Milestone 2\\Apoorv Working\\model_eda.tflearn\n"
     ]
    }
   ],
   "source": [
    "# import our chat-bot intents file\n",
    "import json\n",
    "with open('GLSafexInfo_eda.json') as json_data:\n",
    "    intents_eda = json.load(json_data)\n",
    "\t\n",
    "\t\n",
    "# load our saved model\n",
    "model_eda.load('./model_eda.tflearn')"
   ]
  },
  {
   "cell_type": "code",
   "execution_count": 21,
   "metadata": {
    "scrolled": true
   },
   "outputs": [],
   "source": [
    "\n",
    "# functions to classify the sentences and for respective responses\n",
    "# create a data structure to hold user context\n",
    "\n",
    "context = {}\n",
    "\n",
    "ERROR_THRESHOLD = 0.25\n",
    "def classify_eda(sentence):\n",
    "    # generate probabilities from the model\n",
    "    results = model_eda.predict([bow(sentence, words_eda)])[0]\n",
    "    # filter out predictions below a threshold\n",
    "    results = [[i,r] for i,r in enumerate(results) if r>ERROR_THRESHOLD]\n",
    "    # sort by strength of probability\n",
    "    results.sort(key=lambda x: x[1], reverse=True)\n",
    "    return_list = []\n",
    "    for r in results:\n",
    "        return_list.append((classes_eda[r[0]], r[1]))\n",
    "    # return tuple of intent and probability\n",
    "    return return_list\n",
    "\n",
    "\n",
    "def response_eda(sentence, show_details=False):\n",
    "    \n",
    "    results = classify_eda(sentence)\n",
    "    \n",
    "    # if we have a classification then find the matching intent tag\n",
    "    if results:\n",
    "        # loop as long as there are matches to process\n",
    "        while results:\n",
    "            for i in intents_eda['intents']:\n",
    "                \n",
    "                # find a tag matching the first result\n",
    "                if i['tag'] == results[0][0]:\n",
    "                    \n",
    "                    #return print(random.choice(i['responses']))\n",
    "                    response_result = random.choice(i['responses'])\n",
    "                    show_eda(response_result)\n",
    "                    \n",
    "\n",
    "            results.pop(0)\n",
    "            "
   ]
  },
  {
   "cell_type": "code",
   "execution_count": 22,
   "metadata": {
    "scrolled": true
   },
   "outputs": [],
   "source": [
    "#print(response_eda('analysis for Accident'))"
   ]
  },
  {
   "cell_type": "markdown",
   "metadata": {
    "scrolled": true
   },
   "source": [
    "## Chatbot : Classification Model"
   ]
  },
  {
   "cell_type": "code",
   "execution_count": 23,
   "metadata": {},
   "outputs": [],
   "source": [
    "dataset_clf = dataset.copy()"
   ]
  },
  {
   "cell_type": "code",
   "execution_count": 24,
   "metadata": {},
   "outputs": [
    {
     "name": "stderr",
     "output_type": "stream",
     "text": [
      "[nltk_data] Downloading package punkt to\n",
      "[nltk_data]     C:\\Users\\Dell\\AppData\\Roaming\\nltk_data...\n",
      "[nltk_data]   Package punkt is already up-to-date!\n",
      "[nltk_data] Downloading package wordnet to\n",
      "[nltk_data]     C:\\Users\\Dell\\AppData\\Roaming\\nltk_data...\n",
      "[nltk_data]   Package wordnet is already up-to-date!\n",
      "[nltk_data] Downloading package stopwords to\n",
      "[nltk_data]     C:\\Users\\Dell\\AppData\\Roaming\\nltk_data...\n",
      "[nltk_data]   Package stopwords is already up-to-date!\n"
     ]
    }
   ],
   "source": [
    "from nltk.corpus import stopwords\n",
    "from nltk.stem import WordNetLemmatizer,PorterStemmer\n",
    "from nltk.tokenize import word_tokenize\n",
    "#from wordcloud import WordCloud, STOPWORDS\n",
    "import nltk\n",
    "nltk.download('punkt')\n",
    "nltk.download('wordnet')\n",
    "import string\n",
    "nltk.download('stopwords')\n",
    "stop=set(stopwords.words('english'))\n",
    "\n",
    "def preprocess_text(text):\n",
    "      corpus=[]\n",
    "      #stem=PorterStemmer()\n",
    "      lem=WordNetLemmatizer()\n",
    "      for news in text:\n",
    "          words=[w for w in word_tokenize(news) if (w not in stop)]\n",
    "          \n",
    "          words=[lem.lemmatize(w) for w in words if len(w)>2]\n",
    "          words = [''.join(c for c in s if c not in string.punctuation) for s in words if s]\n",
    "          words = [word.lower() for word in words]\n",
    "          words = [word for word in words if word.isalpha()]\n",
    "          corpus.append(words) \n",
    "         \n",
    "      return corpus      \n",
    "      \n",
    "dataset_clf['processed_text']= preprocess_text(dataset_clf['Description'])\n",
    "\n",
    "desc_processed = []\n",
    "for i in range(len(dataset_clf['processed_text'])):\n",
    "   desc_processed.append(' '.join(wrd for wrd in dataset_clf.iloc[:,14][i]))\n",
    "\n",
    "dataset_clf['description_processed'] = desc_processed\n"
   ]
  },
  {
   "cell_type": "markdown",
   "metadata": {},
   "source": [
    "### Modeling and functions for  Accident Level"
   ]
  },
  {
   "cell_type": "code",
   "execution_count": 25,
   "metadata": {},
   "outputs": [],
   "source": [
    "#Count vectorization\n",
    "from sklearn.model_selection import train_test_split\n",
    "from sklearn.feature_extraction.text import CountVectorizer\n",
    "\n",
    "X = dataset_clf['description_processed']\n",
    "y = dataset_clf['Accident Level']\n",
    "\n",
    "vectorizer = CountVectorizer(binary=True, ngram_range=(1, 2))\n",
    "Xc = vectorizer.fit_transform(X).toarray()\n",
    "Xc_train, Xc_test, yc_train, yc_test = train_test_split(Xc, y, test_size=0.15, random_state=42)"
   ]
  },
  {
   "cell_type": "code",
   "execution_count": 26,
   "metadata": {},
   "outputs": [],
   "source": [
    "#SVC\n",
    "from sklearn.metrics import accuracy_score\n",
    "from sklearn.metrics import confusion_matrix, classification_report\n",
    "from sklearn.svm import LinearSVC\n",
    "\n",
    "svc = LinearSVC( max_iter=2500)\n",
    "svc.fit(Xc_train, yc_train)\n",
    "yc_pred_SVC = svc.predict(Xc_test)"
   ]
  },
  {
   "cell_type": "code",
   "execution_count": 27,
   "metadata": {},
   "outputs": [
    {
     "name": "stdout",
     "output_type": "stream",
     "text": [
      "Train accuracy of the SVC model : 99.44\n",
      "Test accuracy of the SVC model : 79.37\n"
     ]
    }
   ],
   "source": [
    "acc_svc = accuracy_score(yc_test, yc_pred_SVC)\n",
    "acc_svc_tr = svc.score(Xc_train, yc_train)\n",
    "print(\"Train accuracy of the SVC model : {:.2f}\".format(acc_svc_tr*100))\n",
    "print(\"Test accuracy of the SVC model : {:.2f}\".format(acc_svc*100))"
   ]
  },
  {
   "cell_type": "code",
   "execution_count": 28,
   "metadata": {},
   "outputs": [
    {
     "name": "stdout",
     "output_type": "stream",
     "text": [
      "Classification report:               precision    recall  f1-score   support\n",
      "\n",
      "           I       0.80      1.00      0.89        48\n",
      "          II       0.00      0.00      0.00         5\n",
      "         III       1.00      0.25      0.40         4\n",
      "          IV       1.00      0.20      0.33         5\n",
      "           V       0.00      0.00      0.00         1\n",
      "\n",
      "    accuracy                           0.79        63\n",
      "   macro avg       0.56      0.29      0.32        63\n",
      "weighted avg       0.75      0.79      0.73        63\n",
      "\n"
     ]
    }
   ],
   "source": [
    "print('Classification report:',classification_report(yc_test, yc_pred_SVC))"
   ]
  },
  {
   "cell_type": "code",
   "execution_count": 29,
   "metadata": {},
   "outputs": [],
   "source": [
    "import pickle\n",
    "filename = 'svc_model.sav'\n",
    "pickle.dump(svc, open(filename, 'wb'))"
   ]
  },
  {
   "cell_type": "code",
   "execution_count": 30,
   "metadata": {},
   "outputs": [],
   "source": [
    "loaded_model_acclevel = pickle.load(open('./svc_model.sav', 'rb'))"
   ]
  },
  {
   "cell_type": "code",
   "execution_count": 138,
   "metadata": {},
   "outputs": [],
   "source": [
    "def response_acclevel(sentence):\n",
    "    \n",
    "    df_user_input=pd.DataFrame()\n",
    "    df=pd.DataFrame()\n",
    "    user_input = {'Description': sentence}\n",
    "    df_user_input = df_user_input.append(user_input, ignore_index = True)\n",
    "    df_user_input['processed_text']= preprocess_text(df_user_input['Description'])\n",
    "    df['processed_text']=df_user_input['processed_text']\n",
    "    df.reset_index(inplace=True)\n",
    "    desc_processed = []\n",
    "    for i in range(len(df['processed_text'])):\n",
    "        desc_processed.append(' '.join(wrd for wrd in df.iloc[:,1][i]))\n",
    "    test = vectorizer.transform(desc_processed)\n",
    "    result = loaded_model_acclevel.predict(test)\n",
    "    return result\n",
    "    "
   ]
  },
  {
   "cell_type": "markdown",
   "metadata": {},
   "source": [
    "### Modeling and functions for Potential Accident Level"
   ]
  },
  {
   "cell_type": "code",
   "execution_count": 79,
   "metadata": {},
   "outputs": [],
   "source": [
    "#Count vectorization\n",
    "from sklearn.model_selection import train_test_split\n",
    "from sklearn.feature_extraction.text import CountVectorizer\n",
    "\n",
    "X = dataset_clf['description_processed']\n",
    "y = dataset_clf['Potential Accident Level']\n",
    "\n",
    "vectorizer = CountVectorizer(binary=True, ngram_range=(1, 2))\n",
    "Xc = vectorizer.fit_transform(X).toarray()\n",
    "Xc_train, Xc_test, yc_train, yc_test = train_test_split(Xc, y, test_size=0.15, random_state=42)"
   ]
  },
  {
   "cell_type": "code",
   "execution_count": 80,
   "metadata": {},
   "outputs": [],
   "source": [
    "#SVC\n",
    "from sklearn.metrics import accuracy_score\n",
    "from sklearn.metrics import confusion_matrix, classification_report\n",
    "from sklearn.svm import LinearSVC\n",
    "\n",
    "svc_potacclevel = LinearSVC( max_iter=2500)\n",
    "svc_potacclevel.fit(Xc_train, yc_train)\n",
    "yc_pred_SVC_potacclevel = svc_potacclevel.predict(Xc_test)"
   ]
  },
  {
   "cell_type": "code",
   "execution_count": 81,
   "metadata": {},
   "outputs": [
    {
     "name": "stdout",
     "output_type": "stream",
     "text": [
      "Train accuracy of the SVC model : 19.44\n",
      "Test accuracy of the SVC model : 46.03\n"
     ]
    }
   ],
   "source": [
    "acc_svc_potacclevel = accuracy_score(yc_test, yc_pred_SVC_potacclevel)\n",
    "acc_svc_tr_potacclevel = svc.score(Xc_train, yc_train)\n",
    "print(\"Train accuracy of the SVC model : {:.2f}\".format(acc_svc_tr_potacclevel*100))\n",
    "print(\"Test accuracy of the SVC model : {:.2f}\".format(acc_svc_potacclevel*100))"
   ]
  },
  {
   "cell_type": "code",
   "execution_count": 82,
   "metadata": {},
   "outputs": [
    {
     "name": "stdout",
     "output_type": "stream",
     "text": [
      "Classification report:               precision    recall  f1-score   support\n",
      "\n",
      "           I       1.00      0.14      0.25         7\n",
      "          II       0.43      0.55      0.48        11\n",
      "         III       0.35      0.32      0.33        19\n",
      "          IV       0.52      0.70      0.59        23\n",
      "           V       0.00      0.00      0.00         3\n",
      "\n",
      "    accuracy                           0.46        63\n",
      "   macro avg       0.46      0.34      0.33        63\n",
      "weighted avg       0.48      0.46      0.43        63\n",
      "\n"
     ]
    }
   ],
   "source": [
    "print('Classification report:',classification_report(yc_test, yc_pred_SVC_potacclevel))"
   ]
  },
  {
   "cell_type": "code",
   "execution_count": 38,
   "metadata": {},
   "outputs": [],
   "source": [
    "import pickle\n",
    "filename = 'svc_potacclevel_model.sav'\n",
    "pickle.dump(svc_potacclevel, open(filename, 'wb'))"
   ]
  },
  {
   "cell_type": "code",
   "execution_count": 39,
   "metadata": {},
   "outputs": [],
   "source": [
    "loaded_model_potacclevel = pickle.load(open('./svc_potacclevel_model.sav', 'rb'))"
   ]
  },
  {
   "cell_type": "code",
   "execution_count": 139,
   "metadata": {},
   "outputs": [],
   "source": [
    "def response_potacclevel(sentence):\n",
    "    \n",
    "    df_user_input=pd.DataFrame()\n",
    "    df=pd.DataFrame()\n",
    "    user_input = {'Description': sentence}\n",
    "    df_user_input = df_user_input.append(user_input, ignore_index = True)\n",
    "    df_user_input['processed_text']= preprocess_text(df_user_input['Description'])\n",
    "    df['processed_text']=df_user_input['processed_text']\n",
    "    df.reset_index(inplace=True)\n",
    "    \n",
    "    desc_processed = []\n",
    "    for i in range(len(df['processed_text'])):\n",
    "        desc_processed.append(' '.join(wrd for wrd in df.iloc[:,1][i]))\n",
    "    test = vectorizer.transform(desc_processed)\n",
    "    result = loaded_model_potacclevel.predict(test)\n",
    "    return result\n",
    "    "
   ]
  },
  {
   "cell_type": "markdown",
   "metadata": {},
   "source": [
    "## Chatbot with Conditions"
   ]
  },
  {
   "cell_type": "markdown",
   "metadata": {},
   "source": [
    "### Chatbot function for Question and Answers"
   ]
  },
  {
   "cell_type": "code",
   "execution_count": 170,
   "metadata": {
    "scrolled": true
   },
   "outputs": [],
   "source": [
    "def chatbot_qna():\n",
    "    flag=True\n",
    "    print('\\n')\n",
    "    print(\"BOT: I am your Virtual assistant. I will try to answer your questions on Accidents Data! \\\n",
    "    \\n \\t If you want to exit any time, just type Bye!\")\n",
    "    while(flag==True):\n",
    "        print('\\n')\n",
    "        user_response = input(\"You: \")\n",
    "        user_response=user_response.lower()\n",
    "        if(user_response!='bye') and (user_response!='exit') and (user_response!='quit'):\n",
    "            if(user_response=='thanks' or user_response=='thank you' ):\n",
    "                flag=False\n",
    "                print('\\n')\n",
    "                print(\"BOT: You are welcome..\")\n",
    "                print(\"BOT: Exited from Question and Answer Module\")\n",
    "\n",
    "            else:\n",
    "                print('\\n')\n",
    "                response(user_response)\n",
    "                print('\\n')\n",
    "        else:\n",
    "            flag=False\n",
    "            print('\\n')\n",
    "            print(\"BOT: Exited from Question and Answer Module\")\n",
    "            #print(\"BOT: Goodbye! Take care  \")\n",
    "            print('\\n')\n",
    "            print('-----------------------------------------------------')\n",
    "            print('\\n')\n",
    "            "
   ]
  },
  {
   "cell_type": "markdown",
   "metadata": {},
   "source": [
    "### Chatbot function for Accident Level Classification"
   ]
  },
  {
   "cell_type": "code",
   "execution_count": 171,
   "metadata": {},
   "outputs": [],
   "source": [
    "def chatbot_acclevel():\n",
    "    flag=True\n",
    "    print('\\n')\n",
    "    print(\"BOT: I am your Virtual assistant. I will try to Predict Accident Level for your description \\\n",
    "    \\n \\t If you want to exit any time, just type Bye!\")\n",
    "    while(flag==True):\n",
    "        print('\\n')\n",
    "        user_response = input(\"You: \")\n",
    "        user_response=user_response.lower()\n",
    "        if(user_response!='bye') and (user_response!='exit') and (user_response!='quit'):\n",
    "            if(user_response=='thanks' or user_response=='thank you' ):\n",
    "                flag=False\n",
    "                print('\\n')\n",
    "                print(\"BOT: You are welcome..\")\n",
    "                print(\"BOT: Exited from Accident Level Predictor\")\n",
    "\n",
    "            else:\n",
    "                print('\\n')\n",
    "                response = response_acclevel(user_response)\n",
    "                \n",
    "                if response:\n",
    "                    print (\"Bot: Accident Level is --> \",response[0])\n",
    "                print('\\n')\n",
    "        else:\n",
    "            flag=False\n",
    "            print('\\n')\n",
    "            print(\"BOT: Exited from Accident Level Predictor Module\")\n",
    "            #print(\"BOT: Goodbye! Take care  \")\n",
    "            print('\\n')\n",
    "            print('-----------------------------------------------------')\n",
    "            print('\\n')"
   ]
  },
  {
   "cell_type": "markdown",
   "metadata": {},
   "source": [
    "### Chatbot function for Potential Accident Level Classification"
   ]
  },
  {
   "cell_type": "code",
   "execution_count": 172,
   "metadata": {},
   "outputs": [],
   "source": [
    "def chatbot_potacclevel():\n",
    "    flag=True\n",
    "    print('\\n')\n",
    "    print(\"BOT: I am your Virtual assistant. I will try to predict Potential Accident Level for your description \\\n",
    "    \\n \\t If you want to exit any time, just type Bye!\")\n",
    "    while(flag==True):\n",
    "        print('\\n')\n",
    "        user_response = input(\"You: \")\n",
    "        user_response=user_response.lower()\n",
    "        if(user_response!='bye') and (user_response!='exit') and (user_response!='quit'):\n",
    "            if(user_response=='thanks' or user_response=='thank you' ):\n",
    "                flag=False\n",
    "                print('\\n')\n",
    "                print(\"BOT: You are welcome..\")\n",
    "                print(\"BOT: Exited from Potential Accident Level Predictor\")\n",
    "\n",
    "            else:\n",
    "                print('\\n')\n",
    "                response = response_potacclevel(user_response)\n",
    "                \n",
    "                if response:\n",
    "                    print (\"Bot: Potential Accident Level is --> \",response[0])\n",
    "                print('\\n')\n",
    "        else:\n",
    "            flag=False\n",
    "            print('\\n')\n",
    "            print(\"BOT: Exited from Potential Accident Level Predictor Module\")\n",
    "            #print(\"BOT: Goodbye! Take care  \")\n",
    "            print('\\n')\n",
    "            print('-----------------------------------------------------')\n",
    "            print('\\n')"
   ]
  },
  {
   "cell_type": "markdown",
   "metadata": {},
   "source": [
    "### Chat bot function for showing Historical Data Insights"
   ]
  },
  {
   "cell_type": "code",
   "execution_count": 173,
   "metadata": {
    "scrolled": true
   },
   "outputs": [],
   "source": [
    "def chatbot_eda():\n",
    "    flag=True\n",
    "    print('\\n')\n",
    "    print(\"BOT: I am your Virtual assistant. I will help you with Insights of Accident Historical Data! \\\n",
    "          \\n \\t If you want to exit any time, just type Bye!\")\n",
    "    while(flag==True):\n",
    "        \n",
    "        print('\\n')\n",
    "        user_response = input(\"You: \")\n",
    "        user_response=user_response.lower()\n",
    "        if(user_response!='bye') and (user_response!='exit') and (user_response!='quit'):\n",
    "            if(user_response=='thanks' or user_response=='thank you' ):\n",
    "                flag=False\n",
    "                print('\\n')\n",
    "                print(\"BOT: You are welcome..\")\n",
    "                print(\"BOT: Exited from Data Insights Module\")\n",
    "\n",
    "            else:                    \n",
    "                    print('\\n')\n",
    "                    response_eda(user_response)\n",
    "                    print('\\n')\n",
    "        else:\n",
    "            flag=False\n",
    "            print('\\n')\n",
    "            #print(\"BOT: Goodbye! Take care  \")\n",
    "            print(\"BOT: Exited from Data Insights Module\")\n",
    "            print('\\n')\n",
    "            print('-----------------------------------------------------')\n",
    "            print('\\n')"
   ]
  },
  {
   "cell_type": "markdown",
   "metadata": {},
   "source": [
    "## Chatbot : Home Page"
   ]
  },
  {
   "cell_type": "code",
   "execution_count": 176,
   "metadata": {
    "scrolled": false
   },
   "outputs": [
    {
     "name": "stdout",
     "output_type": "stream",
     "text": [
      "\n",
      "BOT: Please Select appropriate option:           \n",
      " \t            \n",
      " \t 1 --> For Question and Answers           \n",
      " \t 2 --> For finding the Accident level for your problem           \n",
      " \t 3 --> For finding the Potential Accident level for your problem           \n",
      " \t 4 --> For Historical Data Insights           \n",
      " \t            \n",
      " \t if you want to exit any time, just type Bye!\n",
      "\n",
      "\n",
      "You: 1\n",
      "\n",
      "\n",
      "BOT: I am your Virtual assistant. I will try to answer your questions on Accidents Data!     \n",
      " \t If you want to exit any time, just type Bye!\n",
      "\n",
      "\n",
      "You: tell me details on issue realted to zinc\n",
      "\n",
      "\n",
      "BOT:  Based on the historical facts it has been observed  that Employees in the Metal Industry have met with accidents related to volumetric balloon, cyclone duct, conveyor, Zinc which have result in small burns on the body parts including face as well. So it is always recommended to take proper precautions and use face and body covers while working on such areas\n",
      "\n",
      "\n",
      "\n",
      "\n",
      "You: quit\n",
      "\n",
      "\n",
      "BOT: Exited from Question and Answer Module\n",
      "\n",
      "\n",
      "-----------------------------------------------------\n",
      "\n",
      "\n",
      "\n",
      "BOT: Please Select appropriate option:           \n",
      " \t            \n",
      " \t 1 --> For Question and Answers           \n",
      " \t 2 --> For finding the Accident level for your problem           \n",
      " \t 3 --> For finding the Potential Accident level for your problem           \n",
      " \t 4 --> For Historical Data Insights           \n",
      " \t            \n",
      " \t if you want to exit any time, just type Bye!\n",
      "\n",
      "\n",
      "You: 2\n",
      "\n",
      "\n",
      "BOT: I am your Virtual assistant. I will try to Predict Accident Level for your description     \n",
      " \t If you want to exit any time, just type Bye!\n",
      "\n",
      "\n",
      "You: When the plant operator was semi-kneeling when lifting the lid or gate (15 kg) of the distributor box of the secondary mill No. 4 and No. 5, his right knee slips due to the presence of debris spilled on the platform or floor (Grating) - which gave him an extra effort in his left leg, generating a muscle contracture.\n",
      "\n",
      "\n",
      "Bot: Accident Level is -->  I\n",
      "\n",
      "\n",
      "\n",
      "\n",
      "You: bye\n",
      "\n",
      "\n",
      "BOT: Exited from Accident Level Predictor Module\n",
      "\n",
      "\n",
      "-----------------------------------------------------\n",
      "\n",
      "\n",
      "\n",
      "BOT: Please Select appropriate option:           \n",
      " \t            \n",
      " \t 1 --> For Question and Answers           \n",
      " \t 2 --> For finding the Accident level for your problem           \n",
      " \t 3 --> For finding the Potential Accident level for your problem           \n",
      " \t 4 --> For Historical Data Insights           \n",
      " \t            \n",
      " \t if you want to exit any time, just type Bye!\n",
      "\n",
      "\n",
      "You: 3\n",
      "\n",
      "\n",
      "BOT: I am your Virtual assistant. I will try to predict Potential Accident Level for your description     \n",
      " \t If you want to exit any time, just type Bye!\n",
      "\n",
      "\n",
      "You: When the plant operator was semi-kneeling when lifting the lid or gate (15 kg) of the distributor box of the secondary mill No. 4 and No. 5, his right knee slips due to the presence of debris spilled on the platform or floor (Grating) - which gave him an extra effort in his left leg, generating a muscle contracture.\n",
      "\n",
      "\n",
      "Bot: Potential Accident Level is -->  III\n",
      "\n",
      "\n",
      "\n",
      "\n",
      "You: bye\n",
      "\n",
      "\n",
      "BOT: Exited from Potential Accident Level Predictor Module\n",
      "\n",
      "\n",
      "-----------------------------------------------------\n",
      "\n",
      "\n",
      "\n",
      "BOT: Please Select appropriate option:           \n",
      " \t            \n",
      " \t 1 --> For Question and Answers           \n",
      " \t 2 --> For finding the Accident level for your problem           \n",
      " \t 3 --> For finding the Potential Accident level for your problem           \n",
      " \t 4 --> For Historical Data Insights           \n",
      " \t            \n",
      " \t if you want to exit any time, just type Bye!\n",
      "\n",
      "\n",
      "You: give me details about country and industry\n",
      "\n",
      "BOT: Please Select appropriate option:           \n",
      " \t            \n",
      " \t 1 --> For Question and Answers           \n",
      " \t 2 --> For finding the Accident level for your problem           \n",
      " \t 3 --> For finding the Potential Accident level for your problem           \n",
      " \t 4 --> For Historical Data Insights           \n",
      " \t            \n",
      " \t if you want to exit any time, just type Bye!\n",
      "\n",
      "\n",
      "You: 4\n",
      "\n",
      "\n",
      "BOT: I am your Virtual assistant. I will help you with Insights of Accident Historical Data!           \n",
      " \t If you want to exit any time, just type Bye!\n",
      "\n",
      "\n",
      "You: You: give me details about country and industry\n",
      "\n",
      "\n",
      "\n",
      "\n",
      "===========================================================================================\n",
      "Data Analysis of features:  Country  and   Industry Sector\n",
      "===========================================================================================\n",
      "\n",
      "\n",
      "------------------------------------------\n",
      "Cross table Analysis of features:  Country  and   Industry Sector\n",
      "------------------------------------------\n"
     ]
    },
    {
     "data": {
      "text/html": [
       "<div>\n",
       "<style scoped>\n",
       "    .dataframe tbody tr th:only-of-type {\n",
       "        vertical-align: middle;\n",
       "    }\n",
       "\n",
       "    .dataframe tbody tr th {\n",
       "        vertical-align: top;\n",
       "    }\n",
       "\n",
       "    .dataframe thead th {\n",
       "        text-align: right;\n",
       "    }\n",
       "</style>\n",
       "<table border=\"1\" class=\"dataframe\">\n",
       "  <thead>\n",
       "    <tr style=\"text-align: right;\">\n",
       "      <th>Industry Sector</th>\n",
       "      <th>Metals</th>\n",
       "      <th>Mining</th>\n",
       "      <th>Others</th>\n",
       "    </tr>\n",
       "    <tr>\n",
       "      <th>Country</th>\n",
       "      <th></th>\n",
       "      <th></th>\n",
       "      <th></th>\n",
       "    </tr>\n",
       "  </thead>\n",
       "  <tbody>\n",
       "    <tr>\n",
       "      <th>Country_01</th>\n",
       "      <td>46</td>\n",
       "      <td>200</td>\n",
       "      <td>2</td>\n",
       "    </tr>\n",
       "    <tr>\n",
       "      <th>Country_02</th>\n",
       "      <td>88</td>\n",
       "      <td>37</td>\n",
       "      <td>4</td>\n",
       "    </tr>\n",
       "    <tr>\n",
       "      <th>Country_03</th>\n",
       "      <td>0</td>\n",
       "      <td>0</td>\n",
       "      <td>41</td>\n",
       "    </tr>\n",
       "  </tbody>\n",
       "</table>\n",
       "</div>"
      ],
      "text/plain": [
       "Industry Sector  Metals  Mining  Others\n",
       "Country                                \n",
       "Country_01           46     200       2\n",
       "Country_02           88      37       4\n",
       "Country_03            0       0      41"
      ]
     },
     "metadata": {},
     "output_type": "display_data"
    },
    {
     "name": "stdout",
     "output_type": "stream",
     "text": [
      "\n",
      "\n",
      "------------------------------------------\n",
      "Count plot Analysis of features:  Country  and   Industry Sector\n",
      "------------------------------------------\n"
     ]
    },
    {
     "data": {
      "image/png": "[encoded data removed]",
      "text/plain": [
       "<Figure size 864x432 with 1 Axes>"
      ]
     },
     "metadata": {
      "needs_background": "light"
     },
     "output_type": "display_data"
    },
    {
     "name": "stdout",
     "output_type": "stream",
     "text": [
      "\n",
      "\n",
      "\n",
      "\n",
      "You: exit\n",
      "\n",
      "\n",
      "BOT: Exited from Data Insights Module\n",
      "\n",
      "\n",
      "-----------------------------------------------------\n",
      "\n",
      "\n",
      "\n",
      "BOT: Please Select appropriate option:           \n",
      " \t            \n",
      " \t 1 --> For Question and Answers           \n",
      " \t 2 --> For finding the Accident level for your problem           \n",
      " \t 3 --> For finding the Potential Accident level for your problem           \n",
      " \t 4 --> For Historical Data Insights           \n",
      " \t            \n",
      " \t if you want to exit any time, just type Bye!\n",
      "\n",
      "\n",
      "You: exit\n",
      "\n",
      "\n",
      "BOT: Goodbye! Take care  \n",
      "\n",
      "\n",
      "================================================================\n",
      "\n",
      "\n"
     ]
    }
   ],
   "source": [
    "mainflag=True\n",
    "flag = False\n",
    "\n",
    "while(mainflag==True):\n",
    "    if flag == False:\n",
    "        print('')\n",
    "        print(\"BOT: Please Select appropriate option: \\\n",
    "          \\n \\t  \\\n",
    "          \\n \\t 1 --> For Question and Answers \\\n",
    "          \\n \\t 2 --> For finding the Accident level for your problem \\\n",
    "          \\n \\t 3 --> For finding the Potential Accident level for your problem \\\n",
    "          \\n \\t 4 --> For Historical Data Insights \\\n",
    "          \\n \\t  \\\n",
    "          \\n \\t if you want to exit any time, just type Bye!\")\n",
    "        \n",
    "    print('\\n')\n",
    "    user_response = input(\"You: \")\n",
    "    user_response=user_response.lower()\n",
    "    if(user_response!='bye') and (user_response!='exit') and (user_response!='quit'):\n",
    "        if(user_response=='thanks' or user_response=='thank you' ):\n",
    "            mainflag=False\n",
    "            print('\\n')\n",
    "            print(\"BOT: You are welcome..\")\n",
    "        \n",
    "        elif (user_response=='1'):\n",
    "                chatbot_qna()\n",
    "        elif (user_response=='2'):\n",
    "                chatbot_acclevel()\n",
    "        elif (user_response=='3'):\n",
    "                chatbot_potacclevel()   \n",
    "        elif (user_response=='4'):\n",
    "                chatbot_eda()  \n",
    "                \n",
    "    else:\n",
    "        mainflag=False\n",
    "        print('\\n')\n",
    "        print(\"BOT: Goodbye! Take care  \")\n",
    "        print('\\n')\n",
    "        print('================================================================')\n",
    "        print('\\n')"
   ]
  },
  {
   "cell_type": "code",
   "execution_count": null,
   "metadata": {
    "scrolled": true
   },
   "outputs": [],
   "source": []
  },
  {
   "cell_type": "code",
   "execution_count": null,
   "metadata": {
    "scrolled": true
   },
   "outputs": [],
   "source": []
  }
 ],
 "metadata": {
  "kernelspec": {
   "display_name": "Python 3 (ipykernel)",
   "language": "python",
   "name": "python3"
  },
  "language_info": {
   "codemirror_mode": {
    "name": "ipython",
    "version": 3
   },
   "file_extension": ".py",
   "mimetype": "text/x-python",
   "name": "python",
   "nbconvert_exporter": "python",
   "pygments_lexer": "ipython3",
   "version": "3.9.7"
  }
 },
 "nbformat": 4,
 "nbformat_minor": 4
}
